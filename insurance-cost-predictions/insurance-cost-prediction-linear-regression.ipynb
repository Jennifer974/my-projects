{
 "cells": [
  {
   "cell_type": "markdown",
   "metadata": {
    "_cell_guid": "b1076dfc-b9ad-4769-8c92-a6c4dae69d19",
    "_uuid": "8f2839f25d086af736a60e9eeb907d3b93b6e0e5"
   },
   "source": [
    "# Insurance cost prediction using linear regression"
   ]
  },
  {
   "cell_type": "markdown",
   "metadata": {},
   "source": [
    "## Objectives 🚀"
   ]
  },
  {
   "cell_type": "markdown",
   "metadata": {},
   "source": [
    "Predict the price of yearly medical bills.\n",
    "\n",
    "*Source* : Kaggle Challenge : [Medical Cost Personal Datasets](https://www.kaggle.com/mirichoi0218/insurance)"
   ]
  },
  {
   "cell_type": "markdown",
   "metadata": {},
   "source": [
    "## Context"
   ]
  },
  {
   "cell_type": "markdown",
   "metadata": {},
   "source": [
    "Insurance companies want to **determine the yearly insurance premium for a person** and they use information like a person's age, sex, BMI, no. of children and smoking habit **to predict the price of yearly medical bills**. Here, I use **Linear Regression model with `PyTorch`** to make prediction."
   ]
  },
  {
   "cell_type": "markdown",
   "metadata": {},
   "source": [
    "## Prerequisites"
   ]
  },
  {
   "cell_type": "markdown",
   "metadata": {},
   "source": [
    "- I use `PyTorch` Library (**version 1.5.0**) to create model: `PyTorch` is an open source machine learning library based on the Torch library, developed by Facebook's AI Research lab. You can find documentation [here](https://pytorch.org/docs/stable/index.html).\n",
    "- I use `Jovian.ml` platform for this project : `Jovian.ml` is a better place for your data science projects, Jupyter notebooks, machine learning models, experiment logs, results and more."
   ]
  },
  {
   "cell_type": "markdown",
   "metadata": {},
   "source": [
    "## Dataset"
   ]
  },
  {
   "cell_type": "markdown",
   "metadata": {},
   "source": [
    "📥 I download the dataset on [Kaggle](https://www.kaggle.com/mirichoi0218/insurance).\n",
    "\n",
    "The dataset contains personal informations :\n",
    "- `age` : age of primary beneficiary\n",
    "- `sex` : insurance contractor gender, female, male\n",
    "- `bmi` : Body mass index, providing an understanding of body, weights that are relatively high or low relative to height, objective index of body weight (kg / m ^ 2) using the ratio of height to weight, ideally `18.5` to `24.9`\n",
    "- `children` : Number of children covered by health insurance / Number of dependents\n",
    "- `smoker` : Smoking\n",
    "- `region` : the beneficiary's residential area in the US, northeast, southeast, southwest, northwest.\n",
    "- `charges` : Individual medical costs billed by health insurance"
   ]
  },
  {
   "cell_type": "markdown",
   "metadata": {},
   "source": [
    "## Library Installation"
   ]
  },
  {
   "cell_type": "code",
   "execution_count": 1,
   "metadata": {},
   "outputs": [
    {
     "name": "stdout",
     "output_type": "stream",
     "text": [
      "Collecting package metadata (current_repodata.json): done\n",
      "Solving environment: done\n",
      "\n",
      "\n",
      "==> WARNING: A newer version of conda exists. <==\n",
      "  current version: 4.8.2\n",
      "  latest version: 4.8.3\n",
      "\n",
      "Please update conda by running\n",
      "\n",
      "    $ conda update -n base conda\n",
      "\n",
      "\n",
      "\n",
      "## Package Plan ##\n",
      "\n",
      "  environment location: /srv/conda/envs/notebook\n",
      "\n",
      "  added / updated specs:\n",
      "    - cpuonly\n",
      "    - numpy\n",
      "    - pytorch\n",
      "    - torchvision\n",
      "\n",
      "\n",
      "The following packages will be downloaded:\n",
      "\n",
      "    package                    |            build\n",
      "    ---------------------------|-----------------\n",
      "    blas-2.15                  |              mkl          10 KB  conda-forge\n",
      "    ca-certificates-2020.6.20  |       hecda079_0         145 KB  conda-forge\n",
      "    certifi-2020.6.20          |   py37hc8dfbb8_0         151 KB  conda-forge\n",
      "    cpuonly-1.0                |                0           2 KB  pytorch\n",
      "    freetype-2.10.2            |       he06d7ca_0         905 KB  conda-forge\n",
      "    intel-openmp-2020.1        |              217         780 KB  defaults\n",
      "    jpeg-9d                    |       h516909a_0         266 KB  conda-forge\n",
      "    libblas-3.8.0              |           15_mkl          10 KB  conda-forge\n",
      "    libcblas-3.8.0             |           15_mkl          10 KB  conda-forge\n",
      "    libgfortran-ng-7.5.0       |       hdf63c60_6         1.7 MB  conda-forge\n",
      "    liblapack-3.8.0            |           15_mkl          10 KB  conda-forge\n",
      "    liblapacke-3.8.0           |           15_mkl          10 KB  conda-forge\n",
      "    libpng-1.6.37              |       hed695b0_1         308 KB  conda-forge\n",
      "    libtiff-4.1.0              |       hc7e4089_6         668 KB  conda-forge\n",
      "    libwebp-base-1.1.0         |       h516909a_3         845 KB  conda-forge\n",
      "    lz4-c-1.9.2                |       he1b5a44_1         226 KB  conda-forge\n",
      "    mkl-2020.1                 |              217       129.0 MB  defaults\n",
      "    ninja-1.10.0               |       hc9558a2_0         1.9 MB  conda-forge\n",
      "    numpy-1.18.5               |   py37h8960a57_0         5.1 MB  conda-forge\n",
      "    olefile-0.46               |             py_0          31 KB  conda-forge\n",
      "    pillow-7.1.2               |   py37h718be6c_0         658 KB  conda-forge\n",
      "    pytorch-1.5.1              |      py3.7_cpu_0        37.9 MB  pytorch\n",
      "    torchvision-0.6.1          |         py37_cpu        11.0 MB  pytorch\n",
      "    zstd-1.4.4                 |       h6597ccf_3         991 KB  conda-forge\n",
      "    ------------------------------------------------------------\n",
      "                                           Total:       192.4 MB\n",
      "\n",
      "The following NEW packages will be INSTALLED:\n",
      "\n",
      "  blas               conda-forge/linux-64::blas-2.15-mkl\n",
      "  cpuonly            pytorch/noarch::cpuonly-1.0-0\n",
      "  freetype           conda-forge/linux-64::freetype-2.10.2-he06d7ca_0\n",
      "  intel-openmp       pkgs/main/linux-64::intel-openmp-2020.1-217\n",
      "  jpeg               conda-forge/linux-64::jpeg-9d-h516909a_0\n",
      "  libblas            conda-forge/linux-64::libblas-3.8.0-15_mkl\n",
      "  libcblas           conda-forge/linux-64::libcblas-3.8.0-15_mkl\n",
      "  libgfortran-ng     conda-forge/linux-64::libgfortran-ng-7.5.0-hdf63c60_6\n",
      "  liblapack          conda-forge/linux-64::liblapack-3.8.0-15_mkl\n",
      "  liblapacke         conda-forge/linux-64::liblapacke-3.8.0-15_mkl\n",
      "  libpng             conda-forge/linux-64::libpng-1.6.37-hed695b0_1\n",
      "  libtiff            conda-forge/linux-64::libtiff-4.1.0-hc7e4089_6\n",
      "  libwebp-base       conda-forge/linux-64::libwebp-base-1.1.0-h516909a_3\n",
      "  lz4-c              conda-forge/linux-64::lz4-c-1.9.2-he1b5a44_1\n",
      "  mkl                pkgs/main/linux-64::mkl-2020.1-217\n",
      "  ninja              conda-forge/linux-64::ninja-1.10.0-hc9558a2_0\n",
      "  numpy              conda-forge/linux-64::numpy-1.18.5-py37h8960a57_0\n",
      "  olefile            conda-forge/noarch::olefile-0.46-py_0\n",
      "  pillow             conda-forge/linux-64::pillow-7.1.2-py37h718be6c_0\n",
      "  pytorch            pytorch/linux-64::pytorch-1.5.1-py3.7_cpu_0\n",
      "  torchvision        pytorch/linux-64::torchvision-0.6.1-py37_cpu\n",
      "  zstd               conda-forge/linux-64::zstd-1.4.4-h6597ccf_3\n",
      "\n",
      "The following packages will be UPDATED:\n",
      "\n",
      "  ca-certificates                     2020.4.5.1-hecc5488_0 --> 2020.6.20-hecda079_0\n",
      "  certifi                         2020.4.5.1-py37hc8dfbb8_0 --> 2020.6.20-py37hc8dfbb8_0\n",
      "\n",
      "\n",
      "\n",
      "Downloading and Extracting Packages\n",
      "liblapacke-3.8.0     | 10 KB     | ##################################### | 100% \n",
      "jpeg-9d              | 266 KB    | ##################################### | 100% \n",
      "numpy-1.18.5         | 5.1 MB    | ##################################### | 100% \n",
      "intel-openmp-2020.1  | 780 KB    | ##################################### | 100% \n",
      "libwebp-base-1.1.0   | 845 KB    | ##################################### | 100% \n",
      "lz4-c-1.9.2          | 226 KB    | ##################################### | 100% \n",
      "zstd-1.4.4           | 991 KB    | ##################################### | 100% \n",
      "libcblas-3.8.0       | 10 KB     | ##################################### | 100% \n",
      "mkl-2020.1           | 129.0 MB  | ##################################### | 100% \n",
      "blas-2.15            | 10 KB     | ##################################### | 100% \n",
      "liblapack-3.8.0      | 10 KB     | ##################################### | 100% \n",
      "certifi-2020.6.20    | 151 KB    | ##################################### | 100% \n",
      "pillow-7.1.2         | 658 KB    | ##################################### | 100% \n",
      "freetype-2.10.2      | 905 KB    | ##################################### | 100% \n",
      "libgfortran-ng-7.5.0 | 1.7 MB    | ##################################### | 100% \n",
      "libblas-3.8.0        | 10 KB     | ##################################### | 100% \n",
      "olefile-0.46         | 31 KB     | ##################################### | 100% \n",
      "cpuonly-1.0          | 2 KB      | ##################################### | 100% \n",
      "pytorch-1.5.1        | 37.9 MB   | ##################################### | 100% \n",
      "ca-certificates-2020 | 145 KB    | ##################################### | 100% \n",
      "libpng-1.6.37        | 308 KB    | ##################################### | 100% \n",
      "ninja-1.10.0         | 1.9 MB    | ##################################### | 100% \n",
      "libtiff-4.1.0        | 668 KB    | ##################################### | 100% \n",
      "torchvision-0.6.1    | 11.0 MB   | ##################################### | 100% \n",
      "Preparing transaction: done\n",
      "Verifying transaction: done\n",
      "Executing transaction: done\n"
     ]
    }
   ],
   "source": [
    "!conda install numpy pytorch torchvision cpuonly -c pytorch -y\n",
    "!pip install matplotlib --upgrade --quiet\n",
    "!pip install jovian --upgrade --quiet\n",
    "!pip install pandas --upgrade --quiet\n",
    "!pip install seaborn --upgrade --quiet"
   ]
  },
  {
   "cell_type": "markdown",
   "metadata": {},
   "source": [
    "## Library Importation"
   ]
  },
  {
   "cell_type": "code",
   "execution_count": 1,
   "metadata": {},
   "outputs": [],
   "source": [
    "import jovian\n",
    "\n",
    "#Data Manipulation\n",
    "import pandas as pd\n",
    "\n",
    "#Data Visualization\n",
    "import matplotlib.pyplot as plt\n",
    "import seaborn as sns\n",
    "\n",
    "#PyTorch Library\n",
    "import torch\n",
    "import torchvision\n",
    "import torch.nn as nn\n",
    "import torch.nn.functional as F\n",
    "from torchvision.datasets.utils import download_url\n",
    "from torch.utils.data import DataLoader, TensorDataset, random_split"
   ]
  },
  {
   "cell_type": "code",
   "execution_count": 2,
   "metadata": {},
   "outputs": [],
   "source": [
    "project_name='02-insurance-linear-regression' # will be used by jovian.commit"
   ]
  },
  {
   "cell_type": "markdown",
   "metadata": {},
   "source": [
    "## 1. Exploration Data Analysis\n",
    "\n",
    "Let us begin by downloading the data. We'll use the `download_url` function from PyTorch to get the data as a CSV (comma-separated values) file. "
   ]
  },
  {
   "cell_type": "code",
   "execution_count": 3,
   "metadata": {
    "_cell_guid": "79c7e3d0-c299-4dcb-8224-4455121ee9b0",
    "_uuid": "d629ff2d2480ee46fbb7e2d37f6b5fab8052498a"
   },
   "outputs": [
    {
     "name": "stdout",
     "output_type": "stream",
     "text": [
      "Using downloaded and verified file: ./insurance.csv\n"
     ]
    }
   ],
   "source": [
    "#Define dataset path :\n",
    "DATASET_URL = \"https://hub.jovian.ml/wp-content/uploads/2020/05/insurance.csv\"\n",
    "DATA_FILENAME = \"insurance.csv\"\n",
    "\n",
    "# Download insurance dataset\n",
    "download_url(DATASET_URL, '.')"
   ]
  },
  {
   "cell_type": "markdown",
   "metadata": {},
   "source": [
    "To load the dataset into memory, we'll use the `read_csv` function from the `pandas` library. The data will be loaded as a Pandas dataframe. See this short tutorial to learn more: https://data36.com/pandas-tutorial-1-basics-reading-data-files-dataframes-data-selection/"
   ]
  },
  {
   "cell_type": "code",
   "execution_count": 4,
   "metadata": {},
   "outputs": [
    {
     "data": {
      "text/html": [
       "<div>\n",
       "<style scoped>\n",
       "    .dataframe tbody tr th:only-of-type {\n",
       "        vertical-align: middle;\n",
       "    }\n",
       "\n",
       "    .dataframe tbody tr th {\n",
       "        vertical-align: top;\n",
       "    }\n",
       "\n",
       "    .dataframe thead th {\n",
       "        text-align: right;\n",
       "    }\n",
       "</style>\n",
       "<table border=\"1\" class=\"dataframe\">\n",
       "  <thead>\n",
       "    <tr style=\"text-align: right;\">\n",
       "      <th></th>\n",
       "      <th>age</th>\n",
       "      <th>sex</th>\n",
       "      <th>bmi</th>\n",
       "      <th>children</th>\n",
       "      <th>smoker</th>\n",
       "      <th>region</th>\n",
       "      <th>charges</th>\n",
       "    </tr>\n",
       "  </thead>\n",
       "  <tbody>\n",
       "    <tr>\n",
       "      <th>0</th>\n",
       "      <td>19</td>\n",
       "      <td>female</td>\n",
       "      <td>27.900</td>\n",
       "      <td>0</td>\n",
       "      <td>yes</td>\n",
       "      <td>southwest</td>\n",
       "      <td>16884.92400</td>\n",
       "    </tr>\n",
       "    <tr>\n",
       "      <th>1</th>\n",
       "      <td>18</td>\n",
       "      <td>male</td>\n",
       "      <td>33.770</td>\n",
       "      <td>1</td>\n",
       "      <td>no</td>\n",
       "      <td>southeast</td>\n",
       "      <td>1725.55230</td>\n",
       "    </tr>\n",
       "    <tr>\n",
       "      <th>2</th>\n",
       "      <td>28</td>\n",
       "      <td>male</td>\n",
       "      <td>33.000</td>\n",
       "      <td>3</td>\n",
       "      <td>no</td>\n",
       "      <td>southeast</td>\n",
       "      <td>4449.46200</td>\n",
       "    </tr>\n",
       "    <tr>\n",
       "      <th>3</th>\n",
       "      <td>33</td>\n",
       "      <td>male</td>\n",
       "      <td>22.705</td>\n",
       "      <td>0</td>\n",
       "      <td>no</td>\n",
       "      <td>northwest</td>\n",
       "      <td>21984.47061</td>\n",
       "    </tr>\n",
       "    <tr>\n",
       "      <th>4</th>\n",
       "      <td>32</td>\n",
       "      <td>male</td>\n",
       "      <td>28.880</td>\n",
       "      <td>0</td>\n",
       "      <td>no</td>\n",
       "      <td>northwest</td>\n",
       "      <td>3866.85520</td>\n",
       "    </tr>\n",
       "  </tbody>\n",
       "</table>\n",
       "</div>"
      ],
      "text/plain": [
       "   age     sex     bmi  children smoker     region      charges\n",
       "0   19  female  27.900         0    yes  southwest  16884.92400\n",
       "1   18    male  33.770         1     no  southeast   1725.55230\n",
       "2   28    male  33.000         3     no  southeast   4449.46200\n",
       "3   33    male  22.705         0     no  northwest  21984.47061\n",
       "4   32    male  28.880         0     no  northwest   3866.85520"
      ]
     },
     "execution_count": 4,
     "metadata": {},
     "output_type": "execute_result"
    }
   ],
   "source": [
    "#Load csv file with pandas dataframe\n",
    "dataframe_raw = pd.read_csv(DATA_FILENAME)\n",
    "dataframe_raw.head()"
   ]
  },
  {
   "cell_type": "markdown",
   "metadata": {},
   "source": [
    "We're going to do a slight customization of the data, I fill in my name below as a string."
   ]
  },
  {
   "cell_type": "code",
   "execution_count": 5,
   "metadata": {},
   "outputs": [],
   "source": [
    "your_name = 'Jennifer' # at least 5 characters"
   ]
  },
  {
   "cell_type": "markdown",
   "metadata": {},
   "source": [
    "The `customize_dataset` function will customize the dataset slightly using my name as a source of random numbers."
   ]
  },
  {
   "cell_type": "code",
   "execution_count": 6,
   "metadata": {},
   "outputs": [],
   "source": [
    "def customize_dataset(dataframe_raw, rand_str):\n",
    "    '''This function customizes the dataset slightly using my name as a source of random numbers.\n",
    "    \n",
    "    Parameters\n",
    "    ------------\n",
    "    dataframe_raw : pandas dataframe\n",
    "        contains a dataframe to customize\n",
    "    rand_str : str\n",
    "        contains a string to generate a random numbers\n",
    "    \n",
    "    Returns\n",
    "    ------------\n",
    "    dataframe : pandas dataframe\n",
    "        contains the new customized dataframe\n",
    "    '''\n",
    "    dataframe = dataframe_raw.copy(deep=True)\n",
    "    # drop some rows\n",
    "    dataframe = dataframe.sample(int(0.95*len(dataframe)), random_state=int(ord(rand_str[0])))\n",
    "    # scale input\n",
    "    dataframe.bmi = dataframe.bmi * ord(rand_str[1])/100.\n",
    "    # scale target\n",
    "    dataframe.charges = dataframe.charges * ord(rand_str[2])/100.\n",
    "    # drop column\n",
    "    if ord(rand_str[3]) % 2 == 1:\n",
    "        dataframe = dataframe.drop(['region'], axis=1)\n",
    "    return dataframe"
   ]
  },
  {
   "cell_type": "code",
   "execution_count": 7,
   "metadata": {},
   "outputs": [
    {
     "data": {
      "text/html": [
       "<div>\n",
       "<style scoped>\n",
       "    .dataframe tbody tr th:only-of-type {\n",
       "        vertical-align: middle;\n",
       "    }\n",
       "\n",
       "    .dataframe tbody tr th {\n",
       "        vertical-align: top;\n",
       "    }\n",
       "\n",
       "    .dataframe thead th {\n",
       "        text-align: right;\n",
       "    }\n",
       "</style>\n",
       "<table border=\"1\" class=\"dataframe\">\n",
       "  <thead>\n",
       "    <tr style=\"text-align: right;\">\n",
       "      <th></th>\n",
       "      <th>age</th>\n",
       "      <th>sex</th>\n",
       "      <th>bmi</th>\n",
       "      <th>children</th>\n",
       "      <th>smoker</th>\n",
       "      <th>region</th>\n",
       "      <th>charges</th>\n",
       "    </tr>\n",
       "  </thead>\n",
       "  <tbody>\n",
       "    <tr>\n",
       "      <th>676</th>\n",
       "      <td>55</td>\n",
       "      <td>female</td>\n",
       "      <td>41.21810</td>\n",
       "      <td>3</td>\n",
       "      <td>no</td>\n",
       "      <td>southeast</td>\n",
       "      <td>13734.380990</td>\n",
       "    </tr>\n",
       "    <tr>\n",
       "      <th>217</th>\n",
       "      <td>27</td>\n",
       "      <td>male</td>\n",
       "      <td>23.33100</td>\n",
       "      <td>0</td>\n",
       "      <td>no</td>\n",
       "      <td>southeast</td>\n",
       "      <td>2732.109600</td>\n",
       "    </tr>\n",
       "    <tr>\n",
       "      <th>864</th>\n",
       "      <td>51</td>\n",
       "      <td>male</td>\n",
       "      <td>25.65400</td>\n",
       "      <td>0</td>\n",
       "      <td>no</td>\n",
       "      <td>southwest</td>\n",
       "      <td>9660.715900</td>\n",
       "    </tr>\n",
       "    <tr>\n",
       "      <th>751</th>\n",
       "      <td>21</td>\n",
       "      <td>male</td>\n",
       "      <td>29.26475</td>\n",
       "      <td>0</td>\n",
       "      <td>no</td>\n",
       "      <td>northwest</td>\n",
       "      <td>2096.994075</td>\n",
       "    </tr>\n",
       "    <tr>\n",
       "      <th>1106</th>\n",
       "      <td>49</td>\n",
       "      <td>female</td>\n",
       "      <td>30.22425</td>\n",
       "      <td>0</td>\n",
       "      <td>no</td>\n",
       "      <td>northwest</td>\n",
       "      <td>9886.974625</td>\n",
       "    </tr>\n",
       "  </tbody>\n",
       "</table>\n",
       "</div>"
      ],
      "text/plain": [
       "      age     sex       bmi  children smoker     region       charges\n",
       "676    55  female  41.21810         3     no  southeast  13734.380990\n",
       "217    27    male  23.33100         0     no  southeast   2732.109600\n",
       "864    51    male  25.65400         0     no  southwest   9660.715900\n",
       "751    21    male  29.26475         0     no  northwest   2096.994075\n",
       "1106   49  female  30.22425         0     no  northwest   9886.974625"
      ]
     },
     "execution_count": 7,
     "metadata": {},
     "output_type": "execute_result"
    }
   ],
   "source": [
    "# Use function to customize insurance dataset\n",
    "dataframe = customize_dataset(dataframe_raw, your_name)\n",
    "\n",
    "#Show the first five rows of data\n",
    "dataframe.head()"
   ]
  },
  {
   "cell_type": "markdown",
   "metadata": {},
   "source": [
    "### 1.1 Data Cleaning and Exploration"
   ]
  },
  {
   "cell_type": "code",
   "execution_count": 8,
   "metadata": {},
   "outputs": [
    {
     "data": {
      "text/html": [
       "<div>\n",
       "<style scoped>\n",
       "    .dataframe tbody tr th:only-of-type {\n",
       "        vertical-align: middle;\n",
       "    }\n",
       "\n",
       "    .dataframe tbody tr th {\n",
       "        vertical-align: top;\n",
       "    }\n",
       "\n",
       "    .dataframe thead th {\n",
       "        text-align: right;\n",
       "    }\n",
       "</style>\n",
       "<table border=\"1\" class=\"dataframe\">\n",
       "  <thead>\n",
       "    <tr style=\"text-align: right;\">\n",
       "      <th></th>\n",
       "      <th>age</th>\n",
       "      <th>sex</th>\n",
       "      <th>bmi</th>\n",
       "      <th>children</th>\n",
       "      <th>smoker</th>\n",
       "      <th>region</th>\n",
       "      <th>charges</th>\n",
       "    </tr>\n",
       "  </thead>\n",
       "  <tbody>\n",
       "    <tr>\n",
       "      <th>676</th>\n",
       "      <td>55</td>\n",
       "      <td>female</td>\n",
       "      <td>41.21810</td>\n",
       "      <td>3</td>\n",
       "      <td>no</td>\n",
       "      <td>southeast</td>\n",
       "      <td>13734.380990</td>\n",
       "    </tr>\n",
       "    <tr>\n",
       "      <th>217</th>\n",
       "      <td>27</td>\n",
       "      <td>male</td>\n",
       "      <td>23.33100</td>\n",
       "      <td>0</td>\n",
       "      <td>no</td>\n",
       "      <td>southeast</td>\n",
       "      <td>2732.109600</td>\n",
       "    </tr>\n",
       "    <tr>\n",
       "      <th>864</th>\n",
       "      <td>51</td>\n",
       "      <td>male</td>\n",
       "      <td>25.65400</td>\n",
       "      <td>0</td>\n",
       "      <td>no</td>\n",
       "      <td>southwest</td>\n",
       "      <td>9660.715900</td>\n",
       "    </tr>\n",
       "    <tr>\n",
       "      <th>751</th>\n",
       "      <td>21</td>\n",
       "      <td>male</td>\n",
       "      <td>29.26475</td>\n",
       "      <td>0</td>\n",
       "      <td>no</td>\n",
       "      <td>northwest</td>\n",
       "      <td>2096.994075</td>\n",
       "    </tr>\n",
       "    <tr>\n",
       "      <th>1106</th>\n",
       "      <td>49</td>\n",
       "      <td>female</td>\n",
       "      <td>30.22425</td>\n",
       "      <td>0</td>\n",
       "      <td>no</td>\n",
       "      <td>northwest</td>\n",
       "      <td>9886.974625</td>\n",
       "    </tr>\n",
       "  </tbody>\n",
       "</table>\n",
       "</div>"
      ],
      "text/plain": [
       "      age     sex       bmi  children smoker     region       charges\n",
       "676    55  female  41.21810         3     no  southeast  13734.380990\n",
       "217    27    male  23.33100         0     no  southeast   2732.109600\n",
       "864    51    male  25.65400         0     no  southwest   9660.715900\n",
       "751    21    male  29.26475         0     no  northwest   2096.994075\n",
       "1106   49  female  30.22425         0     no  northwest   9886.974625"
      ]
     },
     "execution_count": 8,
     "metadata": {},
     "output_type": "execute_result"
    }
   ],
   "source": [
    "#Show the first five rows of data\n",
    "dataframe.head()"
   ]
  },
  {
   "cell_type": "code",
   "execution_count": 9,
   "metadata": {},
   "outputs": [
    {
     "data": {
      "text/plain": [
       "(1271, 7)"
      ]
     },
     "execution_count": 9,
     "metadata": {},
     "output_type": "execute_result"
    }
   ],
   "source": [
    "dataframe.shape"
   ]
  },
  {
   "cell_type": "markdown",
   "metadata": {},
   "source": [
    "As we can see, the dataset has **1270 rows** and **7 columns** as follows:\n",
    "- `age` : age of primary beneficiary\n",
    "- `sex` : insurance contractor gender, female, male\n",
    "- `bmi` : Body mass index, providing an understanding of body, weights that are relatively high or low relative to height, objective index of body weight (kg / m ^ 2) using the ratio of height to weight, ideally `18.5` to `24.9`\n",
    "- `children` : Number of children covered by health insurance / Number of dependents\n",
    "- `smoker` : Smoking\n",
    "- `region` : the beneficiary's residential area in the US, northeast, southeast, southwest, northwest.\n",
    "- `charges` : Individual medical costs billed by health insurance"
   ]
  },
  {
   "cell_type": "code",
   "execution_count": 10,
   "metadata": {},
   "outputs": [
    {
     "name": "stdout",
     "output_type": "stream",
     "text": [
      "1271\n"
     ]
    }
   ],
   "source": [
    "num_rows = dataframe.shape[0]\n",
    "print(num_rows)"
   ]
  },
  {
   "cell_type": "code",
   "execution_count": 11,
   "metadata": {},
   "outputs": [
    {
     "name": "stdout",
     "output_type": "stream",
     "text": [
      "7\n"
     ]
    }
   ],
   "source": [
    "num_cols = dataframe.shape[1]\n",
    "print(num_cols)"
   ]
  },
  {
   "cell_type": "code",
   "execution_count": 12,
   "metadata": {},
   "outputs": [
    {
     "data": {
      "text/plain": [
       "['age', 'sex', 'bmi', 'children', 'smoker', 'region']"
      ]
     },
     "execution_count": 12,
     "metadata": {},
     "output_type": "execute_result"
    }
   ],
   "source": [
    "# Column titles of the input variables ?\n",
    "input_cols = list(dataframe.columns.values[:-1])\n",
    "input_cols"
   ]
  },
  {
   "cell_type": "markdown",
   "metadata": {},
   "source": [
    "The dataset contains **interger, float and string** values :"
   ]
  },
  {
   "cell_type": "code",
   "execution_count": 13,
   "metadata": {},
   "outputs": [
    {
     "name": "stdout",
     "output_type": "stream",
     "text": [
      "<class 'pandas.core.frame.DataFrame'>\n",
      "Int64Index: 1271 entries, 676 to 1115\n",
      "Data columns (total 7 columns):\n",
      " #   Column    Non-Null Count  Dtype  \n",
      "---  ------    --------------  -----  \n",
      " 0   age       1271 non-null   int64  \n",
      " 1   sex       1271 non-null   object \n",
      " 2   bmi       1271 non-null   float64\n",
      " 3   children  1271 non-null   int64  \n",
      " 4   smoker    1271 non-null   object \n",
      " 5   region    1271 non-null   object \n",
      " 6   charges   1271 non-null   float64\n",
      "dtypes: float64(2), int64(2), object(3)\n",
      "memory usage: 79.4+ KB\n"
     ]
    }
   ],
   "source": [
    "dataframe.info()"
   ]
  },
  {
   "cell_type": "markdown",
   "metadata": {},
   "source": [
    "Next, I display some **statistical summaries of the numerical and non-numerical columns** below :"
   ]
  },
  {
   "cell_type": "code",
   "execution_count": 15,
   "metadata": {},
   "outputs": [
    {
     "data": {
      "text/html": [
       "<div>\n",
       "<style scoped>\n",
       "    .dataframe tbody tr th:only-of-type {\n",
       "        vertical-align: middle;\n",
       "    }\n",
       "\n",
       "    .dataframe tbody tr th {\n",
       "        vertical-align: top;\n",
       "    }\n",
       "\n",
       "    .dataframe thead th {\n",
       "        text-align: right;\n",
       "    }\n",
       "</style>\n",
       "<table border=\"1\" class=\"dataframe\">\n",
       "  <thead>\n",
       "    <tr style=\"text-align: right;\">\n",
       "      <th></th>\n",
       "      <th>age</th>\n",
       "      <th>bmi</th>\n",
       "      <th>children</th>\n",
       "      <th>charges</th>\n",
       "    </tr>\n",
       "  </thead>\n",
       "  <tbody>\n",
       "    <tr>\n",
       "      <th>count</th>\n",
       "      <td>1271.000000</td>\n",
       "      <td>1271.000000</td>\n",
       "      <td>1271.000000</td>\n",
       "      <td>1271.000000</td>\n",
       "    </tr>\n",
       "    <tr>\n",
       "      <th>mean</th>\n",
       "      <td>39.091267</td>\n",
       "      <td>30.896019</td>\n",
       "      <td>1.113297</td>\n",
       "      <td>14584.029112</td>\n",
       "    </tr>\n",
       "    <tr>\n",
       "      <th>std</th>\n",
       "      <td>13.986028</td>\n",
       "      <td>6.139402</td>\n",
       "      <td>1.206833</td>\n",
       "      <td>13320.156096</td>\n",
       "    </tr>\n",
       "    <tr>\n",
       "      <th>min</th>\n",
       "      <td>18.000000</td>\n",
       "      <td>16.119600</td>\n",
       "      <td>0.000000</td>\n",
       "      <td>1234.061290</td>\n",
       "    </tr>\n",
       "    <tr>\n",
       "      <th>25%</th>\n",
       "      <td>26.000000</td>\n",
       "      <td>26.451900</td>\n",
       "      <td>0.000000</td>\n",
       "      <td>5201.902613</td>\n",
       "    </tr>\n",
       "    <tr>\n",
       "      <th>50%</th>\n",
       "      <td>39.000000</td>\n",
       "      <td>30.603000</td>\n",
       "      <td>1.000000</td>\n",
       "      <td>10297.459480</td>\n",
       "    </tr>\n",
       "    <tr>\n",
       "      <th>75%</th>\n",
       "      <td>51.000000</td>\n",
       "      <td>34.946000</td>\n",
       "      <td>2.000000</td>\n",
       "      <td>18284.318338</td>\n",
       "    </tr>\n",
       "    <tr>\n",
       "      <th>max</th>\n",
       "      <td>64.000000</td>\n",
       "      <td>53.661300</td>\n",
       "      <td>5.000000</td>\n",
       "      <td>70147.470811</td>\n",
       "    </tr>\n",
       "  </tbody>\n",
       "</table>\n",
       "</div>"
      ],
      "text/plain": [
       "               age          bmi     children       charges\n",
       "count  1271.000000  1271.000000  1271.000000   1271.000000\n",
       "mean     39.091267    30.896019     1.113297  14584.029112\n",
       "std      13.986028     6.139402     1.206833  13320.156096\n",
       "min      18.000000    16.119600     0.000000   1234.061290\n",
       "25%      26.000000    26.451900     0.000000   5201.902613\n",
       "50%      39.000000    30.603000     1.000000  10297.459480\n",
       "75%      51.000000    34.946000     2.000000  18284.318338\n",
       "max      64.000000    53.661300     5.000000  70147.470811"
      ]
     },
     "execution_count": 15,
     "metadata": {},
     "output_type": "execute_result"
    }
   ],
   "source": [
    "# Statistical summaries of the numerical columns\n",
    "dataframe.describe()"
   ]
  },
  {
   "cell_type": "code",
   "execution_count": 16,
   "metadata": {},
   "outputs": [
    {
     "data": {
      "text/html": [
       "<div>\n",
       "<style scoped>\n",
       "    .dataframe tbody tr th:only-of-type {\n",
       "        vertical-align: middle;\n",
       "    }\n",
       "\n",
       "    .dataframe tbody tr th {\n",
       "        vertical-align: top;\n",
       "    }\n",
       "\n",
       "    .dataframe thead th {\n",
       "        text-align: right;\n",
       "    }\n",
       "</style>\n",
       "<table border=\"1\" class=\"dataframe\">\n",
       "  <thead>\n",
       "    <tr style=\"text-align: right;\">\n",
       "      <th></th>\n",
       "      <th>sex</th>\n",
       "      <th>smoker</th>\n",
       "      <th>region</th>\n",
       "    </tr>\n",
       "  </thead>\n",
       "  <tbody>\n",
       "    <tr>\n",
       "      <th>count</th>\n",
       "      <td>1271</td>\n",
       "      <td>1271</td>\n",
       "      <td>1271</td>\n",
       "    </tr>\n",
       "    <tr>\n",
       "      <th>unique</th>\n",
       "      <td>2</td>\n",
       "      <td>2</td>\n",
       "      <td>4</td>\n",
       "    </tr>\n",
       "    <tr>\n",
       "      <th>top</th>\n",
       "      <td>male</td>\n",
       "      <td>no</td>\n",
       "      <td>southeast</td>\n",
       "    </tr>\n",
       "    <tr>\n",
       "      <th>freq</th>\n",
       "      <td>640</td>\n",
       "      <td>1011</td>\n",
       "      <td>341</td>\n",
       "    </tr>\n",
       "  </tbody>\n",
       "</table>\n",
       "</div>"
      ],
      "text/plain": [
       "         sex smoker     region\n",
       "count   1271   1271       1271\n",
       "unique     2      2          4\n",
       "top     male     no  southeast\n",
       "freq     640   1011        341"
      ]
     },
     "execution_count": 16,
     "metadata": {},
     "output_type": "execute_result"
    }
   ],
   "source": [
    "# Statistical summaries of the non-numerical columns\n",
    "dataframe.describe(include='object')"
   ]
  },
  {
   "cell_type": "markdown",
   "metadata": {},
   "source": [
    "This following columns represents **categorial variables**."
   ]
  },
  {
   "cell_type": "code",
   "execution_count": 14,
   "metadata": {},
   "outputs": [
    {
     "data": {
      "text/plain": [
       "['sex', 'smoker', 'region']"
      ]
     },
     "execution_count": 14,
     "metadata": {},
     "output_type": "execute_result"
    }
   ],
   "source": [
    "categorical_cols = list(dataframe.describe(include='object').columns.values)\n",
    "categorical_cols"
   ]
  },
  {
   "cell_type": "markdown",
   "metadata": {},
   "source": [
    "`charges` columns is the target : It's a **Supervised Machine Learning case (Regression).**"
   ]
  },
  {
   "cell_type": "code",
   "execution_count": 15,
   "metadata": {},
   "outputs": [
    {
     "data": {
      "text/plain": [
       "['charges']"
      ]
     },
     "execution_count": 15,
     "metadata": {},
     "output_type": "execute_result"
    }
   ],
   "source": [
    "output_cols = ['charges']\n",
    "output_cols"
   ]
  },
  {
   "cell_type": "markdown",
   "metadata": {},
   "source": [
    "Some relevant informations with **Data Cleaning** are :"
   ]
  },
  {
   "cell_type": "markdown",
   "metadata": {},
   "source": [
    "- **No null values** :"
   ]
  },
  {
   "cell_type": "code",
   "execution_count": 16,
   "metadata": {},
   "outputs": [
    {
     "data": {
      "text/plain": [
       "age         0\n",
       "sex         0\n",
       "bmi         0\n",
       "children    0\n",
       "smoker      0\n",
       "region      0\n",
       "charges     0\n",
       "dtype: int64"
      ]
     },
     "execution_count": 16,
     "metadata": {},
     "output_type": "execute_result"
    }
   ],
   "source": [
    "# Number of null values# \n",
    "dataframe.isna().sum()"
   ]
  },
  {
   "cell_type": "markdown",
   "metadata": {},
   "source": [
    "- **1 duplicates** :"
   ]
  },
  {
   "cell_type": "code",
   "execution_count": 17,
   "metadata": {
    "scrolled": false
   },
   "outputs": [
    {
     "data": {
      "text/plain": [
       "1"
      ]
     },
     "execution_count": 17,
     "metadata": {},
     "output_type": "execute_result"
    }
   ],
   "source": [
    "# Number of duplicates\n",
    "dataframe.duplicated().sum()"
   ]
  },
  {
   "cell_type": "code",
   "execution_count": 18,
   "metadata": {},
   "outputs": [],
   "source": [
    "#Drop duplicates\n",
    "dataframe.drop_duplicates(inplace=True)"
   ]
  },
  {
   "cell_type": "code",
   "execution_count": 19,
   "metadata": {},
   "outputs": [
    {
     "name": "stdout",
     "output_type": "stream",
     "text": [
      "1270\n"
     ]
    }
   ],
   "source": [
    "num_rows = dataframe.shape[0]\n",
    "print(num_rows)"
   ]
  },
  {
   "cell_type": "markdown",
   "metadata": {},
   "source": [
    "### 1.2 Data Analysis"
   ]
  },
  {
   "cell_type": "markdown",
   "metadata": {},
   "source": [
    "I analyse some statistical for insurance `charges`."
   ]
  },
  {
   "cell_type": "code",
   "execution_count": 20,
   "metadata": {},
   "outputs": [
    {
     "data": {
      "text/plain": [
       "count     1270.000000\n",
       "mean     14594.092506\n",
       "std      13320.568924\n",
       "min       1234.061290\n",
       "25%       5214.315865\n",
       "50%      10306.577325\n",
       "75%      18303.903766\n",
       "max      70147.470811\n",
       "Name: charges, dtype: float64"
      ]
     },
     "execution_count": 20,
     "metadata": {},
     "output_type": "execute_result"
    }
   ],
   "source": [
    "insurance_charges = dataframe.charges.describe()\n",
    "insurance_charges"
   ]
  },
  {
   "cell_type": "code",
   "execution_count": 23,
   "metadata": {},
   "outputs": [
    {
     "data": {
      "image/png": "[encoded data removed]",
      "text/plain": [
       "<Figure size 1008x432 with 1 Axes>"
      ]
     },
     "metadata": {
      "needs_background": "light"
     },
     "output_type": "display_data"
    }
   ],
   "source": [
    "plt.figure(figsize=(14, 6))\n",
    "\n",
    "plt.title(\"Insurance charges distribution\", size=14)              #Graph Title\n",
    "\n",
    "sns.distplot(dataframe.charges)                                   #Graph\n",
    "\n",
    "plt.show()"
   ]
  },
  {
   "cell_type": "markdown",
   "metadata": {},
   "source": [
    "Remember to commit your notebook to Jovian after every step, so that you don't lose your work."
   ]
  },
  {
   "cell_type": "code",
   "execution_count": 24,
   "metadata": {
    "scrolled": true
   },
   "outputs": [
    {
     "data": {
      "application/javascript": [
       "window.require && require([\"base/js/namespace\"],function(Jupyter){Jupyter.notebook.save_checkpoint()})"
      ],
      "text/plain": [
       "<IPython.core.display.Javascript object>"
      ]
     },
     "metadata": {},
     "output_type": "display_data"
    },
    {
     "name": "stdout",
     "output_type": "stream",
     "text": [
      "[jovian] Attempting to save notebook..\u001b[0m\n",
      "[jovian] Please enter your API key ( from https://jovian.ml/ ):\u001b[0m\n",
      "API KEY: ········\n",
      "[jovian] Updating notebook \"jennifer974/02-insurance-linear-regression\" on https://jovian.ml/\u001b[0m\n",
      "[jovian] Uploading notebook..\u001b[0m\n",
      "[jovian] Committed successfully! https://jovian.ml/jennifer974/02-insurance-linear-regression\u001b[0m\n"
     ]
    },
    {
     "data": {
      "text/plain": [
       "'https://jovian.ml/jennifer974/02-insurance-linear-regression'"
      ]
     },
     "execution_count": 24,
     "metadata": {},
     "output_type": "execute_result"
    }
   ],
   "source": [
    "jovian.commit(project=project_name, environment=None)"
   ]
  },
  {
   "cell_type": "markdown",
   "metadata": {},
   "source": [
    "## 2. Data Preparation for Training\n",
    "\n",
    "We need to convert the data from the Pandas dataframe into a `PyTorch` tensors for training. To do this, the first step is to convert it numpy arrays."
   ]
  },
  {
   "cell_type": "code",
   "execution_count": 21,
   "metadata": {},
   "outputs": [],
   "source": [
    "def dataframe_to_arrays(dataframe):\n",
    "    '''This function converts Pandas dataframe into numpy arrays.\n",
    "    \n",
    "    Parameters\n",
    "    ------------\n",
    "    dataframe : pandas dataframe\n",
    "        contains a dataframe to convert\n",
    "    \n",
    "    Returns\n",
    "    ------------\n",
    "    input_array : array\n",
    "        contains input data\n",
    "    target_array : array\n",
    "        contains target data\n",
    "    '''\n",
    "    # Make a copy of the original dataframe\n",
    "    dataframe1 = dataframe.copy(deep=True)\n",
    "    # Convert non-numeric categorical columns to numbers\n",
    "    for col in categorical_cols:\n",
    "        dataframe1[col] = dataframe1[col].astype('category').cat.codes\n",
    "    # Extract input & outupts as numpy arrays\n",
    "    inputs_array = dataframe1[input_cols].to_numpy()\n",
    "    targets_array = dataframe1[output_cols].to_numpy()\n",
    "    return inputs_array, targets_array"
   ]
  },
  {
   "cell_type": "code",
   "execution_count": 22,
   "metadata": {},
   "outputs": [
    {
     "data": {
      "text/plain": [
       "(array([[55.    ,  0.    , 41.2181,  3.    ,  0.    ,  2.    ],\n",
       "        [27.    ,  1.    , 23.331 ,  0.    ,  0.    ,  2.    ],\n",
       "        [51.    ,  1.    , 25.654 ,  0.    ,  0.    ,  3.    ],\n",
       "        ...,\n",
       "        [53.    ,  1.    , 26.6741,  2.    ,  0.    ,  0.    ],\n",
       "        [19.    ,  0.    , 40.905 ,  0.    ,  0.    ,  3.    ],\n",
       "        [55.    ,  1.    , 32.9967,  1.    ,  0.    ,  2.    ]]),\n",
       " array([[13734.38099],\n",
       "        [ 2732.1096 ],\n",
       "        [ 9660.7159 ],\n",
       "        ...,\n",
       "        [12368.81459],\n",
       "        [ 1935.2718 ],\n",
       "        [11888.23493]]))"
      ]
     },
     "execution_count": 22,
     "metadata": {},
     "output_type": "execute_result"
    }
   ],
   "source": [
    "inputs_array, targets_array = dataframe_to_arrays(dataframe)\n",
    "inputs_array, targets_array"
   ]
  },
  {
   "cell_type": "markdown",
   "metadata": {},
   "source": [
    "Now, I can convert the numpy arrays `inputs_array` and `targets_array` into `PyTorch` tensors."
   ]
  },
  {
   "cell_type": "code",
   "execution_count": 23,
   "metadata": {},
   "outputs": [],
   "source": [
    "# Convert inputs and targets to tensors\n",
    "inputs = torch.from_numpy(inputs_array).float()\n",
    "targets = torch.from_numpy(targets_array).float()"
   ]
  },
  {
   "cell_type": "code",
   "execution_count": 24,
   "metadata": {},
   "outputs": [
    {
     "data": {
      "text/plain": [
       "(torch.float32, torch.float32)"
      ]
     },
     "execution_count": 24,
     "metadata": {},
     "output_type": "execute_result"
    }
   ],
   "source": [
    "inputs.dtype, targets.dtype"
   ]
  },
  {
   "cell_type": "code",
   "execution_count": 25,
   "metadata": {},
   "outputs": [
    {
     "data": {
      "text/plain": [
       "tensor([[55.0000,  0.0000, 41.2181,  3.0000,  0.0000,  2.0000],\n",
       "        [27.0000,  1.0000, 23.3310,  0.0000,  0.0000,  2.0000],\n",
       "        [51.0000,  1.0000, 25.6540,  0.0000,  0.0000,  3.0000],\n",
       "        ...,\n",
       "        [53.0000,  1.0000, 26.6741,  2.0000,  0.0000,  0.0000],\n",
       "        [19.0000,  0.0000, 40.9050,  0.0000,  0.0000,  3.0000],\n",
       "        [55.0000,  1.0000, 32.9967,  1.0000,  0.0000,  2.0000]])"
      ]
     },
     "execution_count": 25,
     "metadata": {},
     "output_type": "execute_result"
    }
   ],
   "source": [
    "inputs"
   ]
  },
  {
   "cell_type": "code",
   "execution_count": 26,
   "metadata": {},
   "outputs": [
    {
     "data": {
      "text/plain": [
       "tensor([[13734.3809],\n",
       "        [ 2732.1096],\n",
       "        [ 9660.7158],\n",
       "        ...,\n",
       "        [12368.8145],\n",
       "        [ 1935.2719],\n",
       "        [11888.2354]])"
      ]
     },
     "execution_count": 26,
     "metadata": {},
     "output_type": "execute_result"
    }
   ],
   "source": [
    "targets"
   ]
  },
  {
   "cell_type": "markdown",
   "metadata": {},
   "source": [
    "Next, we need to create `PyTorch` datasets & data loaders for training & validation. We'll start by creating a `TensorDataset`."
   ]
  },
  {
   "cell_type": "code",
   "execution_count": 27,
   "metadata": {},
   "outputs": [
    {
     "data": {
      "text/plain": [
       "<torch.utils.data.dataset.TensorDataset at 0x7fed45fef950>"
      ]
     },
     "execution_count": 27,
     "metadata": {},
     "output_type": "execute_result"
    }
   ],
   "source": [
    "dataset = TensorDataset(inputs, targets)\n",
    "dataset"
   ]
  },
  {
   "cell_type": "markdown",
   "metadata": {},
   "source": [
    "I choose a number between `0.1` and `0.2` to determine the fraction of data that will be used for creating the validation set. Then I use `random_split` to create training & validation datasets."
   ]
  },
  {
   "cell_type": "code",
   "execution_count": 28,
   "metadata": {},
   "outputs": [],
   "source": [
    "val_percent = 0.15 # between 0.1 and 0.2\n",
    "val_size = int(num_rows * val_percent)\n",
    "train_size = num_rows - val_size\n",
    "\n",
    "\n",
    "train_ds, val_ds = random_split(dataset, [train_size, val_size]) # Use the random_split function to split dataset into 2 parts of the desired length"
   ]
  },
  {
   "cell_type": "markdown",
   "metadata": {},
   "source": [
    "Finally, we can create data loaders for training & validation.\n",
    "\n",
    "I choose a **batch size** for the data loader, it represents **the number of samples to train by epochs**."
   ]
  },
  {
   "cell_type": "code",
   "execution_count": 52,
   "metadata": {},
   "outputs": [],
   "source": [
    "batch_size = 32"
   ]
  },
  {
   "cell_type": "code",
   "execution_count": 53,
   "metadata": {},
   "outputs": [],
   "source": [
    "train_loader = DataLoader(train_ds, batch_size, shuffle=True)\n",
    "val_loader = DataLoader(val_ds, batch_size)"
   ]
  },
  {
   "cell_type": "markdown",
   "metadata": {},
   "source": [
    "Let's look at a batch of data to verify everything is working fine so far."
   ]
  },
  {
   "cell_type": "code",
   "execution_count": 54,
   "metadata": {},
   "outputs": [
    {
     "name": "stdout",
     "output_type": "stream",
     "text": [
      "inputs: tensor([[24.0000,  0.0000, 30.5121,  3.0000,  0.0000,  1.0000],\n",
      "        [40.0000,  1.0000, 35.6530,  3.0000,  0.0000,  3.0000],\n",
      "        [19.0000,  0.0000, 30.8959,  2.0000,  0.0000,  1.0000],\n",
      "        [24.0000,  1.0000, 40.5515,  0.0000,  1.0000,  2.0000],\n",
      "        [36.0000,  1.0000, 29.9970,  0.0000,  0.0000,  2.0000],\n",
      "        [54.0000,  1.0000, 24.2754,  0.0000,  0.0000,  0.0000],\n",
      "        [55.0000,  0.0000, 35.5520,  0.0000,  1.0000,  2.0000],\n",
      "        [58.0000,  0.0000, 28.4972,  0.0000,  0.0000,  1.0000],\n",
      "        [38.0000,  1.0000, 19.4930,  0.0000,  1.0000,  3.0000],\n",
      "        [33.0000,  1.0000, 27.3710,  1.0000,  1.0000,  3.0000],\n",
      "        [30.0000,  1.0000, 31.7140,  1.0000,  0.0000,  3.0000],\n",
      "        [38.0000,  0.0000, 29.2193,  1.0000,  0.0000,  2.0000],\n",
      "        [40.0000,  0.0000, 23.6037,  3.0000,  0.0000,  0.0000],\n",
      "        [56.0000,  0.0000, 25.9065,  0.0000,  0.0000,  1.0000],\n",
      "        [19.0000,  1.0000, 25.8106,  1.0000,  0.0000,  1.0000],\n",
      "        [57.0000,  0.0000, 23.4118,  0.0000,  0.0000,  1.0000],\n",
      "        [28.0000,  1.0000, 31.9968,  0.0000,  1.0000,  2.0000],\n",
      "        [20.0000,  1.0000, 40.8747,  0.0000,  0.0000,  0.0000],\n",
      "        [29.0000,  0.0000, 26.2903,  0.0000,  0.0000,  1.0000],\n",
      "        [32.0000,  0.0000, 31.8554,  1.0000,  0.0000,  0.0000],\n",
      "        [48.0000,  0.0000, 33.6633,  0.0000,  0.0000,  2.0000],\n",
      "        [56.0000,  0.0000, 32.6230,  3.0000,  0.0000,  0.0000],\n",
      "        [19.0000,  0.0000, 22.7402,  0.0000,  0.0000,  1.0000],\n",
      "        [36.0000,  0.0000, 30.2192,  1.0000,  0.0000,  2.0000],\n",
      "        [45.0000,  0.0000, 33.4310,  0.0000,  0.0000,  3.0000],\n",
      "        [59.0000,  0.0000, 23.8916,  0.0000,  1.0000,  1.0000],\n",
      "        [49.0000,  1.0000, 30.1283,  1.0000,  0.0000,  0.0000],\n",
      "        [53.0000,  1.0000, 31.6635,  0.0000,  0.0000,  2.0000],\n",
      "        [23.0000,  0.0000, 28.7749,  1.0000,  1.0000,  2.0000],\n",
      "        [41.0000,  1.0000, 33.8855,  0.0000,  0.0000,  2.0000],\n",
      "        [49.0000,  0.0000, 22.8361,  1.0000,  0.0000,  1.0000],\n",
      "        [24.0000,  0.0000, 23.4421,  0.0000,  0.0000,  2.0000]])\n",
      "targets: tensor([[ 5079.8877],\n",
      "        [ 7916.5537],\n",
      "        [26465.6484],\n",
      "        [41938.8711],\n",
      "        [ 4839.7041],\n",
      "        [11465.2080],\n",
      "        [48866.1836],\n",
      "        [13446.7861],\n",
      "        [17402.7695],\n",
      "        [20944.9629],\n",
      "        [ 4025.2805],\n",
      "        [ 6571.8232],\n",
      "        [ 9077.5127],\n",
      "        [12599.4238],\n",
      "        [ 2443.7209],\n",
      "        [13013.6680],\n",
      "        [38139.3633],\n",
      "        [ 2182.8987],\n",
      "        [ 4110.1113],\n",
      "        [ 5663.4077],\n",
      "        [ 9112.0488],\n",
      "        [14773.2910],\n",
      "        [ 2329.0728],\n",
      "        [ 6025.8403],\n",
      "        [ 8079.5923],\n",
      "        [28246.6562],\n",
      "        [10216.8291],\n",
      "        [30080.6465],\n",
      "        [20161.0625],\n",
      "        [ 6269.8213],\n",
      "        [10523.6904],\n",
      "        [27589.9453]])\n"
     ]
    }
   ],
   "source": [
    "for xb, yb in train_loader:\n",
    "    print(\"inputs:\", xb)\n",
    "    print(\"targets:\", yb)\n",
    "    break"
   ]
  },
  {
   "cell_type": "markdown",
   "metadata": {},
   "source": [
    "I save my work by committing to Jovian."
   ]
  },
  {
   "cell_type": "code",
   "execution_count": 75,
   "metadata": {},
   "outputs": [
    {
     "data": {
      "application/javascript": [
       "window.require && require([\"base/js/namespace\"],function(Jupyter){Jupyter.notebook.save_checkpoint()})"
      ],
      "text/plain": [
       "<IPython.core.display.Javascript object>"
      ]
     },
     "metadata": {},
     "output_type": "display_data"
    },
    {
     "name": "stdout",
     "output_type": "stream",
     "text": [
      "[jovian] Attempting to save notebook..\u001b[0m\n",
      "[jovian] Updating notebook \"jennifer974/02-insurance-linear-regression\" on https://jovian.ml/\u001b[0m\n",
      "[jovian] Uploading notebook..\u001b[0m\n",
      "[jovian] Committed successfully! https://jovian.ml/jennifer974/02-insurance-linear-regression\u001b[0m\n"
     ]
    },
    {
     "data": {
      "text/plain": [
       "'https://jovian.ml/jennifer974/02-insurance-linear-regression'"
      ]
     },
     "execution_count": 75,
     "metadata": {},
     "output_type": "execute_result"
    }
   ],
   "source": [
    "jovian.commit(project=project_name, environment=None)"
   ]
  },
  {
   "cell_type": "markdown",
   "metadata": {},
   "source": [
    "## 3. Model : Linear Regression \n",
    "\n",
    "I use a fairly straightforward linear regression to predict insurance charges.\n"
   ]
  },
  {
   "cell_type": "code",
   "execution_count": 56,
   "metadata": {},
   "outputs": [],
   "source": [
    "input_size = len(input_cols)\n",
    "output_size = len(output_cols)"
   ]
  },
  {
   "cell_type": "markdown",
   "metadata": {},
   "source": [
    "I define a class to build my model with several method (`__init__`), `forward`, `training_step` and `validation_step` methods. \n",
    "\n",
    "I try with **several loss to have a good loss fuction and I see which that `l1_loss` works best**. [loss documentation](https://pytorch.org/docs/stable/nn.functional.html#loss-functions) :\n",
    "- `mse_loss` : Measures the element-wise mean squared error. [documentation](https://pytorch.org/docs/stable/nn.html#torch.nn.MSELoss)\n",
    "- `l1_loss` : Function that takes the mean element-wise absolute value difference. [documentation](https://pytorch.org/docs/stable/nn.html#torch.nn.L1Loss)"
   ]
  },
  {
   "cell_type": "code",
   "execution_count": 68,
   "metadata": {},
   "outputs": [],
   "source": [
    "class InsuranceModel(nn.Module):\n",
    "    '''This class builds Linear Regression model.\n",
    "    '''\n",
    "    def __init__(self):\n",
    "        '''This functions initializes class attributes.\n",
    "        '''\n",
    "        super().__init__()\n",
    "        self.linear = nn.Linear(input_size, output_size)        \n",
    "        \n",
    "    def forward(self, xb):\n",
    "        out = self.linear(xb)                                   \n",
    "        return out\n",
    "    \n",
    "    def training_step(self, batch):\n",
    "        inputs, targets = batch \n",
    "        # Generate predictions\n",
    "        out = self(inputs)          \n",
    "        # Calculate loss\n",
    "        #loss = F.mse_loss(out, targets)\n",
    "        loss = F.l1_loss(out, targets)                         \n",
    "        return loss\n",
    "    \n",
    "    def validation_step(self, batch):\n",
    "        inputs, targets = batch\n",
    "        # Generate predictions\n",
    "        out = self(inputs)\n",
    "        # Calculate loss\n",
    "        #loss = F.mse_loss(out, targets)\n",
    "        loss = F.l1_loss(out, targets)\n",
    "        return {'val_loss': loss.detach()}\n",
    "        \n",
    "    def validation_epoch_end(self, outputs):\n",
    "        batch_losses = [x['val_loss'] for x in outputs]\n",
    "        epoch_loss = torch.stack(batch_losses).mean()           # Combine losses\n",
    "        return {'val_loss': epoch_loss.item()}\n",
    "    \n",
    "    def epoch_end(self, epoch, result, num_epochs):\n",
    "        # Print result every 20th epoch\n",
    "        if (epoch+1) % 20 == 0 or epoch == num_epochs-1:\n",
    "            print(\"Epoch [{}], val_loss: {:.4f}\".format(epoch+1, result['val_loss']))"
   ]
  },
  {
   "cell_type": "markdown",
   "metadata": {},
   "source": [
    "I create a model using the `InsuranceModel` class. \n",
    "\n",
    "You may need to come back later and re-run the next cell to reinitialize the model, in case the loss becomes `nan` or `infinity`."
   ]
  },
  {
   "cell_type": "code",
   "execution_count": 69,
   "metadata": {},
   "outputs": [],
   "source": [
    "# Initialize Insurance Model class\n",
    "model = InsuranceModel()"
   ]
  },
  {
   "cell_type": "markdown",
   "metadata": {},
   "source": [
    "Let's check out the weights and biases of the model using `model.parameters`."
   ]
  },
  {
   "cell_type": "code",
   "execution_count": 70,
   "metadata": {},
   "outputs": [
    {
     "data": {
      "text/plain": [
       "[Parameter containing:\n",
       " tensor([[ 0.2808, -0.1406,  0.2760, -0.0470, -0.3090,  0.2909]],\n",
       "        requires_grad=True),\n",
       " Parameter containing:\n",
       " tensor([0.3680], requires_grad=True)]"
      ]
     },
     "execution_count": 70,
     "metadata": {},
     "output_type": "execute_result"
    }
   ],
   "source": [
    "# Check out the weights and biases of the model\n",
    "list(model.parameters())"
   ]
  },
  {
   "cell_type": "markdown",
   "metadata": {},
   "source": [
    "One final commit before we train the model."
   ]
  },
  {
   "cell_type": "code",
   "execution_count": 88,
   "metadata": {},
   "outputs": [
    {
     "data": {
      "application/javascript": [
       "window.require && require([\"base/js/namespace\"],function(Jupyter){Jupyter.notebook.save_checkpoint()})"
      ],
      "text/plain": [
       "<IPython.core.display.Javascript object>"
      ]
     },
     "metadata": {},
     "output_type": "display_data"
    },
    {
     "name": "stdout",
     "output_type": "stream",
     "text": [
      "[jovian] Attempting to save notebook..\u001b[0m\n",
      "[jovian] Updating notebook \"jennifer974/02-insurance-linear-regression\" on https://jovian.ml/\u001b[0m\n",
      "[jovian] Uploading notebook..\u001b[0m\n",
      "[jovian] Committed successfully! https://jovian.ml/jennifer974/02-insurance-linear-regression\u001b[0m\n"
     ]
    },
    {
     "data": {
      "text/plain": [
       "'https://jovian.ml/jennifer974/02-insurance-linear-regression'"
      ]
     },
     "execution_count": 88,
     "metadata": {},
     "output_type": "execute_result"
    }
   ],
   "source": [
    "jovian.commit(project=project_name, environment=None)"
   ]
  },
  {
   "cell_type": "markdown",
   "metadata": {},
   "source": [
    "## Step 4: Train the model to fit the data\n",
    "\n",
    "To train our model, we'll use the same `fit` function explained in the lecture. That's the benefit of defining a generic training loop - you can use it for any problem."
   ]
  },
  {
   "cell_type": "code",
   "execution_count": 61,
   "metadata": {},
   "outputs": [],
   "source": [
    "def evaluate(model, val_loader):\n",
    "    '''This function evaluates model.\n",
    "    \n",
    "    Parameters\n",
    "    ------------\n",
    "    model : class\n",
    "        contains Machine Learning model\n",
    "    \n",
    "    Returns\n",
    "    ------------\n",
    "    model.validation_epoch_end(outputs)\n",
    "        contains results of loss\n",
    "    '''\n",
    "    outputs = [model.validation_step(batch) for batch in val_loader]\n",
    "    return model.validation_epoch_end(outputs)\n",
    "\n",
    "def fit(epochs, lr, model, train_loader, val_loader, opt_func=torch.optim.SGD):\n",
    "    '''This function trains model.\n",
    "    \n",
    "    Parameters\n",
    "    ------------\n",
    "    epochs : int\n",
    "        contains the number of step to train the model\n",
    "    lr : float\n",
    "        contains the learning rate, it's a hyper-parameter that controls how much we are adjusting the weights of our model with respect the loss gradient. \n",
    "    model : class\n",
    "        contains Machine Learning model\n",
    "    train_loader : pyTorch\n",
    "        contains train data\n",
    "    val_loader : pyTorch\n",
    "        contains test data\n",
    "    opt_func : pyTorch\n",
    "        contains optimization function\n",
    "    \n",
    "    Returns\n",
    "    ------------\n",
    "    model.validation_epoch_end(outputs)\n",
    "        contains results of model\n",
    "    '''\n",
    "    history = []\n",
    "    optimizer = opt_func(model.parameters(), lr)\n",
    "    for epoch in range(epochs):\n",
    "        # Training Phase \n",
    "        for batch in train_loader:\n",
    "            loss = model.training_step(batch)\n",
    "            loss.backward()\n",
    "            optimizer.step()\n",
    "            optimizer.zero_grad()\n",
    "        # Validation phase\n",
    "        result = evaluate(model, val_loader)\n",
    "        model.epoch_end(epoch, result, epochs)\n",
    "        history.append(result)\n",
    "    return history"
   ]
  },
  {
   "cell_type": "markdown",
   "metadata": {},
   "source": [
    "I use the `evaluate` function to calculate the loss on the validation set before training."
   ]
  },
  {
   "cell_type": "code",
   "execution_count": 71,
   "metadata": {},
   "outputs": [
    {
     "name": "stdout",
     "output_type": "stream",
     "text": [
      "{'val_loss': 14761.9443359375}\n"
     ]
    }
   ],
   "source": [
    "# Evaluate model\n",
    "result = evaluate(model, val_loader) # Use the the evaluate function\n",
    "print(result)"
   ]
  },
  {
   "cell_type": "markdown",
   "metadata": {},
   "source": [
    "I train the model with different learning rates :\n",
    "- `1e-2`\n",
    "- `1e-3`\n",
    "- `1e-4`\n",
    "- `1e-5`\n",
    "- `1e-6`"
   ]
  },
  {
   "cell_type": "markdown",
   "metadata": {},
   "source": [
    "### Train model with `lr=1e-2`"
   ]
  },
  {
   "cell_type": "code",
   "execution_count": 74,
   "metadata": {},
   "outputs": [
    {
     "name": "stdout",
     "output_type": "stream",
     "text": [
      "Epoch [20], val_loss: 8069.5327\n",
      "Epoch [40], val_loss: 7930.2798\n",
      "Epoch [60], val_loss: 7833.2388\n",
      "Epoch [80], val_loss: 7750.5093\n",
      "Epoch [100], val_loss: 7674.0728\n",
      "Epoch [120], val_loss: 7602.4126\n",
      "Epoch [140], val_loss: 7535.4551\n",
      "Epoch [160], val_loss: 7484.9668\n",
      "Epoch [180], val_loss: 7446.4839\n",
      "Epoch [200], val_loss: 7417.4761\n",
      "Epoch [220], val_loss: 7395.9800\n",
      "Epoch [240], val_loss: 7380.9956\n",
      "Epoch [260], val_loss: 7368.7065\n",
      "Epoch [280], val_loss: 7359.6890\n",
      "Epoch [300], val_loss: 7352.6743\n",
      "Epoch [320], val_loss: 7348.7554\n",
      "Epoch [340], val_loss: 7346.1816\n",
      "Epoch [360], val_loss: 7345.0728\n",
      "Epoch [380], val_loss: 7342.2656\n",
      "Epoch [400], val_loss: 7340.3501\n",
      "Epoch [420], val_loss: 7338.3691\n",
      "Epoch [440], val_loss: 7337.3931\n",
      "Epoch [460], val_loss: 7334.3066\n",
      "Epoch [480], val_loss: 7333.0684\n",
      "Epoch [500], val_loss: 7333.6831\n",
      "Epoch [520], val_loss: 7330.0312\n",
      "Epoch [540], val_loss: 7328.9805\n",
      "Epoch [560], val_loss: 7326.7227\n",
      "Epoch [580], val_loss: 7326.6909\n",
      "Epoch [600], val_loss: 7326.0605\n",
      "Epoch [620], val_loss: 7324.0376\n",
      "Epoch [640], val_loss: 7324.1313\n",
      "Epoch [660], val_loss: 7322.6680\n",
      "Epoch [680], val_loss: 7319.5845\n",
      "Epoch [700], val_loss: 7320.2124\n",
      "Epoch [720], val_loss: 7319.6206\n",
      "Epoch [740], val_loss: 7318.8726\n",
      "Epoch [760], val_loss: 7315.7720\n",
      "Epoch [780], val_loss: 7316.6060\n",
      "Epoch [800], val_loss: 7314.8203\n",
      "Epoch [820], val_loss: 7314.1538\n",
      "Epoch [840], val_loss: 7312.1343\n",
      "Epoch [860], val_loss: 7310.1992\n",
      "Epoch [880], val_loss: 7311.3726\n",
      "Epoch [900], val_loss: 7310.6289\n",
      "Epoch [920], val_loss: 7308.8945\n",
      "Epoch [940], val_loss: 7308.0796\n",
      "Epoch [960], val_loss: 7308.4546\n",
      "Epoch [980], val_loss: 7306.2905\n",
      "Epoch [1000], val_loss: 7305.9321\n"
     ]
    }
   ],
   "source": [
    "# Initialize Insurance Model class\n",
    "model = InsuranceModel()\n",
    "\n",
    "# Define model parameters\n",
    "epochs = 1000\n",
    "lr = 1e-2\n",
    "\n",
    "# Train model\n",
    "history1 = fit(epochs, lr, model, train_loader, val_loader)"
   ]
  },
  {
   "cell_type": "code",
   "execution_count": 78,
   "metadata": {},
   "outputs": [
    {
     "data": {
      "text/plain": [
       "[Parameter containing:\n",
       " tensor([[277.5936, -20.0991, -86.7901,  84.4548,  70.5775, -50.0102]],\n",
       "        requires_grad=True),\n",
       " Parameter containing:\n",
       " tensor([-17.3027], requires_grad=True)]"
      ]
     },
     "execution_count": 78,
     "metadata": {},
     "output_type": "execute_result"
    }
   ],
   "source": [
    "# Check out the weights and biases of the model\n",
    "list(model.parameters())"
   ]
  },
  {
   "cell_type": "code",
   "execution_count": 79,
   "metadata": {},
   "outputs": [
    {
     "name": "stdout",
     "output_type": "stream",
     "text": [
      "{'val_loss': 7305.93212890625}\n"
     ]
    }
   ],
   "source": [
    "# Evaluate model\n",
    "result1 = evaluate(model, val_loader) # Use the the evaluate function\n",
    "print(result1)"
   ]
  },
  {
   "cell_type": "markdown",
   "metadata": {},
   "source": [
    "### Train model with `lr=1e-3`"
   ]
  },
  {
   "cell_type": "code",
   "execution_count": 80,
   "metadata": {},
   "outputs": [
    {
     "name": "stdout",
     "output_type": "stream",
     "text": [
      "Epoch [20], val_loss: 13025.5195\n",
      "Epoch [40], val_loss: 11443.7031\n",
      "Epoch [60], val_loss: 10240.2041\n",
      "Epoch [80], val_loss: 9370.5908\n",
      "Epoch [100], val_loss: 8809.1123\n",
      "Epoch [120], val_loss: 8478.1328\n",
      "Epoch [140], val_loss: 8288.0518\n",
      "Epoch [160], val_loss: 8180.1724\n",
      "Epoch [180], val_loss: 8111.5347\n",
      "Epoch [200], val_loss: 8069.8110\n",
      "Epoch [220], val_loss: 8043.8228\n",
      "Epoch [240], val_loss: 8023.1587\n",
      "Epoch [260], val_loss: 8007.2954\n",
      "Epoch [280], val_loss: 7994.7461\n",
      "Epoch [300], val_loss: 7983.0308\n",
      "Epoch [320], val_loss: 7972.0781\n",
      "Epoch [340], val_loss: 7961.4722\n",
      "Epoch [360], val_loss: 7950.9790\n",
      "Epoch [380], val_loss: 7940.7026\n",
      "Epoch [400], val_loss: 7930.6587\n",
      "Epoch [420], val_loss: 7920.5464\n",
      "Epoch [440], val_loss: 7910.3735\n",
      "Epoch [460], val_loss: 7900.4800\n",
      "Epoch [480], val_loss: 7890.5957\n",
      "Epoch [500], val_loss: 7880.9419\n",
      "Epoch [520], val_loss: 7871.3364\n",
      "Epoch [540], val_loss: 7861.9341\n",
      "Epoch [560], val_loss: 7852.5288\n",
      "Epoch [580], val_loss: 7843.1187\n",
      "Epoch [600], val_loss: 7833.8003\n",
      "Epoch [620], val_loss: 7824.5059\n",
      "Epoch [640], val_loss: 7815.3984\n",
      "Epoch [660], val_loss: 7806.6030\n",
      "Epoch [680], val_loss: 7798.1626\n",
      "Epoch [700], val_loss: 7790.1685\n",
      "Epoch [720], val_loss: 7782.3296\n",
      "Epoch [740], val_loss: 7774.4624\n",
      "Epoch [760], val_loss: 7766.6421\n",
      "Epoch [780], val_loss: 7758.7515\n",
      "Epoch [800], val_loss: 7750.7944\n",
      "Epoch [820], val_loss: 7742.8882\n",
      "Epoch [840], val_loss: 7734.9448\n",
      "Epoch [860], val_loss: 7727.1245\n",
      "Epoch [880], val_loss: 7719.4429\n",
      "Epoch [900], val_loss: 7711.7964\n",
      "Epoch [920], val_loss: 7704.3296\n",
      "Epoch [940], val_loss: 7696.9478\n",
      "Epoch [960], val_loss: 7689.5586\n",
      "Epoch [980], val_loss: 7682.1177\n",
      "Epoch [1000], val_loss: 7674.8911\n"
     ]
    }
   ],
   "source": [
    "# Initialize Insurance Model class\n",
    "model = InsuranceModel()\n",
    "\n",
    "# Define model parameters\n",
    "epochs = 1000\n",
    "lr = 1e-3\n",
    "\n",
    "# Train model\n",
    "history2 = fit(epochs, lr, model, train_loader, val_loader)"
   ]
  },
  {
   "cell_type": "code",
   "execution_count": 81,
   "metadata": {},
   "outputs": [
    {
     "name": "stdout",
     "output_type": "stream",
     "text": [
      "{'val_loss': 7674.89111328125}\n"
     ]
    }
   ],
   "source": [
    "# Evaluate model\n",
    "result2 = evaluate(model, val_loader) # Use the the evaluate function\n",
    "print(result2)"
   ]
  },
  {
   "cell_type": "markdown",
   "metadata": {},
   "source": [
    "### Train model with `lr=1e-4`"
   ]
  },
  {
   "cell_type": "code",
   "execution_count": 82,
   "metadata": {
    "scrolled": true
   },
   "outputs": [
    {
     "name": "stdout",
     "output_type": "stream",
     "text": [
      "Epoch [20], val_loss: 14620.8369\n",
      "Epoch [40], val_loss: 14447.6943\n",
      "Epoch [60], val_loss: 14274.5635\n",
      "Epoch [80], val_loss: 14101.4385\n",
      "Epoch [100], val_loss: 13928.2979\n",
      "Epoch [120], val_loss: 13755.1572\n",
      "Epoch [140], val_loss: 13582.0029\n",
      "Epoch [160], val_loss: 13408.8525\n",
      "Epoch [180], val_loss: 13235.9893\n",
      "Epoch [200], val_loss: 13064.5459\n",
      "Epoch [220], val_loss: 12894.6758\n",
      "Epoch [240], val_loss: 12726.3701\n",
      "Epoch [260], val_loss: 12558.8779\n",
      "Epoch [280], val_loss: 12392.9375\n",
      "Epoch [300], val_loss: 12230.8750\n",
      "Epoch [320], val_loss: 12071.9033\n",
      "Epoch [340], val_loss: 11916.1162\n",
      "Epoch [360], val_loss: 11765.6025\n",
      "Epoch [380], val_loss: 11619.0273\n",
      "Epoch [400], val_loss: 11475.4131\n",
      "Epoch [420], val_loss: 11337.8154\n",
      "Epoch [440], val_loss: 11204.6162\n",
      "Epoch [460], val_loss: 11073.5967\n",
      "Epoch [480], val_loss: 10944.3467\n",
      "Epoch [500], val_loss: 10818.9678\n",
      "Epoch [520], val_loss: 10699.9902\n",
      "Epoch [540], val_loss: 10587.6289\n",
      "Epoch [560], val_loss: 10477.8350\n",
      "Epoch [580], val_loss: 10369.9238\n",
      "Epoch [600], val_loss: 10264.0732\n",
      "Epoch [620], val_loss: 10160.9648\n",
      "Epoch [640], val_loss: 10062.3135\n",
      "Epoch [660], val_loss: 9965.2881\n",
      "Epoch [680], val_loss: 9873.8096\n",
      "Epoch [700], val_loss: 9786.2373\n",
      "Epoch [720], val_loss: 9701.8564\n",
      "Epoch [740], val_loss: 9618.8643\n",
      "Epoch [760], val_loss: 9538.7451\n",
      "Epoch [780], val_loss: 9461.8486\n",
      "Epoch [800], val_loss: 9387.5371\n",
      "Epoch [820], val_loss: 9317.1514\n",
      "Epoch [840], val_loss: 9249.0469\n",
      "Epoch [860], val_loss: 9183.6631\n",
      "Epoch [880], val_loss: 9121.2822\n",
      "Epoch [900], val_loss: 9063.1201\n",
      "Epoch [920], val_loss: 9007.7842\n",
      "Epoch [940], val_loss: 8955.4385\n",
      "Epoch [960], val_loss: 8906.9385\n",
      "Epoch [980], val_loss: 8861.7148\n",
      "Epoch [1000], val_loss: 8819.3262\n"
     ]
    }
   ],
   "source": [
    "# Initialize Insurance Model class\n",
    "model = InsuranceModel()\n",
    "\n",
    "# Define model parameters\n",
    "epochs = 1000\n",
    "lr = 1e-4\n",
    "\n",
    "# Train model\n",
    "history3 = fit(epochs, lr, model, train_loader, val_loader)"
   ]
  },
  {
   "cell_type": "code",
   "execution_count": 83,
   "metadata": {},
   "outputs": [
    {
     "name": "stdout",
     "output_type": "stream",
     "text": [
      "{'val_loss': 8819.326171875}\n"
     ]
    }
   ],
   "source": [
    "# Evaluate model\n",
    "result3 = evaluate(model, val_loader) # Use the the evaluate function\n",
    "print(result3)"
   ]
  },
  {
   "cell_type": "markdown",
   "metadata": {},
   "source": [
    "### Train model with `lr=1e-5`"
   ]
  },
  {
   "cell_type": "code",
   "execution_count": 84,
   "metadata": {
    "scrolled": true
   },
   "outputs": [
    {
     "name": "stdout",
     "output_type": "stream",
     "text": [
      "Epoch [20], val_loss: 14777.1133\n",
      "Epoch [40], val_loss: 14759.7969\n",
      "Epoch [60], val_loss: 14742.4814\n",
      "Epoch [80], val_loss: 14725.1670\n",
      "Epoch [100], val_loss: 14707.8516\n",
      "Epoch [120], val_loss: 14690.5361\n",
      "Epoch [140], val_loss: 14673.2217\n",
      "Epoch [160], val_loss: 14655.9062\n",
      "Epoch [180], val_loss: 14638.5908\n",
      "Epoch [200], val_loss: 14621.2764\n",
      "Epoch [220], val_loss: 14603.9580\n",
      "Epoch [240], val_loss: 14586.6406\n",
      "Epoch [260], val_loss: 14569.3252\n",
      "Epoch [280], val_loss: 14552.0107\n",
      "Epoch [300], val_loss: 14534.6963\n",
      "Epoch [320], val_loss: 14517.3799\n",
      "Epoch [340], val_loss: 14500.0674\n",
      "Epoch [360], val_loss: 14482.7510\n",
      "Epoch [380], val_loss: 14465.4375\n",
      "Epoch [400], val_loss: 14448.1250\n",
      "Epoch [420], val_loss: 14430.8057\n",
      "Epoch [440], val_loss: 14413.4912\n",
      "Epoch [460], val_loss: 14396.1748\n",
      "Epoch [480], val_loss: 14378.8594\n",
      "Epoch [500], val_loss: 14361.5469\n",
      "Epoch [520], val_loss: 14344.2305\n",
      "Epoch [540], val_loss: 14326.9170\n",
      "Epoch [560], val_loss: 14309.6016\n",
      "Epoch [580], val_loss: 14292.2881\n",
      "Epoch [600], val_loss: 14274.9717\n",
      "Epoch [620], val_loss: 14257.6562\n",
      "Epoch [640], val_loss: 14240.3438\n",
      "Epoch [660], val_loss: 14223.0264\n",
      "Epoch [680], val_loss: 14205.7100\n",
      "Epoch [700], val_loss: 14188.3975\n",
      "Epoch [720], val_loss: 14171.0811\n",
      "Epoch [740], val_loss: 14153.7656\n",
      "Epoch [760], val_loss: 14136.4531\n",
      "Epoch [780], val_loss: 14119.1396\n",
      "Epoch [800], val_loss: 14101.8213\n",
      "Epoch [820], val_loss: 14084.5078\n",
      "Epoch [840], val_loss: 14067.1924\n",
      "Epoch [860], val_loss: 14049.8779\n",
      "Epoch [880], val_loss: 14032.5596\n",
      "Epoch [900], val_loss: 14015.2461\n",
      "Epoch [920], val_loss: 13997.9287\n",
      "Epoch [940], val_loss: 13980.6133\n",
      "Epoch [960], val_loss: 13963.2939\n",
      "Epoch [980], val_loss: 13945.9814\n",
      "Epoch [1000], val_loss: 13928.6650\n"
     ]
    }
   ],
   "source": [
    "# Initialize Insurance Model class\n",
    "model = InsuranceModel()\n",
    "\n",
    "# Define model parameters\n",
    "epochs = 1000\n",
    "lr = 1e-5\n",
    "# Train model\n",
    "history4 = fit(epochs, lr, model, train_loader, val_loader)"
   ]
  },
  {
   "cell_type": "code",
   "execution_count": 85,
   "metadata": {},
   "outputs": [
    {
     "name": "stdout",
     "output_type": "stream",
     "text": [
      "{'val_loss': 13928.6650390625}\n"
     ]
    }
   ],
   "source": [
    "# Evaluate model\n",
    "result4 = evaluate(model, val_loader) # Use the the evaluate function\n",
    "print(result4)"
   ]
  },
  {
   "cell_type": "markdown",
   "metadata": {},
   "source": [
    "### Train model with `lr=1e-6`"
   ]
  },
  {
   "cell_type": "code",
   "execution_count": 86,
   "metadata": {
    "scrolled": true
   },
   "outputs": [
    {
     "name": "stdout",
     "output_type": "stream",
     "text": [
      "Epoch [20], val_loss: 14758.9443\n",
      "Epoch [40], val_loss: 14757.2119\n",
      "Epoch [60], val_loss: 14755.4805\n",
      "Epoch [80], val_loss: 14753.7490\n",
      "Epoch [100], val_loss: 14752.0166\n",
      "Epoch [120], val_loss: 14750.2852\n",
      "Epoch [140], val_loss: 14748.5547\n",
      "Epoch [160], val_loss: 14746.8232\n",
      "Epoch [180], val_loss: 14745.0908\n",
      "Epoch [200], val_loss: 14743.3604\n",
      "Epoch [220], val_loss: 14741.6260\n",
      "Epoch [240], val_loss: 14739.8975\n",
      "Epoch [260], val_loss: 14738.1641\n",
      "Epoch [280], val_loss: 14736.4336\n",
      "Epoch [300], val_loss: 14734.7021\n",
      "Epoch [320], val_loss: 14732.9697\n",
      "Epoch [340], val_loss: 14731.2383\n",
      "Epoch [360], val_loss: 14729.5078\n",
      "Epoch [380], val_loss: 14727.7764\n",
      "Epoch [400], val_loss: 14726.0430\n",
      "Epoch [420], val_loss: 14724.3125\n",
      "Epoch [440], val_loss: 14722.5811\n",
      "Epoch [460], val_loss: 14720.8506\n",
      "Epoch [480], val_loss: 14719.1182\n",
      "Epoch [500], val_loss: 14717.3867\n",
      "Epoch [520], val_loss: 14715.6553\n",
      "Epoch [540], val_loss: 14713.9219\n",
      "Epoch [560], val_loss: 14712.1914\n",
      "Epoch [580], val_loss: 14710.4609\n",
      "Epoch [600], val_loss: 14708.7275\n",
      "Epoch [620], val_loss: 14706.9971\n",
      "Epoch [640], val_loss: 14705.2656\n",
      "Epoch [660], val_loss: 14703.5352\n",
      "Epoch [680], val_loss: 14701.8037\n",
      "Epoch [700], val_loss: 14700.0713\n",
      "Epoch [720], val_loss: 14698.3408\n",
      "Epoch [740], val_loss: 14696.6084\n",
      "Epoch [760], val_loss: 14694.8779\n",
      "Epoch [780], val_loss: 14693.1445\n",
      "Epoch [800], val_loss: 14691.4141\n",
      "Epoch [820], val_loss: 14689.6807\n",
      "Epoch [840], val_loss: 14687.9521\n",
      "Epoch [860], val_loss: 14686.2188\n",
      "Epoch [880], val_loss: 14684.4873\n",
      "Epoch [900], val_loss: 14682.7568\n",
      "Epoch [920], val_loss: 14681.0244\n",
      "Epoch [940], val_loss: 14679.2939\n",
      "Epoch [960], val_loss: 14677.5615\n",
      "Epoch [980], val_loss: 14675.8291\n",
      "Epoch [1000], val_loss: 14674.0977\n"
     ]
    }
   ],
   "source": [
    "# Initialize Insurance Model class\n",
    "model = InsuranceModel()\n",
    "\n",
    "# Define model parameters\n",
    "epochs = 1000\n",
    "lr = 1e-6\n",
    "\n",
    "# Train model\n",
    "history5 = fit(epochs, lr, model, train_loader, val_loader)"
   ]
  },
  {
   "cell_type": "code",
   "execution_count": 87,
   "metadata": {},
   "outputs": [
    {
     "name": "stdout",
     "output_type": "stream",
     "text": [
      "{'val_loss': 14674.09765625}\n"
     ]
    }
   ],
   "source": [
    "# Evaluate model\n",
    "result5 = evaluate(model, val_loader) # Use the the evaluate function\n",
    "print(result5)"
   ]
  },
  {
   "cell_type": "markdown",
   "metadata": {},
   "source": [
    "**Q: What is the final validation loss of your model?**"
   ]
  },
  {
   "cell_type": "markdown",
   "metadata": {},
   "source": [
    "The best `l1_loss` is for model with following parameters :\n",
    "- `batch_size` = 32\n",
    "- `epochs` = 1000\n",
    "- `lr` = 1e-2"
   ]
  },
  {
   "cell_type": "code",
   "execution_count": 97,
   "metadata": {},
   "outputs": [
    {
     "data": {
      "text/plain": [
       "7305.93212890625"
      ]
     },
     "execution_count": 97,
     "metadata": {},
     "output_type": "execute_result"
    }
   ],
   "source": [
    "val_loss = list(result1.values())[0]\n",
    "val_loss"
   ]
  },
  {
   "cell_type": "markdown",
   "metadata": {},
   "source": [
    "Let's log the final validation loss to Jovian and commit the notebook"
   ]
  },
  {
   "cell_type": "code",
   "execution_count": 98,
   "metadata": {},
   "outputs": [
    {
     "name": "stdout",
     "output_type": "stream",
     "text": [
      "[jovian] Metrics logged.\u001b[0m\n"
     ]
    }
   ],
   "source": [
    "jovian.log_metrics(val_loss=val_loss)"
   ]
  },
  {
   "cell_type": "code",
   "execution_count": 99,
   "metadata": {},
   "outputs": [
    {
     "data": {
      "application/javascript": [
       "window.require && require([\"base/js/namespace\"],function(Jupyter){Jupyter.notebook.save_checkpoint()})"
      ],
      "text/plain": [
       "<IPython.core.display.Javascript object>"
      ]
     },
     "metadata": {},
     "output_type": "display_data"
    },
    {
     "name": "stdout",
     "output_type": "stream",
     "text": [
      "[jovian] Attempting to save notebook..\u001b[0m\n",
      "[jovian] Updating notebook \"jennifer974/02-insurance-linear-regression\" on https://jovian.ml/\u001b[0m\n",
      "[jovian] Uploading notebook..\u001b[0m\n",
      "[jovian] Attaching records (metrics, hyperparameters, dataset etc.)\u001b[0m\n",
      "[jovian] Committed successfully! https://jovian.ml/jennifer974/02-insurance-linear-regression\u001b[0m\n"
     ]
    },
    {
     "data": {
      "text/plain": [
       "'https://jovian.ml/jennifer974/02-insurance-linear-regression'"
      ]
     },
     "execution_count": 99,
     "metadata": {},
     "output_type": "execute_result"
    }
   ],
   "source": [
    "jovian.commit(project=project_name, environment=None)"
   ]
  },
  {
   "cell_type": "markdown",
   "metadata": {},
   "source": [
    "## Step 5: Make predictions using the trained model\n",
    "\n",
    "I define functions to make predictions on a single input :"
   ]
  },
  {
   "cell_type": "code",
   "execution_count": 100,
   "metadata": {},
   "outputs": [],
   "source": [
    "def predict_single(input, target, model):\n",
    "    inputs = input.unsqueeze(0)\n",
    "    predictions = model(input)               \n",
    "    prediction = predictions[0].detach()\n",
    "    print(\"Input:\", input)\n",
    "    print(\"Target:\", target)\n",
    "    print(\"Prediction:\", prediction)"
   ]
  },
  {
   "cell_type": "code",
   "execution_count": 101,
   "metadata": {},
   "outputs": [
    {
     "name": "stdout",
     "output_type": "stream",
     "text": [
      "Input: tensor([33.0000,  0.0000, 39.2890,  3.0000,  0.0000,  3.0000])\n",
      "Target: tensor([6569.6157])\n",
      "Prediction: tensor(105.2987)\n"
     ]
    }
   ],
   "source": [
    "input, target = val_ds[0]\n",
    "predict_single(input, target, model)"
   ]
  },
  {
   "cell_type": "code",
   "execution_count": 102,
   "metadata": {},
   "outputs": [
    {
     "name": "stdout",
     "output_type": "stream",
     "text": [
      "Input: tensor([64.0000,  0.0000, 27.1539,  0.0000,  1.0000,  1.0000])\n",
      "Target: tensor([32264.0820])\n",
      "Prediction: tensor(143.6450)\n"
     ]
    }
   ],
   "source": [
    "input, target = val_ds[10]\n",
    "predict_single(input, target, model)"
   ]
  },
  {
   "cell_type": "code",
   "execution_count": 103,
   "metadata": {},
   "outputs": [
    {
     "name": "stdout",
     "output_type": "stream",
     "text": [
      "Input: tensor([27.0000,  1.0000, 30.6030,  3.0000,  0.0000,  3.0000])\n",
      "Target: tensor([4686.8184])\n",
      "Prediction: tensor(84.5811)\n"
     ]
    }
   ],
   "source": [
    "input, target = val_ds[23]\n",
    "predict_single(input, target, model)"
   ]
  },
  {
   "cell_type": "markdown",
   "metadata": {},
   "source": [
    "**Conclusion : The results is very bad, I will change hyperparameters (`epochs`, `learning_rate`...) and loss function to improve my results.**"
   ]
  },
  {
   "cell_type": "code",
   "execution_count": null,
   "metadata": {},
   "outputs": [
    {
     "data": {
      "application/javascript": [
       "window.require && require([\"base/js/namespace\"],function(Jupyter){Jupyter.notebook.save_checkpoint()})"
      ],
      "text/plain": [
       "<IPython.core.display.Javascript object>"
      ]
     },
     "metadata": {},
     "output_type": "display_data"
    },
    {
     "name": "stdout",
     "output_type": "stream",
     "text": [
      "[jovian] Attempting to save notebook..\u001b[0m\n",
      "[jovian] Updating notebook \"jennifer974/02-insurance-linear-regression\" on https://jovian.ml/\u001b[0m\n",
      "[jovian] Uploading notebook..\u001b[0m\n",
      "[jovian] Attaching records (metrics, hyperparameters, dataset etc.)\u001b[0m\n",
      "[jovian] Committed successfully! https://jovian.ml/jennifer974/02-insurance-linear-regression\u001b[0m\n"
     ]
    },
    {
     "data": {
      "application/javascript": [
       "window.require && require([\"base/js/namespace\"],function(Jupyter){Jupyter.notebook.save_checkpoint()})"
      ],
      "text/plain": [
       "<IPython.core.display.Javascript object>"
      ]
     },
     "metadata": {},
     "output_type": "display_data"
    },
    {
     "name": "stdout",
     "output_type": "stream",
     "text": [
      "[jovian] Attempting to save notebook..\u001b[0m\n"
     ]
    }
   ],
   "source": [
    "jovian.commit(project=project_name, environment=None)\n",
    "jovian.commit(project=project_name, environment=None) # try again, kaggle fails sometimes"
   ]
  },
  {
   "cell_type": "markdown",
   "metadata": {},
   "source": [
    "## Save my work"
   ]
  },
  {
   "cell_type": "code",
   "execution_count": null,
   "metadata": {},
   "outputs": [
    {
     "data": {
      "application/javascript": [
       "window.require && require([\"base/js/namespace\"],function(Jupyter){Jupyter.notebook.save_checkpoint()})"
      ],
      "text/plain": [
       "<IPython.core.display.Javascript object>"
      ]
     },
     "metadata": {},
     "output_type": "display_data"
    },
    {
     "name": "stdout",
     "output_type": "stream",
     "text": [
      "[jovian] Attempting to save notebook..\u001b[0m\n"
     ]
    }
   ],
   "source": [
    "import jovian\n",
    "jovian.commit()"
   ]
  }
 ],
 "metadata": {
  "kernelspec": {
   "display_name": "Python 3",
   "language": "python",
   "name": "python3"
  },
  "language_info": {
   "codemirror_mode": {
    "name": "ipython",
    "version": 3
   },
   "file_extension": ".py",
   "mimetype": "text/x-python",
   "name": "python",
   "nbconvert_exporter": "python",
   "pygments_lexer": "ipython3",
   "version": "3.7.6"
  }
 },
 "nbformat": 4,
 "nbformat_minor": 4
}
