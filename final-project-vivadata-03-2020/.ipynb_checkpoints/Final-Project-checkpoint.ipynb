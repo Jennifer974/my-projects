{
 "cells": [
  {
   "cell_type": "markdown",
   "metadata": {},
   "source": [
    "<h1> Final Project : CelebVoice : Celebrity Speech Recognition"
   ]
  },
  {
   "cell_type": "markdown",
   "metadata": {},
   "source": [
    "![](https://www.google.com/search?q=logo+the+voice&sxsrf=ACYBGNQ5ZFhNXQAmqQ9-zR_YS-er7LpqEg:1581968193477&tbm=isch&source=iu&ictx=1&fir=mLqThEd35MepjM%253A%252CYKE0JDhJksf_CM%252C_&vet=1&usg=AI4_-kSToQsHm_1mgqT_g4jz61FAlciU1A&sa=X&ved=2ahUKEwiRht_hqtnnAhVFJhoKHRCvBVAQ9QEwBXoECAoQDg#imgrc=mLqThEd35MepjM)"
   ]
  },
  {
   "cell_type": "markdown",
   "metadata": {},
   "source": [
    "<h2> Objective"
   ]
  },
  {
   "cell_type": "markdown",
   "metadata": {},
   "source": [
    "Recognize celebrity speakers from any speech :\n",
    "[Project Plan](https://docs.google.com/presentation/d/16wNe2B3FZuiwzTYpEq4Us9K1lSrWAeuP5wIO_sBCzRY/edit?usp=sharing)\n",
    "\n",
    "I choose this project because I am fascinated by voice assistant as Siri or Alexa and I would like to study voice recognition part.\n",
    "   \n",
    "*Source : Extract from The VoxCeleb Speaker Recognition Challenge (VoxSRC - University of Oxford) :* [VoxCeleb Speaker Recognition Challenge (VoxSRC)](http://www.robots.ox.ac.uk/~vgg/data/voxceleb/competition.html)"
   ]
  },
  {
   "cell_type": "markdown",
   "metadata": {},
   "source": [
    "<h2> Prerequisites"
   ]
  },
  {
   "cell_type": "markdown",
   "metadata": {},
   "source": [
    "- I install LibROSA library, a python package for music and audio analysis : [LibROSA — librosa 0.7.2 documentation](https://librosa.github.io/librosa/)"
   ]
  },
  {
   "cell_type": "code",
   "execution_count": 4,
   "metadata": {},
   "outputs": [
    {
     "name": "stdout",
     "output_type": "stream",
     "text": [
      "Collecting librosa\n",
      "\u001b[?25l  Downloading https://files.pythonhosted.org/packages/77/b5/1817862d64a7c231afd15419d8418ae1f000742cac275e85c74b219cbccb/librosa-0.7.2.tar.gz (1.6MB)\n",
      "\u001b[K     |████████████████████████████████| 1.6MB 3.0MB/s eta 0:00:01\n",
      "\u001b[?25hCollecting audioread>=2.0.0 (from librosa)\n",
      "  Downloading https://files.pythonhosted.org/packages/2e/0b/940ea7861e0e9049f09dcfd72a90c9ae55f697c17c299a323f0148f913d2/audioread-2.1.8.tar.gz\n",
      "Requirement already satisfied: numpy>=1.15.0 in /home/jlenclume/bin/anaconda/lib/python3.7/site-packages (from librosa) (1.17.2)\n",
      "Requirement already satisfied: scipy>=1.0.0 in /home/jlenclume/bin/anaconda/lib/python3.7/site-packages (from librosa) (1.3.1)\n",
      "Requirement already satisfied: scikit-learn!=0.19.0,>=0.14.0 in /home/jlenclume/bin/anaconda/lib/python3.7/site-packages (from librosa) (0.21.3)\n",
      "Requirement already satisfied: joblib>=0.12 in /home/jlenclume/bin/anaconda/lib/python3.7/site-packages (from librosa) (0.13.2)\n",
      "Requirement already satisfied: decorator>=3.0.0 in /home/jlenclume/bin/anaconda/lib/python3.7/site-packages (from librosa) (4.4.0)\n",
      "Requirement already satisfied: six>=1.3 in /home/jlenclume/bin/anaconda/lib/python3.7/site-packages (from librosa) (1.12.0)\n",
      "Collecting resampy>=0.2.2 (from librosa)\n",
      "\u001b[?25l  Downloading https://files.pythonhosted.org/packages/79/75/e22272b9c2185fc8f3af6ce37229708b45e8b855fd4bc38b4d6b040fff65/resampy-0.2.2.tar.gz (323kB)\n",
      "\u001b[K     |████████████████████████████████| 327kB 4.3MB/s eta 0:00:01\n",
      "\u001b[?25hRequirement already satisfied: numba>=0.43.0 in /home/jlenclume/bin/anaconda/lib/python3.7/site-packages (from librosa) (0.45.1)\n",
      "Collecting soundfile>=0.9.0 (from librosa)\n",
      "  Downloading https://files.pythonhosted.org/packages/eb/f2/3cbbbf3b96fb9fa91582c438b574cff3f45b29c772f94c400e2c99ef5db9/SoundFile-0.10.3.post1-py2.py3-none-any.whl\n",
      "Requirement already satisfied: llvmlite>=0.29.0dev0 in /home/jlenclume/bin/anaconda/lib/python3.7/site-packages (from numba>=0.43.0->librosa) (0.29.0)\n",
      "Requirement already satisfied: cffi>=1.0 in /home/jlenclume/bin/anaconda/lib/python3.7/site-packages (from soundfile>=0.9.0->librosa) (1.12.3)\n",
      "Requirement already satisfied: pycparser in /home/jlenclume/bin/anaconda/lib/python3.7/site-packages (from cffi>=1.0->soundfile>=0.9.0->librosa) (2.19)\n",
      "Building wheels for collected packages: librosa, audioread, resampy\n",
      "  Building wheel for librosa (setup.py) ... \u001b[?25ldone\n",
      "\u001b[?25h  Created wheel for librosa: filename=librosa-0.7.2-cp37-none-any.whl size=1612884 sha256=949c627fea401064e8f4a196dc149e4f52a739d217c46a637f26efd53081883b\n",
      "  Stored in directory: /home/jlenclume/.cache/pip/wheels/4c/6e/d7/bb93911540d2d1e44d690a1561871e5b6af82b69e80938abef\n",
      "  Building wheel for audioread (setup.py) ... \u001b[?25ldone\n",
      "\u001b[?25h  Created wheel for audioread: filename=audioread-2.1.8-cp37-none-any.whl size=23093 sha256=6582b6061a0574884162b4b7c95b2281baca97f5915e93402c0856d1eec4d0d0\n",
      "  Stored in directory: /home/jlenclume/.cache/pip/wheels/b9/64/09/0b6417df9d8ba8bc61a7d2553c5cebd714ec169644c88fc012\n",
      "  Building wheel for resampy (setup.py) ... \u001b[?25ldone\n",
      "\u001b[?25h  Created wheel for resampy: filename=resampy-0.2.2-cp37-none-any.whl size=320719 sha256=67130de22831f3e02ee48bac616331a7cddae400ee56f72156bf3500bc58d2e6\n",
      "  Stored in directory: /home/jlenclume/.cache/pip/wheels/fa/c1/56/e0e12c6f7f3d2cdea9712b35136a2d40a7817c6210ec096485\n",
      "Successfully built librosa audioread resampy\n",
      "Installing collected packages: audioread, resampy, soundfile, librosa\n",
      "Successfully installed audioread-2.1.8 librosa-0.7.2 resampy-0.2.2 soundfile-0.10.3.post1\n",
      "Note: you may need to restart the kernel to use updated packages.\n"
     ]
    }
   ],
   "source": [
    "pip install librosa"
   ]
  },
  {
   "cell_type": "markdown",
   "metadata": {},
   "source": [
    "- I install pyAudio library to play and record audio : [PyAudio documentation](https://people.csail.mit.edu/hubert/pyaudio/docs/)"
   ]
  },
  {
   "cell_type": "markdown",
   "metadata": {},
   "source": [
    "- I read documentation on voiceprint to can identify each celebrity voice on my audio files :"
   ]
  },
  {
   "cell_type": "markdown",
   "metadata": {},
   "source": [
    "https://maelfabien.github.io/machinelearning/Speech11/#\n",
    "\n",
    "https://towardsdatascience.com/voice-classification-with-neural-networks-ff90f94358ec\n",
    "\n",
    "http://www.practicalcryptography.com/miscellaneous/machine-learning/guide-mel-frequency-cepstral-coefficients-mfccs/\n",
    "\n",
    "https://deeplylearning.fr/cours-pratiques-deep-learning/reconnaissance-vocale-de-mots-cles/"
   ]
  },
  {
   "cell_type": "markdown",
   "metadata": {},
   "source": [
    "<h2> Import"
   ]
  },
  {
   "cell_type": "markdown",
   "metadata": {},
   "source": [
    "I import all my needed librairies here and I report them for each chapter :"
   ]
  },
  {
   "cell_type": "code",
   "execution_count": 1,
   "metadata": {},
   "outputs": [],
   "source": [
    "#Data Manipulation\n",
    "import os, pandas as pd\n",
    "\n",
    "#Feature extraction\n",
    "import librosa               #Audio library\n",
    "\n",
    "#Data Storage\n",
    "import pickle\n",
    "\n",
    "#Data visualization\n",
    "import matplotlib.pyplot as plt, seaborn as sns"
   ]
  },
  {
   "cell_type": "markdown",
   "metadata": {},
   "source": [
    "<h2> Dataset"
   ]
  },
  {
   "cell_type": "markdown",
   "metadata": {},
   "source": [
    "📥 I dowload the VoxCeleb1 dataset on : [VoxCeleb : A large scale audio-visual dataset of human speech](http://www.robots.ox.ac.uk/~vgg/data/voxceleb/index.html#portfolio) :\n",
    "\n",
    "- I am limited to use the VoxCeleb1 dataset because is lower than which give by the VoxSRC Challenge and my CPU will support it.\n",
    "- It contains 145261 audio files (wav format) extracted from YouTube videos of celebrity interviews : 1251 celebrity speakers\n",
    "- My data is labelised : Using Supervised Machine Learning Model\n",
    "- My targets are discrete values : I am in Classification case and I use Random Forest model (perhaps Deep Learning)"
   ]
  },
  {
   "cell_type": "markdown",
   "metadata": {},
   "source": [
    "`vox1_meta.csv` contains metadata for all the speakers in the dataset : full names, nationality and gender labels. I explore this file to have more informations on my dataset :"
   ]
  },
  {
   "cell_type": "code",
   "execution_count": 2,
   "metadata": {},
   "outputs": [
    {
     "name": "stdout",
     "output_type": "stream",
     "text": [
      "/home/jlenclume/code/Jennifer974/vivadata-student/curriculum/Final-Project\r\n"
     ]
    }
   ],
   "source": [
    "# I verify my path\n",
    "!pwd"
   ]
  },
  {
   "cell_type": "markdown",
   "metadata": {},
   "source": [
    "I define my file path to import `vox1_meta.csv` in a dataframe named `celebrity_speakers_data` :"
   ]
  },
  {
   "cell_type": "code",
   "execution_count": 3,
   "metadata": {},
   "outputs": [],
   "source": [
    "filepath = os.path.join('..', '..', '..', '..', '..', 'Documents', 'Final-Project-data', 'vox1_meta.csv')"
   ]
  },
  {
   "cell_type": "code",
   "execution_count": 4,
   "metadata": {},
   "outputs": [
    {
     "data": {
      "text/plain": [
       "'../../../../../Documents/Final-Project-data/vox1_meta.csv'"
      ]
     },
     "execution_count": 4,
     "metadata": {},
     "output_type": "execute_result"
    }
   ],
   "source": [
    "filepath"
   ]
  },
  {
   "cell_type": "code",
   "execution_count": 5,
   "metadata": {},
   "outputs": [],
   "source": [
    "celebrity_speakers_data = pd.read_csv(filepath, delim_whitespace=True)"
   ]
  },
  {
   "cell_type": "markdown",
   "metadata": {},
   "source": [
    "<h3> 1. Celebrity speakers : Data Exploration"
   ]
  },
  {
   "cell_type": "markdown",
   "metadata": {},
   "source": [
    "My dataframe has 1251 rows corresponding to number of celebrity speakers interviewed and 5 columns corresponding to :\n",
    "\n",
    "1. `VoxCeleb1_ID` : celebrity speakers ID\n",
    "2. `VGGFace1_ID` : celebrity speakers names\n",
    "3. `Gender` : celebrity speakers gender\n",
    "4. `Nationality` : celebrity speakers nationality\n",
    "5. `Set` : if celebrity will use for train (dev) or test model part"
   ]
  },
  {
   "cell_type": "code",
   "execution_count": 6,
   "metadata": {
    "scrolled": true
   },
   "outputs": [
    {
     "data": {
      "text/plain": [
       "(1251, 5)"
      ]
     },
     "execution_count": 6,
     "metadata": {},
     "output_type": "execute_result"
    }
   ],
   "source": [
    "celebrity_speakers_data.shape"
   ]
  },
  {
   "cell_type": "code",
   "execution_count": 7,
   "metadata": {
    "scrolled": true
   },
   "outputs": [
    {
     "data": {
      "text/html": [
       "<div>\n",
       "<style scoped>\n",
       "    .dataframe tbody tr th:only-of-type {\n",
       "        vertical-align: middle;\n",
       "    }\n",
       "\n",
       "    .dataframe tbody tr th {\n",
       "        vertical-align: top;\n",
       "    }\n",
       "\n",
       "    .dataframe thead th {\n",
       "        text-align: right;\n",
       "    }\n",
       "</style>\n",
       "<table border=\"1\" class=\"dataframe\">\n",
       "  <thead>\n",
       "    <tr style=\"text-align: right;\">\n",
       "      <th></th>\n",
       "      <th>VoxCeleb1_ID</th>\n",
       "      <th>VGGFace1_ID</th>\n",
       "      <th>Gender</th>\n",
       "      <th>Nationality</th>\n",
       "      <th>Set</th>\n",
       "    </tr>\n",
       "  </thead>\n",
       "  <tbody>\n",
       "    <tr>\n",
       "      <td>0</td>\n",
       "      <td>id10001</td>\n",
       "      <td>A.J._Buckley</td>\n",
       "      <td>m</td>\n",
       "      <td>Ireland</td>\n",
       "      <td>dev</td>\n",
       "    </tr>\n",
       "    <tr>\n",
       "      <td>1</td>\n",
       "      <td>id10002</td>\n",
       "      <td>A.R._Rahman</td>\n",
       "      <td>m</td>\n",
       "      <td>India</td>\n",
       "      <td>dev</td>\n",
       "    </tr>\n",
       "    <tr>\n",
       "      <td>2</td>\n",
       "      <td>id10003</td>\n",
       "      <td>Aamir_Khan</td>\n",
       "      <td>m</td>\n",
       "      <td>India</td>\n",
       "      <td>dev</td>\n",
       "    </tr>\n",
       "    <tr>\n",
       "      <td>3</td>\n",
       "      <td>id10004</td>\n",
       "      <td>Aaron_Tveit</td>\n",
       "      <td>m</td>\n",
       "      <td>USA</td>\n",
       "      <td>dev</td>\n",
       "    </tr>\n",
       "    <tr>\n",
       "      <td>4</td>\n",
       "      <td>id10005</td>\n",
       "      <td>Aaron_Yoo</td>\n",
       "      <td>m</td>\n",
       "      <td>USA</td>\n",
       "      <td>dev</td>\n",
       "    </tr>\n",
       "  </tbody>\n",
       "</table>\n",
       "</div>"
      ],
      "text/plain": [
       "  VoxCeleb1_ID   VGGFace1_ID Gender Nationality  Set\n",
       "0      id10001  A.J._Buckley      m     Ireland  dev\n",
       "1      id10002   A.R._Rahman      m       India  dev\n",
       "2      id10003    Aamir_Khan      m       India  dev\n",
       "3      id10004   Aaron_Tveit      m         USA  dev\n",
       "4      id10005     Aaron_Yoo      m         USA  dev"
      ]
     },
     "execution_count": 7,
     "metadata": {},
     "output_type": "execute_result"
    }
   ],
   "source": [
    "celebrity_speakers_data.head()"
   ]
  },
  {
   "cell_type": "markdown",
   "metadata": {},
   "source": [
    "All my dataframe is string type and it seems there aren't `NAN` values :"
   ]
  },
  {
   "cell_type": "code",
   "execution_count": 80,
   "metadata": {},
   "outputs": [
    {
     "name": "stdout",
     "output_type": "stream",
     "text": [
      "<class 'pandas.core.frame.DataFrame'>\n",
      "RangeIndex: 1251 entries, 0 to 1250\n",
      "Data columns (total 5 columns):\n",
      "VoxCeleb1_ID    1251 non-null object\n",
      "VGGFace1_ID     1251 non-null object\n",
      "Gender          1251 non-null object\n",
      "Nationality     1251 non-null object\n",
      "Set             1251 non-null object\n",
      "dtypes: object(5)\n",
      "memory usage: 49.0+ KB\n"
     ]
    }
   ],
   "source": [
    "celebrity_speakers_data.info()"
   ]
  },
  {
   "cell_type": "markdown",
   "metadata": {},
   "source": [
    "<h3> 2. Data Cleaning"
   ]
  },
  {
   "cell_type": "markdown",
   "metadata": {},
   "source": [
    "I verify again if there aren't `NAN` values to can exploit and visualize my data :"
   ]
  },
  {
   "cell_type": "code",
   "execution_count": 8,
   "metadata": {},
   "outputs": [
    {
     "data": {
      "text/plain": [
       "VoxCeleb1_ID    0\n",
       "VGGFace1_ID     0\n",
       "Gender          0\n",
       "Nationality     0\n",
       "Set             0\n",
       "dtype: int64"
      ]
     },
     "execution_count": 8,
     "metadata": {},
     "output_type": "execute_result"
    }
   ],
   "source": [
    "celebrity_speakers_data.isna().sum()"
   ]
  },
  {
   "cell_type": "markdown",
   "metadata": {},
   "source": [
    "I control duplicates :"
   ]
  },
  {
   "cell_type": "code",
   "execution_count": 9,
   "metadata": {},
   "outputs": [
    {
     "data": {
      "text/plain": [
       "0"
      ]
     },
     "execution_count": 9,
     "metadata": {},
     "output_type": "execute_result"
    }
   ],
   "source": [
    "celebrity_speakers_data.duplicated().sum()"
   ]
  },
  {
   "cell_type": "markdown",
   "metadata": {},
   "source": [
    "My data is cleaned but I have to change my columns because I need numerical values to plot data :"
   ]
  },
  {
   "cell_type": "code",
   "execution_count": 11,
   "metadata": {},
   "outputs": [
    {
     "data": {
      "text/html": [
       "<div>\n",
       "<style scoped>\n",
       "    .dataframe tbody tr th:only-of-type {\n",
       "        vertical-align: middle;\n",
       "    }\n",
       "\n",
       "    .dataframe tbody tr th {\n",
       "        vertical-align: top;\n",
       "    }\n",
       "\n",
       "    .dataframe thead th {\n",
       "        text-align: right;\n",
       "    }\n",
       "</style>\n",
       "<table border=\"1\" class=\"dataframe\">\n",
       "  <thead>\n",
       "    <tr style=\"text-align: right;\">\n",
       "      <th></th>\n",
       "      <th>VoxCeleb1_ID</th>\n",
       "      <th>VGGFace1_ID</th>\n",
       "      <th>Gender</th>\n",
       "      <th>Nationality</th>\n",
       "      <th>Set</th>\n",
       "    </tr>\n",
       "  </thead>\n",
       "  <tbody>\n",
       "    <tr>\n",
       "      <td>0</td>\n",
       "      <td>id10001</td>\n",
       "      <td>A.J._Buckley</td>\n",
       "      <td>m</td>\n",
       "      <td>Ireland</td>\n",
       "      <td>dev</td>\n",
       "    </tr>\n",
       "    <tr>\n",
       "      <td>1</td>\n",
       "      <td>id10002</td>\n",
       "      <td>A.R._Rahman</td>\n",
       "      <td>m</td>\n",
       "      <td>India</td>\n",
       "      <td>dev</td>\n",
       "    </tr>\n",
       "    <tr>\n",
       "      <td>2</td>\n",
       "      <td>id10003</td>\n",
       "      <td>Aamir_Khan</td>\n",
       "      <td>m</td>\n",
       "      <td>India</td>\n",
       "      <td>dev</td>\n",
       "    </tr>\n",
       "    <tr>\n",
       "      <td>3</td>\n",
       "      <td>id10004</td>\n",
       "      <td>Aaron_Tveit</td>\n",
       "      <td>m</td>\n",
       "      <td>USA</td>\n",
       "      <td>dev</td>\n",
       "    </tr>\n",
       "    <tr>\n",
       "      <td>4</td>\n",
       "      <td>id10005</td>\n",
       "      <td>Aaron_Yoo</td>\n",
       "      <td>m</td>\n",
       "      <td>USA</td>\n",
       "      <td>dev</td>\n",
       "    </tr>\n",
       "  </tbody>\n",
       "</table>\n",
       "</div>"
      ],
      "text/plain": [
       "  VoxCeleb1_ID   VGGFace1_ID Gender Nationality  Set\n",
       "0      id10001  A.J._Buckley      m     Ireland  dev\n",
       "1      id10002   A.R._Rahman      m       India  dev\n",
       "2      id10003    Aamir_Khan      m       India  dev\n",
       "3      id10004   Aaron_Tveit      m         USA  dev\n",
       "4      id10005     Aaron_Yoo      m         USA  dev"
      ]
     },
     "execution_count": 11,
     "metadata": {},
     "output_type": "execute_result"
    }
   ],
   "source": [
    "celebrity_speakers_data.head()"
   ]
  },
  {
   "cell_type": "markdown",
   "metadata": {},
   "source": [
    "<h3> 3. Data Analysis"
   ]
  },
  {
   "cell_type": "markdown",
   "metadata": {},
   "source": [
    "I plot dataset repartition between dev and test :"
   ]
  },
  {
   "cell_type": "code",
   "execution_count": 19,
   "metadata": {
    "scrolled": true
   },
   "outputs": [
    {
     "data": {
      "image/png": "[encoded data removed]",
      "text/plain": [
       "<Figure size 576x432 with 1 Axes>"
      ]
     },
     "metadata": {},
     "output_type": "display_data"
    }
   ],
   "source": [
    "plt.figure(figsize=(8,6))\n",
    "\n",
    "textprops={'color': 'w', 'size': 12, 'weight': 'bold'}             #Text property\n",
    "labels = ['Dev', 'Test']                                           #Dataset part label\n",
    "\n",
    "plt.pie(x=celebrity_speakers_data['Set'].value_counts(),\n",
    "        labels=labels,\n",
    "        autopct='%1.1f%%',                                         #Labels proportion\n",
    "        pctdistance=.5, \n",
    "        labeldistance=.7, \n",
    "        textprops=textprops)                                       #Text property\n",
    "\n",
    "plt.title('Repartition of celebrity speakers by dataset part',     #Diagram title\n",
    "          fontdict={'size': 14, 'fontweight': 'bold'})\n",
    "\n",
    "plt.legend(loc='lower right')                                      #Legend location\n",
    "\n",
    "plt.show()"
   ]
  },
  {
   "cell_type": "markdown",
   "metadata": {},
   "source": [
    "I use `get_dummies` function to transform my different values into numerical values :"
   ]
  },
  {
   "cell_type": "code",
   "execution_count": 10,
   "metadata": {
    "scrolled": false
   },
   "outputs": [
    {
     "data": {
      "text/plain": [
       "m    690\n",
       "f    561\n",
       "Name: Gender, dtype: int64"
      ]
     },
     "execution_count": 10,
     "metadata": {},
     "output_type": "execute_result"
    }
   ],
   "source": [
    "celebrity_speakers_data['Gender'].value_counts()"
   ]
  },
  {
   "cell_type": "code",
   "execution_count": 11,
   "metadata": {},
   "outputs": [],
   "source": [
    "celebrity_speakers_data['Gender'] = pd.get_dummies(celebrity_speakers_data['Gender'], prefix='Gender', drop_first=True)"
   ]
  },
  {
   "cell_type": "markdown",
   "metadata": {},
   "source": [
    "For the column `Gender` : 1 corresponding to male gender and 0 is for female gender"
   ]
  },
  {
   "cell_type": "code",
   "execution_count": 12,
   "metadata": {},
   "outputs": [
    {
     "data": {
      "text/html": [
       "<div>\n",
       "<style scoped>\n",
       "    .dataframe tbody tr th:only-of-type {\n",
       "        vertical-align: middle;\n",
       "    }\n",
       "\n",
       "    .dataframe tbody tr th {\n",
       "        vertical-align: top;\n",
       "    }\n",
       "\n",
       "    .dataframe thead th {\n",
       "        text-align: right;\n",
       "    }\n",
       "</style>\n",
       "<table border=\"1\" class=\"dataframe\">\n",
       "  <thead>\n",
       "    <tr style=\"text-align: right;\">\n",
       "      <th></th>\n",
       "      <th>VoxCeleb1_ID</th>\n",
       "      <th>VGGFace1_ID</th>\n",
       "      <th>Gender</th>\n",
       "      <th>Nationality</th>\n",
       "      <th>Set</th>\n",
       "    </tr>\n",
       "  </thead>\n",
       "  <tbody>\n",
       "    <tr>\n",
       "      <td>0</td>\n",
       "      <td>id10001</td>\n",
       "      <td>A.J._Buckley</td>\n",
       "      <td>1</td>\n",
       "      <td>Ireland</td>\n",
       "      <td>dev</td>\n",
       "    </tr>\n",
       "    <tr>\n",
       "      <td>1</td>\n",
       "      <td>id10002</td>\n",
       "      <td>A.R._Rahman</td>\n",
       "      <td>1</td>\n",
       "      <td>India</td>\n",
       "      <td>dev</td>\n",
       "    </tr>\n",
       "    <tr>\n",
       "      <td>2</td>\n",
       "      <td>id10003</td>\n",
       "      <td>Aamir_Khan</td>\n",
       "      <td>1</td>\n",
       "      <td>India</td>\n",
       "      <td>dev</td>\n",
       "    </tr>\n",
       "    <tr>\n",
       "      <td>3</td>\n",
       "      <td>id10004</td>\n",
       "      <td>Aaron_Tveit</td>\n",
       "      <td>1</td>\n",
       "      <td>USA</td>\n",
       "      <td>dev</td>\n",
       "    </tr>\n",
       "    <tr>\n",
       "      <td>4</td>\n",
       "      <td>id10005</td>\n",
       "      <td>Aaron_Yoo</td>\n",
       "      <td>1</td>\n",
       "      <td>USA</td>\n",
       "      <td>dev</td>\n",
       "    </tr>\n",
       "  </tbody>\n",
       "</table>\n",
       "</div>"
      ],
      "text/plain": [
       "  VoxCeleb1_ID   VGGFace1_ID  Gender Nationality  Set\n",
       "0      id10001  A.J._Buckley       1     Ireland  dev\n",
       "1      id10002   A.R._Rahman       1       India  dev\n",
       "2      id10003    Aamir_Khan       1       India  dev\n",
       "3      id10004   Aaron_Tveit       1         USA  dev\n",
       "4      id10005     Aaron_Yoo       1         USA  dev"
      ]
     },
     "execution_count": 12,
     "metadata": {},
     "output_type": "execute_result"
    }
   ],
   "source": [
    "celebrity_speakers_data.head()"
   ]
  },
  {
   "cell_type": "code",
   "execution_count": 15,
   "metadata": {},
   "outputs": [
    {
     "data": {
      "image/png": "[encoded data removed]",
      "text/plain": [
       "<Figure size 576x432 with 1 Axes>"
      ]
     },
     "metadata": {},
     "output_type": "display_data"
    }
   ],
   "source": [
    "plt.figure(figsize=(8,6))\n",
    "\n",
    "textprops={'color': 'w', 'size': 12, 'weight': 'bold'}                      #Text property\n",
    "labels = ['Male', 'Female']                                                 #Gender labels\n",
    "\n",
    "plt.pie(x=celebrity_speakers_data['Gender'].value_counts(), \n",
    "        labels=labels, \n",
    "        autopct='%1.1f%%',                                                  #Labels proportion\n",
    "        pctdistance=.5, \n",
    "        labeldistance=.7, \n",
    "        textprops=textprops)                                                #Text property\n",
    "\n",
    "plt.title('Repartition of celebrity speakers gender in VoxCeleb1 dataset',  #Diagram title\n",
    "          fontdict={'size': 14, 'fontweight' : 'bold'})  \n",
    "\n",
    "plt.legend(loc='lower right')                                               #Legend location\n",
    "\n",
    "plt.show()"
   ]
  },
  {
   "cell_type": "markdown",
   "metadata": {},
   "source": [
    "There is more and less the same gender repartition for celebrity speakers."
   ]
  },
  {
   "cell_type": "markdown",
   "metadata": {},
   "source": [
    "I plot nationality repartition for celebrity speakers : American and Englishman are majority."
   ]
  },
  {
   "cell_type": "code",
   "execution_count": 16,
   "metadata": {},
   "outputs": [
    {
     "data": {
      "image/png": "[encoded data removed]",
      "text/plain": [
       "<Figure size 864x432 with 1 Axes>"
      ]
     },
     "metadata": {
      "needs_background": "light"
     },
     "output_type": "display_data"
    }
   ],
   "source": [
    "plt.figure(figsize=(12, 6))\n",
    "\n",
    "plt.title('Repartition of celebrity speakers nationality', fontweight=\"bold\", size=14)  #Diagram title\n",
    "\n",
    "sns.countplot(x='Nationality',\n",
    "              data=celebrity_speakers_data,\n",
    "              order=celebrity_speakers_data['Nationality'].value_counts().index)\n",
    "\n",
    "plt.xticks(rotation=90)                                                                 #abscissa label positioning\n",
    "\n",
    "plt.show()"
   ]
  },
  {
   "cell_type": "markdown",
   "metadata": {},
   "source": [
    "I choose American and Englishman speakers to train my model and reduce time calculation : 1014 celebrity speakers is selected :"
   ]
  },
  {
   "cell_type": "code",
   "execution_count": 25,
   "metadata": {},
   "outputs": [
    {
     "data": {
      "text/html": [
       "<div>\n",
       "<style scoped>\n",
       "    .dataframe tbody tr th:only-of-type {\n",
       "        vertical-align: middle;\n",
       "    }\n",
       "\n",
       "    .dataframe tbody tr th {\n",
       "        vertical-align: top;\n",
       "    }\n",
       "\n",
       "    .dataframe thead th {\n",
       "        text-align: right;\n",
       "    }\n",
       "</style>\n",
       "<table border=\"1\" class=\"dataframe\">\n",
       "  <thead>\n",
       "    <tr style=\"text-align: right;\">\n",
       "      <th></th>\n",
       "      <th>VoxCeleb1_ID</th>\n",
       "      <th>VGGFace1_ID</th>\n",
       "      <th>Gender</th>\n",
       "      <th>Nationality</th>\n",
       "      <th>Set</th>\n",
       "    </tr>\n",
       "  </thead>\n",
       "  <tbody>\n",
       "    <tr>\n",
       "      <td>3</td>\n",
       "      <td>id10004</td>\n",
       "      <td>Aaron_Tveit</td>\n",
       "      <td>1</td>\n",
       "      <td>USA</td>\n",
       "      <td>dev</td>\n",
       "    </tr>\n",
       "    <tr>\n",
       "      <td>4</td>\n",
       "      <td>id10005</td>\n",
       "      <td>Aaron_Yoo</td>\n",
       "      <td>1</td>\n",
       "      <td>USA</td>\n",
       "      <td>dev</td>\n",
       "    </tr>\n",
       "    <tr>\n",
       "      <td>6</td>\n",
       "      <td>id10007</td>\n",
       "      <td>Abigail_Breslin</td>\n",
       "      <td>0</td>\n",
       "      <td>USA</td>\n",
       "      <td>dev</td>\n",
       "    </tr>\n",
       "    <tr>\n",
       "      <td>7</td>\n",
       "      <td>id10008</td>\n",
       "      <td>Abigail_Spencer</td>\n",
       "      <td>0</td>\n",
       "      <td>USA</td>\n",
       "      <td>dev</td>\n",
       "    </tr>\n",
       "    <tr>\n",
       "      <td>9</td>\n",
       "      <td>id10010</td>\n",
       "      <td>Adam_Brody</td>\n",
       "      <td>1</td>\n",
       "      <td>USA</td>\n",
       "      <td>dev</td>\n",
       "    </tr>\n",
       "  </tbody>\n",
       "</table>\n",
       "</div>"
      ],
      "text/plain": [
       "  VoxCeleb1_ID      VGGFace1_ID  Gender Nationality  Set\n",
       "3      id10004      Aaron_Tveit       1         USA  dev\n",
       "4      id10005        Aaron_Yoo       1         USA  dev\n",
       "6      id10007  Abigail_Breslin       0         USA  dev\n",
       "7      id10008  Abigail_Spencer       0         USA  dev\n",
       "9      id10010       Adam_Brody       1         USA  dev"
      ]
     },
     "execution_count": 25,
     "metadata": {},
     "output_type": "execute_result"
    }
   ],
   "source": [
    "celebrity_speakers_data_limited = celebrity_speakers_data.loc[(celebrity_speakers_data['Nationality'] == 'USA') | (celebrity_speakers_data['Nationality'] == 'UK')]\n",
    "celebrity_speakers_data_limited.head()"
   ]
  },
  {
   "cell_type": "code",
   "execution_count": 26,
   "metadata": {},
   "outputs": [
    {
     "data": {
      "text/plain": [
       "(1014, 5)"
      ]
     },
     "execution_count": 26,
     "metadata": {},
     "output_type": "execute_result"
    }
   ],
   "source": [
    "celebrity_speakers_data_limited.shape"
   ]
  },
  {
   "cell_type": "markdown",
   "metadata": {},
   "source": [
    "I use `get_dummies` function to transform `Nationality` column into numerical values : 1 for American and 0 for Englishman :"
   ]
  },
  {
   "cell_type": "code",
   "execution_count": 45,
   "metadata": {},
   "outputs": [
    {
     "name": "stderr",
     "output_type": "stream",
     "text": [
      "/home/jlenclume/bin/anaconda/lib/python3.7/site-packages/ipykernel_launcher.py:1: SettingWithCopyWarning: \n",
      "A value is trying to be set on a copy of a slice from a DataFrame.\n",
      "Try using .loc[row_indexer,col_indexer] = value instead\n",
      "\n",
      "See the caveats in the documentation: http://pandas.pydata.org/pandas-docs/stable/user_guide/indexing.html#returning-a-view-versus-a-copy\n",
      "  \"\"\"Entry point for launching an IPython kernel.\n"
     ]
    }
   ],
   "source": [
    "celebrity_speakers_data_limited['Nationality'] = pd.get_dummies(celebrity_speakers_data_limited['Nationality'], drop_first=True, prefix='Nationality')"
   ]
  },
  {
   "cell_type": "code",
   "execution_count": 46,
   "metadata": {},
   "outputs": [
    {
     "data": {
      "text/html": [
       "<div>\n",
       "<style scoped>\n",
       "    .dataframe tbody tr th:only-of-type {\n",
       "        vertical-align: middle;\n",
       "    }\n",
       "\n",
       "    .dataframe tbody tr th {\n",
       "        vertical-align: top;\n",
       "    }\n",
       "\n",
       "    .dataframe thead th {\n",
       "        text-align: right;\n",
       "    }\n",
       "</style>\n",
       "<table border=\"1\" class=\"dataframe\">\n",
       "  <thead>\n",
       "    <tr style=\"text-align: right;\">\n",
       "      <th></th>\n",
       "      <th>VoxCeleb1_ID</th>\n",
       "      <th>VGGFace1_ID</th>\n",
       "      <th>Gender</th>\n",
       "      <th>Nationality</th>\n",
       "      <th>Set</th>\n",
       "    </tr>\n",
       "  </thead>\n",
       "  <tbody>\n",
       "    <tr>\n",
       "      <td>3</td>\n",
       "      <td>id10004</td>\n",
       "      <td>Aaron_Tveit</td>\n",
       "      <td>1</td>\n",
       "      <td>1</td>\n",
       "      <td>dev</td>\n",
       "    </tr>\n",
       "    <tr>\n",
       "      <td>4</td>\n",
       "      <td>id10005</td>\n",
       "      <td>Aaron_Yoo</td>\n",
       "      <td>1</td>\n",
       "      <td>1</td>\n",
       "      <td>dev</td>\n",
       "    </tr>\n",
       "    <tr>\n",
       "      <td>6</td>\n",
       "      <td>id10007</td>\n",
       "      <td>Abigail_Breslin</td>\n",
       "      <td>0</td>\n",
       "      <td>1</td>\n",
       "      <td>dev</td>\n",
       "    </tr>\n",
       "    <tr>\n",
       "      <td>7</td>\n",
       "      <td>id10008</td>\n",
       "      <td>Abigail_Spencer</td>\n",
       "      <td>0</td>\n",
       "      <td>1</td>\n",
       "      <td>dev</td>\n",
       "    </tr>\n",
       "    <tr>\n",
       "      <td>9</td>\n",
       "      <td>id10010</td>\n",
       "      <td>Adam_Brody</td>\n",
       "      <td>1</td>\n",
       "      <td>1</td>\n",
       "      <td>dev</td>\n",
       "    </tr>\n",
       "  </tbody>\n",
       "</table>\n",
       "</div>"
      ],
      "text/plain": [
       "  VoxCeleb1_ID      VGGFace1_ID  Gender  Nationality  Set\n",
       "3      id10004      Aaron_Tveit       1            1  dev\n",
       "4      id10005        Aaron_Yoo       1            1  dev\n",
       "6      id10007  Abigail_Breslin       0            1  dev\n",
       "7      id10008  Abigail_Spencer       0            1  dev\n",
       "9      id10010       Adam_Brody       1            1  dev"
      ]
     },
     "execution_count": 46,
     "metadata": {},
     "output_type": "execute_result"
    }
   ],
   "source": [
    "celebrity_speakers_data_limited.head()"
   ]
  },
  {
   "cell_type": "code",
   "execution_count": 47,
   "metadata": {},
   "outputs": [
    {
     "data": {
      "text/plain": [
       "1    799\n",
       "0    215\n",
       "Name: Nationality, dtype: int64"
      ]
     },
     "execution_count": 47,
     "metadata": {},
     "output_type": "execute_result"
    }
   ],
   "source": [
    "celebrity_speakers_data_limited['Nationality'].value_counts()"
   ]
  },
  {
   "cell_type": "markdown",
   "metadata": {},
   "source": [
    "<h3> A revoir"
   ]
  },
  {
   "cell_type": "markdown",
   "metadata": {},
   "source": [
    "For `Nationality`, I decide to keep USA, UK and I create a new nationality named **Rest_of_world** because they is in minority :"
   ]
  },
  {
   "cell_type": "code",
   "execution_count": 29,
   "metadata": {},
   "outputs": [
    {
     "data": {
      "text/plain": [
       "array(['Ireland', 'India', 'USA', 'Australia', 'Canada', 'UK', 'Norway',\n",
       "       'Italy', 'Sudan', 'Mexico', 'China', 'Switzerland', 'Guyana',\n",
       "       'Philippines', 'New_Zealand', 'Germany', 'Portugal', 'Netherlands',\n",
       "       'Spain', 'France', 'Pakistan', 'Croatia', 'South_Korea', 'Sweden',\n",
       "       'Russia', 'Poland', 'Sri_Lanka', 'Singapore', 'Chile', 'Israel',\n",
       "       'Brazil', 'Trinidad_and_Tobago', 'Denmark', 'Austria',\n",
       "       'South_Africa', 'Iran'], dtype=object)"
      ]
     },
     "execution_count": 29,
     "metadata": {},
     "output_type": "execute_result"
    }
   ],
   "source": [
    "celebrity_speakers_data['Nationality'].unique()"
   ]
  },
  {
   "cell_type": "code",
   "execution_count": 18,
   "metadata": {},
   "outputs": [],
   "source": [
    "nat_bool = (celebrity_speakers_data['Nationality'] != 'USA') & (celebrity_speakers_data['Nationality'] != 'UK')"
   ]
  },
  {
   "cell_type": "code",
   "execution_count": 22,
   "metadata": {},
   "outputs": [
    {
     "data": {
      "text/plain": [
       "0       Rest_of_world\n",
       "1       Rest_of_world\n",
       "2       Rest_of_world\n",
       "5       Rest_of_world\n",
       "8       Rest_of_world\n",
       "            ...      \n",
       "1211    Rest_of_world\n",
       "1214    Rest_of_world\n",
       "1226    Rest_of_world\n",
       "1236    Rest_of_world\n",
       "1239    Rest_of_world\n",
       "Name: Nationality, Length: 237, dtype: object"
      ]
     },
     "execution_count": 22,
     "metadata": {},
     "output_type": "execute_result"
    }
   ],
   "source": [
    "celebrity_speakers_data.loc[nat_bool].Nationality.apply(lambda x: 'Rest_of_world')"
   ]
  },
  {
   "cell_type": "code",
   "execution_count": 24,
   "metadata": {},
   "outputs": [],
   "source": [
    "def replace_nationality(nationality):\n",
    "    '''\n",
    "    \n",
    "    '''\n",
    "    \n",
    "    if nationality != 'USA' and nationality != 'UK':\n",
    "        return 'Rest_of_world'"
   ]
  },
  {
   "cell_type": "code",
   "execution_count": 23,
   "metadata": {},
   "outputs": [
    {
     "data": {
      "text/html": [
       "<div>\n",
       "<style scoped>\n",
       "    .dataframe tbody tr th:only-of-type {\n",
       "        vertical-align: middle;\n",
       "    }\n",
       "\n",
       "    .dataframe tbody tr th {\n",
       "        vertical-align: top;\n",
       "    }\n",
       "\n",
       "    .dataframe thead th {\n",
       "        text-align: right;\n",
       "    }\n",
       "</style>\n",
       "<table border=\"1\" class=\"dataframe\">\n",
       "  <thead>\n",
       "    <tr style=\"text-align: right;\">\n",
       "      <th></th>\n",
       "      <th>VoxCeleb1_ID</th>\n",
       "      <th>VGGFace1_ID</th>\n",
       "      <th>Gender</th>\n",
       "      <th>Nationality</th>\n",
       "      <th>Set</th>\n",
       "    </tr>\n",
       "  </thead>\n",
       "  <tbody>\n",
       "    <tr>\n",
       "      <td>0</td>\n",
       "      <td>id10001</td>\n",
       "      <td>A.J._Buckley</td>\n",
       "      <td>1</td>\n",
       "      <td>Ireland</td>\n",
       "      <td>dev</td>\n",
       "    </tr>\n",
       "    <tr>\n",
       "      <td>1</td>\n",
       "      <td>id10002</td>\n",
       "      <td>A.R._Rahman</td>\n",
       "      <td>1</td>\n",
       "      <td>India</td>\n",
       "      <td>dev</td>\n",
       "    </tr>\n",
       "    <tr>\n",
       "      <td>2</td>\n",
       "      <td>id10003</td>\n",
       "      <td>Aamir_Khan</td>\n",
       "      <td>1</td>\n",
       "      <td>India</td>\n",
       "      <td>dev</td>\n",
       "    </tr>\n",
       "    <tr>\n",
       "      <td>3</td>\n",
       "      <td>id10004</td>\n",
       "      <td>Aaron_Tveit</td>\n",
       "      <td>1</td>\n",
       "      <td>USA</td>\n",
       "      <td>dev</td>\n",
       "    </tr>\n",
       "    <tr>\n",
       "      <td>4</td>\n",
       "      <td>id10005</td>\n",
       "      <td>Aaron_Yoo</td>\n",
       "      <td>1</td>\n",
       "      <td>USA</td>\n",
       "      <td>dev</td>\n",
       "    </tr>\n",
       "    <tr>\n",
       "      <td>...</td>\n",
       "      <td>...</td>\n",
       "      <td>...</td>\n",
       "      <td>...</td>\n",
       "      <td>...</td>\n",
       "      <td>...</td>\n",
       "    </tr>\n",
       "    <tr>\n",
       "      <td>1246</td>\n",
       "      <td>id11247</td>\n",
       "      <td>Zachary_Levi</td>\n",
       "      <td>1</td>\n",
       "      <td>USA</td>\n",
       "      <td>dev</td>\n",
       "    </tr>\n",
       "    <tr>\n",
       "      <td>1247</td>\n",
       "      <td>id11248</td>\n",
       "      <td>Zachary_Quinto</td>\n",
       "      <td>1</td>\n",
       "      <td>USA</td>\n",
       "      <td>dev</td>\n",
       "    </tr>\n",
       "    <tr>\n",
       "      <td>1248</td>\n",
       "      <td>id11249</td>\n",
       "      <td>Zack_Snyder</td>\n",
       "      <td>1</td>\n",
       "      <td>USA</td>\n",
       "      <td>dev</td>\n",
       "    </tr>\n",
       "    <tr>\n",
       "      <td>1249</td>\n",
       "      <td>id11250</td>\n",
       "      <td>Zoe_Saldana</td>\n",
       "      <td>0</td>\n",
       "      <td>USA</td>\n",
       "      <td>dev</td>\n",
       "    </tr>\n",
       "    <tr>\n",
       "      <td>1250</td>\n",
       "      <td>id11251</td>\n",
       "      <td>Zulay_Henao</td>\n",
       "      <td>0</td>\n",
       "      <td>USA</td>\n",
       "      <td>dev</td>\n",
       "    </tr>\n",
       "  </tbody>\n",
       "</table>\n",
       "<p>1251 rows × 5 columns</p>\n",
       "</div>"
      ],
      "text/plain": [
       "     VoxCeleb1_ID     VGGFace1_ID  Gender Nationality  Set\n",
       "0         id10001    A.J._Buckley       1     Ireland  dev\n",
       "1         id10002     A.R._Rahman       1       India  dev\n",
       "2         id10003      Aamir_Khan       1       India  dev\n",
       "3         id10004     Aaron_Tveit       1         USA  dev\n",
       "4         id10005       Aaron_Yoo       1         USA  dev\n",
       "...           ...             ...     ...         ...  ...\n",
       "1246      id11247    Zachary_Levi       1         USA  dev\n",
       "1247      id11248  Zachary_Quinto       1         USA  dev\n",
       "1248      id11249     Zack_Snyder       1         USA  dev\n",
       "1249      id11250     Zoe_Saldana       0         USA  dev\n",
       "1250      id11251     Zulay_Henao       0         USA  dev\n",
       "\n",
       "[1251 rows x 5 columns]"
      ]
     },
     "execution_count": 23,
     "metadata": {},
     "output_type": "execute_result"
    }
   ],
   "source": [
    "celebrity_speakers_data"
   ]
  },
  {
   "cell_type": "code",
   "execution_count": 12,
   "metadata": {},
   "outputs": [
    {
     "data": {
      "text/html": [
       "<div>\n",
       "<style scoped>\n",
       "    .dataframe tbody tr th:only-of-type {\n",
       "        vertical-align: middle;\n",
       "    }\n",
       "\n",
       "    .dataframe tbody tr th {\n",
       "        vertical-align: top;\n",
       "    }\n",
       "\n",
       "    .dataframe thead th {\n",
       "        text-align: right;\n",
       "    }\n",
       "</style>\n",
       "<table border=\"1\" class=\"dataframe\">\n",
       "  <thead>\n",
       "    <tr style=\"text-align: right;\">\n",
       "      <th></th>\n",
       "      <th>VoxCeleb1_ID</th>\n",
       "      <th>VGGFace1_ID</th>\n",
       "      <th>Gender</th>\n",
       "      <th>Nationality</th>\n",
       "      <th>Set</th>\n",
       "    </tr>\n",
       "  </thead>\n",
       "  <tbody>\n",
       "    <tr>\n",
       "      <td>0</td>\n",
       "      <td>id10001</td>\n",
       "      <td>A.J._Buckley</td>\n",
       "      <td>1</td>\n",
       "      <td>Ireland</td>\n",
       "      <td>dev</td>\n",
       "    </tr>\n",
       "    <tr>\n",
       "      <td>1</td>\n",
       "      <td>id10002</td>\n",
       "      <td>A.R._Rahman</td>\n",
       "      <td>1</td>\n",
       "      <td>India</td>\n",
       "      <td>dev</td>\n",
       "    </tr>\n",
       "    <tr>\n",
       "      <td>2</td>\n",
       "      <td>id10003</td>\n",
       "      <td>Aamir_Khan</td>\n",
       "      <td>1</td>\n",
       "      <td>India</td>\n",
       "      <td>dev</td>\n",
       "    </tr>\n",
       "    <tr>\n",
       "      <td>3</td>\n",
       "      <td>id10004</td>\n",
       "      <td>Aaron_Tveit</td>\n",
       "      <td>1</td>\n",
       "      <td>USA</td>\n",
       "      <td>dev</td>\n",
       "    </tr>\n",
       "    <tr>\n",
       "      <td>4</td>\n",
       "      <td>id10005</td>\n",
       "      <td>Aaron_Yoo</td>\n",
       "      <td>1</td>\n",
       "      <td>USA</td>\n",
       "      <td>dev</td>\n",
       "    </tr>\n",
       "    <tr>\n",
       "      <td>...</td>\n",
       "      <td>...</td>\n",
       "      <td>...</td>\n",
       "      <td>...</td>\n",
       "      <td>...</td>\n",
       "      <td>...</td>\n",
       "    </tr>\n",
       "    <tr>\n",
       "      <td>1246</td>\n",
       "      <td>id11247</td>\n",
       "      <td>Zachary_Levi</td>\n",
       "      <td>1</td>\n",
       "      <td>USA</td>\n",
       "      <td>dev</td>\n",
       "    </tr>\n",
       "    <tr>\n",
       "      <td>1247</td>\n",
       "      <td>id11248</td>\n",
       "      <td>Zachary_Quinto</td>\n",
       "      <td>1</td>\n",
       "      <td>USA</td>\n",
       "      <td>dev</td>\n",
       "    </tr>\n",
       "    <tr>\n",
       "      <td>1248</td>\n",
       "      <td>id11249</td>\n",
       "      <td>Zack_Snyder</td>\n",
       "      <td>1</td>\n",
       "      <td>USA</td>\n",
       "      <td>dev</td>\n",
       "    </tr>\n",
       "    <tr>\n",
       "      <td>1249</td>\n",
       "      <td>id11250</td>\n",
       "      <td>Zoe_Saldana</td>\n",
       "      <td>0</td>\n",
       "      <td>USA</td>\n",
       "      <td>dev</td>\n",
       "    </tr>\n",
       "    <tr>\n",
       "      <td>1250</td>\n",
       "      <td>id11251</td>\n",
       "      <td>Zulay_Henao</td>\n",
       "      <td>0</td>\n",
       "      <td>USA</td>\n",
       "      <td>dev</td>\n",
       "    </tr>\n",
       "  </tbody>\n",
       "</table>\n",
       "<p>1036 rows × 5 columns</p>\n",
       "</div>"
      ],
      "text/plain": [
       "     VoxCeleb1_ID     VGGFace1_ID  Gender Nationality  Set\n",
       "0         id10001    A.J._Buckley       1     Ireland  dev\n",
       "1         id10002     A.R._Rahman       1       India  dev\n",
       "2         id10003      Aamir_Khan       1       India  dev\n",
       "3         id10004     Aaron_Tveit       1         USA  dev\n",
       "4         id10005       Aaron_Yoo       1         USA  dev\n",
       "...           ...             ...     ...         ...  ...\n",
       "1246      id11247    Zachary_Levi       1         USA  dev\n",
       "1247      id11248  Zachary_Quinto       1         USA  dev\n",
       "1248      id11249     Zack_Snyder       1         USA  dev\n",
       "1249      id11250     Zoe_Saldana       0         USA  dev\n",
       "1250      id11251     Zulay_Henao       0         USA  dev\n",
       "\n",
       "[1036 rows x 5 columns]"
      ]
     },
     "execution_count": 12,
     "metadata": {},
     "output_type": "execute_result"
    }
   ],
   "source": [
    "celebrity_speakers_data.loc[celebrity_speakers_data['Nationality'] != 'UK']"
   ]
  },
  {
   "cell_type": "code",
   "execution_count": 13,
   "metadata": {},
   "outputs": [
    {
     "data": {
      "text/html": [
       "<div>\n",
       "<style scoped>\n",
       "    .dataframe tbody tr th:only-of-type {\n",
       "        vertical-align: middle;\n",
       "    }\n",
       "\n",
       "    .dataframe tbody tr th {\n",
       "        vertical-align: top;\n",
       "    }\n",
       "\n",
       "    .dataframe thead th {\n",
       "        text-align: right;\n",
       "    }\n",
       "</style>\n",
       "<table border=\"1\" class=\"dataframe\">\n",
       "  <thead>\n",
       "    <tr style=\"text-align: right;\">\n",
       "      <th></th>\n",
       "      <th>VoxCeleb1_ID</th>\n",
       "      <th>VGGFace1_ID</th>\n",
       "      <th>Gender</th>\n",
       "      <th>Nationality</th>\n",
       "      <th>Set</th>\n",
       "    </tr>\n",
       "  </thead>\n",
       "  <tbody>\n",
       "    <tr>\n",
       "      <td>0</td>\n",
       "      <td>id10001</td>\n",
       "      <td>A.J._Buckley</td>\n",
       "      <td>1</td>\n",
       "      <td>Ireland</td>\n",
       "      <td>dev</td>\n",
       "    </tr>\n",
       "    <tr>\n",
       "      <td>1</td>\n",
       "      <td>id10002</td>\n",
       "      <td>A.R._Rahman</td>\n",
       "      <td>1</td>\n",
       "      <td>India</td>\n",
       "      <td>dev</td>\n",
       "    </tr>\n",
       "    <tr>\n",
       "      <td>2</td>\n",
       "      <td>id10003</td>\n",
       "      <td>Aamir_Khan</td>\n",
       "      <td>1</td>\n",
       "      <td>India</td>\n",
       "      <td>dev</td>\n",
       "    </tr>\n",
       "    <tr>\n",
       "      <td>5</td>\n",
       "      <td>id10006</td>\n",
       "      <td>Abbie_Cornish</td>\n",
       "      <td>0</td>\n",
       "      <td>Australia</td>\n",
       "      <td>dev</td>\n",
       "    </tr>\n",
       "    <tr>\n",
       "      <td>8</td>\n",
       "      <td>id10009</td>\n",
       "      <td>Adam_Beach</td>\n",
       "      <td>1</td>\n",
       "      <td>Canada</td>\n",
       "      <td>dev</td>\n",
       "    </tr>\n",
       "    <tr>\n",
       "      <td>...</td>\n",
       "      <td>...</td>\n",
       "      <td>...</td>\n",
       "      <td>...</td>\n",
       "      <td>...</td>\n",
       "      <td>...</td>\n",
       "    </tr>\n",
       "    <tr>\n",
       "      <td>1226</td>\n",
       "      <td>id11227</td>\n",
       "      <td>Will_Arnett</td>\n",
       "      <td>1</td>\n",
       "      <td>Canada</td>\n",
       "      <td>dev</td>\n",
       "    </tr>\n",
       "    <tr>\n",
       "      <td>1228</td>\n",
       "      <td>id11229</td>\n",
       "      <td>Will_Mellor</td>\n",
       "      <td>1</td>\n",
       "      <td>UK</td>\n",
       "      <td>dev</td>\n",
       "    </tr>\n",
       "    <tr>\n",
       "      <td>1229</td>\n",
       "      <td>id11230</td>\n",
       "      <td>Will_Poulter</td>\n",
       "      <td>1</td>\n",
       "      <td>UK</td>\n",
       "      <td>dev</td>\n",
       "    </tr>\n",
       "    <tr>\n",
       "      <td>1236</td>\n",
       "      <td>id11237</td>\n",
       "      <td>Wim_Wenders</td>\n",
       "      <td>1</td>\n",
       "      <td>Germany</td>\n",
       "      <td>dev</td>\n",
       "    </tr>\n",
       "    <tr>\n",
       "      <td>1239</td>\n",
       "      <td>id11240</td>\n",
       "      <td>Xavier_Samuel</td>\n",
       "      <td>1</td>\n",
       "      <td>Australia</td>\n",
       "      <td>dev</td>\n",
       "    </tr>\n",
       "  </tbody>\n",
       "</table>\n",
       "<p>452 rows × 5 columns</p>\n",
       "</div>"
      ],
      "text/plain": [
       "     VoxCeleb1_ID    VGGFace1_ID  Gender Nationality  Set\n",
       "0         id10001   A.J._Buckley       1     Ireland  dev\n",
       "1         id10002    A.R._Rahman       1       India  dev\n",
       "2         id10003     Aamir_Khan       1       India  dev\n",
       "5         id10006  Abbie_Cornish       0   Australia  dev\n",
       "8         id10009     Adam_Beach       1      Canada  dev\n",
       "...           ...            ...     ...         ...  ...\n",
       "1226      id11227    Will_Arnett       1      Canada  dev\n",
       "1228      id11229    Will_Mellor       1          UK  dev\n",
       "1229      id11230   Will_Poulter       1          UK  dev\n",
       "1236      id11237    Wim_Wenders       1     Germany  dev\n",
       "1239      id11240  Xavier_Samuel       1   Australia  dev\n",
       "\n",
       "[452 rows x 5 columns]"
      ]
     },
     "execution_count": 13,
     "metadata": {},
     "output_type": "execute_result"
    }
   ],
   "source": [
    "celebrity_speakers_data.loc[celebrity_speakers_data['Nationality'] != 'USA']"
   ]
  },
  {
   "cell_type": "code",
   "execution_count": 85,
   "metadata": {},
   "outputs": [
    {
     "data": {
      "text/html": [
       "<div>\n",
       "<style scoped>\n",
       "    .dataframe tbody tr th:only-of-type {\n",
       "        vertical-align: middle;\n",
       "    }\n",
       "\n",
       "    .dataframe tbody tr th {\n",
       "        vertical-align: top;\n",
       "    }\n",
       "\n",
       "    .dataframe thead th {\n",
       "        text-align: right;\n",
       "    }\n",
       "</style>\n",
       "<table border=\"1\" class=\"dataframe\">\n",
       "  <thead>\n",
       "    <tr style=\"text-align: right;\">\n",
       "      <th></th>\n",
       "      <th>VoxCeleb1_ID</th>\n",
       "      <th>VGGFace1_ID</th>\n",
       "      <th>Gender</th>\n",
       "      <th>Nationality</th>\n",
       "      <th>Set</th>\n",
       "    </tr>\n",
       "  </thead>\n",
       "  <tbody>\n",
       "    <tr>\n",
       "      <td>0</td>\n",
       "      <td>id10001</td>\n",
       "      <td>A.J._Buckley</td>\n",
       "      <td>1</td>\n",
       "      <td>Rest_of_world</td>\n",
       "      <td>dev</td>\n",
       "    </tr>\n",
       "    <tr>\n",
       "      <td>1</td>\n",
       "      <td>id10002</td>\n",
       "      <td>A.R._Rahman</td>\n",
       "      <td>1</td>\n",
       "      <td>Rest_of_world</td>\n",
       "      <td>dev</td>\n",
       "    </tr>\n",
       "    <tr>\n",
       "      <td>2</td>\n",
       "      <td>id10003</td>\n",
       "      <td>Aamir_Khan</td>\n",
       "      <td>1</td>\n",
       "      <td>Rest_of_world</td>\n",
       "      <td>dev</td>\n",
       "    </tr>\n",
       "    <tr>\n",
       "      <td>3</td>\n",
       "      <td>id10004</td>\n",
       "      <td>Aaron_Tveit</td>\n",
       "      <td>1</td>\n",
       "      <td>Rest_of_world</td>\n",
       "      <td>dev</td>\n",
       "    </tr>\n",
       "    <tr>\n",
       "      <td>4</td>\n",
       "      <td>id10005</td>\n",
       "      <td>Aaron_Yoo</td>\n",
       "      <td>1</td>\n",
       "      <td>Rest_of_world</td>\n",
       "      <td>dev</td>\n",
       "    </tr>\n",
       "  </tbody>\n",
       "</table>\n",
       "</div>"
      ],
      "text/plain": [
       "  VoxCeleb1_ID   VGGFace1_ID  Gender    Nationality  Set\n",
       "0      id10001  A.J._Buckley       1  Rest_of_world  dev\n",
       "1      id10002   A.R._Rahman       1  Rest_of_world  dev\n",
       "2      id10003    Aamir_Khan       1  Rest_of_world  dev\n",
       "3      id10004   Aaron_Tveit       1  Rest_of_world  dev\n",
       "4      id10005     Aaron_Yoo       1  Rest_of_world  dev"
      ]
     },
     "execution_count": 85,
     "metadata": {},
     "output_type": "execute_result"
    }
   ],
   "source": [
    "celebrity_speakers_data.head()"
   ]
  },
  {
   "cell_type": "code",
   "execution_count": 111,
   "metadata": {},
   "outputs": [
    {
     "data": {
      "text/plain": [
       "USA                    799\n",
       "UK                     215\n",
       "Canada                  54\n",
       "Australia               37\n",
       "India                   26\n",
       "Norway                  20\n",
       "Ireland                 18\n",
       "Germany                  9\n",
       "New_Zealand              8\n",
       "Italy                    8\n",
       "Mexico                   7\n",
       "Sweden                   5\n",
       "Russia                   4\n",
       "Spain                    4\n",
       "Chile                    3\n",
       "Switzerland              3\n",
       "Croatia                  3\n",
       "Denmark                  3\n",
       "Philippines              3\n",
       "Netherlands              3\n",
       "Poland                   2\n",
       "Portugal                 2\n",
       "China                    2\n",
       "South_Africa             1\n",
       "France                   1\n",
       "Brazil                   1\n",
       "Austria                  1\n",
       "Sudan                    1\n",
       "Pakistan                 1\n",
       "Iran                     1\n",
       "Guyana                   1\n",
       "South_Korea              1\n",
       "Sri_Lanka                1\n",
       "Singapore                1\n",
       "Trinidad_and_Tobago      1\n",
       "Israel                   1\n",
       "Name: Nationality, dtype: int64"
      ]
     },
     "execution_count": 111,
     "metadata": {},
     "output_type": "execute_result"
    }
   ],
   "source": [
    "celebrity_speakers_data['Nationality'].value_counts()"
   ]
  },
  {
   "cell_type": "markdown",
   "metadata": {},
   "source": [
    "I save my `celebrity_speakers_data_limited` dataframe in a pickle file `celebrity_speakers_data_limited` to can use it later:"
   ]
  },
  {
   "cell_type": "code",
   "execution_count": 27,
   "metadata": {},
   "outputs": [
    {
     "name": "stdout",
     "output_type": "stream",
     "text": [
      "/home/jlenclume/code/Jennifer974/vivadata-student/curriculum/Final-Project\r\n"
     ]
    }
   ],
   "source": [
    "!pwd"
   ]
  },
  {
   "cell_type": "code",
   "execution_count": 30,
   "metadata": {},
   "outputs": [],
   "source": [
    "filepath_celebrity_data = os.path.join('..', '..', 'data', 'final-project', 'celebrity_speakers_data_limited.pkl')"
   ]
  },
  {
   "cell_type": "code",
   "execution_count": 48,
   "metadata": {},
   "outputs": [],
   "source": [
    "with open(filepath_celebrity_data, 'wb') as f:\n",
    "    pickle.dump(celebrity_speakers_data_limited, f)"
   ]
  },
  {
   "cell_type": "code",
   "execution_count": 49,
   "metadata": {
    "scrolled": true
   },
   "outputs": [
    {
     "name": "stdout",
     "output_type": "stream",
     "text": [
      "celebrity_speakers_data_limited.pkl\r\n"
     ]
    }
   ],
   "source": [
    "ls ../../data/final-project"
   ]
  },
  {
   "cell_type": "markdown",
   "metadata": {},
   "source": [
    "<h2> 1. Audio files Treatment"
   ]
  },
  {
   "cell_type": "markdown",
   "metadata": {},
   "source": [
    "<h3> 1.1 Data Comprehension"
   ]
  },
  {
   "cell_type": "markdown",
   "metadata": {},
   "source": [
    "I import my pickle `celebrity_speakers_data_limited.pkl` to use my dataframe :"
   ]
  },
  {
   "cell_type": "code",
   "execution_count": 7,
   "metadata": {},
   "outputs": [],
   "source": [
    "filepath_celebrity_data = os.path.join('..', '..', 'data', 'final-project', 'celebrity_speakers_data_limited.pkl')"
   ]
  },
  {
   "cell_type": "code",
   "execution_count": 8,
   "metadata": {},
   "outputs": [],
   "source": [
    "with open(filepath_celebrity_data, 'rb') as f:\n",
    "    celebrity_speakers_data_limited = pickle.load(f)"
   ]
  },
  {
   "cell_type": "code",
   "execution_count": 9,
   "metadata": {},
   "outputs": [
    {
     "data": {
      "text/html": [
       "<div>\n",
       "<style scoped>\n",
       "    .dataframe tbody tr th:only-of-type {\n",
       "        vertical-align: middle;\n",
       "    }\n",
       "\n",
       "    .dataframe tbody tr th {\n",
       "        vertical-align: top;\n",
       "    }\n",
       "\n",
       "    .dataframe thead th {\n",
       "        text-align: right;\n",
       "    }\n",
       "</style>\n",
       "<table border=\"1\" class=\"dataframe\">\n",
       "  <thead>\n",
       "    <tr style=\"text-align: right;\">\n",
       "      <th></th>\n",
       "      <th>VoxCeleb1_ID</th>\n",
       "      <th>VGGFace1_ID</th>\n",
       "      <th>Gender</th>\n",
       "      <th>Nationality</th>\n",
       "      <th>Set</th>\n",
       "    </tr>\n",
       "  </thead>\n",
       "  <tbody>\n",
       "    <tr>\n",
       "      <td>3</td>\n",
       "      <td>id10004</td>\n",
       "      <td>Aaron_Tveit</td>\n",
       "      <td>1</td>\n",
       "      <td>1</td>\n",
       "      <td>dev</td>\n",
       "    </tr>\n",
       "    <tr>\n",
       "      <td>4</td>\n",
       "      <td>id10005</td>\n",
       "      <td>Aaron_Yoo</td>\n",
       "      <td>1</td>\n",
       "      <td>1</td>\n",
       "      <td>dev</td>\n",
       "    </tr>\n",
       "    <tr>\n",
       "      <td>6</td>\n",
       "      <td>id10007</td>\n",
       "      <td>Abigail_Breslin</td>\n",
       "      <td>0</td>\n",
       "      <td>1</td>\n",
       "      <td>dev</td>\n",
       "    </tr>\n",
       "    <tr>\n",
       "      <td>7</td>\n",
       "      <td>id10008</td>\n",
       "      <td>Abigail_Spencer</td>\n",
       "      <td>0</td>\n",
       "      <td>1</td>\n",
       "      <td>dev</td>\n",
       "    </tr>\n",
       "    <tr>\n",
       "      <td>9</td>\n",
       "      <td>id10010</td>\n",
       "      <td>Adam_Brody</td>\n",
       "      <td>1</td>\n",
       "      <td>1</td>\n",
       "      <td>dev</td>\n",
       "    </tr>\n",
       "  </tbody>\n",
       "</table>\n",
       "</div>"
      ],
      "text/plain": [
       "  VoxCeleb1_ID      VGGFace1_ID  Gender  Nationality  Set\n",
       "3      id10004      Aaron_Tveit       1            1  dev\n",
       "4      id10005        Aaron_Yoo       1            1  dev\n",
       "6      id10007  Abigail_Breslin       0            1  dev\n",
       "7      id10008  Abigail_Spencer       0            1  dev\n",
       "9      id10010       Adam_Brody       1            1  dev"
      ]
     },
     "execution_count": 9,
     "metadata": {},
     "output_type": "execute_result"
    }
   ],
   "source": [
    "celebrity_speakers_data_limited.head()"
   ]
  },
  {
   "cell_type": "markdown",
   "metadata": {},
   "source": [
    "Now, I explore my audio files dataset :"
   ]
  },
  {
   "cell_type": "code",
   "execution_count": 38,
   "metadata": {},
   "outputs": [
    {
     "name": "stdout",
     "output_type": "stream",
     "text": [
      "/home/jlenclume/code/Jennifer974/vivadata-student/curriculum/Final-Project\r\n"
     ]
    }
   ],
   "source": [
    "!pwd"
   ]
  },
  {
   "cell_type": "code",
   "execution_count": 52,
   "metadata": {},
   "outputs": [
    {
     "name": "stdout",
     "output_type": "stream",
     "text": [
      "\u001b[0m\u001b[34;42mid10001\u001b[0m/  \u001b[34;42mid10153\u001b[0m/  \u001b[34;42mid10345\u001b[0m/  \u001b[34;42mid10497\u001b[0m/  \u001b[34;42mid10649\u001b[0m/  \u001b[34;42mid10801\u001b[0m/  \u001b[34;42mid10953\u001b[0m/  \u001b[34;42mid11105\u001b[0m/\r\n",
      "\u001b[34;42mid10002\u001b[0m/  \u001b[34;42mid10154\u001b[0m/  \u001b[34;42mid10346\u001b[0m/  \u001b[34;42mid10498\u001b[0m/  \u001b[34;42mid10650\u001b[0m/  \u001b[34;42mid10802\u001b[0m/  \u001b[34;42mid10954\u001b[0m/  \u001b[34;42mid11106\u001b[0m/\r\n",
      "\u001b[34;42mid10003\u001b[0m/  \u001b[34;42mid10155\u001b[0m/  \u001b[34;42mid10347\u001b[0m/  \u001b[34;42mid10499\u001b[0m/  \u001b[34;42mid10651\u001b[0m/  \u001b[34;42mid10803\u001b[0m/  \u001b[34;42mid10955\u001b[0m/  \u001b[34;42mid11107\u001b[0m/\r\n",
      "\u001b[34;42mid10004\u001b[0m/  \u001b[34;42mid10156\u001b[0m/  \u001b[34;42mid10348\u001b[0m/  \u001b[34;42mid10500\u001b[0m/  \u001b[34;42mid10652\u001b[0m/  \u001b[34;42mid10804\u001b[0m/  \u001b[34;42mid10956\u001b[0m/  \u001b[34;42mid11108\u001b[0m/\r\n",
      "\u001b[34;42mid10005\u001b[0m/  \u001b[34;42mid10157\u001b[0m/  \u001b[34;42mid10349\u001b[0m/  \u001b[34;42mid10501\u001b[0m/  \u001b[34;42mid10653\u001b[0m/  \u001b[34;42mid10805\u001b[0m/  \u001b[34;42mid10957\u001b[0m/  \u001b[34;42mid11109\u001b[0m/\r\n",
      "\u001b[34;42mid10006\u001b[0m/  \u001b[34;42mid10158\u001b[0m/  \u001b[34;42mid10350\u001b[0m/  \u001b[34;42mid10502\u001b[0m/  \u001b[34;42mid10654\u001b[0m/  \u001b[34;42mid10806\u001b[0m/  \u001b[34;42mid10958\u001b[0m/  \u001b[34;42mid11110\u001b[0m/\r\n",
      "\u001b[34;42mid10007\u001b[0m/  \u001b[34;42mid10159\u001b[0m/  \u001b[34;42mid10351\u001b[0m/  \u001b[34;42mid10503\u001b[0m/  \u001b[34;42mid10655\u001b[0m/  \u001b[34;42mid10807\u001b[0m/  \u001b[34;42mid10959\u001b[0m/  \u001b[34;42mid11111\u001b[0m/\r\n",
      "\u001b[34;42mid10008\u001b[0m/  \u001b[34;42mid10160\u001b[0m/  \u001b[34;42mid10352\u001b[0m/  \u001b[34;42mid10504\u001b[0m/  \u001b[34;42mid10656\u001b[0m/  \u001b[34;42mid10808\u001b[0m/  \u001b[34;42mid10960\u001b[0m/  \u001b[34;42mid11112\u001b[0m/\r\n",
      "\u001b[34;42mid10009\u001b[0m/  \u001b[34;42mid10161\u001b[0m/  \u001b[34;42mid10353\u001b[0m/  \u001b[34;42mid10505\u001b[0m/  \u001b[34;42mid10657\u001b[0m/  \u001b[34;42mid10809\u001b[0m/  \u001b[34;42mid10961\u001b[0m/  \u001b[34;42mid11113\u001b[0m/\r\n",
      "\u001b[34;42mid10010\u001b[0m/  \u001b[34;42mid10162\u001b[0m/  \u001b[34;42mid10354\u001b[0m/  \u001b[34;42mid10506\u001b[0m/  \u001b[34;42mid10658\u001b[0m/  \u001b[34;42mid10810\u001b[0m/  \u001b[34;42mid10962\u001b[0m/  \u001b[34;42mid11114\u001b[0m/\r\n",
      "\u001b[34;42mid10011\u001b[0m/  \u001b[34;42mid10163\u001b[0m/  \u001b[34;42mid10355\u001b[0m/  \u001b[34;42mid10507\u001b[0m/  \u001b[34;42mid10659\u001b[0m/  \u001b[34;42mid10811\u001b[0m/  \u001b[34;42mid10963\u001b[0m/  \u001b[34;42mid11115\u001b[0m/\r\n",
      "\u001b[34;42mid10012\u001b[0m/  \u001b[34;42mid10164\u001b[0m/  \u001b[34;42mid10356\u001b[0m/  \u001b[34;42mid10508\u001b[0m/  \u001b[34;42mid10660\u001b[0m/  \u001b[34;42mid10812\u001b[0m/  \u001b[34;42mid10964\u001b[0m/  \u001b[34;42mid11116\u001b[0m/\r\n",
      "\u001b[34;42mid10013\u001b[0m/  \u001b[34;42mid10165\u001b[0m/  \u001b[34;42mid10357\u001b[0m/  \u001b[34;42mid10509\u001b[0m/  \u001b[34;42mid10661\u001b[0m/  \u001b[34;42mid10813\u001b[0m/  \u001b[34;42mid10965\u001b[0m/  \u001b[34;42mid11117\u001b[0m/\r\n",
      "\u001b[34;42mid10014\u001b[0m/  \u001b[34;42mid10166\u001b[0m/  \u001b[34;42mid10358\u001b[0m/  \u001b[34;42mid10510\u001b[0m/  \u001b[34;42mid10662\u001b[0m/  \u001b[34;42mid10814\u001b[0m/  \u001b[34;42mid10966\u001b[0m/  \u001b[34;42mid11118\u001b[0m/\r\n",
      "\u001b[34;42mid10015\u001b[0m/  \u001b[34;42mid10167\u001b[0m/  \u001b[34;42mid10359\u001b[0m/  \u001b[34;42mid10511\u001b[0m/  \u001b[34;42mid10663\u001b[0m/  \u001b[34;42mid10815\u001b[0m/  \u001b[34;42mid10967\u001b[0m/  \u001b[34;42mid11119\u001b[0m/\r\n",
      "\u001b[34;42mid10016\u001b[0m/  \u001b[34;42mid10168\u001b[0m/  \u001b[34;42mid10360\u001b[0m/  \u001b[34;42mid10512\u001b[0m/  \u001b[34;42mid10664\u001b[0m/  \u001b[34;42mid10816\u001b[0m/  \u001b[34;42mid10968\u001b[0m/  \u001b[34;42mid11120\u001b[0m/\r\n",
      "\u001b[34;42mid10017\u001b[0m/  \u001b[34;42mid10169\u001b[0m/  \u001b[34;42mid10361\u001b[0m/  \u001b[34;42mid10513\u001b[0m/  \u001b[34;42mid10665\u001b[0m/  \u001b[34;42mid10817\u001b[0m/  \u001b[34;42mid10969\u001b[0m/  \u001b[34;42mid11121\u001b[0m/\r\n",
      "\u001b[34;42mid10018\u001b[0m/  \u001b[34;42mid10170\u001b[0m/  \u001b[34;42mid10362\u001b[0m/  \u001b[34;42mid10514\u001b[0m/  \u001b[34;42mid10666\u001b[0m/  \u001b[34;42mid10818\u001b[0m/  \u001b[34;42mid10970\u001b[0m/  \u001b[34;42mid11122\u001b[0m/\r\n",
      "\u001b[34;42mid10019\u001b[0m/  \u001b[34;42mid10171\u001b[0m/  \u001b[34;42mid10363\u001b[0m/  \u001b[34;42mid10515\u001b[0m/  \u001b[34;42mid10667\u001b[0m/  \u001b[34;42mid10819\u001b[0m/  \u001b[34;42mid10971\u001b[0m/  \u001b[34;42mid11123\u001b[0m/\r\n",
      "\u001b[34;42mid10020\u001b[0m/  \u001b[34;42mid10172\u001b[0m/  \u001b[34;42mid10364\u001b[0m/  \u001b[34;42mid10516\u001b[0m/  \u001b[34;42mid10668\u001b[0m/  \u001b[34;42mid10820\u001b[0m/  \u001b[34;42mid10972\u001b[0m/  \u001b[34;42mid11124\u001b[0m/\r\n",
      "\u001b[34;42mid10021\u001b[0m/  \u001b[34;42mid10173\u001b[0m/  \u001b[34;42mid10365\u001b[0m/  \u001b[34;42mid10517\u001b[0m/  \u001b[34;42mid10669\u001b[0m/  \u001b[34;42mid10821\u001b[0m/  \u001b[34;42mid10973\u001b[0m/  \u001b[34;42mid11125\u001b[0m/\r\n",
      "\u001b[34;42mid10022\u001b[0m/  \u001b[34;42mid10174\u001b[0m/  \u001b[34;42mid10366\u001b[0m/  \u001b[34;42mid10518\u001b[0m/  \u001b[34;42mid10670\u001b[0m/  \u001b[34;42mid10822\u001b[0m/  \u001b[34;42mid10974\u001b[0m/  \u001b[34;42mid11126\u001b[0m/\r\n",
      "\u001b[34;42mid10023\u001b[0m/  \u001b[34;42mid10175\u001b[0m/  \u001b[34;42mid10367\u001b[0m/  \u001b[34;42mid10519\u001b[0m/  \u001b[34;42mid10671\u001b[0m/  \u001b[34;42mid10823\u001b[0m/  \u001b[34;42mid10975\u001b[0m/  \u001b[34;42mid11127\u001b[0m/\r\n",
      "\u001b[34;42mid10024\u001b[0m/  \u001b[34;42mid10176\u001b[0m/  \u001b[34;42mid10368\u001b[0m/  \u001b[34;42mid10520\u001b[0m/  \u001b[34;42mid10672\u001b[0m/  \u001b[34;42mid10824\u001b[0m/  \u001b[34;42mid10976\u001b[0m/  \u001b[34;42mid11128\u001b[0m/\r\n",
      "\u001b[34;42mid10025\u001b[0m/  \u001b[34;42mid10177\u001b[0m/  \u001b[34;42mid10369\u001b[0m/  \u001b[34;42mid10521\u001b[0m/  \u001b[34;42mid10673\u001b[0m/  \u001b[34;42mid10825\u001b[0m/  \u001b[34;42mid10977\u001b[0m/  \u001b[34;42mid11129\u001b[0m/\r\n",
      "\u001b[34;42mid10026\u001b[0m/  \u001b[34;42mid10178\u001b[0m/  \u001b[34;42mid10370\u001b[0m/  \u001b[34;42mid10522\u001b[0m/  \u001b[34;42mid10674\u001b[0m/  \u001b[34;42mid10826\u001b[0m/  \u001b[34;42mid10978\u001b[0m/  \u001b[34;42mid11130\u001b[0m/\r\n",
      "\u001b[34;42mid10027\u001b[0m/  \u001b[34;42mid10179\u001b[0m/  \u001b[34;42mid10371\u001b[0m/  \u001b[34;42mid10523\u001b[0m/  \u001b[34;42mid10675\u001b[0m/  \u001b[34;42mid10827\u001b[0m/  \u001b[34;42mid10979\u001b[0m/  \u001b[34;42mid11131\u001b[0m/\r\n",
      "\u001b[34;42mid10028\u001b[0m/  \u001b[34;42mid10180\u001b[0m/  \u001b[34;42mid10372\u001b[0m/  \u001b[34;42mid10524\u001b[0m/  \u001b[34;42mid10676\u001b[0m/  \u001b[34;42mid10828\u001b[0m/  \u001b[34;42mid10980\u001b[0m/  \u001b[34;42mid11132\u001b[0m/\r\n",
      "\u001b[34;42mid10029\u001b[0m/  \u001b[34;42mid10181\u001b[0m/  \u001b[34;42mid10373\u001b[0m/  \u001b[34;42mid10525\u001b[0m/  \u001b[34;42mid10677\u001b[0m/  \u001b[34;42mid10829\u001b[0m/  \u001b[34;42mid10981\u001b[0m/  \u001b[34;42mid11133\u001b[0m/\r\n",
      "\u001b[34;42mid10030\u001b[0m/  \u001b[34;42mid10182\u001b[0m/  \u001b[34;42mid10374\u001b[0m/  \u001b[34;42mid10526\u001b[0m/  \u001b[34;42mid10678\u001b[0m/  \u001b[34;42mid10830\u001b[0m/  \u001b[34;42mid10982\u001b[0m/  \u001b[34;42mid11134\u001b[0m/\r\n",
      "\u001b[34;42mid10031\u001b[0m/  \u001b[34;42mid10183\u001b[0m/  \u001b[34;42mid10375\u001b[0m/  \u001b[34;42mid10527\u001b[0m/  \u001b[34;42mid10679\u001b[0m/  \u001b[34;42mid10831\u001b[0m/  \u001b[34;42mid10983\u001b[0m/  \u001b[34;42mid11135\u001b[0m/\r\n",
      "\u001b[34;42mid10032\u001b[0m/  \u001b[34;42mid10184\u001b[0m/  \u001b[34;42mid10376\u001b[0m/  \u001b[34;42mid10528\u001b[0m/  \u001b[34;42mid10680\u001b[0m/  \u001b[34;42mid10832\u001b[0m/  \u001b[34;42mid10984\u001b[0m/  \u001b[34;42mid11136\u001b[0m/\r\n",
      "\u001b[34;42mid10033\u001b[0m/  \u001b[34;42mid10185\u001b[0m/  \u001b[34;42mid10377\u001b[0m/  \u001b[34;42mid10529\u001b[0m/  \u001b[34;42mid10681\u001b[0m/  \u001b[34;42mid10833\u001b[0m/  \u001b[34;42mid10985\u001b[0m/  \u001b[34;42mid11137\u001b[0m/\r\n",
      "\u001b[34;42mid10034\u001b[0m/  \u001b[34;42mid10186\u001b[0m/  \u001b[34;42mid10378\u001b[0m/  \u001b[34;42mid10530\u001b[0m/  \u001b[34;42mid10682\u001b[0m/  \u001b[34;42mid10834\u001b[0m/  \u001b[34;42mid10986\u001b[0m/  \u001b[34;42mid11138\u001b[0m/\r\n",
      "\u001b[34;42mid10035\u001b[0m/  \u001b[34;42mid10187\u001b[0m/  \u001b[34;42mid10379\u001b[0m/  \u001b[34;42mid10531\u001b[0m/  \u001b[34;42mid10683\u001b[0m/  \u001b[34;42mid10835\u001b[0m/  \u001b[34;42mid10987\u001b[0m/  \u001b[34;42mid11139\u001b[0m/\r\n",
      "\u001b[34;42mid10036\u001b[0m/  \u001b[34;42mid10188\u001b[0m/  \u001b[34;42mid10380\u001b[0m/  \u001b[34;42mid10532\u001b[0m/  \u001b[34;42mid10684\u001b[0m/  \u001b[34;42mid10836\u001b[0m/  \u001b[34;42mid10988\u001b[0m/  \u001b[34;42mid11140\u001b[0m/\r\n",
      "\u001b[34;42mid10037\u001b[0m/  \u001b[34;42mid10189\u001b[0m/  \u001b[34;42mid10381\u001b[0m/  \u001b[34;42mid10533\u001b[0m/  \u001b[34;42mid10685\u001b[0m/  \u001b[34;42mid10837\u001b[0m/  \u001b[34;42mid10989\u001b[0m/  \u001b[34;42mid11141\u001b[0m/\r\n",
      "\u001b[34;42mid10038\u001b[0m/  \u001b[34;42mid10190\u001b[0m/  \u001b[34;42mid10382\u001b[0m/  \u001b[34;42mid10534\u001b[0m/  \u001b[34;42mid10686\u001b[0m/  \u001b[34;42mid10838\u001b[0m/  \u001b[34;42mid10990\u001b[0m/  \u001b[34;42mid11142\u001b[0m/\r\n",
      "\u001b[34;42mid10039\u001b[0m/  \u001b[34;42mid10191\u001b[0m/  \u001b[34;42mid10383\u001b[0m/  \u001b[34;42mid10535\u001b[0m/  \u001b[34;42mid10687\u001b[0m/  \u001b[34;42mid10839\u001b[0m/  \u001b[34;42mid10991\u001b[0m/  \u001b[34;42mid11143\u001b[0m/\r\n",
      "\u001b[34;42mid10040\u001b[0m/  \u001b[34;42mid10192\u001b[0m/  \u001b[34;42mid10384\u001b[0m/  \u001b[34;42mid10536\u001b[0m/  \u001b[34;42mid10688\u001b[0m/  \u001b[34;42mid10840\u001b[0m/  \u001b[34;42mid10992\u001b[0m/  \u001b[34;42mid11144\u001b[0m/\r\n",
      "\u001b[34;42mid10041\u001b[0m/  \u001b[34;42mid10193\u001b[0m/  \u001b[34;42mid10385\u001b[0m/  \u001b[34;42mid10537\u001b[0m/  \u001b[34;42mid10689\u001b[0m/  \u001b[34;42mid10841\u001b[0m/  \u001b[34;42mid10993\u001b[0m/  \u001b[34;42mid11145\u001b[0m/\r\n",
      "\u001b[34;42mid10042\u001b[0m/  \u001b[34;42mid10194\u001b[0m/  \u001b[34;42mid10386\u001b[0m/  \u001b[34;42mid10538\u001b[0m/  \u001b[34;42mid10690\u001b[0m/  \u001b[34;42mid10842\u001b[0m/  \u001b[34;42mid10994\u001b[0m/  \u001b[34;42mid11146\u001b[0m/\r\n",
      "\u001b[34;42mid10043\u001b[0m/  \u001b[34;42mid10195\u001b[0m/  \u001b[34;42mid10387\u001b[0m/  \u001b[34;42mid10539\u001b[0m/  \u001b[34;42mid10691\u001b[0m/  \u001b[34;42mid10843\u001b[0m/  \u001b[34;42mid10995\u001b[0m/  \u001b[34;42mid11147\u001b[0m/\r\n",
      "\u001b[34;42mid10044\u001b[0m/  \u001b[34;42mid10196\u001b[0m/  \u001b[34;42mid10388\u001b[0m/  \u001b[34;42mid10540\u001b[0m/  \u001b[34;42mid10692\u001b[0m/  \u001b[34;42mid10844\u001b[0m/  \u001b[34;42mid10996\u001b[0m/  \u001b[34;42mid11148\u001b[0m/\r\n",
      "\u001b[34;42mid10045\u001b[0m/  \u001b[34;42mid10197\u001b[0m/  \u001b[34;42mid10389\u001b[0m/  \u001b[34;42mid10541\u001b[0m/  \u001b[34;42mid10693\u001b[0m/  \u001b[34;42mid10845\u001b[0m/  \u001b[34;42mid10997\u001b[0m/  \u001b[34;42mid11149\u001b[0m/\r\n",
      "\u001b[34;42mid10046\u001b[0m/  \u001b[34;42mid10198\u001b[0m/  \u001b[34;42mid10390\u001b[0m/  \u001b[34;42mid10542\u001b[0m/  \u001b[34;42mid10694\u001b[0m/  \u001b[34;42mid10846\u001b[0m/  \u001b[34;42mid10998\u001b[0m/  \u001b[34;42mid11150\u001b[0m/\r\n",
      "\u001b[34;42mid10047\u001b[0m/  \u001b[34;42mid10199\u001b[0m/  \u001b[34;42mid10391\u001b[0m/  \u001b[34;42mid10543\u001b[0m/  \u001b[34;42mid10695\u001b[0m/  \u001b[34;42mid10847\u001b[0m/  \u001b[34;42mid10999\u001b[0m/  \u001b[34;42mid11151\u001b[0m/\r\n",
      "\u001b[34;42mid10048\u001b[0m/  \u001b[34;42mid10200\u001b[0m/  \u001b[34;42mid10392\u001b[0m/  \u001b[34;42mid10544\u001b[0m/  \u001b[34;42mid10696\u001b[0m/  \u001b[34;42mid10848\u001b[0m/  \u001b[34;42mid11000\u001b[0m/  \u001b[34;42mid11152\u001b[0m/\r\n",
      "\u001b[34;42mid10049\u001b[0m/  \u001b[34;42mid10201\u001b[0m/  \u001b[34;42mid10393\u001b[0m/  \u001b[34;42mid10545\u001b[0m/  \u001b[34;42mid10697\u001b[0m/  \u001b[34;42mid10849\u001b[0m/  \u001b[34;42mid11001\u001b[0m/  \u001b[34;42mid11153\u001b[0m/\r\n",
      "\u001b[34;42mid10050\u001b[0m/  \u001b[34;42mid10202\u001b[0m/  \u001b[34;42mid10394\u001b[0m/  \u001b[34;42mid10546\u001b[0m/  \u001b[34;42mid10698\u001b[0m/  \u001b[34;42mid10850\u001b[0m/  \u001b[34;42mid11002\u001b[0m/  \u001b[34;42mid11154\u001b[0m/\r\n",
      "\u001b[34;42mid10051\u001b[0m/  \u001b[34;42mid10203\u001b[0m/  \u001b[34;42mid10395\u001b[0m/  \u001b[34;42mid10547\u001b[0m/  \u001b[34;42mid10699\u001b[0m/  \u001b[34;42mid10851\u001b[0m/  \u001b[34;42mid11003\u001b[0m/  \u001b[34;42mid11155\u001b[0m/\r\n",
      "\u001b[34;42mid10052\u001b[0m/  \u001b[34;42mid10204\u001b[0m/  \u001b[34;42mid10396\u001b[0m/  \u001b[34;42mid10548\u001b[0m/  \u001b[34;42mid10700\u001b[0m/  \u001b[34;42mid10852\u001b[0m/  \u001b[34;42mid11004\u001b[0m/  \u001b[34;42mid11156\u001b[0m/\r\n",
      "\u001b[34;42mid10053\u001b[0m/  \u001b[34;42mid10205\u001b[0m/  \u001b[34;42mid10397\u001b[0m/  \u001b[34;42mid10549\u001b[0m/  \u001b[34;42mid10701\u001b[0m/  \u001b[34;42mid10853\u001b[0m/  \u001b[34;42mid11005\u001b[0m/  \u001b[34;42mid11157\u001b[0m/\r\n",
      "\u001b[34;42mid10054\u001b[0m/  \u001b[34;42mid10206\u001b[0m/  \u001b[34;42mid10398\u001b[0m/  \u001b[34;42mid10550\u001b[0m/  \u001b[34;42mid10702\u001b[0m/  \u001b[34;42mid10854\u001b[0m/  \u001b[34;42mid11006\u001b[0m/  \u001b[34;42mid11158\u001b[0m/\r\n",
      "\u001b[34;42mid10055\u001b[0m/  \u001b[34;42mid10207\u001b[0m/  \u001b[34;42mid10399\u001b[0m/  \u001b[34;42mid10551\u001b[0m/  \u001b[34;42mid10703\u001b[0m/  \u001b[34;42mid10855\u001b[0m/  \u001b[34;42mid11007\u001b[0m/  \u001b[34;42mid11159\u001b[0m/\r\n",
      "\u001b[34;42mid10056\u001b[0m/  \u001b[34;42mid10208\u001b[0m/  \u001b[34;42mid10400\u001b[0m/  \u001b[34;42mid10552\u001b[0m/  \u001b[34;42mid10704\u001b[0m/  \u001b[34;42mid10856\u001b[0m/  \u001b[34;42mid11008\u001b[0m/  \u001b[34;42mid11160\u001b[0m/\r\n",
      "\u001b[34;42mid10057\u001b[0m/  \u001b[34;42mid10209\u001b[0m/  \u001b[34;42mid10401\u001b[0m/  \u001b[34;42mid10553\u001b[0m/  \u001b[34;42mid10705\u001b[0m/  \u001b[34;42mid10857\u001b[0m/  \u001b[34;42mid11009\u001b[0m/  \u001b[34;42mid11161\u001b[0m/\r\n",
      "\u001b[34;42mid10058\u001b[0m/  \u001b[34;42mid10210\u001b[0m/  \u001b[34;42mid10402\u001b[0m/  \u001b[34;42mid10554\u001b[0m/  \u001b[34;42mid10706\u001b[0m/  \u001b[34;42mid10858\u001b[0m/  \u001b[34;42mid11010\u001b[0m/  \u001b[34;42mid11162\u001b[0m/\r\n",
      "\u001b[34;42mid10059\u001b[0m/  \u001b[34;42mid10211\u001b[0m/  \u001b[34;42mid10403\u001b[0m/  \u001b[34;42mid10555\u001b[0m/  \u001b[34;42mid10707\u001b[0m/  \u001b[34;42mid10859\u001b[0m/  \u001b[34;42mid11011\u001b[0m/  \u001b[34;42mid11163\u001b[0m/\r\n",
      "\u001b[34;42mid10060\u001b[0m/  \u001b[34;42mid10212\u001b[0m/  \u001b[34;42mid10404\u001b[0m/  \u001b[34;42mid10556\u001b[0m/  \u001b[34;42mid10708\u001b[0m/  \u001b[34;42mid10860\u001b[0m/  \u001b[34;42mid11012\u001b[0m/  \u001b[34;42mid11164\u001b[0m/\r\n",
      "\u001b[34;42mid10061\u001b[0m/  \u001b[34;42mid10213\u001b[0m/  \u001b[34;42mid10405\u001b[0m/  \u001b[34;42mid10557\u001b[0m/  \u001b[34;42mid10709\u001b[0m/  \u001b[34;42mid10861\u001b[0m/  \u001b[34;42mid11013\u001b[0m/  \u001b[34;42mid11165\u001b[0m/\r\n",
      "\u001b[34;42mid10062\u001b[0m/  \u001b[34;42mid10214\u001b[0m/  \u001b[34;42mid10406\u001b[0m/  \u001b[34;42mid10558\u001b[0m/  \u001b[34;42mid10710\u001b[0m/  \u001b[34;42mid10862\u001b[0m/  \u001b[34;42mid11014\u001b[0m/  \u001b[34;42mid11166\u001b[0m/\r\n",
      "\u001b[34;42mid10063\u001b[0m/  \u001b[34;42mid10215\u001b[0m/  \u001b[34;42mid10407\u001b[0m/  \u001b[34;42mid10559\u001b[0m/  \u001b[34;42mid10711\u001b[0m/  \u001b[34;42mid10863\u001b[0m/  \u001b[34;42mid11015\u001b[0m/  \u001b[34;42mid11167\u001b[0m/\r\n",
      "\u001b[34;42mid10064\u001b[0m/  \u001b[34;42mid10216\u001b[0m/  \u001b[34;42mid10408\u001b[0m/  \u001b[34;42mid10560\u001b[0m/  \u001b[34;42mid10712\u001b[0m/  \u001b[34;42mid10864\u001b[0m/  \u001b[34;42mid11016\u001b[0m/  \u001b[34;42mid11168\u001b[0m/\r\n",
      "\u001b[34;42mid10065\u001b[0m/  \u001b[34;42mid10217\u001b[0m/  \u001b[34;42mid10409\u001b[0m/  \u001b[34;42mid10561\u001b[0m/  \u001b[34;42mid10713\u001b[0m/  \u001b[34;42mid10865\u001b[0m/  \u001b[34;42mid11017\u001b[0m/  \u001b[34;42mid11169\u001b[0m/\r\n",
      "\u001b[34;42mid10066\u001b[0m/  \u001b[34;42mid10218\u001b[0m/  \u001b[34;42mid10410\u001b[0m/  \u001b[34;42mid10562\u001b[0m/  \u001b[34;42mid10714\u001b[0m/  \u001b[34;42mid10866\u001b[0m/  \u001b[34;42mid11018\u001b[0m/  \u001b[34;42mid11170\u001b[0m/\r\n",
      "\u001b[34;42mid10067\u001b[0m/  \u001b[34;42mid10219\u001b[0m/  \u001b[34;42mid10411\u001b[0m/  \u001b[34;42mid10563\u001b[0m/  \u001b[34;42mid10715\u001b[0m/  \u001b[34;42mid10867\u001b[0m/  \u001b[34;42mid11019\u001b[0m/  \u001b[34;42mid11171\u001b[0m/\r\n",
      "\u001b[34;42mid10068\u001b[0m/  \u001b[34;42mid10220\u001b[0m/  \u001b[34;42mid10412\u001b[0m/  \u001b[34;42mid10564\u001b[0m/  \u001b[34;42mid10716\u001b[0m/  \u001b[34;42mid10868\u001b[0m/  \u001b[34;42mid11020\u001b[0m/  \u001b[34;42mid11172\u001b[0m/\r\n",
      "\u001b[34;42mid10069\u001b[0m/  \u001b[34;42mid10221\u001b[0m/  \u001b[34;42mid10413\u001b[0m/  \u001b[34;42mid10565\u001b[0m/  \u001b[34;42mid10717\u001b[0m/  \u001b[34;42mid10869\u001b[0m/  \u001b[34;42mid11021\u001b[0m/  \u001b[34;42mid11173\u001b[0m/\r\n",
      "\u001b[34;42mid10070\u001b[0m/  \u001b[34;42mid10222\u001b[0m/  \u001b[34;42mid10414\u001b[0m/  \u001b[34;42mid10566\u001b[0m/  \u001b[34;42mid10718\u001b[0m/  \u001b[34;42mid10870\u001b[0m/  \u001b[34;42mid11022\u001b[0m/  \u001b[34;42mid11174\u001b[0m/\r\n",
      "\u001b[34;42mid10071\u001b[0m/  \u001b[34;42mid10223\u001b[0m/  \u001b[34;42mid10415\u001b[0m/  \u001b[34;42mid10567\u001b[0m/  \u001b[34;42mid10719\u001b[0m/  \u001b[34;42mid10871\u001b[0m/  \u001b[34;42mid11023\u001b[0m/  \u001b[34;42mid11175\u001b[0m/\r\n",
      "\u001b[34;42mid10072\u001b[0m/  \u001b[34;42mid10224\u001b[0m/  \u001b[34;42mid10416\u001b[0m/  \u001b[34;42mid10568\u001b[0m/  \u001b[34;42mid10720\u001b[0m/  \u001b[34;42mid10872\u001b[0m/  \u001b[34;42mid11024\u001b[0m/  \u001b[34;42mid11176\u001b[0m/\r\n",
      "\u001b[34;42mid10073\u001b[0m/  \u001b[34;42mid10225\u001b[0m/  \u001b[34;42mid10417\u001b[0m/  \u001b[34;42mid10569\u001b[0m/  \u001b[34;42mid10721\u001b[0m/  \u001b[34;42mid10873\u001b[0m/  \u001b[34;42mid11025\u001b[0m/  \u001b[34;42mid11177\u001b[0m/\r\n",
      "\u001b[34;42mid10074\u001b[0m/  \u001b[34;42mid10226\u001b[0m/  \u001b[34;42mid10418\u001b[0m/  \u001b[34;42mid10570\u001b[0m/  \u001b[34;42mid10722\u001b[0m/  \u001b[34;42mid10874\u001b[0m/  \u001b[34;42mid11026\u001b[0m/  \u001b[34;42mid11178\u001b[0m/\r\n",
      "\u001b[34;42mid10075\u001b[0m/  \u001b[34;42mid10227\u001b[0m/  \u001b[34;42mid10419\u001b[0m/  \u001b[34;42mid10571\u001b[0m/  \u001b[34;42mid10723\u001b[0m/  \u001b[34;42mid10875\u001b[0m/  \u001b[34;42mid11027\u001b[0m/  \u001b[34;42mid11179\u001b[0m/\r\n",
      "\u001b[34;42mid10076\u001b[0m/  \u001b[34;42mid10228\u001b[0m/  \u001b[34;42mid10420\u001b[0m/  \u001b[34;42mid10572\u001b[0m/  \u001b[34;42mid10724\u001b[0m/  \u001b[34;42mid10876\u001b[0m/  \u001b[34;42mid11028\u001b[0m/  \u001b[34;42mid11180\u001b[0m/\r\n",
      "\u001b[34;42mid10077\u001b[0m/  \u001b[34;42mid10229\u001b[0m/  \u001b[34;42mid10421\u001b[0m/  \u001b[34;42mid10573\u001b[0m/  \u001b[34;42mid10725\u001b[0m/  \u001b[34;42mid10877\u001b[0m/  \u001b[34;42mid11029\u001b[0m/  \u001b[34;42mid11181\u001b[0m/\r\n",
      "\u001b[34;42mid10078\u001b[0m/  \u001b[34;42mid10230\u001b[0m/  \u001b[34;42mid10422\u001b[0m/  \u001b[34;42mid10574\u001b[0m/  \u001b[34;42mid10726\u001b[0m/  \u001b[34;42mid10878\u001b[0m/  \u001b[34;42mid11030\u001b[0m/  \u001b[34;42mid11182\u001b[0m/\r\n",
      "\u001b[34;42mid10079\u001b[0m/  \u001b[34;42mid10231\u001b[0m/  \u001b[34;42mid10423\u001b[0m/  \u001b[34;42mid10575\u001b[0m/  \u001b[34;42mid10727\u001b[0m/  \u001b[34;42mid10879\u001b[0m/  \u001b[34;42mid11031\u001b[0m/  \u001b[34;42mid11183\u001b[0m/\r\n",
      "\u001b[34;42mid10080\u001b[0m/  \u001b[34;42mid10232\u001b[0m/  \u001b[34;42mid10424\u001b[0m/  \u001b[34;42mid10576\u001b[0m/  \u001b[34;42mid10728\u001b[0m/  \u001b[34;42mid10880\u001b[0m/  \u001b[34;42mid11032\u001b[0m/  \u001b[34;42mid11184\u001b[0m/\r\n",
      "\u001b[34;42mid10081\u001b[0m/  \u001b[34;42mid10233\u001b[0m/  \u001b[34;42mid10425\u001b[0m/  \u001b[34;42mid10577\u001b[0m/  \u001b[34;42mid10729\u001b[0m/  \u001b[34;42mid10881\u001b[0m/  \u001b[34;42mid11033\u001b[0m/  \u001b[34;42mid11185\u001b[0m/\r\n",
      "\u001b[34;42mid10082\u001b[0m/  \u001b[34;42mid10234\u001b[0m/  \u001b[34;42mid10426\u001b[0m/  \u001b[34;42mid10578\u001b[0m/  \u001b[34;42mid10730\u001b[0m/  \u001b[34;42mid10882\u001b[0m/  \u001b[34;42mid11034\u001b[0m/  \u001b[34;42mid11186\u001b[0m/\r\n",
      "\u001b[34;42mid10083\u001b[0m/  \u001b[34;42mid10235\u001b[0m/  \u001b[34;42mid10427\u001b[0m/  \u001b[34;42mid10579\u001b[0m/  \u001b[34;42mid10731\u001b[0m/  \u001b[34;42mid10883\u001b[0m/  \u001b[34;42mid11035\u001b[0m/  \u001b[34;42mid11187\u001b[0m/\r\n",
      "\u001b[34;42mid10084\u001b[0m/  \u001b[34;42mid10236\u001b[0m/  \u001b[34;42mid10428\u001b[0m/  \u001b[34;42mid10580\u001b[0m/  \u001b[34;42mid10732\u001b[0m/  \u001b[34;42mid10884\u001b[0m/  \u001b[34;42mid11036\u001b[0m/  \u001b[34;42mid11188\u001b[0m/\r\n",
      "\u001b[34;42mid10085\u001b[0m/  \u001b[34;42mid10237\u001b[0m/  \u001b[34;42mid10429\u001b[0m/  \u001b[34;42mid10581\u001b[0m/  \u001b[34;42mid10733\u001b[0m/  \u001b[34;42mid10885\u001b[0m/  \u001b[34;42mid11037\u001b[0m/  \u001b[34;42mid11189\u001b[0m/\r\n",
      "\u001b[34;42mid10086\u001b[0m/  \u001b[34;42mid10238\u001b[0m/  \u001b[34;42mid10430\u001b[0m/  \u001b[34;42mid10582\u001b[0m/  \u001b[34;42mid10734\u001b[0m/  \u001b[34;42mid10886\u001b[0m/  \u001b[34;42mid11038\u001b[0m/  \u001b[34;42mid11190\u001b[0m/\r\n",
      "\u001b[34;42mid10087\u001b[0m/  \u001b[34;42mid10239\u001b[0m/  \u001b[34;42mid10431\u001b[0m/  \u001b[34;42mid10583\u001b[0m/  \u001b[34;42mid10735\u001b[0m/  \u001b[34;42mid10887\u001b[0m/  \u001b[34;42mid11039\u001b[0m/  \u001b[34;42mid11191\u001b[0m/\r\n",
      "\u001b[34;42mid10088\u001b[0m/  \u001b[34;42mid10240\u001b[0m/  \u001b[34;42mid10432\u001b[0m/  \u001b[34;42mid10584\u001b[0m/  \u001b[34;42mid10736\u001b[0m/  \u001b[34;42mid10888\u001b[0m/  \u001b[34;42mid11040\u001b[0m/  \u001b[34;42mid11192\u001b[0m/\r\n",
      "\u001b[34;42mid10089\u001b[0m/  \u001b[34;42mid10241\u001b[0m/  \u001b[34;42mid10433\u001b[0m/  \u001b[34;42mid10585\u001b[0m/  \u001b[34;42mid10737\u001b[0m/  \u001b[34;42mid10889\u001b[0m/  \u001b[34;42mid11041\u001b[0m/  \u001b[34;42mid11193\u001b[0m/\r\n",
      "\u001b[34;42mid10090\u001b[0m/  \u001b[34;42mid10242\u001b[0m/  \u001b[34;42mid10434\u001b[0m/  \u001b[34;42mid10586\u001b[0m/  \u001b[34;42mid10738\u001b[0m/  \u001b[34;42mid10890\u001b[0m/  \u001b[34;42mid11042\u001b[0m/  \u001b[34;42mid11194\u001b[0m/\r\n",
      "\u001b[34;42mid10091\u001b[0m/  \u001b[34;42mid10243\u001b[0m/  \u001b[34;42mid10435\u001b[0m/  \u001b[34;42mid10587\u001b[0m/  \u001b[34;42mid10739\u001b[0m/  \u001b[34;42mid10891\u001b[0m/  \u001b[34;42mid11043\u001b[0m/  \u001b[34;42mid11195\u001b[0m/\r\n",
      "\u001b[34;42mid10092\u001b[0m/  \u001b[34;42mid10244\u001b[0m/  \u001b[34;42mid10436\u001b[0m/  \u001b[34;42mid10588\u001b[0m/  \u001b[34;42mid10740\u001b[0m/  \u001b[34;42mid10892\u001b[0m/  \u001b[34;42mid11044\u001b[0m/  \u001b[34;42mid11196\u001b[0m/\r\n",
      "\u001b[34;42mid10093\u001b[0m/  \u001b[34;42mid10245\u001b[0m/  \u001b[34;42mid10437\u001b[0m/  \u001b[34;42mid10589\u001b[0m/  \u001b[34;42mid10741\u001b[0m/  \u001b[34;42mid10893\u001b[0m/  \u001b[34;42mid11045\u001b[0m/  \u001b[34;42mid11197\u001b[0m/\r\n",
      "\u001b[34;42mid10094\u001b[0m/  \u001b[34;42mid10246\u001b[0m/  \u001b[34;42mid10438\u001b[0m/  \u001b[34;42mid10590\u001b[0m/  \u001b[34;42mid10742\u001b[0m/  \u001b[34;42mid10894\u001b[0m/  \u001b[34;42mid11046\u001b[0m/  \u001b[34;42mid11198\u001b[0m/\r\n",
      "\u001b[34;42mid10095\u001b[0m/  \u001b[34;42mid10247\u001b[0m/  \u001b[34;42mid10439\u001b[0m/  \u001b[34;42mid10591\u001b[0m/  \u001b[34;42mid10743\u001b[0m/  \u001b[34;42mid10895\u001b[0m/  \u001b[34;42mid11047\u001b[0m/  \u001b[34;42mid11199\u001b[0m/\r\n",
      "\u001b[34;42mid10096\u001b[0m/  \u001b[34;42mid10248\u001b[0m/  \u001b[34;42mid10440\u001b[0m/  \u001b[34;42mid10592\u001b[0m/  \u001b[34;42mid10744\u001b[0m/  \u001b[34;42mid10896\u001b[0m/  \u001b[34;42mid11048\u001b[0m/  \u001b[34;42mid11200\u001b[0m/\r\n",
      "\u001b[34;42mid10097\u001b[0m/  \u001b[34;42mid10249\u001b[0m/  \u001b[34;42mid10441\u001b[0m/  \u001b[34;42mid10593\u001b[0m/  \u001b[34;42mid10745\u001b[0m/  \u001b[34;42mid10897\u001b[0m/  \u001b[34;42mid11049\u001b[0m/  \u001b[34;42mid11201\u001b[0m/\r\n",
      "\u001b[34;42mid10098\u001b[0m/  \u001b[34;42mid10250\u001b[0m/  \u001b[34;42mid10442\u001b[0m/  \u001b[34;42mid10594\u001b[0m/  \u001b[34;42mid10746\u001b[0m/  \u001b[34;42mid10898\u001b[0m/  \u001b[34;42mid11050\u001b[0m/  \u001b[34;42mid11202\u001b[0m/\r\n",
      "\u001b[34;42mid10099\u001b[0m/  \u001b[34;42mid10251\u001b[0m/  \u001b[34;42mid10443\u001b[0m/  \u001b[34;42mid10595\u001b[0m/  \u001b[34;42mid10747\u001b[0m/  \u001b[34;42mid10899\u001b[0m/  \u001b[34;42mid11051\u001b[0m/  \u001b[34;42mid11203\u001b[0m/\r\n",
      "\u001b[34;42mid10100\u001b[0m/  \u001b[34;42mid10252\u001b[0m/  \u001b[34;42mid10444\u001b[0m/  \u001b[34;42mid10596\u001b[0m/  \u001b[34;42mid10748\u001b[0m/  \u001b[34;42mid10900\u001b[0m/  \u001b[34;42mid11052\u001b[0m/  \u001b[34;42mid11204\u001b[0m/\r\n",
      "\u001b[34;42mid10101\u001b[0m/  \u001b[34;42mid10253\u001b[0m/  \u001b[34;42mid10445\u001b[0m/  \u001b[34;42mid10597\u001b[0m/  \u001b[34;42mid10749\u001b[0m/  \u001b[34;42mid10901\u001b[0m/  \u001b[34;42mid11053\u001b[0m/  \u001b[34;42mid11205\u001b[0m/\r\n",
      "\u001b[34;42mid10102\u001b[0m/  \u001b[34;42mid10254\u001b[0m/  \u001b[34;42mid10446\u001b[0m/  \u001b[34;42mid10598\u001b[0m/  \u001b[34;42mid10750\u001b[0m/  \u001b[34;42mid10902\u001b[0m/  \u001b[34;42mid11054\u001b[0m/  \u001b[34;42mid11206\u001b[0m/\r\n",
      "\u001b[34;42mid10103\u001b[0m/  \u001b[34;42mid10255\u001b[0m/  \u001b[34;42mid10447\u001b[0m/  \u001b[34;42mid10599\u001b[0m/  \u001b[34;42mid10751\u001b[0m/  \u001b[34;42mid10903\u001b[0m/  \u001b[34;42mid11055\u001b[0m/  \u001b[34;42mid11207\u001b[0m/\r\n",
      "\u001b[34;42mid10104\u001b[0m/  \u001b[34;42mid10256\u001b[0m/  \u001b[34;42mid10448\u001b[0m/  \u001b[34;42mid10600\u001b[0m/  \u001b[34;42mid10752\u001b[0m/  \u001b[34;42mid10904\u001b[0m/  \u001b[34;42mid11056\u001b[0m/  \u001b[34;42mid11208\u001b[0m/\r\n",
      "\u001b[34;42mid10105\u001b[0m/  \u001b[34;42mid10257\u001b[0m/  \u001b[34;42mid10449\u001b[0m/  \u001b[34;42mid10601\u001b[0m/  \u001b[34;42mid10753\u001b[0m/  \u001b[34;42mid10905\u001b[0m/  \u001b[34;42mid11057\u001b[0m/  \u001b[34;42mid11209\u001b[0m/\r\n",
      "\u001b[34;42mid10106\u001b[0m/  \u001b[34;42mid10258\u001b[0m/  \u001b[34;42mid10450\u001b[0m/  \u001b[34;42mid10602\u001b[0m/  \u001b[34;42mid10754\u001b[0m/  \u001b[34;42mid10906\u001b[0m/  \u001b[34;42mid11058\u001b[0m/  \u001b[34;42mid11210\u001b[0m/\r\n",
      "\u001b[34;42mid10107\u001b[0m/  \u001b[34;42mid10259\u001b[0m/  \u001b[34;42mid10451\u001b[0m/  \u001b[34;42mid10603\u001b[0m/  \u001b[34;42mid10755\u001b[0m/  \u001b[34;42mid10907\u001b[0m/  \u001b[34;42mid11059\u001b[0m/  \u001b[34;42mid11211\u001b[0m/\r\n",
      "\u001b[34;42mid10108\u001b[0m/  \u001b[34;42mid10260\u001b[0m/  \u001b[34;42mid10452\u001b[0m/  \u001b[34;42mid10604\u001b[0m/  \u001b[34;42mid10756\u001b[0m/  \u001b[34;42mid10908\u001b[0m/  \u001b[34;42mid11060\u001b[0m/  \u001b[34;42mid11212\u001b[0m/\r\n",
      "\u001b[34;42mid10109\u001b[0m/  \u001b[34;42mid10261\u001b[0m/  \u001b[34;42mid10453\u001b[0m/  \u001b[34;42mid10605\u001b[0m/  \u001b[34;42mid10757\u001b[0m/  \u001b[34;42mid10909\u001b[0m/  \u001b[34;42mid11061\u001b[0m/  \u001b[34;42mid11213\u001b[0m/\r\n",
      "\u001b[34;42mid10110\u001b[0m/  \u001b[34;42mid10262\u001b[0m/  \u001b[34;42mid10454\u001b[0m/  \u001b[34;42mid10606\u001b[0m/  \u001b[34;42mid10758\u001b[0m/  \u001b[34;42mid10910\u001b[0m/  \u001b[34;42mid11062\u001b[0m/  \u001b[34;42mid11214\u001b[0m/\r\n",
      "\u001b[34;42mid10111\u001b[0m/  \u001b[34;42mid10263\u001b[0m/  \u001b[34;42mid10455\u001b[0m/  \u001b[34;42mid10607\u001b[0m/  \u001b[34;42mid10759\u001b[0m/  \u001b[34;42mid10911\u001b[0m/  \u001b[34;42mid11063\u001b[0m/  \u001b[34;42mid11215\u001b[0m/\r\n",
      "\u001b[34;42mid10112\u001b[0m/  \u001b[34;42mid10264\u001b[0m/  \u001b[34;42mid10456\u001b[0m/  \u001b[34;42mid10608\u001b[0m/  \u001b[34;42mid10760\u001b[0m/  \u001b[34;42mid10912\u001b[0m/  \u001b[34;42mid11064\u001b[0m/  \u001b[34;42mid11216\u001b[0m/\r\n",
      "\u001b[34;42mid10113\u001b[0m/  \u001b[34;42mid10265\u001b[0m/  \u001b[34;42mid10457\u001b[0m/  \u001b[34;42mid10609\u001b[0m/  \u001b[34;42mid10761\u001b[0m/  \u001b[34;42mid10913\u001b[0m/  \u001b[34;42mid11065\u001b[0m/  \u001b[34;42mid11217\u001b[0m/\r\n",
      "\u001b[34;42mid10114\u001b[0m/  \u001b[34;42mid10266\u001b[0m/  \u001b[34;42mid10458\u001b[0m/  \u001b[34;42mid10610\u001b[0m/  \u001b[34;42mid10762\u001b[0m/  \u001b[34;42mid10914\u001b[0m/  \u001b[34;42mid11066\u001b[0m/  \u001b[34;42mid11218\u001b[0m/\r\n",
      "\u001b[34;42mid10115\u001b[0m/  \u001b[34;42mid10267\u001b[0m/  \u001b[34;42mid10459\u001b[0m/  \u001b[34;42mid10611\u001b[0m/  \u001b[34;42mid10763\u001b[0m/  \u001b[34;42mid10915\u001b[0m/  \u001b[34;42mid11067\u001b[0m/  \u001b[34;42mid11219\u001b[0m/\r\n",
      "\u001b[34;42mid10116\u001b[0m/  \u001b[34;42mid10268\u001b[0m/  \u001b[34;42mid10460\u001b[0m/  \u001b[34;42mid10612\u001b[0m/  \u001b[34;42mid10764\u001b[0m/  \u001b[34;42mid10916\u001b[0m/  \u001b[34;42mid11068\u001b[0m/  \u001b[34;42mid11220\u001b[0m/\r\n",
      "\u001b[34;42mid10117\u001b[0m/  \u001b[34;42mid10269\u001b[0m/  \u001b[34;42mid10461\u001b[0m/  \u001b[34;42mid10613\u001b[0m/  \u001b[34;42mid10765\u001b[0m/  \u001b[34;42mid10917\u001b[0m/  \u001b[34;42mid11069\u001b[0m/  \u001b[34;42mid11221\u001b[0m/\r\n",
      "\u001b[34;42mid10118\u001b[0m/  \u001b[34;42mid10310\u001b[0m/  \u001b[34;42mid10462\u001b[0m/  \u001b[34;42mid10614\u001b[0m/  \u001b[34;42mid10766\u001b[0m/  \u001b[34;42mid10918\u001b[0m/  \u001b[34;42mid11070\u001b[0m/  \u001b[34;42mid11222\u001b[0m/\r\n",
      "\u001b[34;42mid10119\u001b[0m/  \u001b[34;42mid10311\u001b[0m/  \u001b[34;42mid10463\u001b[0m/  \u001b[34;42mid10615\u001b[0m/  \u001b[34;42mid10767\u001b[0m/  \u001b[34;42mid10919\u001b[0m/  \u001b[34;42mid11071\u001b[0m/  \u001b[34;42mid11223\u001b[0m/\r\n",
      "\u001b[34;42mid10120\u001b[0m/  \u001b[34;42mid10312\u001b[0m/  \u001b[34;42mid10464\u001b[0m/  \u001b[34;42mid10616\u001b[0m/  \u001b[34;42mid10768\u001b[0m/  \u001b[34;42mid10920\u001b[0m/  \u001b[34;42mid11072\u001b[0m/  \u001b[34;42mid11224\u001b[0m/\r\n",
      "\u001b[34;42mid10121\u001b[0m/  \u001b[34;42mid10313\u001b[0m/  \u001b[34;42mid10465\u001b[0m/  \u001b[34;42mid10617\u001b[0m/  \u001b[34;42mid10769\u001b[0m/  \u001b[34;42mid10921\u001b[0m/  \u001b[34;42mid11073\u001b[0m/  \u001b[34;42mid11225\u001b[0m/\r\n",
      "\u001b[34;42mid10122\u001b[0m/  \u001b[34;42mid10314\u001b[0m/  \u001b[34;42mid10466\u001b[0m/  \u001b[34;42mid10618\u001b[0m/  \u001b[34;42mid10770\u001b[0m/  \u001b[34;42mid10922\u001b[0m/  \u001b[34;42mid11074\u001b[0m/  \u001b[34;42mid11226\u001b[0m/\r\n",
      "\u001b[34;42mid10123\u001b[0m/  \u001b[34;42mid10315\u001b[0m/  \u001b[34;42mid10467\u001b[0m/  \u001b[34;42mid10619\u001b[0m/  \u001b[34;42mid10771\u001b[0m/  \u001b[34;42mid10923\u001b[0m/  \u001b[34;42mid11075\u001b[0m/  \u001b[34;42mid11227\u001b[0m/\r\n",
      "\u001b[34;42mid10124\u001b[0m/  \u001b[34;42mid10316\u001b[0m/  \u001b[34;42mid10468\u001b[0m/  \u001b[34;42mid10620\u001b[0m/  \u001b[34;42mid10772\u001b[0m/  \u001b[34;42mid10924\u001b[0m/  \u001b[34;42mid11076\u001b[0m/  \u001b[34;42mid11228\u001b[0m/\r\n",
      "\u001b[34;42mid10125\u001b[0m/  \u001b[34;42mid10317\u001b[0m/  \u001b[34;42mid10469\u001b[0m/  \u001b[34;42mid10621\u001b[0m/  \u001b[34;42mid10773\u001b[0m/  \u001b[34;42mid10925\u001b[0m/  \u001b[34;42mid11077\u001b[0m/  \u001b[34;42mid11229\u001b[0m/\r\n",
      "\u001b[34;42mid10126\u001b[0m/  \u001b[34;42mid10318\u001b[0m/  \u001b[34;42mid10470\u001b[0m/  \u001b[34;42mid10622\u001b[0m/  \u001b[34;42mid10774\u001b[0m/  \u001b[34;42mid10926\u001b[0m/  \u001b[34;42mid11078\u001b[0m/  \u001b[34;42mid11230\u001b[0m/\r\n",
      "\u001b[34;42mid10127\u001b[0m/  \u001b[34;42mid10319\u001b[0m/  \u001b[34;42mid10471\u001b[0m/  \u001b[34;42mid10623\u001b[0m/  \u001b[34;42mid10775\u001b[0m/  \u001b[34;42mid10927\u001b[0m/  \u001b[34;42mid11079\u001b[0m/  \u001b[34;42mid11231\u001b[0m/\r\n",
      "\u001b[34;42mid10128\u001b[0m/  \u001b[34;42mid10320\u001b[0m/  \u001b[34;42mid10472\u001b[0m/  \u001b[34;42mid10624\u001b[0m/  \u001b[34;42mid10776\u001b[0m/  \u001b[34;42mid10928\u001b[0m/  \u001b[34;42mid11080\u001b[0m/  \u001b[34;42mid11232\u001b[0m/\r\n",
      "\u001b[34;42mid10129\u001b[0m/  \u001b[34;42mid10321\u001b[0m/  \u001b[34;42mid10473\u001b[0m/  \u001b[34;42mid10625\u001b[0m/  \u001b[34;42mid10777\u001b[0m/  \u001b[34;42mid10929\u001b[0m/  \u001b[34;42mid11081\u001b[0m/  \u001b[34;42mid11233\u001b[0m/\r\n",
      "\u001b[34;42mid10130\u001b[0m/  \u001b[34;42mid10322\u001b[0m/  \u001b[34;42mid10474\u001b[0m/  \u001b[34;42mid10626\u001b[0m/  \u001b[34;42mid10778\u001b[0m/  \u001b[34;42mid10930\u001b[0m/  \u001b[34;42mid11082\u001b[0m/  \u001b[34;42mid11234\u001b[0m/\r\n",
      "\u001b[34;42mid10131\u001b[0m/  \u001b[34;42mid10323\u001b[0m/  \u001b[34;42mid10475\u001b[0m/  \u001b[34;42mid10627\u001b[0m/  \u001b[34;42mid10779\u001b[0m/  \u001b[34;42mid10931\u001b[0m/  \u001b[34;42mid11083\u001b[0m/  \u001b[34;42mid11235\u001b[0m/\r\n",
      "\u001b[34;42mid10132\u001b[0m/  \u001b[34;42mid10324\u001b[0m/  \u001b[34;42mid10476\u001b[0m/  \u001b[34;42mid10628\u001b[0m/  \u001b[34;42mid10780\u001b[0m/  \u001b[34;42mid10932\u001b[0m/  \u001b[34;42mid11084\u001b[0m/  \u001b[34;42mid11236\u001b[0m/\r\n",
      "\u001b[34;42mid10133\u001b[0m/  \u001b[34;42mid10325\u001b[0m/  \u001b[34;42mid10477\u001b[0m/  \u001b[34;42mid10629\u001b[0m/  \u001b[34;42mid10781\u001b[0m/  \u001b[34;42mid10933\u001b[0m/  \u001b[34;42mid11085\u001b[0m/  \u001b[34;42mid11237\u001b[0m/\r\n",
      "\u001b[34;42mid10134\u001b[0m/  \u001b[34;42mid10326\u001b[0m/  \u001b[34;42mid10478\u001b[0m/  \u001b[34;42mid10630\u001b[0m/  \u001b[34;42mid10782\u001b[0m/  \u001b[34;42mid10934\u001b[0m/  \u001b[34;42mid11086\u001b[0m/  \u001b[34;42mid11238\u001b[0m/\r\n",
      "\u001b[34;42mid10135\u001b[0m/  \u001b[34;42mid10327\u001b[0m/  \u001b[34;42mid10479\u001b[0m/  \u001b[34;42mid10631\u001b[0m/  \u001b[34;42mid10783\u001b[0m/  \u001b[34;42mid10935\u001b[0m/  \u001b[34;42mid11087\u001b[0m/  \u001b[34;42mid11239\u001b[0m/\r\n",
      "\u001b[34;42mid10136\u001b[0m/  \u001b[34;42mid10328\u001b[0m/  \u001b[34;42mid10480\u001b[0m/  \u001b[34;42mid10632\u001b[0m/  \u001b[34;42mid10784\u001b[0m/  \u001b[34;42mid10936\u001b[0m/  \u001b[34;42mid11088\u001b[0m/  \u001b[34;42mid11240\u001b[0m/\r\n",
      "\u001b[34;42mid10137\u001b[0m/  \u001b[34;42mid10329\u001b[0m/  \u001b[34;42mid10481\u001b[0m/  \u001b[34;42mid10633\u001b[0m/  \u001b[34;42mid10785\u001b[0m/  \u001b[34;42mid10937\u001b[0m/  \u001b[34;42mid11089\u001b[0m/  \u001b[34;42mid11241\u001b[0m/\r\n",
      "\u001b[34;42mid10138\u001b[0m/  \u001b[34;42mid10330\u001b[0m/  \u001b[34;42mid10482\u001b[0m/  \u001b[34;42mid10634\u001b[0m/  \u001b[34;42mid10786\u001b[0m/  \u001b[34;42mid10938\u001b[0m/  \u001b[34;42mid11090\u001b[0m/  \u001b[34;42mid11242\u001b[0m/\r\n",
      "\u001b[34;42mid10139\u001b[0m/  \u001b[34;42mid10331\u001b[0m/  \u001b[34;42mid10483\u001b[0m/  \u001b[34;42mid10635\u001b[0m/  \u001b[34;42mid10787\u001b[0m/  \u001b[34;42mid10939\u001b[0m/  \u001b[34;42mid11091\u001b[0m/  \u001b[34;42mid11243\u001b[0m/\r\n",
      "\u001b[34;42mid10140\u001b[0m/  \u001b[34;42mid10332\u001b[0m/  \u001b[34;42mid10484\u001b[0m/  \u001b[34;42mid10636\u001b[0m/  \u001b[34;42mid10788\u001b[0m/  \u001b[34;42mid10940\u001b[0m/  \u001b[34;42mid11092\u001b[0m/  \u001b[34;42mid11244\u001b[0m/\r\n",
      "\u001b[34;42mid10141\u001b[0m/  \u001b[34;42mid10333\u001b[0m/  \u001b[34;42mid10485\u001b[0m/  \u001b[34;42mid10637\u001b[0m/  \u001b[34;42mid10789\u001b[0m/  \u001b[34;42mid10941\u001b[0m/  \u001b[34;42mid11093\u001b[0m/  \u001b[34;42mid11245\u001b[0m/\r\n",
      "\u001b[34;42mid10142\u001b[0m/  \u001b[34;42mid10334\u001b[0m/  \u001b[34;42mid10486\u001b[0m/  \u001b[34;42mid10638\u001b[0m/  \u001b[34;42mid10790\u001b[0m/  \u001b[34;42mid10942\u001b[0m/  \u001b[34;42mid11094\u001b[0m/  \u001b[34;42mid11246\u001b[0m/\r\n",
      "\u001b[34;42mid10143\u001b[0m/  \u001b[34;42mid10335\u001b[0m/  \u001b[34;42mid10487\u001b[0m/  \u001b[34;42mid10639\u001b[0m/  \u001b[34;42mid10791\u001b[0m/  \u001b[34;42mid10943\u001b[0m/  \u001b[34;42mid11095\u001b[0m/  \u001b[34;42mid11247\u001b[0m/\r\n",
      "\u001b[34;42mid10144\u001b[0m/  \u001b[34;42mid10336\u001b[0m/  \u001b[34;42mid10488\u001b[0m/  \u001b[34;42mid10640\u001b[0m/  \u001b[34;42mid10792\u001b[0m/  \u001b[34;42mid10944\u001b[0m/  \u001b[34;42mid11096\u001b[0m/  \u001b[34;42mid11248\u001b[0m/\r\n",
      "\u001b[34;42mid10145\u001b[0m/  \u001b[34;42mid10337\u001b[0m/  \u001b[34;42mid10489\u001b[0m/  \u001b[34;42mid10641\u001b[0m/  \u001b[34;42mid10793\u001b[0m/  \u001b[34;42mid10945\u001b[0m/  \u001b[34;42mid11097\u001b[0m/  \u001b[34;42mid11249\u001b[0m/\r\n",
      "\u001b[34;42mid10146\u001b[0m/  \u001b[34;42mid10338\u001b[0m/  \u001b[34;42mid10490\u001b[0m/  \u001b[34;42mid10642\u001b[0m/  \u001b[34;42mid10794\u001b[0m/  \u001b[34;42mid10946\u001b[0m/  \u001b[34;42mid11098\u001b[0m/  \u001b[34;42mid11250\u001b[0m/\r\n",
      "\u001b[34;42mid10147\u001b[0m/  \u001b[34;42mid10339\u001b[0m/  \u001b[34;42mid10491\u001b[0m/  \u001b[34;42mid10643\u001b[0m/  \u001b[34;42mid10795\u001b[0m/  \u001b[34;42mid10947\u001b[0m/  \u001b[34;42mid11099\u001b[0m/  \u001b[34;42mid11251\u001b[0m/\r\n",
      "\u001b[34;42mid10148\u001b[0m/  \u001b[34;42mid10340\u001b[0m/  \u001b[34;42mid10492\u001b[0m/  \u001b[34;42mid10644\u001b[0m/  \u001b[34;42mid10796\u001b[0m/  \u001b[34;42mid10948\u001b[0m/  \u001b[34;42mid11100\u001b[0m/\r\n",
      "\u001b[34;42mid10149\u001b[0m/  \u001b[34;42mid10341\u001b[0m/  \u001b[34;42mid10493\u001b[0m/  \u001b[34;42mid10645\u001b[0m/  \u001b[34;42mid10797\u001b[0m/  \u001b[34;42mid10949\u001b[0m/  \u001b[34;42mid11101\u001b[0m/\r\n",
      "\u001b[34;42mid10150\u001b[0m/  \u001b[34;42mid10342\u001b[0m/  \u001b[34;42mid10494\u001b[0m/  \u001b[34;42mid10646\u001b[0m/  \u001b[34;42mid10798\u001b[0m/  \u001b[34;42mid10950\u001b[0m/  \u001b[34;42mid11102\u001b[0m/\r\n",
      "\u001b[34;42mid10151\u001b[0m/  \u001b[34;42mid10343\u001b[0m/  \u001b[34;42mid10495\u001b[0m/  \u001b[34;42mid10647\u001b[0m/  \u001b[34;42mid10799\u001b[0m/  \u001b[34;42mid10951\u001b[0m/  \u001b[34;42mid11103\u001b[0m/\r\n",
      "\u001b[34;42mid10152\u001b[0m/  \u001b[34;42mid10344\u001b[0m/  \u001b[34;42mid10496\u001b[0m/  \u001b[34;42mid10648\u001b[0m/  \u001b[34;42mid10800\u001b[0m/  \u001b[34;42mid10952\u001b[0m/  \u001b[34;42mid11104\u001b[0m/\r\n"
     ]
    }
   ],
   "source": [
    "ls ../../../../../Documents/Final-Project-data/vox1_dev_wav/wav"
   ]
  },
  {
   "cell_type": "markdown",
   "metadata": {},
   "source": [
    "For example, I choose two celebrity ID : id10965 corresponds to Regina_Hall and id11109\tcorresponds to Stephen Baldwin."
   ]
  },
  {
   "cell_type": "code",
   "execution_count": 10,
   "metadata": {
    "scrolled": true
   },
   "outputs": [
    {
     "name": "stdout",
     "output_type": "stream",
     "text": [
      "\u001b[0m\u001b[34;42m0AdxTgLLbFY\u001b[0m/  \u001b[34;42mavNaBy3u3Ow\u001b[0m/  \u001b[34;42mJRXA-X2K5zc\u001b[0m/  \u001b[34;42mpGMcglQYXYE\u001b[0m/  \u001b[34;42mzZ2uBOISm5Q\u001b[0m/\r\n",
      "\u001b[34;42m4GbjXgL5-yQ\u001b[0m/  \u001b[34;42mCYf4vAgT_iQ\u001b[0m/  \u001b[34;42mkoRHZBBT_VI\u001b[0m/  \u001b[34;42mQXWsnscCJLI\u001b[0m/\r\n",
      "\u001b[34;42m9-XitQATNL8\u001b[0m/  \u001b[34;42mGH0kJfikbOU\u001b[0m/  \u001b[34;42mOHDRhzSfICk\u001b[0m/  \u001b[34;42mTKek4WAhbSE\u001b[0m/\r\n",
      "\u001b[34;42mAuYQOAiIzk0\u001b[0m/  \u001b[34;42mIXwnjoHthfA\u001b[0m/  \u001b[34;42mOJIfvnH1ymk\u001b[0m/  \u001b[34;42mXo0b4f0UVEA\u001b[0m/\r\n"
     ]
    }
   ],
   "source": [
    "ls ../../../../../Documents/Final-Project-data/vox1_dev_wav/wav/id10965"
   ]
  },
  {
   "cell_type": "code",
   "execution_count": 67,
   "metadata": {},
   "outputs": [
    {
     "data": {
      "text/html": [
       "<div>\n",
       "<style scoped>\n",
       "    .dataframe tbody tr th:only-of-type {\n",
       "        vertical-align: middle;\n",
       "    }\n",
       "\n",
       "    .dataframe tbody tr th {\n",
       "        vertical-align: top;\n",
       "    }\n",
       "\n",
       "    .dataframe thead th {\n",
       "        text-align: right;\n",
       "    }\n",
       "</style>\n",
       "<table border=\"1\" class=\"dataframe\">\n",
       "  <thead>\n",
       "    <tr style=\"text-align: right;\">\n",
       "      <th></th>\n",
       "      <th>VoxCeleb1_ID</th>\n",
       "      <th>VGGFace1_ID</th>\n",
       "      <th>Gender</th>\n",
       "      <th>Nationality</th>\n",
       "      <th>Set</th>\n",
       "    </tr>\n",
       "  </thead>\n",
       "  <tbody>\n",
       "    <tr>\n",
       "      <td>964</td>\n",
       "      <td>id10965</td>\n",
       "      <td>Regina_Hall</td>\n",
       "      <td>0</td>\n",
       "      <td>1</td>\n",
       "      <td>dev</td>\n",
       "    </tr>\n",
       "  </tbody>\n",
       "</table>\n",
       "</div>"
      ],
      "text/plain": [
       "    VoxCeleb1_ID  VGGFace1_ID  Gender  Nationality  Set\n",
       "964      id10965  Regina_Hall       0            1  dev"
      ]
     },
     "execution_count": 67,
     "metadata": {},
     "output_type": "execute_result"
    }
   ],
   "source": [
    "celebrity_speakers_data_limited.loc[celebrity_speakers_data_limited['VoxCeleb1_ID'] == 'id10965']"
   ]
  },
  {
   "cell_type": "code",
   "execution_count": 69,
   "metadata": {},
   "outputs": [
    {
     "name": "stdout",
     "output_type": "stream",
     "text": [
      "\u001b[0m\u001b[00;36m00001.wav\u001b[0m\r\n"
     ]
    }
   ],
   "source": [
    "ls ../../../../../Documents/Final-Project-data/vox1_dev_wav/wav/id10965/0AdxTgLLbFY"
   ]
  },
  {
   "cell_type": "code",
   "execution_count": 11,
   "metadata": {},
   "outputs": [
    {
     "data": {
      "text/html": [
       "<div>\n",
       "<style scoped>\n",
       "    .dataframe tbody tr th:only-of-type {\n",
       "        vertical-align: middle;\n",
       "    }\n",
       "\n",
       "    .dataframe tbody tr th {\n",
       "        vertical-align: top;\n",
       "    }\n",
       "\n",
       "    .dataframe thead th {\n",
       "        text-align: right;\n",
       "    }\n",
       "</style>\n",
       "<table border=\"1\" class=\"dataframe\">\n",
       "  <thead>\n",
       "    <tr style=\"text-align: right;\">\n",
       "      <th></th>\n",
       "      <th>VoxCeleb1_ID</th>\n",
       "      <th>VGGFace1_ID</th>\n",
       "      <th>Gender</th>\n",
       "      <th>Nationality</th>\n",
       "      <th>Set</th>\n",
       "    </tr>\n",
       "  </thead>\n",
       "  <tbody>\n",
       "    <tr>\n",
       "      <td>1108</td>\n",
       "      <td>id11109</td>\n",
       "      <td>Stephen_Baldwin</td>\n",
       "      <td>1</td>\n",
       "      <td>1</td>\n",
       "      <td>dev</td>\n",
       "    </tr>\n",
       "  </tbody>\n",
       "</table>\n",
       "</div>"
      ],
      "text/plain": [
       "     VoxCeleb1_ID      VGGFace1_ID  Gender  Nationality  Set\n",
       "1108      id11109  Stephen_Baldwin       1            1  dev"
      ]
     },
     "execution_count": 11,
     "metadata": {},
     "output_type": "execute_result"
    }
   ],
   "source": [
    "celebrity_speakers_data_limited.loc[celebrity_speakers_data_limited['VoxCeleb1_ID'] == 'id11109']"
   ]
  },
  {
   "cell_type": "code",
   "execution_count": 13,
   "metadata": {},
   "outputs": [
    {
     "name": "stdout",
     "output_type": "stream",
     "text": [
      "\u001b[0m\u001b[00;36m00001.wav\u001b[0m  \u001b[00;36m00002.wav\u001b[0m  \u001b[00;36m00003.wav\u001b[0m\r\n"
     ]
    }
   ],
   "source": [
    "ls ../../../../../Documents/Final-Project-data/vox1_dev_wav/wav/id11109/410TXiXAVeU"
   ]
  },
  {
   "cell_type": "code",
   "execution_count": 14,
   "metadata": {},
   "outputs": [],
   "source": [
    "filepath_audio_id11109 = os.path.join('..', '..', '..', '..', '..', 'Documents', 'Final-Project-data', 'vox1_dev_wav', 'wav', 'id11109', '410TXiXAVeU', '00003.wav')"
   ]
  },
  {
   "cell_type": "markdown",
   "metadata": {},
   "source": [
    "I observe that there are several audios for each speaker in folders. I would like to add audio files name in my dataframe to can exploit them later so I create a funtion `get_audio_files_name` :"
   ]
  },
  {
   "cell_type": "markdown",
   "metadata": {},
   "source": []
  },
  {
   "cell_type": "markdown",
   "metadata": {},
   "source": [
    "<h3> 1.2 First approach : Extract numerical features with LibROSA library"
   ]
  },
  {
   "cell_type": "markdown",
   "metadata": {},
   "source": [
    "After my research on internet, sound is a signal distinctive by a:\n",
    "- frequency : \n",
    "- energy :\n",
    "- tempo :\n",
    "- MFCC :"
   ]
  },
  {
   "cell_type": "markdown",
   "metadata": {},
   "source": [
    "I use LibROSA library to extract features from the audio file to train my model : I begin in one example.\n",
    "\n"
   ]
  },
  {
   "cell_type": "code",
   "execution_count": 17,
   "metadata": {
    "scrolled": true
   },
   "outputs": [],
   "source": [
    "x, sr = librosa.load(filepath_audio_id10965)"
   ]
  },
  {
   "cell_type": "code",
   "execution_count": 18,
   "metadata": {},
   "outputs": [
    {
     "data": {
      "text/plain": [
       "array([ 0.04559026,  0.0507981 ,  0.05007365, ..., -0.00407297,\n",
       "       -0.00374473,  0.        ], dtype=float32)"
      ]
     },
     "execution_count": 18,
     "metadata": {},
     "output_type": "execute_result"
    }
   ],
   "source": [
    "x"
   ]
  },
  {
   "cell_type": "code",
   "execution_count": 19,
   "metadata": {},
   "outputs": [
    {
     "data": {
      "text/plain": [
       "22050"
      ]
     },
     "execution_count": 19,
     "metadata": {},
     "output_type": "execute_result"
    }
   ],
   "source": [
    "sr"
   ]
  },
  {
   "cell_type": "code",
   "execution_count": 15,
   "metadata": {},
   "outputs": [
    {
     "data": {
      "text/plain": [
       "(array([-0.02726793, -0.03107388, -0.025704  , ..., -0.00577887,\n",
       "        -0.00425673,  0.        ], dtype=float32), 22050)"
      ]
     },
     "execution_count": 15,
     "metadata": {},
     "output_type": "execute_result"
    }
   ],
   "source": [
    "librosa.core.load(filepath_audio_id11109)"
   ]
  },
  {
   "cell_type": "code",
   "execution_count": null,
   "metadata": {},
   "outputs": [],
   "source": []
  }
 ],
 "metadata": {
  "kernelspec": {
   "display_name": "Python 3",
   "language": "python",
   "name": "python3"
  },
  "language_info": {
   "codemirror_mode": {
    "name": "ipython",
    "version": 3
   },
   "file_extension": ".py",
   "mimetype": "text/x-python",
   "name": "python",
   "nbconvert_exporter": "python",
   "pygments_lexer": "ipython3",
   "version": "3.7.4"
  }
 },
 "nbformat": 4,
 "nbformat_minor": 2
}
