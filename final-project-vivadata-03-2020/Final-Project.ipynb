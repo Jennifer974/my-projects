{
 "cells": [
  {
   "cell_type": "markdown",
   "metadata": {},
   "source": [
    "<h1> Final Project : CelebVoice, Celebrity Speech Recognition"
   ]
  },
  {
   "cell_type": "markdown",
   "metadata": {},
   "source": [
    "<img src='../images-library/retro-radio-microphone-against-purple-background.jpg'>\n",
    "\n",
    "Photo by <a href=\"https://burst.shopify.com/@lightleaksin?utm_campaign=photo_credit&amp;utm_content=Browse+Free+HD+Images+of+Retro+Radio+Microphone+Against+Purple+Background&amp;utm_medium=referral&amp;utm_source=credit\">Samantha Hurley</a> from <a href=\"https://burst.shopify.com/vintage?utm_campaign=photo_credit&amp;utm_content=Browse+Free+HD+Images+of+Retro+Radio+Microphone+Against+Purple+Background&amp;utm_medium=referral&amp;utm_source=credit\">Burst</a>"
   ]
  },
  {
   "cell_type": "markdown",
   "metadata": {},
   "source": [
    "<h2> Objectives 🚀"
   ]
  },
  {
   "cell_type": "markdown",
   "metadata": {},
   "source": [
    "Recognize celebrity speakers from any speech :\n",
    "[Project Plan](https://docs.google.com/presentation/d/16wNe2B3FZuiwzTYpEq4Us9K1lSrWAeuP5wIO_sBCzRY/edit?usp=sharing)\n",
    "\n",
    "I choose this project because I am fascinated by audio synthesis and I decide to study voice recognition part to begin.\n",
    "   \n",
    "*Source : Extract from The VoxCeleb Speaker Recognition Challenge (VoxSRC - University of Oxford) :* [VoxCeleb Speaker Recognition Challenge (VoxSRC)](http://www.robots.ox.ac.uk/~vgg/data/voxceleb/competition.html)"
   ]
  },
  {
   "cell_type": "markdown",
   "metadata": {},
   "source": [
    "<h2> Prerequisites"
   ]
  },
  {
   "cell_type": "markdown",
   "metadata": {},
   "source": [
    "- I crate a virtual environment for my project to can export it later and avoid versioning issue. I install different packages with `pip install -r requirements.txt` command : "
   ]
  },
  {
   "cell_type": "code",
   "execution_count": 3,
   "metadata": {},
   "outputs": [
    {
     "name": "stdout",
     "output_type": "stream",
     "text": [
      "Final-Project.ipynb  requirements.txt  \u001b[0m\u001b[01;34mvenv\u001b[0m/\r\n"
     ]
    }
   ],
   "source": [
    "!ls"
   ]
  },
  {
   "cell_type": "code",
   "execution_count": 1,
   "metadata": {
    "scrolled": true
   },
   "outputs": [
    {
     "name": "stdout",
     "output_type": "stream",
     "text": [
      "Python==3.7.4\r\n",
      "Pandas==1.0.0\r\n",
      "Numpy==1.17.2\r\n",
      "Scipy==1.3.1\r\n",
      "Scikit-learn==0.21.3\r\n",
      "Librosa==0.7.2\r\n",
      "Matplotlib==3.1.1\r\n",
      "Seaborn==0.10.0\r\n",
      "Pyaudio==0.2.11\r\n",
      "tensorflow==2.1.0\r\n"
     ]
    }
   ],
   "source": [
    "!cat requirements.txt"
   ]
  },
  {
   "cell_type": "markdown",
   "metadata": {},
   "source": [
    "- I install LibROSA library, a python package for music and audio analysis : [LibROSA - librosa 0.7.2 documentation](https://librosa.github.io/librosa/)"
   ]
  },
  {
   "cell_type": "markdown",
   "metadata": {},
   "source": [
    "- I install pyAudio library to play and record audio : [PyAudio - documentation](https://people.csail.mit.edu/hubert/pyaudio/docs/)"
   ]
  },
  {
   "cell_type": "markdown",
   "metadata": {},
   "source": [
    "- I read documentation on voiceprint to can identify each celebrity voice and audio signal processing :"
   ]
  },
  {
   "cell_type": "markdown",
   "metadata": {},
   "source": [
    "1.  [*From Natural to Artificial Intelligence - Algorithms and Applications* : Some Commonly Used Speech Feature Extraction Algorithms (book extract)](https://www.intechopen.com/books/from-natural-to-artificial-intelligence-algorithms-and-applications/some-commonly-used-speech-feature-extraction-algorithms)\n",
    "\n",
    "2. [Deep Learning course : keywords voice recognition](https://deeplylearning.fr/cours-pratiques-deep-learning/reconnaissance-vocale-de-mots-cles/)\n",
    "\n",
    "3. [Voice Gender Identification project](https://maelfabien.github.io/machinelearning/Speech11/#)\n",
    "\n",
    "4. [Voice Classification with Neural Networks project](https://towardsdatascience.com/voice-classification-with-neural-networks-ff90f94358ec)"
   ]
  },
  {
   "cell_type": "markdown",
   "metadata": {},
   "source": [
    "<h2> Import"
   ]
  },
  {
   "cell_type": "markdown",
   "metadata": {},
   "source": [
    "I import all my needed librairies here and I report them for each chapter :"
   ]
  },
  {
   "cell_type": "code",
   "execution_count": 2,
   "metadata": {},
   "outputs": [],
   "source": [
    "#System library to manipulate folders...\n",
    "import sys, os, shutil\n",
    "\n",
    "#I use a virtual environment for my project : venv\n",
    "sys.path.append('/home/jlenclume/code/Jennifer974/my_projects/final-project-vivadata-03-2020/venv/lib/python3.7/site-packages')\n",
    "\n",
    "#Data Manipulation\n",
    "import pandas as pd, numpy as np\n",
    "\n",
    "#Feature extraction\n",
    "import librosa               #Audio library\n",
    "\n",
    "#To play audio\n",
    "#import pyaudio\n",
    "\n",
    "#Data Storage\n",
    "import pickle\n",
    "\n",
    "#Data visualization\n",
    "import matplotlib.pyplot as plt, seaborn as sns\n",
    "import librosa.display"
   ]
  },
  {
   "cell_type": "markdown",
   "metadata": {},
   "source": [
    "<h2> Dataset"
   ]
  },
  {
   "cell_type": "markdown",
   "metadata": {},
   "source": [
    "All important files used for my project saved here [Final Project data](https://drive.google.com/drive/u/0/folders/1qvcWw5RyMjSaWA3ft_THVjGptLy_09Rt)"
   ]
  },
  {
   "cell_type": "markdown",
   "metadata": {},
   "source": [
    "📥 I download the VoxCeleb1 dataset on : [VoxCeleb : A large scale audio-visual dataset of human speech](http://www.robots.ox.ac.uk/~vgg/data/voxceleb/index.html#portfolio) :\n",
    "\n",
    "- I am limited to use the VoxCeleb1 dataset because is lower than which give by the VoxSRC Challenge and my CPU will support it.\n",
    "- It contains 148 642 audio files (format : wav - duration : 5s in average) extracted from YouTube videos of celebrity interviews : 1251 celebrity speakers\n",
    "- My data is labelised : Using Supervised Machine Learning Model\n",
    "- My targets are discrete values : I am in Classification case and I use Deep Learning model"
   ]
  },
  {
   "cell_type": "markdown",
   "metadata": {},
   "source": [
    "`vox1_meta.csv` contains metadata for all the speakers in the dataset : full names, nationality and gender labels. I explore this file to have more informations on my dataset :"
   ]
  },
  {
   "cell_type": "code",
   "execution_count": 5,
   "metadata": {},
   "outputs": [
    {
     "name": "stdout",
     "output_type": "stream",
     "text": [
      "/home/jlenclume/code/Jennifer974/my_projects/final-project-vivadata-03-2020\r\n"
     ]
    }
   ],
   "source": [
    "# I verify my path\n",
    "!pwd"
   ]
  },
  {
   "cell_type": "markdown",
   "metadata": {},
   "source": [
    "I define my file path to import `vox1_meta.csv` in a dataframe named `celebrity_speakers_data` :"
   ]
  },
  {
   "cell_type": "code",
   "execution_count": 7,
   "metadata": {},
   "outputs": [],
   "source": [
    "filepath = os.path.join('..', '..', '..', '..', 'Documents', 'Final-Project-data', 'vox1_meta.csv')"
   ]
  },
  {
   "cell_type": "code",
   "execution_count": 8,
   "metadata": {},
   "outputs": [
    {
     "data": {
      "text/plain": [
       "'../../../../Documents/Final-Project-data/vox1_meta.csv'"
      ]
     },
     "execution_count": 8,
     "metadata": {},
     "output_type": "execute_result"
    }
   ],
   "source": [
    "filepath"
   ]
  },
  {
   "cell_type": "code",
   "execution_count": 9,
   "metadata": {},
   "outputs": [],
   "source": [
    "celebrity_speakers_data = pd.read_csv(filepath, delim_whitespace=True)"
   ]
  },
  {
   "cell_type": "markdown",
   "metadata": {},
   "source": [
    "<h3> 1. Celebrity speakers : Data Exploration"
   ]
  },
  {
   "cell_type": "markdown",
   "metadata": {},
   "source": [
    "My dataframe has 1251 rows corresponding to number of celebrity speakers interviewed and 5 columns corresponding to :\n",
    "\n",
    "1. `VoxCeleb1_ID` : celebrity speakers ID\n",
    "2. `VGGFace1_ID` : celebrity speakers names\n",
    "3. `Gender` : celebrity speakers gender\n",
    "4. `Nationality` : celebrity speakers nationality\n",
    "5. `Set` : if celebrity will use for train (development) or test model part"
   ]
  },
  {
   "cell_type": "code",
   "execution_count": 11,
   "metadata": {
    "scrolled": true
   },
   "outputs": [
    {
     "data": {
      "text/plain": [
       "(1251, 5)"
      ]
     },
     "execution_count": 11,
     "metadata": {},
     "output_type": "execute_result"
    }
   ],
   "source": [
    "celebrity_speakers_data.shape"
   ]
  },
  {
   "cell_type": "code",
   "execution_count": 12,
   "metadata": {
    "scrolled": true
   },
   "outputs": [
    {
     "data": {
      "text/html": [
       "<div>\n",
       "<style scoped>\n",
       "    .dataframe tbody tr th:only-of-type {\n",
       "        vertical-align: middle;\n",
       "    }\n",
       "\n",
       "    .dataframe tbody tr th {\n",
       "        vertical-align: top;\n",
       "    }\n",
       "\n",
       "    .dataframe thead th {\n",
       "        text-align: right;\n",
       "    }\n",
       "</style>\n",
       "<table border=\"1\" class=\"dataframe\">\n",
       "  <thead>\n",
       "    <tr style=\"text-align: right;\">\n",
       "      <th></th>\n",
       "      <th>VoxCeleb1_ID</th>\n",
       "      <th>VGGFace1_ID</th>\n",
       "      <th>Gender</th>\n",
       "      <th>Nationality</th>\n",
       "      <th>Set</th>\n",
       "    </tr>\n",
       "  </thead>\n",
       "  <tbody>\n",
       "    <tr>\n",
       "      <td>0</td>\n",
       "      <td>id10001</td>\n",
       "      <td>A.J._Buckley</td>\n",
       "      <td>m</td>\n",
       "      <td>Ireland</td>\n",
       "      <td>dev</td>\n",
       "    </tr>\n",
       "    <tr>\n",
       "      <td>1</td>\n",
       "      <td>id10002</td>\n",
       "      <td>A.R._Rahman</td>\n",
       "      <td>m</td>\n",
       "      <td>India</td>\n",
       "      <td>dev</td>\n",
       "    </tr>\n",
       "    <tr>\n",
       "      <td>2</td>\n",
       "      <td>id10003</td>\n",
       "      <td>Aamir_Khan</td>\n",
       "      <td>m</td>\n",
       "      <td>India</td>\n",
       "      <td>dev</td>\n",
       "    </tr>\n",
       "    <tr>\n",
       "      <td>3</td>\n",
       "      <td>id10004</td>\n",
       "      <td>Aaron_Tveit</td>\n",
       "      <td>m</td>\n",
       "      <td>USA</td>\n",
       "      <td>dev</td>\n",
       "    </tr>\n",
       "    <tr>\n",
       "      <td>4</td>\n",
       "      <td>id10005</td>\n",
       "      <td>Aaron_Yoo</td>\n",
       "      <td>m</td>\n",
       "      <td>USA</td>\n",
       "      <td>dev</td>\n",
       "    </tr>\n",
       "  </tbody>\n",
       "</table>\n",
       "</div>"
      ],
      "text/plain": [
       "  VoxCeleb1_ID   VGGFace1_ID Gender Nationality  Set\n",
       "0      id10001  A.J._Buckley      m     Ireland  dev\n",
       "1      id10002   A.R._Rahman      m       India  dev\n",
       "2      id10003    Aamir_Khan      m       India  dev\n",
       "3      id10004   Aaron_Tveit      m         USA  dev\n",
       "4      id10005     Aaron_Yoo      m         USA  dev"
      ]
     },
     "execution_count": 12,
     "metadata": {},
     "output_type": "execute_result"
    }
   ],
   "source": [
    "celebrity_speakers_data.head()"
   ]
  },
  {
   "cell_type": "markdown",
   "metadata": {},
   "source": [
    "All my dataframe is string type and it seems there aren't `NAN` values :"
   ]
  },
  {
   "cell_type": "code",
   "execution_count": 11,
   "metadata": {},
   "outputs": [
    {
     "name": "stdout",
     "output_type": "stream",
     "text": [
      "<class 'pandas.core.frame.DataFrame'>\n",
      "RangeIndex: 1251 entries, 0 to 1250\n",
      "Data columns (total 5 columns):\n",
      "VoxCeleb1_ID    1251 non-null object\n",
      "VGGFace1_ID     1251 non-null object\n",
      "Gender          1251 non-null object\n",
      "Nationality     1251 non-null object\n",
      "Set             1251 non-null object\n",
      "dtypes: object(5)\n",
      "memory usage: 49.0+ KB\n"
     ]
    }
   ],
   "source": [
    "celebrity_speakers_data.info()"
   ]
  },
  {
   "cell_type": "markdown",
   "metadata": {},
   "source": [
    "<h3> 2. Celebrity speakers : Data Cleaning"
   ]
  },
  {
   "cell_type": "markdown",
   "metadata": {},
   "source": [
    "I verify again if there aren't `NAN` values to can exploit and visualize my data :"
   ]
  },
  {
   "cell_type": "code",
   "execution_count": 12,
   "metadata": {},
   "outputs": [
    {
     "data": {
      "text/plain": [
       "VoxCeleb1_ID    0\n",
       "VGGFace1_ID     0\n",
       "Gender          0\n",
       "Nationality     0\n",
       "Set             0\n",
       "dtype: int64"
      ]
     },
     "execution_count": 12,
     "metadata": {},
     "output_type": "execute_result"
    }
   ],
   "source": [
    "celebrity_speakers_data.isna().sum()"
   ]
  },
  {
   "cell_type": "markdown",
   "metadata": {},
   "source": [
    "I control duplicates :"
   ]
  },
  {
   "cell_type": "code",
   "execution_count": 13,
   "metadata": {},
   "outputs": [
    {
     "data": {
      "text/plain": [
       "0"
      ]
     },
     "execution_count": 13,
     "metadata": {},
     "output_type": "execute_result"
    }
   ],
   "source": [
    "celebrity_speakers_data.duplicated().sum()"
   ]
  },
  {
   "cell_type": "markdown",
   "metadata": {},
   "source": [
    "My data is cleaned but I have to change my columns because I need numerical values to plot data :"
   ]
  },
  {
   "cell_type": "code",
   "execution_count": 14,
   "metadata": {},
   "outputs": [
    {
     "data": {
      "text/html": [
       "<div>\n",
       "<style scoped>\n",
       "    .dataframe tbody tr th:only-of-type {\n",
       "        vertical-align: middle;\n",
       "    }\n",
       "\n",
       "    .dataframe tbody tr th {\n",
       "        vertical-align: top;\n",
       "    }\n",
       "\n",
       "    .dataframe thead th {\n",
       "        text-align: right;\n",
       "    }\n",
       "</style>\n",
       "<table border=\"1\" class=\"dataframe\">\n",
       "  <thead>\n",
       "    <tr style=\"text-align: right;\">\n",
       "      <th></th>\n",
       "      <th>VoxCeleb1_ID</th>\n",
       "      <th>VGGFace1_ID</th>\n",
       "      <th>Gender</th>\n",
       "      <th>Nationality</th>\n",
       "      <th>Set</th>\n",
       "    </tr>\n",
       "  </thead>\n",
       "  <tbody>\n",
       "    <tr>\n",
       "      <td>0</td>\n",
       "      <td>id10001</td>\n",
       "      <td>A.J._Buckley</td>\n",
       "      <td>m</td>\n",
       "      <td>Ireland</td>\n",
       "      <td>dev</td>\n",
       "    </tr>\n",
       "    <tr>\n",
       "      <td>1</td>\n",
       "      <td>id10002</td>\n",
       "      <td>A.R._Rahman</td>\n",
       "      <td>m</td>\n",
       "      <td>India</td>\n",
       "      <td>dev</td>\n",
       "    </tr>\n",
       "    <tr>\n",
       "      <td>2</td>\n",
       "      <td>id10003</td>\n",
       "      <td>Aamir_Khan</td>\n",
       "      <td>m</td>\n",
       "      <td>India</td>\n",
       "      <td>dev</td>\n",
       "    </tr>\n",
       "    <tr>\n",
       "      <td>3</td>\n",
       "      <td>id10004</td>\n",
       "      <td>Aaron_Tveit</td>\n",
       "      <td>m</td>\n",
       "      <td>USA</td>\n",
       "      <td>dev</td>\n",
       "    </tr>\n",
       "    <tr>\n",
       "      <td>4</td>\n",
       "      <td>id10005</td>\n",
       "      <td>Aaron_Yoo</td>\n",
       "      <td>m</td>\n",
       "      <td>USA</td>\n",
       "      <td>dev</td>\n",
       "    </tr>\n",
       "  </tbody>\n",
       "</table>\n",
       "</div>"
      ],
      "text/plain": [
       "  VoxCeleb1_ID   VGGFace1_ID Gender Nationality  Set\n",
       "0      id10001  A.J._Buckley      m     Ireland  dev\n",
       "1      id10002   A.R._Rahman      m       India  dev\n",
       "2      id10003    Aamir_Khan      m       India  dev\n",
       "3      id10004   Aaron_Tveit      m         USA  dev\n",
       "4      id10005     Aaron_Yoo      m         USA  dev"
      ]
     },
     "execution_count": 14,
     "metadata": {},
     "output_type": "execute_result"
    }
   ],
   "source": [
    "celebrity_speakers_data.head()"
   ]
  },
  {
   "cell_type": "markdown",
   "metadata": {},
   "source": [
    "<h3> 3. Celebrity speakers : Data Analysis"
   ]
  },
  {
   "cell_type": "markdown",
   "metadata": {},
   "source": [
    "I plot dataset repartition between development and test :"
   ]
  },
  {
   "cell_type": "code",
   "execution_count": 12,
   "metadata": {
    "scrolled": true
   },
   "outputs": [
    {
     "data": {
      "image/png": "[encoded data removed]",
      "text/plain": [
       "<Figure size 576x432 with 1 Axes>"
      ]
     },
     "metadata": {},
     "output_type": "display_data"
    }
   ],
   "source": [
    "plt.figure(figsize=(8,6))\n",
    "\n",
    "textprops={'color': 'w', 'size': 12, 'weight': 'bold'}             #Text property\n",
    "labels = ['Dev', 'Test']                                           #Dataset part label\n",
    "\n",
    "plt.pie(x=celebrity_speakers_data['Set'].value_counts(),\n",
    "        labels=labels,\n",
    "        autopct='%1.1f%%',                                         #Labels proportion\n",
    "        pctdistance=.5, \n",
    "        labeldistance=.7, \n",
    "        textprops=textprops)                                       #Text property\n",
    "\n",
    "plt.title('Repartition of celebrity speakers by dataset part',     #Diagram title\n",
    "          fontdict={'size': 14, 'fontweight': 'bold'})\n",
    "\n",
    "plt.legend(loc='lower right')                                      #Legend location\n",
    "\n",
    "plt.show()"
   ]
  },
  {
   "cell_type": "markdown",
   "metadata": {},
   "source": [
    "I use `get_dummies` function to transform my different values into numerical values :"
   ]
  },
  {
   "cell_type": "code",
   "execution_count": 13,
   "metadata": {
    "scrolled": false
   },
   "outputs": [
    {
     "data": {
      "text/plain": [
       "m    690\n",
       "f    561\n",
       "Name: Gender, dtype: int64"
      ]
     },
     "execution_count": 13,
     "metadata": {},
     "output_type": "execute_result"
    }
   ],
   "source": [
    "celebrity_speakers_data['Gender'].value_counts()"
   ]
  },
  {
   "cell_type": "code",
   "execution_count": 10,
   "metadata": {},
   "outputs": [],
   "source": [
    "celebrity_speakers_data['Gender'] = pd.get_dummies(celebrity_speakers_data['Gender'], prefix='Gender', drop_first=True)"
   ]
  },
  {
   "cell_type": "markdown",
   "metadata": {},
   "source": [
    "For the column `Gender` : 1 corresponding to male gender and 0 is for female gender"
   ]
  },
  {
   "cell_type": "code",
   "execution_count": 11,
   "metadata": {},
   "outputs": [
    {
     "data": {
      "text/html": [
       "<div>\n",
       "<style scoped>\n",
       "    .dataframe tbody tr th:only-of-type {\n",
       "        vertical-align: middle;\n",
       "    }\n",
       "\n",
       "    .dataframe tbody tr th {\n",
       "        vertical-align: top;\n",
       "    }\n",
       "\n",
       "    .dataframe thead th {\n",
       "        text-align: right;\n",
       "    }\n",
       "</style>\n",
       "<table border=\"1\" class=\"dataframe\">\n",
       "  <thead>\n",
       "    <tr style=\"text-align: right;\">\n",
       "      <th></th>\n",
       "      <th>VoxCeleb1_ID</th>\n",
       "      <th>VGGFace1_ID</th>\n",
       "      <th>Gender</th>\n",
       "      <th>Nationality</th>\n",
       "      <th>Set</th>\n",
       "    </tr>\n",
       "  </thead>\n",
       "  <tbody>\n",
       "    <tr>\n",
       "      <td>0</td>\n",
       "      <td>id10001</td>\n",
       "      <td>A.J._Buckley</td>\n",
       "      <td>1</td>\n",
       "      <td>Ireland</td>\n",
       "      <td>dev</td>\n",
       "    </tr>\n",
       "    <tr>\n",
       "      <td>1</td>\n",
       "      <td>id10002</td>\n",
       "      <td>A.R._Rahman</td>\n",
       "      <td>1</td>\n",
       "      <td>India</td>\n",
       "      <td>dev</td>\n",
       "    </tr>\n",
       "    <tr>\n",
       "      <td>2</td>\n",
       "      <td>id10003</td>\n",
       "      <td>Aamir_Khan</td>\n",
       "      <td>1</td>\n",
       "      <td>India</td>\n",
       "      <td>dev</td>\n",
       "    </tr>\n",
       "    <tr>\n",
       "      <td>3</td>\n",
       "      <td>id10004</td>\n",
       "      <td>Aaron_Tveit</td>\n",
       "      <td>1</td>\n",
       "      <td>USA</td>\n",
       "      <td>dev</td>\n",
       "    </tr>\n",
       "    <tr>\n",
       "      <td>4</td>\n",
       "      <td>id10005</td>\n",
       "      <td>Aaron_Yoo</td>\n",
       "      <td>1</td>\n",
       "      <td>USA</td>\n",
       "      <td>dev</td>\n",
       "    </tr>\n",
       "  </tbody>\n",
       "</table>\n",
       "</div>"
      ],
      "text/plain": [
       "  VoxCeleb1_ID   VGGFace1_ID  Gender Nationality  Set\n",
       "0      id10001  A.J._Buckley       1     Ireland  dev\n",
       "1      id10002   A.R._Rahman       1       India  dev\n",
       "2      id10003    Aamir_Khan       1       India  dev\n",
       "3      id10004   Aaron_Tveit       1         USA  dev\n",
       "4      id10005     Aaron_Yoo       1         USA  dev"
      ]
     },
     "execution_count": 11,
     "metadata": {},
     "output_type": "execute_result"
    }
   ],
   "source": [
    "celebrity_speakers_data.head()"
   ]
  },
  {
   "cell_type": "code",
   "execution_count": 12,
   "metadata": {},
   "outputs": [
    {
     "data": {
      "image/png": "[encoded data removed]",
      "text/plain": [
       "<Figure size 576x432 with 1 Axes>"
      ]
     },
     "metadata": {},
     "output_type": "display_data"
    }
   ],
   "source": [
    "plt.figure(figsize=(8,6))\n",
    "\n",
    "textprops={'color': 'w', 'size': 12, 'weight': 'bold'}                      #Text property\n",
    "labels = ['Male', 'Female']                                                 #Gender labels\n",
    "\n",
    "plt.pie(x=celebrity_speakers_data['Gender'].value_counts(), \n",
    "        labels=labels, \n",
    "        autopct='%1.1f%%',                                                  #Labels proportion\n",
    "        pctdistance=.5, \n",
    "        labeldistance=.7, \n",
    "        textprops=textprops)                                                #Text property\n",
    "\n",
    "plt.title('Repartition of celebrity speakers gender in VoxCeleb1 dataset',  #Diagram title\n",
    "          fontdict={'size': 14, 'fontweight' : 'bold'})  \n",
    "\n",
    "plt.legend(loc='lower right')                                               #Legend location\n",
    "\n",
    "# I save this graph with plt.savefig\n",
    "filepath_fig_nationality = os.path.join('graph', 'Celebrity-speakers-gender-in-VoxCeleb1-dataset.jpg')\n",
    "plt.savefig(filepath_fig_nationality, format='jpg', bbox_inches='tight')\n",
    "\n",
    "plt.show()"
   ]
  },
  {
   "cell_type": "markdown",
   "metadata": {},
   "source": [
    "There is more and less the same gender repartition for celebrity speakers."
   ]
  },
  {
   "cell_type": "markdown",
   "metadata": {},
   "source": [
    "I plot nationality repartition for celebrity speakers : American and Englishman are majority."
   ]
  },
  {
   "cell_type": "code",
   "execution_count": 11,
   "metadata": {
    "scrolled": true
   },
   "outputs": [
    {
     "data": {
      "image/png": "[encoded data removed]",
      "text/plain": [
       "<Figure size 864x432 with 1 Axes>"
      ]
     },
     "metadata": {
      "needs_background": "light"
     },
     "output_type": "display_data"
    }
   ],
   "source": [
    "plt.figure(figsize=(12, 6))\n",
    "\n",
    "plt.title('Repartition of celebrity speakers nationality', fontweight=\"bold\", size=14)  #Diagram title\n",
    "\n",
    "sns.countplot(x='Nationality',\n",
    "              data=celebrity_speakers_data,\n",
    "              order=celebrity_speakers_data['Nationality'].value_counts().index)\n",
    "\n",
    "plt.xticks(rotation=90)                                                                 #abscissa label positioning\n",
    "\n",
    "# I save this graph with plt.savefig\n",
    "filepath_fig_nationality = os.path.join('graph', 'Celebrity-speakers-nationality-repartion.jpg')\n",
    "plt.savefig(filepath_fig_nationality, format='jpg', bbox_inches='tight')\n",
    "\n",
    "plt.show()"
   ]
  },
  {
   "cell_type": "markdown",
   "metadata": {},
   "source": [
    "I choose American and Englishman speakers to train my model and reduce time calculation : 1014 celebrity speakers is selected :"
   ]
  },
  {
   "cell_type": "code",
   "execution_count": 12,
   "metadata": {},
   "outputs": [
    {
     "data": {
      "text/html": [
       "<div>\n",
       "<style scoped>\n",
       "    .dataframe tbody tr th:only-of-type {\n",
       "        vertical-align: middle;\n",
       "    }\n",
       "\n",
       "    .dataframe tbody tr th {\n",
       "        vertical-align: top;\n",
       "    }\n",
       "\n",
       "    .dataframe thead th {\n",
       "        text-align: right;\n",
       "    }\n",
       "</style>\n",
       "<table border=\"1\" class=\"dataframe\">\n",
       "  <thead>\n",
       "    <tr style=\"text-align: right;\">\n",
       "      <th></th>\n",
       "      <th>VoxCeleb1_ID</th>\n",
       "      <th>VGGFace1_ID</th>\n",
       "      <th>Gender</th>\n",
       "      <th>Nationality</th>\n",
       "      <th>Set</th>\n",
       "    </tr>\n",
       "  </thead>\n",
       "  <tbody>\n",
       "    <tr>\n",
       "      <td>3</td>\n",
       "      <td>id10004</td>\n",
       "      <td>Aaron_Tveit</td>\n",
       "      <td>1</td>\n",
       "      <td>USA</td>\n",
       "      <td>dev</td>\n",
       "    </tr>\n",
       "    <tr>\n",
       "      <td>4</td>\n",
       "      <td>id10005</td>\n",
       "      <td>Aaron_Yoo</td>\n",
       "      <td>1</td>\n",
       "      <td>USA</td>\n",
       "      <td>dev</td>\n",
       "    </tr>\n",
       "    <tr>\n",
       "      <td>6</td>\n",
       "      <td>id10007</td>\n",
       "      <td>Abigail_Breslin</td>\n",
       "      <td>0</td>\n",
       "      <td>USA</td>\n",
       "      <td>dev</td>\n",
       "    </tr>\n",
       "    <tr>\n",
       "      <td>7</td>\n",
       "      <td>id10008</td>\n",
       "      <td>Abigail_Spencer</td>\n",
       "      <td>0</td>\n",
       "      <td>USA</td>\n",
       "      <td>dev</td>\n",
       "    </tr>\n",
       "    <tr>\n",
       "      <td>9</td>\n",
       "      <td>id10010</td>\n",
       "      <td>Adam_Brody</td>\n",
       "      <td>1</td>\n",
       "      <td>USA</td>\n",
       "      <td>dev</td>\n",
       "    </tr>\n",
       "  </tbody>\n",
       "</table>\n",
       "</div>"
      ],
      "text/plain": [
       "  VoxCeleb1_ID      VGGFace1_ID  Gender Nationality  Set\n",
       "3      id10004      Aaron_Tveit       1         USA  dev\n",
       "4      id10005        Aaron_Yoo       1         USA  dev\n",
       "6      id10007  Abigail_Breslin       0         USA  dev\n",
       "7      id10008  Abigail_Spencer       0         USA  dev\n",
       "9      id10010       Adam_Brody       1         USA  dev"
      ]
     },
     "execution_count": 12,
     "metadata": {},
     "output_type": "execute_result"
    }
   ],
   "source": [
    "celebrity_speakers_data_limited = celebrity_speakers_data.loc[(celebrity_speakers_data['Nationality'] == 'USA') | (celebrity_speakers_data['Nationality'] == 'UK')]\n",
    "celebrity_speakers_data_limited.head()"
   ]
  },
  {
   "cell_type": "code",
   "execution_count": 13,
   "metadata": {},
   "outputs": [
    {
     "data": {
      "text/plain": [
       "(1014, 5)"
      ]
     },
     "execution_count": 13,
     "metadata": {},
     "output_type": "execute_result"
    }
   ],
   "source": [
    "celebrity_speakers_data_limited.shape"
   ]
  },
  {
   "cell_type": "markdown",
   "metadata": {},
   "source": [
    "I use `get_dummies` function to transform `Nationality` column into numerical values : 1 for American and 0 for Englishman :"
   ]
  },
  {
   "cell_type": "code",
   "execution_count": 14,
   "metadata": {},
   "outputs": [
    {
     "name": "stderr",
     "output_type": "stream",
     "text": [
      "/home/jlenclume/bin/anaconda/lib/python3.7/site-packages/ipykernel_launcher.py:1: SettingWithCopyWarning: \n",
      "A value is trying to be set on a copy of a slice from a DataFrame.\n",
      "Try using .loc[row_indexer,col_indexer] = value instead\n",
      "\n",
      "See the caveats in the documentation: http://pandas.pydata.org/pandas-docs/stable/user_guide/indexing.html#returning-a-view-versus-a-copy\n",
      "  \"\"\"Entry point for launching an IPython kernel.\n"
     ]
    }
   ],
   "source": [
    "celebrity_speakers_data_limited['Nationality'] = pd.get_dummies(celebrity_speakers_data_limited['Nationality'], drop_first=True, prefix='Nationality')"
   ]
  },
  {
   "cell_type": "code",
   "execution_count": 15,
   "metadata": {},
   "outputs": [
    {
     "data": {
      "text/html": [
       "<div>\n",
       "<style scoped>\n",
       "    .dataframe tbody tr th:only-of-type {\n",
       "        vertical-align: middle;\n",
       "    }\n",
       "\n",
       "    .dataframe tbody tr th {\n",
       "        vertical-align: top;\n",
       "    }\n",
       "\n",
       "    .dataframe thead th {\n",
       "        text-align: right;\n",
       "    }\n",
       "</style>\n",
       "<table border=\"1\" class=\"dataframe\">\n",
       "  <thead>\n",
       "    <tr style=\"text-align: right;\">\n",
       "      <th></th>\n",
       "      <th>VoxCeleb1_ID</th>\n",
       "      <th>VGGFace1_ID</th>\n",
       "      <th>Gender</th>\n",
       "      <th>Nationality</th>\n",
       "      <th>Set</th>\n",
       "    </tr>\n",
       "  </thead>\n",
       "  <tbody>\n",
       "    <tr>\n",
       "      <td>3</td>\n",
       "      <td>id10004</td>\n",
       "      <td>Aaron_Tveit</td>\n",
       "      <td>1</td>\n",
       "      <td>1</td>\n",
       "      <td>dev</td>\n",
       "    </tr>\n",
       "    <tr>\n",
       "      <td>4</td>\n",
       "      <td>id10005</td>\n",
       "      <td>Aaron_Yoo</td>\n",
       "      <td>1</td>\n",
       "      <td>1</td>\n",
       "      <td>dev</td>\n",
       "    </tr>\n",
       "    <tr>\n",
       "      <td>6</td>\n",
       "      <td>id10007</td>\n",
       "      <td>Abigail_Breslin</td>\n",
       "      <td>0</td>\n",
       "      <td>1</td>\n",
       "      <td>dev</td>\n",
       "    </tr>\n",
       "    <tr>\n",
       "      <td>7</td>\n",
       "      <td>id10008</td>\n",
       "      <td>Abigail_Spencer</td>\n",
       "      <td>0</td>\n",
       "      <td>1</td>\n",
       "      <td>dev</td>\n",
       "    </tr>\n",
       "    <tr>\n",
       "      <td>9</td>\n",
       "      <td>id10010</td>\n",
       "      <td>Adam_Brody</td>\n",
       "      <td>1</td>\n",
       "      <td>1</td>\n",
       "      <td>dev</td>\n",
       "    </tr>\n",
       "  </tbody>\n",
       "</table>\n",
       "</div>"
      ],
      "text/plain": [
       "  VoxCeleb1_ID      VGGFace1_ID  Gender  Nationality  Set\n",
       "3      id10004      Aaron_Tveit       1            1  dev\n",
       "4      id10005        Aaron_Yoo       1            1  dev\n",
       "6      id10007  Abigail_Breslin       0            1  dev\n",
       "7      id10008  Abigail_Spencer       0            1  dev\n",
       "9      id10010       Adam_Brody       1            1  dev"
      ]
     },
     "execution_count": 15,
     "metadata": {},
     "output_type": "execute_result"
    }
   ],
   "source": [
    "celebrity_speakers_data_limited.head()"
   ]
  },
  {
   "cell_type": "code",
   "execution_count": 16,
   "metadata": {},
   "outputs": [
    {
     "data": {
      "text/plain": [
       "1    799\n",
       "0    215\n",
       "Name: Nationality, dtype: int64"
      ]
     },
     "execution_count": 16,
     "metadata": {},
     "output_type": "execute_result"
    }
   ],
   "source": [
    "celebrity_speakers_data_limited['Nationality'].value_counts()"
   ]
  },
  {
   "cell_type": "markdown",
   "metadata": {},
   "source": [
    "<h3> 4. Celebrity speakers : saving data"
   ]
  },
  {
   "cell_type": "markdown",
   "metadata": {},
   "source": [
    "I save my `celebrity_speakers_data_limited` dataframe in a pickle file `celebrity_speakers_data_limited.pkl` to can use it later. It is the same method with `celebrity_speakers_data.pkl`:"
   ]
  },
  {
   "cell_type": "code",
   "execution_count": 27,
   "metadata": {},
   "outputs": [
    {
     "name": "stdout",
     "output_type": "stream",
     "text": [
      "/home/jlenclume/code/Jennifer974/my_projects/final-project-vivadata-03-2020\r\n"
     ]
    }
   ],
   "source": [
    "!pwd"
   ]
  },
  {
   "cell_type": "code",
   "execution_count": 18,
   "metadata": {},
   "outputs": [],
   "source": [
    "filepath_celebrity_data_limited = os.path.join('final-project-data', 'celebrity_speakers_data_limited.pkl')\n",
    "\n",
    "with open(filepath_celebrity_data_limited, 'wb') as f:\n",
    "    pickle.dump(celebrity_speakers_data_limited, f)"
   ]
  },
  {
   "cell_type": "code",
   "execution_count": 21,
   "metadata": {},
   "outputs": [],
   "source": [
    "filepath_celebrity_data = os.path.join('final-project-data', 'celebrity_speakers_data.pkl')\n",
    "\n",
    "with open(filepath_celebrity_data, 'wb') as f:\n",
    "    pickle.dump(celebrity_speakers_data, f)"
   ]
  },
  {
   "cell_type": "code",
   "execution_count": 19,
   "metadata": {
    "scrolled": true
   },
   "outputs": [
    {
     "name": "stdout",
     "output_type": "stream",
     "text": [
      "audio_loaded.pkl\t\t     celebrity_speakers_data.pkl\r\n",
      "celebrity_speakers_data_limited.pkl  requirements.txt\r\n"
     ]
    }
   ],
   "source": [
    "!ls final-project-data"
   ]
  },
  {
   "cell_type": "markdown",
   "metadata": {},
   "source": [
    "<h2> 1. Audio files Analysis"
   ]
  },
  {
   "cell_type": "markdown",
   "metadata": {},
   "source": [
    "<h3> 1.1 Data Comprehension"
   ]
  },
  {
   "cell_type": "markdown",
   "metadata": {},
   "source": [
    "I import `celebrity_speakers_data.pkl` and `celebrity_speakers_data_limited.pkl` to use dataframe :"
   ]
  },
  {
   "cell_type": "code",
   "execution_count": 2,
   "metadata": {},
   "outputs": [],
   "source": [
    "filepath_celebrity_data_limited = os.path.join('final-project-data', 'celebrity_speakers_data_limited.pkl')\n",
    "\n",
    "with open(filepath_celebrity_data_limited, 'rb') as f:\n",
    "    celebrity_speakers_data_limited = pickle.load(f)"
   ]
  },
  {
   "cell_type": "code",
   "execution_count": 24,
   "metadata": {},
   "outputs": [
    {
     "data": {
      "text/html": [
       "<div>\n",
       "<style scoped>\n",
       "    .dataframe tbody tr th:only-of-type {\n",
       "        vertical-align: middle;\n",
       "    }\n",
       "\n",
       "    .dataframe tbody tr th {\n",
       "        vertical-align: top;\n",
       "    }\n",
       "\n",
       "    .dataframe thead th {\n",
       "        text-align: right;\n",
       "    }\n",
       "</style>\n",
       "<table border=\"1\" class=\"dataframe\">\n",
       "  <thead>\n",
       "    <tr style=\"text-align: right;\">\n",
       "      <th></th>\n",
       "      <th>VoxCeleb1_ID</th>\n",
       "      <th>VGGFace1_ID</th>\n",
       "      <th>Gender</th>\n",
       "      <th>Nationality</th>\n",
       "      <th>Set</th>\n",
       "    </tr>\n",
       "  </thead>\n",
       "  <tbody>\n",
       "    <tr>\n",
       "      <td>3</td>\n",
       "      <td>id10004</td>\n",
       "      <td>Aaron_Tveit</td>\n",
       "      <td>1</td>\n",
       "      <td>1</td>\n",
       "      <td>dev</td>\n",
       "    </tr>\n",
       "    <tr>\n",
       "      <td>4</td>\n",
       "      <td>id10005</td>\n",
       "      <td>Aaron_Yoo</td>\n",
       "      <td>1</td>\n",
       "      <td>1</td>\n",
       "      <td>dev</td>\n",
       "    </tr>\n",
       "    <tr>\n",
       "      <td>6</td>\n",
       "      <td>id10007</td>\n",
       "      <td>Abigail_Breslin</td>\n",
       "      <td>0</td>\n",
       "      <td>1</td>\n",
       "      <td>dev</td>\n",
       "    </tr>\n",
       "    <tr>\n",
       "      <td>7</td>\n",
       "      <td>id10008</td>\n",
       "      <td>Abigail_Spencer</td>\n",
       "      <td>0</td>\n",
       "      <td>1</td>\n",
       "      <td>dev</td>\n",
       "    </tr>\n",
       "    <tr>\n",
       "      <td>9</td>\n",
       "      <td>id10010</td>\n",
       "      <td>Adam_Brody</td>\n",
       "      <td>1</td>\n",
       "      <td>1</td>\n",
       "      <td>dev</td>\n",
       "    </tr>\n",
       "  </tbody>\n",
       "</table>\n",
       "</div>"
      ],
      "text/plain": [
       "  VoxCeleb1_ID      VGGFace1_ID  Gender  Nationality  Set\n",
       "3      id10004      Aaron_Tveit       1            1  dev\n",
       "4      id10005        Aaron_Yoo       1            1  dev\n",
       "6      id10007  Abigail_Breslin       0            1  dev\n",
       "7      id10008  Abigail_Spencer       0            1  dev\n",
       "9      id10010       Adam_Brody       1            1  dev"
      ]
     },
     "execution_count": 24,
     "metadata": {},
     "output_type": "execute_result"
    }
   ],
   "source": [
    "celebrity_speakers_data_limited.head()"
   ]
  },
  {
   "cell_type": "code",
   "execution_count": 2,
   "metadata": {},
   "outputs": [],
   "source": [
    "filepath_celebrity_data = os.path.join('final-project-data', 'celebrity_speakers_data.pkl')\n",
    "\n",
    "with open(filepath_celebrity_data, 'rb') as f:\n",
    "    celebrity_speakers_data = pickle.load(f)"
   ]
  },
  {
   "cell_type": "code",
   "execution_count": 27,
   "metadata": {},
   "outputs": [
    {
     "data": {
      "text/html": [
       "<div>\n",
       "<style scoped>\n",
       "    .dataframe tbody tr th:only-of-type {\n",
       "        vertical-align: middle;\n",
       "    }\n",
       "\n",
       "    .dataframe tbody tr th {\n",
       "        vertical-align: top;\n",
       "    }\n",
       "\n",
       "    .dataframe thead th {\n",
       "        text-align: right;\n",
       "    }\n",
       "</style>\n",
       "<table border=\"1\" class=\"dataframe\">\n",
       "  <thead>\n",
       "    <tr style=\"text-align: right;\">\n",
       "      <th></th>\n",
       "      <th>VoxCeleb1_ID</th>\n",
       "      <th>VGGFace1_ID</th>\n",
       "      <th>Gender</th>\n",
       "      <th>Nationality</th>\n",
       "      <th>Set</th>\n",
       "    </tr>\n",
       "  </thead>\n",
       "  <tbody>\n",
       "    <tr>\n",
       "      <td>0</td>\n",
       "      <td>id10001</td>\n",
       "      <td>A.J._Buckley</td>\n",
       "      <td>1</td>\n",
       "      <td>Ireland</td>\n",
       "      <td>dev</td>\n",
       "    </tr>\n",
       "    <tr>\n",
       "      <td>1</td>\n",
       "      <td>id10002</td>\n",
       "      <td>A.R._Rahman</td>\n",
       "      <td>1</td>\n",
       "      <td>India</td>\n",
       "      <td>dev</td>\n",
       "    </tr>\n",
       "    <tr>\n",
       "      <td>2</td>\n",
       "      <td>id10003</td>\n",
       "      <td>Aamir_Khan</td>\n",
       "      <td>1</td>\n",
       "      <td>India</td>\n",
       "      <td>dev</td>\n",
       "    </tr>\n",
       "    <tr>\n",
       "      <td>3</td>\n",
       "      <td>id10004</td>\n",
       "      <td>Aaron_Tveit</td>\n",
       "      <td>1</td>\n",
       "      <td>USA</td>\n",
       "      <td>dev</td>\n",
       "    </tr>\n",
       "    <tr>\n",
       "      <td>4</td>\n",
       "      <td>id10005</td>\n",
       "      <td>Aaron_Yoo</td>\n",
       "      <td>1</td>\n",
       "      <td>USA</td>\n",
       "      <td>dev</td>\n",
       "    </tr>\n",
       "  </tbody>\n",
       "</table>\n",
       "</div>"
      ],
      "text/plain": [
       "  VoxCeleb1_ID   VGGFace1_ID  Gender Nationality  Set\n",
       "0      id10001  A.J._Buckley       1     Ireland  dev\n",
       "1      id10002   A.R._Rahman       1       India  dev\n",
       "2      id10003    Aamir_Khan       1       India  dev\n",
       "3      id10004   Aaron_Tveit       1         USA  dev\n",
       "4      id10005     Aaron_Yoo       1         USA  dev"
      ]
     },
     "execution_count": 27,
     "metadata": {},
     "output_type": "execute_result"
    }
   ],
   "source": [
    "celebrity_speakers_data.head()"
   ]
  },
  {
   "cell_type": "markdown",
   "metadata": {},
   "source": [
    "Now, I explore my audio files dataset :"
   ]
  },
  {
   "cell_type": "code",
   "execution_count": 35,
   "metadata": {},
   "outputs": [
    {
     "name": "stdout",
     "output_type": "stream",
     "text": [
      "/home/jlenclume/code/Jennifer974/my_projects/final-project-vivadata-03-2020\r\n"
     ]
    }
   ],
   "source": [
    "!pwd"
   ]
  },
  {
   "cell_type": "code",
   "execution_count": 37,
   "metadata": {},
   "outputs": [
    {
     "name": "stdout",
     "output_type": "stream",
     "text": [
      "id10001  id10136  id10311  id10446  id10581  id10716  id10851  id10986\tid11121\r\n",
      "id10002  id10137  id10312  id10447  id10582  id10717  id10852  id10987\tid11122\r\n",
      "id10003  id10138  id10313  id10448  id10583  id10718  id10853  id10988\tid11123\r\n",
      "id10004  id10139  id10314  id10449  id10584  id10719  id10854  id10989\tid11124\r\n",
      "id10005  id10140  id10315  id10450  id10585  id10720  id10855  id10990\tid11125\r\n",
      "id10006  id10141  id10316  id10451  id10586  id10721  id10856  id10991\tid11126\r\n",
      "id10007  id10142  id10317  id10452  id10587  id10722  id10857  id10992\tid11127\r\n",
      "id10008  id10143  id10318  id10453  id10588  id10723  id10858  id10993\tid11128\r\n",
      "id10009  id10144  id10319  id10454  id10589  id10724  id10859  id10994\tid11129\r\n",
      "id10010  id10145  id10320  id10455  id10590  id10725  id10860  id10995\tid11130\r\n",
      "id10011  id10146  id10321  id10456  id10591  id10726  id10861  id10996\tid11131\r\n",
      "id10012  id10147  id10322  id10457  id10592  id10727  id10862  id10997\tid11132\r\n",
      "id10013  id10148  id10323  id10458  id10593  id10728  id10863  id10998\tid11133\r\n",
      "id10014  id10149  id10324  id10459  id10594  id10729  id10864  id10999\tid11134\r\n",
      "id10015  id10150  id10325  id10460  id10595  id10730  id10865  id11000\tid11135\r\n",
      "id10016  id10151  id10326  id10461  id10596  id10731  id10866  id11001\tid11136\r\n",
      "id10017  id10152  id10327  id10462  id10597  id10732  id10867  id11002\tid11137\r\n",
      "id10018  id10153  id10328  id10463  id10598  id10733  id10868  id11003\tid11138\r\n",
      "id10019  id10154  id10329  id10464  id10599  id10734  id10869  id11004\tid11139\r\n",
      "id10020  id10155  id10330  id10465  id10600  id10735  id10870  id11005\tid11140\r\n",
      "id10021  id10156  id10331  id10466  id10601  id10736  id10871  id11006\tid11141\r\n",
      "id10022  id10157  id10332  id10467  id10602  id10737  id10872  id11007\tid11142\r\n",
      "id10023  id10158  id10333  id10468  id10603  id10738  id10873  id11008\tid11143\r\n",
      "id10024  id10159  id10334  id10469  id10604  id10739  id10874  id11009\tid11144\r\n",
      "id10025  id10160  id10335  id10470  id10605  id10740  id10875  id11010\tid11145\r\n",
      "id10026  id10161  id10336  id10471  id10606  id10741  id10876  id11011\tid11146\r\n",
      "id10027  id10162  id10337  id10472  id10607  id10742  id10877  id11012\tid11147\r\n",
      "id10028  id10163  id10338  id10473  id10608  id10743  id10878  id11013\tid11148\r\n",
      "id10029  id10164  id10339  id10474  id10609  id10744  id10879  id11014\tid11149\r\n",
      "id10030  id10165  id10340  id10475  id10610  id10745  id10880  id11015\tid11150\r\n",
      "id10031  id10166  id10341  id10476  id10611  id10746  id10881  id11016\tid11151\r\n",
      "id10032  id10167  id10342  id10477  id10612  id10747  id10882  id11017\tid11152\r\n",
      "id10033  id10168  id10343  id10478  id10613  id10748  id10883  id11018\tid11153\r\n",
      "id10034  id10169  id10344  id10479  id10614  id10749  id10884  id11019\tid11154\r\n",
      "id10035  id10170  id10345  id10480  id10615  id10750  id10885  id11020\tid11155\r\n",
      "id10036  id10171  id10346  id10481  id10616  id10751  id10886  id11021\tid11156\r\n",
      "id10037  id10172  id10347  id10482  id10617  id10752  id10887  id11022\tid11157\r\n",
      "id10038  id10173  id10348  id10483  id10618  id10753  id10888  id11023\tid11158\r\n",
      "id10039  id10174  id10349  id10484  id10619  id10754  id10889  id11024\tid11159\r\n",
      "id10040  id10175  id10350  id10485  id10620  id10755  id10890  id11025\tid11160\r\n",
      "id10041  id10176  id10351  id10486  id10621  id10756  id10891  id11026\tid11161\r\n",
      "id10042  id10177  id10352  id10487  id10622  id10757  id10892  id11027\tid11162\r\n",
      "id10043  id10178  id10353  id10488  id10623  id10758  id10893  id11028\tid11163\r\n",
      "id10044  id10179  id10354  id10489  id10624  id10759  id10894  id11029\tid11164\r\n",
      "id10045  id10180  id10355  id10490  id10625  id10760  id10895  id11030\tid11165\r\n",
      "id10046  id10181  id10356  id10491  id10626  id10761  id10896  id11031\tid11166\r\n",
      "id10047  id10182  id10357  id10492  id10627  id10762  id10897  id11032\tid11167\r\n",
      "id10048  id10183  id10358  id10493  id10628  id10763  id10898  id11033\tid11168\r\n",
      "id10049  id10184  id10359  id10494  id10629  id10764  id10899  id11034\tid11169\r\n",
      "id10050  id10185  id10360  id10495  id10630  id10765  id10900  id11035\tid11170\r\n",
      "id10051  id10186  id10361  id10496  id10631  id10766  id10901  id11036\tid11171\r\n",
      "id10052  id10187  id10362  id10497  id10632  id10767  id10902  id11037\tid11172\r\n",
      "id10053  id10188  id10363  id10498  id10633  id10768  id10903  id11038\tid11173\r\n",
      "id10054  id10189  id10364  id10499  id10634  id10769  id10904  id11039\tid11174\r\n",
      "id10055  id10190  id10365  id10500  id10635  id10770  id10905  id11040\tid11175\r\n",
      "id10056  id10191  id10366  id10501  id10636  id10771  id10906  id11041\tid11176\r\n",
      "id10057  id10192  id10367  id10502  id10637  id10772  id10907  id11042\tid11177\r\n",
      "id10058  id10193  id10368  id10503  id10638  id10773  id10908  id11043\tid11178\r\n",
      "id10059  id10194  id10369  id10504  id10639  id10774  id10909  id11044\tid11179\r\n",
      "id10060  id10195  id10370  id10505  id10640  id10775  id10910  id11045\tid11180\r\n",
      "id10061  id10196  id10371  id10506  id10641  id10776  id10911  id11046\tid11181\r\n",
      "id10062  id10197  id10372  id10507  id10642  id10777  id10912  id11047\tid11182\r\n",
      "id10063  id10198  id10373  id10508  id10643  id10778  id10913  id11048\tid11183\r\n",
      "id10064  id10199  id10374  id10509  id10644  id10779  id10914  id11049\tid11184\r\n",
      "id10065  id10200  id10375  id10510  id10645  id10780  id10915  id11050\tid11185\r\n",
      "id10066  id10201  id10376  id10511  id10646  id10781  id10916  id11051\tid11186\r\n",
      "id10067  id10202  id10377  id10512  id10647  id10782  id10917  id11052\tid11187\r\n",
      "id10068  id10203  id10378  id10513  id10648  id10783  id10918  id11053\tid11188\r\n",
      "id10069  id10204  id10379  id10514  id10649  id10784  id10919  id11054\tid11189\r\n",
      "id10070  id10205  id10380  id10515  id10650  id10785  id10920  id11055\tid11190\r\n",
      "id10071  id10206  id10381  id10516  id10651  id10786  id10921  id11056\tid11191\r\n",
      "id10072  id10207  id10382  id10517  id10652  id10787  id10922  id11057\tid11192\r\n",
      "id10073  id10208  id10383  id10518  id10653  id10788  id10923  id11058\tid11193\r\n",
      "id10074  id10209  id10384  id10519  id10654  id10789  id10924  id11059\tid11194\r\n",
      "id10075  id10210  id10385  id10520  id10655  id10790  id10925  id11060\tid11195\r\n",
      "id10076  id10211  id10386  id10521  id10656  id10791  id10926  id11061\tid11196\r\n",
      "id10077  id10212  id10387  id10522  id10657  id10792  id10927  id11062\tid11197\r\n",
      "id10078  id10213  id10388  id10523  id10658  id10793  id10928  id11063\tid11198\r\n",
      "id10079  id10214  id10389  id10524  id10659  id10794  id10929  id11064\tid11199\r\n",
      "id10080  id10215  id10390  id10525  id10660  id10795  id10930  id11065\tid11200\r\n",
      "id10081  id10216  id10391  id10526  id10661  id10796  id10931  id11066\tid11201\r\n",
      "id10082  id10217  id10392  id10527  id10662  id10797  id10932  id11067\tid11202\r\n",
      "id10083  id10218  id10393  id10528  id10663  id10798  id10933  id11068\tid11203\r\n",
      "id10084  id10219  id10394  id10529  id10664  id10799  id10934  id11069\tid11204\r\n",
      "id10085  id10220  id10395  id10530  id10665  id10800  id10935  id11070\tid11205\r\n",
      "id10086  id10221  id10396  id10531  id10666  id10801  id10936  id11071\tid11206\r\n",
      "id10087  id10222  id10397  id10532  id10667  id10802  id10937  id11072\tid11207\r\n",
      "id10088  id10223  id10398  id10533  id10668  id10803  id10938  id11073\tid11208\r\n",
      "id10089  id10224  id10399  id10534  id10669  id10804  id10939  id11074\tid11209\r\n",
      "id10090  id10225  id10400  id10535  id10670  id10805  id10940  id11075\tid11210\r\n",
      "id10091  id10226  id10401  id10536  id10671  id10806  id10941  id11076\tid11211\r\n",
      "id10092  id10227  id10402  id10537  id10672  id10807  id10942  id11077\tid11212\r\n",
      "id10093  id10228  id10403  id10538  id10673  id10808  id10943  id11078\tid11213\r\n",
      "id10094  id10229  id10404  id10539  id10674  id10809  id10944  id11079\tid11214\r\n",
      "id10095  id10230  id10405  id10540  id10675  id10810  id10945  id11080\tid11215\r\n",
      "id10096  id10231  id10406  id10541  id10676  id10811  id10946  id11081\tid11216\r\n",
      "id10097  id10232  id10407  id10542  id10677  id10812  id10947  id11082\tid11217\r\n",
      "id10098  id10233  id10408  id10543  id10678  id10813  id10948  id11083\tid11218\r\n",
      "id10099  id10234  id10409  id10544  id10679  id10814  id10949  id11084\tid11219\r\n",
      "id10100  id10235  id10410  id10545  id10680  id10815  id10950  id11085\tid11220\r\n",
      "id10101  id10236  id10411  id10546  id10681  id10816  id10951  id11086\tid11221\r\n",
      "id10102  id10237  id10412  id10547  id10682  id10817  id10952  id11087\tid11222\r\n",
      "id10103  id10238  id10413  id10548  id10683  id10818  id10953  id11088\tid11223\r\n",
      "id10104  id10239  id10414  id10549  id10684  id10819  id10954  id11089\tid11224\r\n",
      "id10105  id10240  id10415  id10550  id10685  id10820  id10955  id11090\tid11225\r\n",
      "id10106  id10241  id10416  id10551  id10686  id10821  id10956  id11091\tid11226\r\n",
      "id10107  id10242  id10417  id10552  id10687  id10822  id10957  id11092\tid11227\r\n",
      "id10108  id10243  id10418  id10553  id10688  id10823  id10958  id11093\tid11228\r\n",
      "id10109  id10244  id10419  id10554  id10689  id10824  id10959  id11094\tid11229\r\n",
      "id10110  id10245  id10420  id10555  id10690  id10825  id10960  id11095\tid11230\r\n",
      "id10111  id10246  id10421  id10556  id10691  id10826  id10961  id11096\tid11231\r\n",
      "id10112  id10247  id10422  id10557  id10692  id10827  id10962  id11097\tid11232\r\n",
      "id10113  id10248  id10423  id10558  id10693  id10828  id10963  id11098\tid11233\r\n",
      "id10114  id10249  id10424  id10559  id10694  id10829  id10964  id11099\tid11234\r\n",
      "id10115  id10250  id10425  id10560  id10695  id10830  id10965  id11100\tid11235\r\n",
      "id10116  id10251  id10426  id10561  id10696  id10831  id10966  id11101\tid11236\r\n",
      "id10117  id10252  id10427  id10562  id10697  id10832  id10967  id11102\tid11237\r\n",
      "id10118  id10253  id10428  id10563  id10698  id10833  id10968  id11103\tid11238\r\n",
      "id10119  id10254  id10429  id10564  id10699  id10834  id10969  id11104\tid11239\r\n",
      "id10120  id10255  id10430  id10565  id10700  id10835  id10970  id11105\tid11240\r\n",
      "id10121  id10256  id10431  id10566  id10701  id10836  id10971  id11106\tid11241\r\n",
      "id10122  id10257  id10432  id10567  id10702  id10837  id10972  id11107\tid11242\r\n",
      "id10123  id10258  id10433  id10568  id10703  id10838  id10973  id11108\tid11243\r\n",
      "id10124  id10259  id10434  id10569  id10704  id10839  id10974  id11109\tid11244\r\n",
      "id10125  id10260  id10435  id10570  id10705  id10840  id10975  id11110\tid11245\r\n",
      "id10126  id10261  id10436  id10571  id10706  id10841  id10976  id11111\tid11246\r\n",
      "id10127  id10262  id10437  id10572  id10707  id10842  id10977  id11112\tid11247\r\n",
      "id10128  id10263  id10438  id10573  id10708  id10843  id10978  id11113\tid11248\r\n",
      "id10129  id10264  id10439  id10574  id10709  id10844  id10979  id11114\tid11249\r\n",
      "id10130  id10265  id10440  id10575  id10710  id10845  id10980  id11115\tid11250\r\n",
      "id10131  id10266  id10441  id10576  id10711  id10846  id10981  id11116\tid11251\r\n",
      "id10132  id10267  id10442  id10577  id10712  id10847  id10982  id11117\r\n",
      "id10133  id10268  id10443  id10578  id10713  id10848  id10983  id11118\r\n",
      "id10134  id10269  id10444  id10579  id10714  id10849  id10984  id11119\r\n",
      "id10135  id10310  id10445  id10580  id10715  id10850  id10985  id11120\r\n"
     ]
    }
   ],
   "source": [
    "!ls ../../../../Documents/Final-Project-data/vox1_dev_wav/wav"
   ]
  },
  {
   "cell_type": "code",
   "execution_count": null,
   "metadata": {},
   "outputs": [],
   "source": [
    "!ls ../../../../Documents/Final-Project-data/vox1_dev_wav/wav"
   ]
  },
  {
   "cell_type": "markdown",
   "metadata": {},
   "source": [
    "For example, I choose two celebrity ID : id10965 corresponds to Regina_Hall and id11109\tcorresponds to Stephen Baldwin."
   ]
  },
  {
   "cell_type": "code",
   "execution_count": 38,
   "metadata": {
    "scrolled": false
   },
   "outputs": [
    {
     "name": "stdout",
     "output_type": "stream",
     "text": [
      "\u001b[0m\u001b[34;42m0AdxTgLLbFY\u001b[0m/  \u001b[34;42mavNaBy3u3Ow\u001b[0m/  \u001b[34;42mJRXA-X2K5zc\u001b[0m/  \u001b[34;42mpGMcglQYXYE\u001b[0m/  \u001b[34;42mzZ2uBOISm5Q\u001b[0m/\r\n",
      "\u001b[34;42m4GbjXgL5-yQ\u001b[0m/  \u001b[34;42mCYf4vAgT_iQ\u001b[0m/  \u001b[34;42mkoRHZBBT_VI\u001b[0m/  \u001b[34;42mQXWsnscCJLI\u001b[0m/\r\n",
      "\u001b[34;42m9-XitQATNL8\u001b[0m/  \u001b[34;42mGH0kJfikbOU\u001b[0m/  \u001b[34;42mOHDRhzSfICk\u001b[0m/  \u001b[34;42mTKek4WAhbSE\u001b[0m/\r\n",
      "\u001b[34;42mAuYQOAiIzk0\u001b[0m/  \u001b[34;42mIXwnjoHthfA\u001b[0m/  \u001b[34;42mOJIfvnH1ymk\u001b[0m/  \u001b[34;42mXo0b4f0UVEA\u001b[0m/\r\n"
     ]
    }
   ],
   "source": [
    "!ls ../../../../Documents/Final-Project-data/vox1_dev_wav/wav/id10965"
   ]
  },
  {
   "cell_type": "code",
   "execution_count": 39,
   "metadata": {},
   "outputs": [
    {
     "data": {
      "text/html": [
       "<div>\n",
       "<style scoped>\n",
       "    .dataframe tbody tr th:only-of-type {\n",
       "        vertical-align: middle;\n",
       "    }\n",
       "\n",
       "    .dataframe tbody tr th {\n",
       "        vertical-align: top;\n",
       "    }\n",
       "\n",
       "    .dataframe thead th {\n",
       "        text-align: right;\n",
       "    }\n",
       "</style>\n",
       "<table border=\"1\" class=\"dataframe\">\n",
       "  <thead>\n",
       "    <tr style=\"text-align: right;\">\n",
       "      <th></th>\n",
       "      <th>VoxCeleb1_ID</th>\n",
       "      <th>VGGFace1_ID</th>\n",
       "      <th>Gender</th>\n",
       "      <th>Nationality</th>\n",
       "      <th>Set</th>\n",
       "    </tr>\n",
       "  </thead>\n",
       "  <tbody>\n",
       "    <tr>\n",
       "      <td>964</td>\n",
       "      <td>id10965</td>\n",
       "      <td>Regina_Hall</td>\n",
       "      <td>0</td>\n",
       "      <td>1</td>\n",
       "      <td>dev</td>\n",
       "    </tr>\n",
       "  </tbody>\n",
       "</table>\n",
       "</div>"
      ],
      "text/plain": [
       "    VoxCeleb1_ID  VGGFace1_ID  Gender  Nationality  Set\n",
       "964      id10965  Regina_Hall       0            1  dev"
      ]
     },
     "execution_count": 39,
     "metadata": {},
     "output_type": "execute_result"
    }
   ],
   "source": [
    "celebrity_speakers_data_limited.loc[celebrity_speakers_data_limited['VoxCeleb1_ID'] == 'id10965']"
   ]
  },
  {
   "cell_type": "code",
   "execution_count": 40,
   "metadata": {},
   "outputs": [
    {
     "name": "stdout",
     "output_type": "stream",
     "text": [
      "\u001b[0m\u001b[00;36m00001.wav\u001b[0m\r\n"
     ]
    }
   ],
   "source": [
    "ls ../../../../Documents/Final-Project-data/vox1_dev_wav/wav/id10965/0AdxTgLLbFY"
   ]
  },
  {
   "cell_type": "code",
   "execution_count": 44,
   "metadata": {},
   "outputs": [
    {
     "data": {
      "text/html": [
       "<div>\n",
       "<style scoped>\n",
       "    .dataframe tbody tr th:only-of-type {\n",
       "        vertical-align: middle;\n",
       "    }\n",
       "\n",
       "    .dataframe tbody tr th {\n",
       "        vertical-align: top;\n",
       "    }\n",
       "\n",
       "    .dataframe thead th {\n",
       "        text-align: right;\n",
       "    }\n",
       "</style>\n",
       "<table border=\"1\" class=\"dataframe\">\n",
       "  <thead>\n",
       "    <tr style=\"text-align: right;\">\n",
       "      <th></th>\n",
       "      <th>VoxCeleb1_ID</th>\n",
       "      <th>VGGFace1_ID</th>\n",
       "      <th>Gender</th>\n",
       "      <th>Nationality</th>\n",
       "      <th>Set</th>\n",
       "    </tr>\n",
       "  </thead>\n",
       "  <tbody>\n",
       "    <tr>\n",
       "      <td>1108</td>\n",
       "      <td>id11109</td>\n",
       "      <td>Stephen_Baldwin</td>\n",
       "      <td>1</td>\n",
       "      <td>1</td>\n",
       "      <td>dev</td>\n",
       "    </tr>\n",
       "  </tbody>\n",
       "</table>\n",
       "</div>"
      ],
      "text/plain": [
       "     VoxCeleb1_ID      VGGFace1_ID  Gender  Nationality  Set\n",
       "1108      id11109  Stephen_Baldwin       1            1  dev"
      ]
     },
     "execution_count": 44,
     "metadata": {},
     "output_type": "execute_result"
    }
   ],
   "source": [
    "celebrity_speakers_data_limited.loc[celebrity_speakers_data_limited['VoxCeleb1_ID'] == 'id11109']"
   ]
  },
  {
   "cell_type": "code",
   "execution_count": 41,
   "metadata": {},
   "outputs": [
    {
     "name": "stdout",
     "output_type": "stream",
     "text": [
      "\u001b[0m\u001b[00;36m00001.wav\u001b[0m  \u001b[00;36m00002.wav\u001b[0m  \u001b[00;36m00003.wav\u001b[0m\r\n"
     ]
    }
   ],
   "source": [
    "ls ../../../../Documents/Final-Project-data/vox1_dev_wav/wav/id11109/410TXiXAVeU"
   ]
  },
  {
   "cell_type": "markdown",
   "metadata": {},
   "source": [
    "I observe that there are several audios for each speaker in folders. I would like to add audio files in my dataframe to can exploit them later so I create a bash script `move_audio_files.sh` to gather and rename audio files with the following format `celebrity_ID-Interview_ID-audio_part_number`:"
   ]
  },
  {
   "cell_type": "code",
   "execution_count": 46,
   "metadata": {},
   "outputs": [
    {
     "name": "stdout",
     "output_type": "stream",
     "text": [
      "/home/jlenclume/code/Jennifer974/my_projects/final-project-vivadata-03-2020\r\n"
     ]
    }
   ],
   "source": [
    "!pwd"
   ]
  },
  {
   "cell_type": "code",
   "execution_count": 157,
   "metadata": {},
   "outputs": [
    {
     "name": "stdout",
     "output_type": "stream",
     "text": [
      "#!/bin/bash\r\n",
      "for celeb_id in `ls ../../../../Documents/Final-Project-data/vox1_dev_wav/wav`\r\n",
      "do\r\n",
      "\tfor lst_audio in `ls ../../../../Documents/Final-Project-data/vox1_dev_wav/wav/$celeb_id`\r\n",
      "\tdo\r\n",
      "\t\tfor audio in  `ls ../../../../Documents/Final-Project-data/vox1_dev_wav/wav/$celeb_id/$lst_audio`\r\n",
      "\t\tdo\r\n",
      "\t\t\tcp ../../../../Documents/Final-Project-data/vox1_dev_wav/wav/$celeb_id/$lst_audio/$audio ../../../../Documents/Final-Project-data/vox1_dev_wav/audio_files/$celeb_id-$lst_audio-$audio\t\t\r\n",
      "\t\tdone\r\n",
      "\r\n",
      "\r\n",
      "\tdone\r\n",
      "done\r\n"
     ]
    }
   ],
   "source": [
    "!cat move_audio_files.sh"
   ]
  },
  {
   "cell_type": "code",
   "execution_count": 19,
   "metadata": {},
   "outputs": [],
   "source": [
    "filepath_audio_files = os.path.join('..', '..', '..', '..', 'Documents', 'Final-Project-data', 'vox1_dev_wav', 'audio_files')"
   ]
  },
  {
   "cell_type": "code",
   "execution_count": 20,
   "metadata": {},
   "outputs": [
    {
     "data": {
      "text/plain": [
       "148642"
      ]
     },
     "execution_count": 20,
     "metadata": {},
     "output_type": "execute_result"
    }
   ],
   "source": [
    "audio_names = os.listdir(filepath_audio_files)\n",
    "\n",
    "#Total number of celebrity speakers audios\n",
    "len(audio_names)        "
   ]
  },
  {
   "cell_type": "markdown",
   "metadata": {},
   "source": [
    "My dataset contains 148 642 audios : I reduce the size of my dataset thank to previously study (Nationality selection : USA and UK) : "
   ]
  },
  {
   "cell_type": "code",
   "execution_count": 21,
   "metadata": {},
   "outputs": [
    {
     "data": {
      "text/plain": [
       "119045"
      ]
     },
     "execution_count": 21,
     "metadata": {},
     "output_type": "execute_result"
    }
   ],
   "source": [
    "list_audio = []\n",
    "list_celeb_id = []\n",
    "\n",
    "for audio_name in audio_names:\n",
    "    for celeb_id in celebrity_speakers_data_limited['VoxCeleb1_ID']:\n",
    "        \n",
    "        #I compare celebrity ID in audio name : celebrity_ID-Interview_ID-audio_part_number\n",
    "        if celeb_id == audio_name.split('-')[0]:\n",
    "            \n",
    "            #I add audio files corresponding to my selection in an empty list\n",
    "            list_audio.append(audio_name)\n",
    "\n",
    "len(list_audio)"
   ]
  },
  {
   "cell_type": "markdown",
   "metadata": {},
   "source": [
    "I decide to keep 10 000 audios to can fit Machine Learning models in my computer."
   ]
  },
  {
   "cell_type": "code",
   "execution_count": 22,
   "metadata": {},
   "outputs": [
    {
     "data": {
      "text/plain": [
       "10000"
      ]
     },
     "execution_count": 22,
     "metadata": {},
     "output_type": "execute_result"
    }
   ],
   "source": [
    "list_audio = list_audio[:10000]\n",
    "\n",
    "len(list_audio)"
   ]
  },
  {
   "cell_type": "code",
   "execution_count": 23,
   "metadata": {},
   "outputs": [
    {
     "data": {
      "text/plain": [
       "10000"
      ]
     },
     "execution_count": 23,
     "metadata": {},
     "output_type": "execute_result"
    }
   ],
   "source": [
    "#list comprehension to retrieve celeb_id corresponding to audio name\n",
    "celeb_id = [audio_name.split('-')[0] for audio_name in list_audio]\n",
    "\n",
    "len(celeb_id)"
   ]
  },
  {
   "cell_type": "markdown",
   "metadata": {},
   "source": [
    "My dataset contains 981 celebrity speakers : it's my labels :"
   ]
  },
  {
   "cell_type": "code",
   "execution_count": 35,
   "metadata": {},
   "outputs": [
    {
     "data": {
      "text/plain": [
       "981"
      ]
     },
     "execution_count": 35,
     "metadata": {},
     "output_type": "execute_result"
    }
   ],
   "source": [
    "len(set(celeb_id))"
   ]
  },
  {
   "cell_type": "markdown",
   "metadata": {},
   "source": [
    "I save audio informations in a pickle file `audio_informations.pkl`:"
   ]
  },
  {
   "cell_type": "code",
   "execution_count": 26,
   "metadata": {},
   "outputs": [],
   "source": [
    "filepath_audio_informations = os.path.join('final-project-data', 'audio_informations.pkl')\n",
    "\n",
    "with open(filepath_audio_informations, 'wb') as f:\n",
    "    pickle.dump((audio_names, list_audio, celeb_id), f)"
   ]
  },
  {
   "cell_type": "markdown",
   "metadata": {},
   "source": [
    "Some audios contains background noise, laughter, and other artefacts in a range of recording environments : an audio signal processing is needed.\n"
   ]
  },
  {
   "cell_type": "markdown",
   "metadata": {},
   "source": [
    "<h3> 1.2 Dataset building : Features Extraction"
   ]
  },
  {
   "cell_type": "markdown",
   "metadata": {},
   "source": [
    "After my research, sound is a signal distinctive by several features as :\n",
    "- frequency : the rate at which something occurs over a particular period of time or in a given sample.\n",
    "- energy : the energy of a signal is the total magnitude of the signal\n",
    "- tempo : the speed at which a passage of music is or should be played.\n",
    "- spectrum :  usually a short sample of a sound – in terms of the amount of vibration at each individual frequency\n",
    "- spectrogram : is a visual representation of the spectrum of frequencies of a signal as it varies with time.\n",
    "- ..."
   ]
  },
  {
   "cell_type": "markdown",
   "metadata": {},
   "source": [
    "My approach consists of using Deep Learning Model : Convolutional Neural Networks (CNN). I transform my audio in images to can use it so I decide to use Mel-frequency cepstral coefficients (MFCC) spectrogram (a visual representation of sound) because is the state-of-the-art features for speaker identification, speech recognition... "
   ]
  },
  {
   "cell_type": "markdown",
   "metadata": {},
   "source": [
    "<h5> Mel-frequency cepstral coefficients (MFCC) :"
   ]
  },
  {
   "cell_type": "markdown",
   "metadata": {},
   "source": [
    "*MFCC computation is based on the ear’s working principle : the human is considered as a speaker identifier.*"
   ]
  },
  {
   "cell_type": "markdown",
   "metadata": {},
   "source": [
    "Firstly, I don't do any audio signal processing."
   ]
  },
  {
   "cell_type": "code",
   "execution_count": 7,
   "metadata": {},
   "outputs": [],
   "source": [
    "filepath_audio_informations = os.path.join('final-project-data', 'audio_informations.pkl')\n",
    "\n",
    "with open(filepath_audio_informations, 'rb') as f:\n",
    "    audio_names, list_audio, celeb_id = pickle.load(f)"
   ]
  },
  {
   "cell_type": "markdown",
   "metadata": {},
   "source": [
    "I use LibROSA library to compute MFCCs on my records :"
   ]
  },
  {
   "cell_type": "code",
   "execution_count": 5,
   "metadata": {
    "scrolled": false
   },
   "outputs": [],
   "source": [
    "def get_mfcc(list_audio, n_mfcc=40):\n",
    "    '''\n",
    "    This function collects each audio and extracts Mel-frequency cepstral coefficients (MFCCs) with librosa library\n",
    "    \n",
    "    Parameters\n",
    "    ------------\n",
    "    list_audio : list of str\n",
    "        contains audio files names\n",
    "    n_mfcc : int > 0\n",
    "        number of MFCCs to return\n",
    "    \n",
    "    Returns\n",
    "    ------------\n",
    "    list_mfcc : list of array\n",
    "        contains Mel-frequency cepstral coefficients (MFCCs) sequence for each audios\n",
    "    list_source : list of int\n",
    "        sampling rate\n",
    "    '''\n",
    "    list_mfcc = []\n",
    "    list_audio_source = []\n",
    "    \n",
    "    filepath_audio_files = os.path.join('..', '..', '..', '..', 'Documents', 'Final-Project-data', 'vox1_dev_wav', 'audio_files')\n",
    "    \n",
    "    for audio_name in list_audio:\n",
    "        #Audio filepath\n",
    "        filepath_audio = os.path.join(filepath_audio_files, audio_name)\n",
    "\n",
    "        #Load audio files\n",
    "        # I choose duration=5s for each audio to have the same audio duration\n",
    "        #sr=None : preserves the native sampling rate of the file \n",
    "        audio, source = librosa.load(filepath_audio, duration=5, sr=None) \n",
    "        \n",
    "        #List of Mel-frequency cepstral coefficients (MFCCs) computed\n",
    "        list_mfcc.append(librosa.feature.mfcc(audio, n_mfcc=n_mfcc, sr=source))\n",
    "\n",
    "        #list of source loaded\n",
    "        list_audio_source.append(source)\n",
    "                \n",
    "    return list_mfcc, list_audio_source"
   ]
  },
  {
   "cell_type": "code",
   "execution_count": 6,
   "metadata": {},
   "outputs": [],
   "source": [
    "mfccs, audio_source = get_mfcc(list_audio)"
   ]
  },
  {
   "cell_type": "code",
   "execution_count": 7,
   "metadata": {},
   "outputs": [
    {
     "data": {
      "text/plain": [
       "{16000}"
      ]
     },
     "execution_count": 7,
     "metadata": {},
     "output_type": "execute_result"
    }
   ],
   "source": [
    "set(audio_source)"
   ]
  },
  {
   "cell_type": "markdown",
   "metadata": {},
   "source": [
    "I save `mfccs` and `audio_source` to a local folder :"
   ]
  },
  {
   "cell_type": "code",
   "execution_count": 10,
   "metadata": {},
   "outputs": [],
   "source": [
    "filepath_audio_loaded = os.path.join('final-project-data', 'audio_mfcc.pkl') \n",
    "\n",
    "with open(filepath_audio_loaded, 'wb')as f:\n",
    "    pickle.dump((mfccs, audio_source), f)"
   ]
  },
  {
   "cell_type": "code",
   "execution_count": 11,
   "metadata": {
    "scrolled": true
   },
   "outputs": [
    {
     "name": "stdout",
     "output_type": "stream",
     "text": [
      "audio_informations.pkl  celebrity_speakers_data_limited.pkl  \u001b[0m\u001b[01;34mmfcc_images\u001b[0m/\r\n",
      "audio_mfcc.pkl          celebrity_speakers_data.pkl\r\n"
     ]
    }
   ],
   "source": [
    "ls final-project-data"
   ]
  },
  {
   "cell_type": "code",
   "execution_count": 6,
   "metadata": {},
   "outputs": [],
   "source": [
    "filepath_audio_loaded = os.path.join('final-project-data', 'audio_mfcc.pkl') \n",
    "\n",
    "with open(filepath_audio_loaded, 'rb')as f:\n",
    "    mfccs, audio_source = pickle.load(f)"
   ]
  },
  {
   "cell_type": "markdown",
   "metadata": {},
   "source": [
    "For example, I display speech waveform and MFCC spectrogram for two records :"
   ]
  },
  {
   "cell_type": "code",
   "execution_count": 6,
   "metadata": {},
   "outputs": [
    {
     "data": {
      "image/png": "[encoded data removed]",
      "text/plain": [
       "<Figure size 720x576 with 6 Axes>"
      ]
     },
     "metadata": {
      "needs_background": "light"
     },
     "output_type": "display_data"
    }
   ],
   "source": [
    "plt.figure(figsize=(10, 8))\n",
    "\n",
    "idx_1 = np.random.randint(len(mfccs))                                      #random index choose for a record\n",
    "idx_2 = np.random.randint(len(mfccs))                                      #random index choose for a record\n",
    "\n",
    "#Waveplot for idx_1\n",
    "plt.subplot(2, 2, 1)\n",
    "filepath_audio_files_1 = os.path.join('..', '..', '..', '..', 'Documents', 'Final-Project-data', 'vox1_dev_wav', 'audio_files', list_audio[idx_1])\n",
    "audio_1 = librosa.load(filepath_audio_files_1, duration=5, sr=None)[0]     #Audio loaded\n",
    "librosa.display.waveplot(audio_1, sr=16000)                                #Waveplot displayed\n",
    "plt.title(f'{celeb_id[idx_1]} speech waveform')                            #Waveplot title\n",
    "plt.xlabel('Time (s)')                                                     #Axis label\n",
    "plt.ylabel('Amplitude')                                                    #Axis label\n",
    "plt.tight_layout()                                                         #Space between two plots\n",
    "\n",
    "#Waveplot for idx_2\n",
    "plt.subplot(2, 2, 2)\n",
    "filepath_audio_files_2 = os.path.join('..', '..', '..', '..', 'Documents', 'Final-Project-data', 'vox1_dev_wav', 'audio_files', list_audio[idx_2])\n",
    "audio_2 = librosa.load(filepath_audio_files_2, duration=5, sr=None)[0]     #Audio loaded\n",
    "librosa.display.waveplot(audio_2, sr=16000)                                #Waveplot displayed\n",
    "plt.title(f'{celeb_id[idx_2]} speech waveform')                            #Waveplot title\n",
    "plt.xlabel('Time (s)')                                                     #Axis label\n",
    "plt.ylabel('Amplitude')                                                    #Axis label\n",
    "plt.tight_layout()                                                         #Space between two plots\n",
    "\n",
    "#MFCC spectrogram for idx_1 \n",
    "plt.subplot(2, 2, 3)\n",
    "librosa.display.specshow(mfccs[idx_1], x_axis='time', sr=16000)            #MFCC spectrogram displayed\n",
    "plt.colorbar()                                                             #Color legend\n",
    "plt.xlabel('Time (s)')                                                     #Axis label\n",
    "plt.ylabel('Cepstrum index')                                               #Axis label\n",
    "plt.title(f'{celeb_id[idx_1]} MFCC')                                       #MFCC spectrogram title\n",
    "plt.tight_layout()                                                         #Space between two plots\n",
    "\n",
    "#MFCC spectrogram for idx_2\n",
    "plt.subplot(2, 2, 4)\n",
    "librosa.display.specshow(mfccs[idx_2], x_axis='time', sr=16000)            #MFCC spectrogram displayed\n",
    "plt.colorbar()                                                             #Color legend\n",
    "plt.xlabel('Time (s)')                                                     #Axis label\n",
    "plt.ylabel('Cepstrum index')                                               #Axis label\n",
    "plt.title(f'{celeb_id[idx_2]} MFCC')                                       #MFCC spectrogram title\n",
    "plt.tight_layout()                                                         #Space between two plots\n",
    "\n",
    "\n",
    "plt.show()"
   ]
  },
  {
   "cell_type": "markdown",
   "metadata": {},
   "source": [
    "To use CNN model, I save my mfcc spectrograms displayed in a local folder :"
   ]
  },
  {
   "cell_type": "code",
   "execution_count": 16,
   "metadata": {},
   "outputs": [],
   "source": [
    "def save_mfcc_image(mfccs, list_audio):\n",
    "    '''This function saves mfcc spectrograms in png format in a local folder\n",
    "    \n",
    "    Parameters\n",
    "    ------------\n",
    "    mfccs : list of array\n",
    "        contains Mel-frequency cepstral coefficients (MFCCs) sequence for each audios\n",
    "    list_audio : list of str\n",
    "        contains audio files names\n",
    "    \n",
    "    Returns\n",
    "    -----------\n",
    "    os.listdir : list of str\n",
    "        list of mfcc spectrogram saved in local folder : png format\n",
    "    \n",
    "    ''' \n",
    "    filepath_img_folder = os.path.join('final-project-data', 'mfcc_images')\n",
    "    \n",
    "    for idx in range(len(mfccs)):\n",
    "        filepath_img = os.path.join(filepath_img_folder, list_audio[idx][:-4])\n",
    "        \n",
    "        #MFCC spectrogram displayed\n",
    "        img = librosa.display.specshow(mfccs[idx], sr=16000)         \n",
    "        \n",
    "        #MFCC spectrogram saved\n",
    "        plt.savefig(filepath_img)                                    \n",
    "    \n",
    "    print('MFCC spectrogram is saving : ')\n",
    "    return os.listdir(filepath_img_folder)"
   ]
  },
  {
   "cell_type": "code",
   "execution_count": 9,
   "metadata": {},
   "outputs": [
    {
     "data": {
      "text/plain": [
       "10000"
      ]
     },
     "execution_count": 9,
     "metadata": {},
     "output_type": "execute_result"
    }
   ],
   "source": [
    "len(list_audio)"
   ]
  },
  {
   "cell_type": "code",
   "execution_count": null,
   "metadata": {},
   "outputs": [],
   "source": [
    "list_images = save_mfcc_image(mfccs, list_audio)"
   ]
  },
  {
   "cell_type": "code",
   "execution_count": 3,
   "metadata": {},
   "outputs": [],
   "source": [
    "filepath_img_folder = os.path.join('final-project-data', 'mfcc_images')\n",
    "list_images = os.listdir(filepath_img_folder)"
   ]
  },
  {
   "cell_type": "code",
   "execution_count": 4,
   "metadata": {},
   "outputs": [
    {
     "data": {
      "text/plain": [
       "['id10639-U0iFN1R6MN4-00001.png',\n",
       " 'id10542-G6DLk7pmIZQ-00010.png',\n",
       " 'id10869-EhuDKMbSmMM-00001.png',\n",
       " 'id10997-Ta2h-xTptPE-00019.png',\n",
       " 'id10523-ZDoBIBvmo5A-00002.png',\n",
       " 'id11046-7BcUpVPxYs8-00003.png',\n",
       " 'id11147-gBDSUfr-mkw-00002.png',\n",
       " 'id10915-y_DxEsYv6TE-00004.png',\n",
       " 'id10353-jZMAFkAwedU-00008.png',\n",
       " 'id10471-KAnnsNGPEJs-00007.png']"
      ]
     },
     "execution_count": 4,
     "metadata": {},
     "output_type": "execute_result"
    }
   ],
   "source": [
    "list_images[:10]"
   ]
  },
  {
   "cell_type": "code",
   "execution_count": 6,
   "metadata": {},
   "outputs": [],
   "source": [
    "filepath_mfcc_images = os.path.join('final-project-data', 'mfcc_images.pkl') \n",
    "\n",
    "with open(filepath_mfcc_images, 'wb')as f:\n",
    "    pickle.dump(list_images, f)"
   ]
  },
  {
   "cell_type": "markdown",
   "metadata": {},
   "source": [
    "I define a new function `load_mfcc_images` :"
   ]
  },
  {
   "cell_type": "code",
   "execution_count": 2,
   "metadata": {},
   "outputs": [],
   "source": [
    "filepath_mfcc_images = os.path.join('final-project-data', 'mfcc_images.pkl') \n",
    "\n",
    "with open(filepath_mfcc_images, 'rb')as f:\n",
    "    list_images = pickle.load(f)"
   ]
  },
  {
   "cell_type": "markdown",
   "metadata": {},
   "source": [
    "I use the function `train_test_split` from scikit-learn to split my images list between train and test : 80% for train data and 20% for test data."
   ]
  },
  {
   "cell_type": "code",
   "execution_count": 3,
   "metadata": {},
   "outputs": [],
   "source": [
    "from sklearn.model_selection import train_test_split\n",
    "\n",
    "train, test = train_test_split(list_images, test_size=0.2, random_state=0)"
   ]
  },
  {
   "cell_type": "code",
   "execution_count": 5,
   "metadata": {},
   "outputs": [
    {
     "data": {
      "text/plain": [
       "(8000, 2000)"
      ]
     },
     "execution_count": 5,
     "metadata": {},
     "output_type": "execute_result"
    }
   ],
   "source": [
    "len(train), len(test)"
   ]
  },
  {
   "cell_type": "markdown",
   "metadata": {},
   "source": [
    "I load mfcc images thank to `ImageDataGenerator`, a class from keras (tensorflow) to generate a tensor image data with real-time data augmentation:"
   ]
  },
  {
   "cell_type": "code",
   "execution_count": 70,
   "metadata": {},
   "outputs": [],
   "source": [
    "def create_celebid_directory(list_images, directory_to_create):\n",
    "    '''This function create a directory selected and create folders correponding to celebrity ID\n",
    "    \n",
    "    Parameters\n",
    "    ------------\n",
    "    list_images : list of str\n",
    "        contains Mel-frequency cepstral coefficients (MFCCs) images names\n",
    "    directory_to_create : str\n",
    "        contains directory name to create\n",
    "    \n",
    "    Returns\n",
    "    -----------\n",
    "    os.listdir : list of str\n",
    "        list of celebrity ID folders created \n",
    "    \n",
    "    ''' \n",
    "    #Create a directory\n",
    "    directory_path = os.path.join('final-project-data', directory_to_create)\n",
    "    os.mkdir(directory_path)\n",
    "\n",
    "    #Unique celebrity ID list\n",
    "    list_celebid = set([image.split('-')[0] for image in list_images])\n",
    "    \n",
    "    for celebid in list_celebid:\n",
    "\n",
    "        #Create celebid folder\n",
    "        celebid_directory_path = os.path.join(directory_path, celebid)\n",
    "        os.mkdir(celebid_directory_path)\n",
    "    \n",
    "    #list of celebrity ID folders created\n",
    "    return os.listdir(directory_path)\n",
    "\n",
    "def move_images_to_directory(list_images, directory_to_create):\n",
    "    '''This function move Mel-frequency cepstral coefficients (MFCCs) images into celebrity ID related folders\n",
    "    \n",
    "    Parameters\n",
    "    ------------\n",
    "    list_images : list of str\n",
    "        contains Mel-frequency cepstral coefficients (MFCCs) images names\n",
    "    directory_to_create : str\n",
    "        contains directory name to create\n",
    "    \n",
    "    Returns\n",
    "    -----------\n",
    "    os.listdir : list of str\n",
    "        list of celebrity ID folders created \n",
    "    \n",
    "    ''' \n",
    "    #Using create_celebid_directory function to get celebrity ID folders created\n",
    "    list_destination_path = create_celebid_directory(list_images, directory_to_create)\n",
    "    \n",
    "    #Source path for MFCC images\n",
    "    source = os.path.join('final-project-data', 'mfcc_images')\n",
    "    \n",
    "    for idx_images in range(len(list_images)):\n",
    "        \n",
    "        for celebid in list_destination_path:\n",
    "            \n",
    "            if list_images[idx_images].split('-')[0] == celebid:\n",
    "                shutil.move(os.path.join(source, list_images[idx_images]), os.path.join('final-project-data', directory_to_create, celebid, list_images[idx_images]))\n",
    "    \n",
    "    return os.listdir(os.path.join('final-project-data', directory_to_create))"
   ]
  },
  {
   "cell_type": "code",
   "execution_count": 71,
   "metadata": {},
   "outputs": [
    {
     "name": "stdout",
     "output_type": "stream",
     "text": [
      "CPU times: user 3 µs, sys: 0 ns, total: 3 µs\n",
      "Wall time: 7.39 µs\n"
     ]
    },
    {
     "data": {
      "text/plain": [
       "['id10809',\n",
       " 'id10838',\n",
       " 'id10316',\n",
       " 'id10658',\n",
       " 'id10374',\n",
       " 'id10582',\n",
       " 'id11008',\n",
       " 'id11213',\n",
       " 'id11168',\n",
       " 'id10186',\n",
       " 'id10014',\n",
       " 'id10920',\n",
       " 'id10063',\n",
       " 'id10791',\n",
       " 'id10727',\n",
       " 'id10365',\n",
       " 'id10688',\n",
       " 'id10182',\n",
       " 'id10931',\n",
       " 'id11164',\n",
       " 'id11063',\n",
       " 'id10910',\n",
       " 'id10464',\n",
       " 'id10257',\n",
       " 'id10997',\n",
       " 'id11177',\n",
       " 'id10865',\n",
       " 'id11200',\n",
       " 'id10198',\n",
       " 'id10945',\n",
       " 'id10569',\n",
       " 'id10424',\n",
       " 'id10314',\n",
       " 'id10156',\n",
       " 'id10917',\n",
       " 'id10094',\n",
       " 'id10633',\n",
       " 'id10513',\n",
       " 'id10804',\n",
       " 'id10224',\n",
       " 'id11197',\n",
       " 'id11223',\n",
       " 'id10199',\n",
       " 'id10671',\n",
       " 'id11172',\n",
       " 'id10485',\n",
       " 'id11239',\n",
       " 'id10575',\n",
       " 'id11101',\n",
       " 'id10636',\n",
       " 'id11006',\n",
       " 'id10933',\n",
       " 'id10226',\n",
       " 'id10179',\n",
       " 'id10022',\n",
       " 'id10632',\n",
       " 'id10529',\n",
       " 'id10821',\n",
       " 'id10505',\n",
       " 'id10423',\n",
       " 'id11235',\n",
       " 'id10029',\n",
       " 'id11003',\n",
       " 'id10252',\n",
       " 'id11085',\n",
       " 'id10420',\n",
       " 'id10976',\n",
       " 'id10668',\n",
       " 'id10428',\n",
       " 'id11127',\n",
       " 'id11206',\n",
       " 'id10538',\n",
       " 'id10800',\n",
       " 'id10053',\n",
       " 'id10190',\n",
       " 'id11020',\n",
       " 'id10592',\n",
       " 'id10840',\n",
       " 'id10781',\n",
       " 'id10961',\n",
       " 'id11224',\n",
       " 'id10873',\n",
       " 'id10036',\n",
       " 'id10819',\n",
       " 'id10220',\n",
       " 'id10758',\n",
       " 'id10058',\n",
       " 'id11112',\n",
       " 'id11183',\n",
       " 'id11111',\n",
       " 'id10153',\n",
       " 'id10315',\n",
       " 'id10860',\n",
       " 'id10103',\n",
       " 'id10971',\n",
       " 'id11170',\n",
       " 'id10709',\n",
       " 'id10264',\n",
       " 'id10535',\n",
       " 'id10773',\n",
       " 'id10661',\n",
       " 'id10233',\n",
       " 'id10115',\n",
       " 'id10689',\n",
       " 'id10261',\n",
       " 'id10426',\n",
       " 'id10480',\n",
       " 'id10088',\n",
       " 'id10013',\n",
       " 'id11202',\n",
       " 'id11210',\n",
       " 'id10008',\n",
       " 'id10217',\n",
       " 'id10973',\n",
       " 'id10641',\n",
       " 'id11195',\n",
       " 'id11174',\n",
       " 'id11097',\n",
       " 'id11032',\n",
       " 'id10195',\n",
       " 'id10778',\n",
       " 'id11015',\n",
       " 'id10059',\n",
       " 'id10015',\n",
       " 'id10818',\n",
       " 'id10468',\n",
       " 'id10046',\n",
       " 'id10698',\n",
       " 'id10444',\n",
       " 'id10027',\n",
       " 'id11073',\n",
       " 'id11122',\n",
       " 'id10101',\n",
       " 'id10919',\n",
       " 'id10667',\n",
       " 'id10565',\n",
       " 'id10192',\n",
       " 'id10930',\n",
       " 'id10696',\n",
       " 'id10138',\n",
       " 'id11113',\n",
       " 'id10672',\n",
       " 'id10980',\n",
       " 'id11114',\n",
       " 'id10915',\n",
       " 'id11001',\n",
       " 'id10794',\n",
       " 'id10626',\n",
       " 'id10154',\n",
       " 'id10201',\n",
       " 'id11147',\n",
       " 'id11167',\n",
       " 'id10720',\n",
       " 'id10205',\n",
       " 'id10047',\n",
       " 'id10124',\n",
       " 'id10515',\n",
       " 'id10433',\n",
       " 'id11058',\n",
       " 'id11098',\n",
       " 'id10503',\n",
       " 'id10398',\n",
       " 'id10105',\n",
       " 'id10419',\n",
       " 'id10859',\n",
       " 'id10486',\n",
       " 'id10812',\n",
       " 'id10854',\n",
       " 'id10129',\n",
       " 'id10119',\n",
       " 'id11054',\n",
       " 'id10078',\n",
       " 'id10416',\n",
       " 'id10502',\n",
       " 'id10975',\n",
       " 'id10580',\n",
       " 'id10782',\n",
       " 'id10888',\n",
       " 'id10128',\n",
       " 'id10830',\n",
       " 'id10927',\n",
       " 'id10750',\n",
       " 'id10214',\n",
       " 'id11068',\n",
       " 'id10877',\n",
       " 'id10835',\n",
       " 'id11088',\n",
       " 'id10536',\n",
       " 'id10189',\n",
       " 'id10327',\n",
       " 'id10151',\n",
       " 'id10250',\n",
       " 'id10640',\n",
       " 'id10879',\n",
       " 'id10326',\n",
       " 'id10472',\n",
       " 'id11064',\n",
       " 'id10571',\n",
       " 'id11171',\n",
       " 'id10010',\n",
       " 'id10588',\n",
       " 'id10591',\n",
       " 'id10520',\n",
       " 'id10921',\n",
       " 'id10181',\n",
       " 'id11187',\n",
       " 'id10926',\n",
       " 'id11152',\n",
       " 'id10779',\n",
       " 'id10350',\n",
       " 'id10683',\n",
       " 'id11217',\n",
       " 'id10644',\n",
       " 'id10379',\n",
       " 'id10437',\n",
       " 'id10487',\n",
       " 'id10044',\n",
       " 'id10561',\n",
       " 'id10549',\n",
       " 'id10508',\n",
       " 'id10091',\n",
       " 'id10522',\n",
       " 'id11082',\n",
       " 'id10542',\n",
       " 'id10568',\n",
       " 'id10207',\n",
       " 'id10139',\n",
       " 'id10987',\n",
       " 'id10343',\n",
       " 'id10825',\n",
       " 'id10756',\n",
       " 'id10952',\n",
       " 'id10482',\n",
       " 'id10806',\n",
       " 'id10440',\n",
       " 'id11238',\n",
       " 'id11072',\n",
       " 'id10885',\n",
       " 'id10162',\n",
       " 'id10652',\n",
       " 'id10061',\n",
       " 'id11044',\n",
       " 'id10412',\n",
       " 'id10460',\n",
       " 'id10447',\n",
       " 'id10878',\n",
       " 'id10418',\n",
       " 'id10100',\n",
       " 'id10728',\n",
       " 'id10140',\n",
       " 'id10811',\n",
       " 'id10680',\n",
       " 'id10907',\n",
       " 'id10465',\n",
       " 'id10916',\n",
       " 'id10183',\n",
       " 'id11249',\n",
       " 'id11048',\n",
       " 'id10908',\n",
       " 'id11134',\n",
       " 'id10552',\n",
       " 'id11242',\n",
       " 'id10736',\n",
       " 'id10490',\n",
       " 'id11124',\n",
       " 'id10551',\n",
       " 'id11022',\n",
       " 'id11067',\n",
       " 'id10406',\n",
       " 'id10007',\n",
       " 'id10084',\n",
       " 'id10043',\n",
       " 'id11185',\n",
       " 'id10751',\n",
       " 'id10974',\n",
       " 'id10742',\n",
       " 'id10446',\n",
       " 'id10691',\n",
       " 'id10533',\n",
       " 'id10540',\n",
       " 'id10197',\n",
       " 'id11033',\n",
       " 'id10203',\n",
       " 'id10965',\n",
       " 'id10497',\n",
       " 'id11176',\n",
       " 'id11121',\n",
       " 'id11193',\n",
       " 'id11104',\n",
       " 'id10035',\n",
       " 'id10829',\n",
       " 'id10562',\n",
       " 'id10427',\n",
       " 'id10574',\n",
       " 'id11142',\n",
       " 'id10528',\n",
       " 'id11244',\n",
       " 'id10609',\n",
       " 'id10577',\n",
       " 'id10086',\n",
       " 'id10453',\n",
       " 'id10715',\n",
       " 'id10471',\n",
       " 'id10856',\n",
       " 'id10817',\n",
       " 'id10655',\n",
       " 'id10373',\n",
       " 'id11120',\n",
       " 'id10231',\n",
       " 'id10706',\n",
       " 'id11123',\n",
       " 'id10113',\n",
       " 'id10477',\n",
       " 'id10413',\n",
       " 'id11182',\n",
       " 'id10805',\n",
       " 'id10352',\n",
       " 'id10820',\n",
       " 'id10146',\n",
       " 'id10512',\n",
       " 'id10265',\n",
       " 'id10690',\n",
       " 'id10268',\n",
       " 'id10429',\n",
       " 'id10051',\n",
       " 'id11198',\n",
       " 'id11086',\n",
       " 'id10072',\n",
       " 'id11131',\n",
       " 'id10383',\n",
       " 'id10111',\n",
       " 'id10896',\n",
       " 'id11141',\n",
       " 'id10864',\n",
       " 'id11050',\n",
       " 'id10040',\n",
       " 'id10960',\n",
       " 'id10559',\n",
       " 'id10904',\n",
       " 'id10329',\n",
       " 'id10514',\n",
       " 'id10637',\n",
       " 'id10506',\n",
       " 'id10656',\n",
       " 'id10598',\n",
       " 'id10193',\n",
       " 'id10449',\n",
       " 'id10909',\n",
       " 'id11084',\n",
       " 'id10033',\n",
       " 'id10622',\n",
       " 'id11243',\n",
       " 'id10982',\n",
       " 'id10726',\n",
       " 'id10614',\n",
       " 'id11161',\n",
       " 'id11190',\n",
       " 'id10738',\n",
       " 'id10209',\n",
       " 'id10099',\n",
       " 'id10407',\n",
       " 'id10767',\n",
       " 'id10754',\n",
       " 'id10430',\n",
       " 'id10783',\n",
       " 'id10822',\n",
       " 'id10521',\n",
       " 'id11024',\n",
       " 'id10336',\n",
       " 'id10983',\n",
       " 'id10375',\n",
       " 'id10127',\n",
       " 'id10790',\n",
       " 'id10998',\n",
       " 'id10815',\n",
       " 'id11220',\n",
       " 'id10827',\n",
       " 'id10388',\n",
       " 'id10963',\n",
       " 'id10599',\n",
       " 'id11034',\n",
       " 'id10990',\n",
       " 'id10167',\n",
       " 'id11012',\n",
       " 'id11133',\n",
       " 'id11145',\n",
       " 'id10212',\n",
       " 'id10319',\n",
       " 'id11103',\n",
       " 'id10208',\n",
       " 'id10615',\n",
       " 'id10570',\n",
       " 'id10659',\n",
       " 'id10526',\n",
       " 'id10230',\n",
       " 'id11181',\n",
       " 'id10685',\n",
       " 'id11231',\n",
       " 'id10612',\n",
       " 'id11081',\n",
       " 'id10660',\n",
       " 'id10348',\n",
       " 'id11035',\n",
       " 'id10699',\n",
       " 'id10330',\n",
       " 'id10248',\n",
       " 'id10259',\n",
       " 'id10576',\n",
       " 'id10473',\n",
       " 'id10884',\n",
       " 'id10744',\n",
       " 'id11211',\n",
       " 'id11069',\n",
       " 'id10764',\n",
       " 'id10389',\n",
       " 'id10204',\n",
       " 'id10616',\n",
       " 'id10863',\n",
       " 'id10979',\n",
       " 'id10216',\n",
       " 'id10675',\n",
       " 'id10358',\n",
       " 'id10188',\n",
       " 'id11216',\n",
       " 'id11106',\n",
       " 'id10606',\n",
       " 'id10676',\n",
       " 'id10368',\n",
       " 'id10959',\n",
       " 'id10322',\n",
       " 'id11189',\n",
       " 'id10143',\n",
       " 'id10766',\n",
       " 'id11169',\n",
       " 'id10476',\n",
       " 'id10600',\n",
       " 'id11037',\n",
       " 'id10841',\n",
       " 'id11000',\n",
       " 'id10642',\n",
       " 'id10953',\n",
       " 'id10596',\n",
       " 'id10093',\n",
       " 'id11055',\n",
       " 'id10957',\n",
       " 'id10142',\n",
       " 'id10376',\n",
       " 'id10206',\n",
       " 'id10816',\n",
       " 'id11007',\n",
       " 'id10240',\n",
       " 'id10752',\n",
       " 'id11162',\n",
       " 'id10509',\n",
       " 'id11021',\n",
       " 'id10364',\n",
       " 'id11196',\n",
       " 'id10834',\n",
       " 'id10991',\n",
       " 'id10665',\n",
       " 'id10564',\n",
       " 'id10056',\n",
       " 'id11188',\n",
       " 'id10256',\n",
       " 'id10866',\n",
       " 'id10833',\n",
       " 'id10725',\n",
       " 'id10082',\n",
       " 'id10025',\n",
       " 'id10080',\n",
       " 'id10069',\n",
       " 'id10404',\n",
       " 'id10148',\n",
       " 'id10847',\n",
       " 'id10981',\n",
       " 'id10337',\n",
       " 'id10999',\n",
       " 'id10466',\n",
       " 'id10664',\n",
       " 'id10631',\n",
       " 'id10929',\n",
       " 'id10445',\n",
       " 'id11042',\n",
       " 'id10839',\n",
       " 'id10346',\n",
       " 'id10161',\n",
       " 'id10793',\n",
       " 'id10108',\n",
       " 'id10951',\n",
       " 'id10097',\n",
       " 'id10913',\n",
       " 'id10342',\n",
       " 'id10639',\n",
       " 'id10634',\n",
       " 'id10850',\n",
       " 'id10849',\n",
       " 'id10184',\n",
       " 'id11046',\n",
       " 'id11110',\n",
       " 'id10026',\n",
       " 'id10638',\n",
       " 'id10130',\n",
       " 'id10399',\n",
       " 'id11115',\n",
       " 'id10210',\n",
       " 'id10938',\n",
       " 'id10390',\n",
       " 'id10710',\n",
       " 'id11233',\n",
       " 'id10692',\n",
       " 'id10560',\n",
       " 'id10180',\n",
       " 'id10225',\n",
       " 'id10263',\n",
       " 'id10857',\n",
       " 'id10527',\n",
       " 'id10401',\n",
       " 'id11157',\n",
       " 'id10351',\n",
       " 'id10110',\n",
       " 'id10774',\n",
       " 'id10572',\n",
       " 'id10320',\n",
       " 'id10807',\n",
       " 'id10081',\n",
       " 'id10566',\n",
       " 'id10068',\n",
       " 'id10625',\n",
       " 'id11051',\n",
       " 'id10650',\n",
       " 'id10545',\n",
       " 'id11049',\n",
       " 'id10242',\n",
       " 'id10109',\n",
       " 'id11144',\n",
       " 'id10432',\n",
       " 'id10137',\n",
       " 'id10102',\n",
       " 'id11092',\n",
       " 'id10260',\n",
       " 'id10228',\n",
       " 'id10889',\n",
       " 'id10705',\n",
       " 'id11208',\n",
       " 'id10743',\n",
       " 'id11052',\n",
       " 'id10236',\n",
       " 'id10869',\n",
       " 'id10733',\n",
       " 'id10107',\n",
       " 'id10169',\n",
       " 'id10762',\n",
       " 'id10735',\n",
       " 'id10523',\n",
       " 'id10531',\n",
       " 'id10775',\n",
       " 'id10589',\n",
       " 'id10200',\n",
       " 'id10617',\n",
       " 'id10239',\n",
       " 'id10023',\n",
       " 'id10116',\n",
       " 'id10623',\n",
       " 'id10772',\n",
       " 'id10237',\n",
       " 'id10478',\n",
       " 'id10218',\n",
       " 'id10944',\n",
       " 'id10331',\n",
       " 'id10164',\n",
       " 'id10057',\n",
       " 'id11247',\n",
       " 'id10796',\n",
       " 'id10510',\n",
       " 'id10405',\n",
       " 'id11041',\n",
       " 'id11149',\n",
       " 'id10442',\n",
       " 'id10235',\n",
       " 'id10813',\n",
       " 'id10163',\n",
       " 'id10377',\n",
       " 'id10880',\n",
       " 'id10349',\n",
       " 'id10581',\n",
       " 'id10673',\n",
       " 'id11226',\n",
       " 'id11107',\n",
       " 'id10787',\n",
       " 'id10397',\n",
       " 'id10594',\n",
       " 'id10996',\n",
       " 'id10462',\n",
       " 'id10077',\n",
       " 'id11230',\n",
       " 'id10590',\n",
       " 'id10048',\n",
       " 'id10087',\n",
       " 'id10062',\n",
       " 'id10020',\n",
       " 'id10595',\n",
       " 'id10484',\n",
       " 'id10157',\n",
       " 'id10763',\n",
       " 'id11225',\n",
       " 'id10702',\n",
       " 'id10004',\n",
       " 'id10489',\n",
       " 'id11236',\n",
       " 'id11146',\n",
       " 'id10125',\n",
       " 'id10624',\n",
       " 'id10928',\n",
       " 'id10152',\n",
       " 'id10074',\n",
       " 'id10995',\n",
       " 'id10925',\n",
       " 'id10096',\n",
       " 'id10325',\n",
       " 'id10238',\n",
       " 'id10777',\n",
       " 'id10187',\n",
       " 'id11204',\n",
       " 'id10504',\n",
       " 'id10380',\n",
       " 'id11057',\n",
       " 'id11246',\n",
       " 'id10054',\n",
       " 'id10947',\n",
       " 'id11153',\n",
       " 'id11222',\n",
       " 'id10158',\n",
       " 'id10934',\n",
       " 'id10700',\n",
       " 'id10501',\n",
       " 'id11180',\n",
       " 'id10038',\n",
       " 'id10121',\n",
       " 'id10075',\n",
       " 'id11026',\n",
       " 'id10441',\n",
       " 'id11155',\n",
       " 'id10339',\n",
       " 'id10414',\n",
       " 'id11059',\n",
       " 'id10470',\n",
       " 'id11002',\n",
       " 'id10730',\n",
       " 'id10338',\n",
       " 'id10601',\n",
       " 'id10643',\n",
       " 'id10749',\n",
       " 'id10932',\n",
       " 'id11191',\n",
       " 'id11109',\n",
       " 'id10546',\n",
       " 'id10842',\n",
       " 'id10677',\n",
       " 'id10194',\n",
       " 'id10219',\n",
       " 'id10855',\n",
       " 'id10808',\n",
       " 'id10052',\n",
       " 'id10613',\n",
       " 'id10173',\n",
       " 'id10837',\n",
       " 'id11207',\n",
       " 'id10936',\n",
       " 'id11095',\n",
       " 'id10922',\n",
       " 'id10978',\n",
       " 'id11228',\n",
       " 'id10780',\n",
       " 'id10972',\n",
       " 'id10458',\n",
       " 'id11096',\n",
       " 'id10395',\n",
       " 'id10556',\n",
       " 'id10132',\n",
       " 'id10311',\n",
       " 'id10369',\n",
       " 'id11010',\n",
       " 'id11125',\n",
       " 'id10524',\n",
       " 'id10674',\n",
       " 'id10402',\n",
       " 'id10784',\n",
       " 'id10012',\n",
       " 'id10359',\n",
       " 'id10858',\n",
       " 'id10986',\n",
       " 'id11218',\n",
       " 'id10694',\n",
       " 'id10400',\n",
       " 'id10255',\n",
       " 'id11128',\n",
       " 'id10098',\n",
       " 'id10483',\n",
       " 'id11080',\n",
       " 'id10867',\n",
       " 'id10874',\n",
       " 'id11038',\n",
       " 'id11116',\n",
       " 'id10403',\n",
       " 'id10227',\n",
       " 'id10534',\n",
       " 'id10435',\n",
       " 'id10079',\n",
       " 'id10372',\n",
       " 'id10627',\n",
       " 'id10172',\n",
       " 'id10684',\n",
       " 'id10578',\n",
       " 'id10196',\n",
       " 'id10136',\n",
       " 'id10492',\n",
       " 'id10544',\n",
       " 'id10984',\n",
       " 'id10573',\n",
       " 'id10584',\n",
       " 'id10494',\n",
       " 'id10608',\n",
       " 'id10095',\n",
       " 'id10532',\n",
       " 'id10463',\n",
       " 'id10836',\n",
       " 'id10711',\n",
       " 'id10443',\n",
       " 'id10647',\n",
       " 'id10323',\n",
       " 'id10579',\n",
       " 'id10089',\n",
       " 'id10065',\n",
       " 'id10620',\n",
       " 'id10900',\n",
       " 'id11093',\n",
       " 'id10333',\n",
       " 'id10481',\n",
       " 'id10950',\n",
       " 'id10434',\n",
       " 'id10708',\n",
       " 'id11029',\n",
       " 'id10028',\n",
       " 'id10112',\n",
       " 'id10713',\n",
       " 'id10714',\n",
       " 'id10875',\n",
       " 'id10557',\n",
       " 'id11030',\n",
       " 'id11184',\n",
       " 'id10362',\n",
       " 'id10765',\n",
       " 'id11018',\n",
       " 'id10649',\n",
       " 'id10977',\n",
       " 'id10149',\n",
       " 'id10475',\n",
       " 'id11099',\n",
       " 'id10611',\n",
       " 'id10718',\n",
       " 'id10021',\n",
       " 'id10851',\n",
       " 'id10894',\n",
       " 'id10041',\n",
       " 'id10670',\n",
       " 'id10387',\n",
       " 'id10853',\n",
       " 'id11199',\n",
       " 'id10776',\n",
       " 'id10567',\n",
       " 'id10005',\n",
       " 'id10178',\n",
       " 'id10049',\n",
       " 'id10992',\n",
       " 'id10144',\n",
       " 'id10474',\n",
       " 'id10553',\n",
       " 'id10229',\n",
       " 'id10898',\n",
       " 'id11016',\n",
       " 'id10618',\n",
       " 'id10968',\n",
       " 'id10491',\n",
       " 'id11137',\n",
       " 'id11077',\n",
       " 'id10411',\n",
       " 'id10436',\n",
       " 'id10657',\n",
       " 'id10937',\n",
       " 'id10332',\n",
       " 'id10318',\n",
       " 'id10597',\n",
       " 'id10160',\n",
       " 'id11214',\n",
       " 'id10585',\n",
       " 'id10669',\n",
       " 'id11119',\n",
       " 'id10417',\n",
       " 'id10090',\n",
       " 'id11139',\n",
       " 'id10924',\n",
       " 'id10386',\n",
       " 'id10159',\n",
       " 'id10788',\n",
       " 'id10507',\n",
       " 'id10882',\n",
       " 'id10722',\n",
       " 'id11154',\n",
       " 'id10537',\n",
       " 'id10993',\n",
       " 'id10914',\n",
       " 'id10759',\n",
       " 'id11105',\n",
       " 'id11229',\n",
       " 'id10716',\n",
       " 'id10785',\n",
       " 'id10593',\n",
       " 'id10357',\n",
       " 'id10175',\n",
       " 'id10635',\n",
       " 'id10165',\n",
       " 'id10630',\n",
       " 'id11004',\n",
       " 'id10469',\n",
       " 'id10321',\n",
       " 'id11194',\n",
       " 'id10421',\n",
       " 'id10985',\n",
       " 'id10687',\n",
       " 'id10563',\n",
       " 'id11083',\n",
       " 'id10890',\n",
       " 'id10363',\n",
       " 'id11166',\n",
       " 'id10895',\n",
       " 'id10064',\n",
       " 'id11201',\n",
       " 'id10946',\n",
       " 'id10801',\n",
       " 'id11245',\n",
       " 'id10891',\n",
       " 'id11062',\n",
       " 'id11232',\n",
       " 'id11178',\n",
       " 'id10906',\n",
       " 'id10459',\n",
       " 'id11159',\n",
       " 'id11158',\n",
       " 'id10798',\n",
       " 'id11143',\n",
       " 'id10221',\n",
       " 'id10761',\n",
       " 'id10145',\n",
       " 'id10814',\n",
       " 'id10083',\n",
       " 'id10621',\n",
       " 'id10455',\n",
       " 'id10602',\n",
       " 'id11061',\n",
       " 'id10905',\n",
       " 'id10693',\n",
       " 'id10607',\n",
       " 'id11150',\n",
       " 'id10253',\n",
       " 'id11165',\n",
       " 'id11028',\n",
       " 'id10371',\n",
       " 'id10518',\n",
       " 'id10541',\n",
       " 'id10753',\n",
       " 'id10732',\n",
       " 'id10479',\n",
       " 'id10629',\n",
       " 'id10066',\n",
       " 'id11160',\n",
       " 'id10678',\n",
       " 'id11060',\n",
       " 'id11135',\n",
       " 'id11108',\n",
       " 'id11250',\n",
       " 'id10452',\n",
       " 'id10262',\n",
       " 'id11023',\n",
       " 'id10032',\n",
       " 'id10653',\n",
       " 'id10174',\n",
       " 'id10628',\n",
       " 'id10438',\n",
       " 'id11186',\n",
       " 'id10356',\n",
       " 'id10721',\n",
       " 'id10451',\n",
       " 'id11241',\n",
       " 'id10717',\n",
       " 'id10899',\n",
       " 'id11248',\n",
       " 'id10366',\n",
       " 'id10450',\n",
       " 'id10681',\n",
       " 'id11234',\n",
       " 'id10353',\n",
       " 'id10954',\n",
       " 'id10746',\n",
       " 'id10313',\n",
       " 'id10989',\n",
       " 'id10886',\n",
       " 'id10071',\n",
       " 'id10439',\n",
       " 'id11102',\n",
       " 'id10150',\n",
       " 'id10547',\n",
       " 'id10550',\n",
       " 'id10755',\n",
       " 'id10131',\n",
       " 'id10267',\n",
       " 'id10543',\n",
       " 'id10610',\n",
       " 'id10848',\n",
       " 'id10824',\n",
       " 'id11056',\n",
       " 'id10797',\n",
       " 'id11118',\n",
       " 'id10123',\n",
       " 'id11036',\n",
       " 'id10042',\n",
       " 'id10360',\n",
       " 'id10247',\n",
       " 'id10604',\n",
       " 'id10106',\n",
       " 'id10695',\n",
       " 'id10335',\n",
       " 'id11079',\n",
       " 'id10147',\n",
       " 'id11047',\n",
       " 'id11126',\n",
       " 'id10422',\n",
       " 'id11163',\n",
       " 'id10731',\n",
       " 'id10902',\n",
       " 'id10133',\n",
       " 'id11219',\n",
       " 'id10970',\n",
       " 'id10748',\n",
       " 'id10868',\n",
       " 'id10803',\n",
       " 'id10648',\n",
       " 'id11019',\n",
       " 'id11203',\n",
       " 'id10918',\n",
       " 'id10645',\n",
       " 'id10792',\n",
       " 'id11009',\n",
       " 'id10234',\n",
       " 'id10382',\n",
       " 'id10651',\n",
       " 'id10530',\n",
       " 'id10548',\n",
       " 'id10771',\n",
       " 'id10171',\n",
       " 'id10786',\n",
       " 'id10073',\n",
       " 'id10897',\n",
       " 'id10122',\n",
       " 'id10823',\n",
       " 'id10367',\n",
       " 'id10686',\n",
       " 'id10525',\n",
       " 'id11251',\n",
       " 'id10795',\n",
       " 'id10461',\n",
       " 'id10070',\n",
       " 'id11221',\n",
       " 'id10431',\n",
       " 'id10499',\n",
       " 'id11027',\n",
       " 'id11156']"
      ]
     },
     "execution_count": 71,
     "metadata": {},
     "output_type": "execute_result"
    }
   ],
   "source": [
    "%time\n",
    "move_images_to_directory(train, directory_to_create='train')"
   ]
  },
  {
   "cell_type": "code",
   "execution_count": 72,
   "metadata": {},
   "outputs": [
    {
     "data": {
      "text/plain": [
       "['id10838',\n",
       " 'id10316',\n",
       " 'id10658',\n",
       " 'id10374',\n",
       " 'id10582',\n",
       " 'id11008',\n",
       " 'id11213',\n",
       " 'id10186',\n",
       " 'id10014',\n",
       " 'id10920',\n",
       " 'id10063',\n",
       " 'id10791',\n",
       " 'id10365',\n",
       " 'id10688',\n",
       " 'id10182',\n",
       " 'id10931',\n",
       " 'id11164',\n",
       " 'id11063',\n",
       " 'id10464',\n",
       " 'id10257',\n",
       " 'id10997',\n",
       " 'id11177',\n",
       " 'id10865',\n",
       " 'id10198',\n",
       " 'id10945',\n",
       " 'id10569',\n",
       " 'id10424',\n",
       " 'id10314',\n",
       " 'id10156',\n",
       " 'id10917',\n",
       " 'id10513',\n",
       " 'id10224',\n",
       " 'id11197',\n",
       " 'id11223',\n",
       " 'id10199',\n",
       " 'id10671',\n",
       " 'id11172',\n",
       " 'id10485',\n",
       " 'id11239',\n",
       " 'id10575',\n",
       " 'id11101',\n",
       " 'id10636',\n",
       " 'id11006',\n",
       " 'id10933',\n",
       " 'id10226',\n",
       " 'id10179',\n",
       " 'id10022',\n",
       " 'id10529',\n",
       " 'id10505',\n",
       " 'id10423',\n",
       " 'id11235',\n",
       " 'id10029',\n",
       " 'id11003',\n",
       " 'id10252',\n",
       " 'id10420',\n",
       " 'id10976',\n",
       " 'id10668',\n",
       " 'id10428',\n",
       " 'id11127',\n",
       " 'id11206',\n",
       " 'id10538',\n",
       " 'id10800',\n",
       " 'id10053',\n",
       " 'id11020',\n",
       " 'id10592',\n",
       " 'id10840',\n",
       " 'id10781',\n",
       " 'id11224',\n",
       " 'id10873',\n",
       " 'id10036',\n",
       " 'id10220',\n",
       " 'id10758',\n",
       " 'id11183',\n",
       " 'id11111',\n",
       " 'id10315',\n",
       " 'id10860',\n",
       " 'id10103',\n",
       " 'id11170',\n",
       " 'id10709',\n",
       " 'id10535',\n",
       " 'id10773',\n",
       " 'id10661',\n",
       " 'id10233',\n",
       " 'id10115',\n",
       " 'id10689',\n",
       " 'id10426',\n",
       " 'id10088',\n",
       " 'id10013',\n",
       " 'id11202',\n",
       " 'id11210',\n",
       " 'id10008',\n",
       " 'id10641',\n",
       " 'id11174',\n",
       " 'id11032',\n",
       " 'id10195',\n",
       " 'id10778',\n",
       " 'id10059',\n",
       " 'id10818',\n",
       " 'id10468',\n",
       " 'id10444',\n",
       " 'id10027',\n",
       " 'id11073',\n",
       " 'id11122',\n",
       " 'id10101',\n",
       " 'id10919',\n",
       " 'id10667',\n",
       " 'id10192',\n",
       " 'id10930',\n",
       " 'id10696',\n",
       " 'id10138',\n",
       " 'id10672',\n",
       " 'id10980',\n",
       " 'id11114',\n",
       " 'id10915',\n",
       " 'id11001',\n",
       " 'id10794',\n",
       " 'id10626',\n",
       " 'id10154',\n",
       " 'id10201',\n",
       " 'id11147',\n",
       " 'id10720',\n",
       " 'id10205',\n",
       " 'id10047',\n",
       " 'id10124',\n",
       " 'id10515',\n",
       " 'id10433',\n",
       " 'id11058',\n",
       " 'id11098',\n",
       " 'id10503',\n",
       " 'id10105',\n",
       " 'id10419',\n",
       " 'id10859',\n",
       " 'id10486',\n",
       " 'id10812',\n",
       " 'id10854',\n",
       " 'id10129',\n",
       " 'id11054',\n",
       " 'id10078',\n",
       " 'id10416',\n",
       " 'id10975',\n",
       " 'id10580',\n",
       " 'id10782',\n",
       " 'id10888',\n",
       " 'id10128',\n",
       " 'id10830',\n",
       " 'id10927',\n",
       " 'id10214',\n",
       " 'id11068',\n",
       " 'id10877',\n",
       " 'id10835',\n",
       " 'id11088',\n",
       " 'id10536',\n",
       " 'id10189',\n",
       " 'id10327',\n",
       " 'id10151',\n",
       " 'id10250',\n",
       " 'id10879',\n",
       " 'id10326',\n",
       " 'id10472',\n",
       " 'id11064',\n",
       " 'id10571',\n",
       " 'id11171',\n",
       " 'id10591',\n",
       " 'id10520',\n",
       " 'id10921',\n",
       " 'id11187',\n",
       " 'id10926',\n",
       " 'id11152',\n",
       " 'id10779',\n",
       " 'id10350',\n",
       " 'id10683',\n",
       " 'id11217',\n",
       " 'id10644',\n",
       " 'id10379',\n",
       " 'id10437',\n",
       " 'id10044',\n",
       " 'id10561',\n",
       " 'id10508',\n",
       " 'id10522',\n",
       " 'id11082',\n",
       " 'id10207',\n",
       " 'id10139',\n",
       " 'id10987',\n",
       " 'id10343',\n",
       " 'id10825',\n",
       " 'id10756',\n",
       " 'id10952',\n",
       " 'id10482',\n",
       " 'id10806',\n",
       " 'id10440',\n",
       " 'id11072',\n",
       " 'id10885',\n",
       " 'id10162',\n",
       " 'id10652',\n",
       " 'id10061',\n",
       " 'id10412',\n",
       " 'id10460',\n",
       " 'id10447',\n",
       " 'id10878',\n",
       " 'id10418',\n",
       " 'id10100',\n",
       " 'id10728',\n",
       " 'id10140',\n",
       " 'id10811',\n",
       " 'id10680',\n",
       " 'id10907',\n",
       " 'id10465',\n",
       " 'id10916',\n",
       " 'id10183',\n",
       " 'id11249',\n",
       " 'id11048',\n",
       " 'id11134',\n",
       " 'id11242',\n",
       " 'id10736',\n",
       " 'id11124',\n",
       " 'id10551',\n",
       " 'id11067',\n",
       " 'id10406',\n",
       " 'id10007',\n",
       " 'id10084',\n",
       " 'id10043',\n",
       " 'id11185',\n",
       " 'id10751',\n",
       " 'id10974',\n",
       " 'id10446',\n",
       " 'id10691',\n",
       " 'id10540',\n",
       " 'id10197',\n",
       " 'id11033',\n",
       " 'id10203',\n",
       " 'id10965',\n",
       " 'id10497',\n",
       " 'id11176',\n",
       " 'id11104',\n",
       " 'id10035',\n",
       " 'id10829',\n",
       " 'id10427',\n",
       " 'id10574',\n",
       " 'id11142',\n",
       " 'id10528',\n",
       " 'id10609',\n",
       " 'id10577',\n",
       " 'id10715',\n",
       " 'id10471',\n",
       " 'id10856',\n",
       " 'id10817',\n",
       " 'id10655',\n",
       " 'id10373',\n",
       " 'id11120',\n",
       " 'id10231',\n",
       " 'id10706',\n",
       " 'id11123',\n",
       " 'id10113',\n",
       " 'id10477',\n",
       " 'id11182',\n",
       " 'id10805',\n",
       " 'id10352',\n",
       " 'id10146',\n",
       " 'id10512',\n",
       " 'id10265',\n",
       " 'id10690',\n",
       " 'id10268',\n",
       " 'id10429',\n",
       " 'id11198',\n",
       " 'id11086',\n",
       " 'id10072',\n",
       " 'id11131',\n",
       " 'id10383',\n",
       " 'id10111',\n",
       " 'id11141',\n",
       " 'id10864',\n",
       " 'id11050',\n",
       " 'id10040',\n",
       " 'id10960',\n",
       " 'id10904',\n",
       " 'id10329',\n",
       " 'id10637',\n",
       " 'id10656',\n",
       " 'id10598',\n",
       " 'id10193',\n",
       " 'id10449',\n",
       " 'id10909',\n",
       " 'id11084',\n",
       " 'id10622',\n",
       " 'id11243',\n",
       " 'id10982',\n",
       " 'id10726',\n",
       " 'id10614',\n",
       " 'id11190',\n",
       " 'id10738',\n",
       " 'id10209',\n",
       " 'id10099',\n",
       " 'id10407',\n",
       " 'id10767',\n",
       " 'id10754',\n",
       " 'id10430',\n",
       " 'id10783',\n",
       " 'id10822',\n",
       " 'id10521',\n",
       " 'id11024',\n",
       " 'id10336',\n",
       " 'id10983',\n",
       " 'id10375',\n",
       " 'id10790',\n",
       " 'id10998',\n",
       " 'id10815',\n",
       " 'id11220',\n",
       " 'id10827',\n",
       " 'id10388',\n",
       " 'id10599',\n",
       " 'id11034',\n",
       " 'id10990',\n",
       " 'id10167',\n",
       " 'id11012',\n",
       " 'id11133',\n",
       " 'id10212',\n",
       " 'id10319',\n",
       " 'id10615',\n",
       " 'id10570',\n",
       " 'id10659',\n",
       " 'id10230',\n",
       " 'id11181',\n",
       " 'id10685',\n",
       " 'id10612',\n",
       " 'id11081',\n",
       " 'id10660',\n",
       " 'id10348',\n",
       " 'id10699',\n",
       " 'id10330',\n",
       " 'id10248',\n",
       " 'id10259',\n",
       " 'id10576',\n",
       " 'id10473',\n",
       " 'id10884',\n",
       " 'id10744',\n",
       " 'id11211',\n",
       " 'id10389',\n",
       " 'id10204',\n",
       " 'id10616',\n",
       " 'id10863',\n",
       " 'id10979',\n",
       " 'id10216',\n",
       " 'id10675',\n",
       " 'id10358',\n",
       " 'id10188',\n",
       " 'id11216',\n",
       " 'id10606',\n",
       " 'id10676',\n",
       " 'id10368',\n",
       " 'id10959',\n",
       " 'id10322',\n",
       " 'id11189',\n",
       " 'id10143',\n",
       " 'id10766',\n",
       " 'id11169',\n",
       " 'id10476',\n",
       " 'id10600',\n",
       " 'id11037',\n",
       " 'id10841',\n",
       " 'id11000',\n",
       " 'id10642',\n",
       " 'id10953',\n",
       " 'id10093',\n",
       " 'id11055',\n",
       " 'id10957',\n",
       " 'id10142',\n",
       " 'id10376',\n",
       " 'id10816',\n",
       " 'id11007',\n",
       " 'id10240',\n",
       " 'id10752',\n",
       " 'id11162',\n",
       " 'id10509',\n",
       " 'id11021',\n",
       " 'id10665',\n",
       " 'id10564',\n",
       " 'id10056',\n",
       " 'id11188',\n",
       " 'id10256',\n",
       " 'id10866',\n",
       " 'id10833',\n",
       " 'id10725',\n",
       " 'id10082',\n",
       " 'id10025',\n",
       " 'id10080',\n",
       " 'id10069',\n",
       " 'id10404',\n",
       " 'id10148',\n",
       " 'id10847',\n",
       " 'id10981',\n",
       " 'id10337',\n",
       " 'id10466',\n",
       " 'id10664',\n",
       " 'id10631',\n",
       " 'id10929',\n",
       " 'id10445',\n",
       " 'id10839',\n",
       " 'id10346',\n",
       " 'id10793',\n",
       " 'id10108',\n",
       " 'id10951',\n",
       " 'id10097',\n",
       " 'id10913',\n",
       " 'id10342',\n",
       " 'id10634',\n",
       " 'id10850',\n",
       " 'id10849',\n",
       " 'id11046',\n",
       " 'id11110',\n",
       " 'id10026',\n",
       " 'id10638',\n",
       " 'id10130',\n",
       " 'id10399',\n",
       " 'id11115',\n",
       " 'id10210',\n",
       " 'id10938',\n",
       " 'id10710',\n",
       " 'id11233',\n",
       " 'id10692',\n",
       " 'id10560',\n",
       " 'id10180',\n",
       " 'id10225',\n",
       " 'id10263',\n",
       " 'id10527',\n",
       " 'id10401',\n",
       " 'id11157',\n",
       " 'id10351',\n",
       " 'id10110',\n",
       " 'id10572',\n",
       " 'id10320',\n",
       " 'id10807',\n",
       " 'id10081',\n",
       " 'id10566',\n",
       " 'id10625',\n",
       " 'id11051',\n",
       " 'id10650',\n",
       " 'id10545',\n",
       " 'id11049',\n",
       " 'id10242',\n",
       " 'id10432',\n",
       " 'id10260',\n",
       " 'id10228',\n",
       " 'id10889',\n",
       " 'id10743',\n",
       " 'id11052',\n",
       " 'id10236',\n",
       " 'id10733',\n",
       " 'id10107',\n",
       " 'id10169',\n",
       " 'id10762',\n",
       " 'id10523',\n",
       " 'id10531',\n",
       " 'id10775',\n",
       " 'id10200',\n",
       " 'id10023',\n",
       " 'id10116',\n",
       " 'id10623',\n",
       " 'id10772',\n",
       " 'id10237',\n",
       " 'id10478',\n",
       " 'id10218',\n",
       " 'id10164',\n",
       " 'id10057',\n",
       " 'id11074',\n",
       " 'id11247',\n",
       " 'id10796',\n",
       " 'id10510',\n",
       " 'id10405',\n",
       " 'id11041',\n",
       " 'id11149',\n",
       " 'id10442',\n",
       " 'id10235',\n",
       " 'id10813',\n",
       " 'id10377',\n",
       " 'id10880',\n",
       " 'id10349',\n",
       " 'id10581',\n",
       " 'id11226',\n",
       " 'id10787',\n",
       " 'id10397',\n",
       " 'id10996',\n",
       " 'id10462',\n",
       " 'id10077',\n",
       " 'id11230',\n",
       " 'id10048',\n",
       " 'id10087',\n",
       " 'id10062',\n",
       " 'id10020',\n",
       " 'id10595',\n",
       " 'id10484',\n",
       " 'id10157',\n",
       " 'id10763',\n",
       " 'id10702',\n",
       " 'id11146',\n",
       " 'id10928',\n",
       " 'id10074',\n",
       " 'id10995',\n",
       " 'id10925',\n",
       " 'id10096',\n",
       " 'id10238',\n",
       " 'id10777',\n",
       " 'id10187',\n",
       " 'id11204',\n",
       " 'id10504',\n",
       " 'id10380',\n",
       " 'id11057',\n",
       " 'id11246',\n",
       " 'id10054',\n",
       " 'id11153',\n",
       " 'id11222',\n",
       " 'id10158',\n",
       " 'id10700',\n",
       " 'id10501',\n",
       " 'id11180',\n",
       " 'id10038',\n",
       " 'id10121',\n",
       " 'id11026',\n",
       " 'id10441',\n",
       " 'id11155',\n",
       " 'id10339',\n",
       " 'id10414',\n",
       " 'id10470',\n",
       " 'id11002',\n",
       " 'id10730',\n",
       " 'id10338',\n",
       " 'id10601',\n",
       " 'id10643',\n",
       " 'id11109',\n",
       " 'id10546',\n",
       " 'id10842',\n",
       " 'id10194',\n",
       " 'id10219',\n",
       " 'id10855',\n",
       " 'id10052',\n",
       " 'id10173',\n",
       " 'id10837',\n",
       " 'id11207',\n",
       " 'id11095',\n",
       " 'id10922',\n",
       " 'id10972',\n",
       " 'id10458',\n",
       " 'id11096',\n",
       " 'id10395',\n",
       " 'id10132',\n",
       " 'id10311',\n",
       " 'id11010',\n",
       " 'id11125',\n",
       " 'id10524',\n",
       " 'id10674',\n",
       " 'id10012',\n",
       " 'id10359',\n",
       " 'id10858',\n",
       " 'id10986',\n",
       " 'id11218',\n",
       " 'id10400',\n",
       " 'id10255',\n",
       " 'id11128',\n",
       " 'id10098',\n",
       " 'id10483',\n",
       " 'id11080',\n",
       " 'id10867',\n",
       " 'id10874',\n",
       " 'id11038',\n",
       " 'id11116',\n",
       " 'id10403',\n",
       " 'id10227',\n",
       " 'id10534',\n",
       " 'id10435',\n",
       " 'id10372',\n",
       " 'id10627',\n",
       " 'id10684',\n",
       " 'id10578',\n",
       " 'id10196',\n",
       " 'id10136',\n",
       " 'id10492',\n",
       " 'id10544',\n",
       " 'id10984',\n",
       " 'id10573',\n",
       " 'id10584',\n",
       " 'id10494',\n",
       " 'id10608',\n",
       " 'id10095',\n",
       " 'id10532',\n",
       " 'id10463',\n",
       " 'id10836',\n",
       " 'id10711',\n",
       " 'id10443',\n",
       " 'id10647',\n",
       " 'id10579',\n",
       " 'id10089',\n",
       " 'id10065',\n",
       " 'id10620',\n",
       " 'id10900',\n",
       " 'id11093',\n",
       " 'id10481',\n",
       " 'id10950',\n",
       " 'id10434',\n",
       " 'id10708',\n",
       " 'id10028',\n",
       " 'id10713',\n",
       " 'id10875',\n",
       " 'id11030',\n",
       " 'id11184',\n",
       " 'id10362',\n",
       " 'id10765',\n",
       " 'id10649',\n",
       " 'id10977',\n",
       " 'id10149',\n",
       " 'id10475',\n",
       " 'id11099',\n",
       " 'id10611',\n",
       " 'id10021',\n",
       " 'id10851',\n",
       " 'id10041',\n",
       " 'id10670',\n",
       " 'id10387',\n",
       " 'id10853',\n",
       " 'id11199',\n",
       " 'id10776',\n",
       " 'id10567',\n",
       " 'id10005',\n",
       " 'id10178',\n",
       " 'id10049',\n",
       " 'id10992',\n",
       " 'id10144',\n",
       " 'id10474',\n",
       " 'id10229',\n",
       " 'id11016',\n",
       " 'id10618',\n",
       " 'id10491',\n",
       " 'id11137',\n",
       " 'id11077',\n",
       " 'id10411',\n",
       " 'id10436',\n",
       " 'id10657',\n",
       " 'id10937',\n",
       " 'id10332',\n",
       " 'id10318',\n",
       " 'id10597',\n",
       " 'id10160',\n",
       " 'id11214',\n",
       " 'id10832',\n",
       " 'id10669',\n",
       " 'id11119',\n",
       " 'id10417',\n",
       " 'id10090',\n",
       " 'id11139',\n",
       " 'id10924',\n",
       " 'id10159',\n",
       " 'id10788',\n",
       " 'id10507',\n",
       " 'id10722',\n",
       " 'id11154',\n",
       " 'id10537',\n",
       " 'id10993',\n",
       " 'id10914',\n",
       " 'id10759',\n",
       " 'id11105',\n",
       " 'id11229',\n",
       " 'id10716',\n",
       " 'id10785',\n",
       " 'id10593',\n",
       " 'id10357',\n",
       " 'id10175',\n",
       " 'id10635',\n",
       " 'id10630',\n",
       " 'id11004',\n",
       " 'id10321',\n",
       " 'id11194',\n",
       " 'id10421',\n",
       " 'id10985',\n",
       " 'id10687',\n",
       " 'id10563',\n",
       " 'id11083',\n",
       " 'id10890',\n",
       " 'id11166',\n",
       " 'id10064',\n",
       " 'id11201',\n",
       " 'id10946',\n",
       " 'id10801',\n",
       " 'id11245',\n",
       " 'id10891',\n",
       " 'id11062',\n",
       " 'id11232',\n",
       " 'id11178',\n",
       " 'id10906',\n",
       " 'id10459',\n",
       " 'id11159',\n",
       " 'id11158',\n",
       " 'id11143',\n",
       " 'id10761',\n",
       " 'id10145',\n",
       " 'id10814',\n",
       " 'id10083',\n",
       " 'id10621',\n",
       " 'id10455',\n",
       " 'id10602',\n",
       " 'id11061',\n",
       " 'id10905',\n",
       " 'id10693',\n",
       " 'id11150',\n",
       " 'id11165',\n",
       " 'id11028',\n",
       " 'id10371',\n",
       " 'id10085',\n",
       " 'id10518',\n",
       " 'id10541',\n",
       " 'id10753',\n",
       " 'id10479',\n",
       " 'id10629',\n",
       " 'id10066',\n",
       " 'id11160',\n",
       " 'id10678',\n",
       " 'id11060',\n",
       " 'id11108',\n",
       " 'id11250',\n",
       " 'id10452',\n",
       " 'id11023',\n",
       " 'id10032',\n",
       " 'id10653',\n",
       " 'id10174',\n",
       " 'id10438',\n",
       " 'id10356',\n",
       " 'id10721',\n",
       " 'id11241',\n",
       " 'id11117',\n",
       " 'id10717',\n",
       " 'id10899',\n",
       " 'id11248',\n",
       " 'id10450',\n",
       " 'id10681',\n",
       " 'id11234',\n",
       " 'id10353',\n",
       " 'id10954',\n",
       " 'id10313',\n",
       " 'id10989',\n",
       " 'id10886',\n",
       " 'id10071',\n",
       " 'id10439',\n",
       " 'id11102',\n",
       " 'id10150',\n",
       " 'id10547',\n",
       " 'id10550',\n",
       " 'id10755',\n",
       " 'id10131',\n",
       " 'id10267',\n",
       " 'id10543',\n",
       " 'id10610',\n",
       " 'id10824',\n",
       " 'id10797',\n",
       " 'id11118',\n",
       " 'id10123',\n",
       " 'id11036',\n",
       " 'id10042',\n",
       " 'id10360',\n",
       " 'id10247',\n",
       " 'id10106',\n",
       " 'id10335',\n",
       " 'id10147',\n",
       " 'id11047',\n",
       " 'id11126',\n",
       " 'id10422',\n",
       " 'id10731',\n",
       " 'id10902',\n",
       " 'id10133',\n",
       " 'id11219',\n",
       " 'id10970',\n",
       " 'id10748',\n",
       " 'id10868',\n",
       " 'id10648',\n",
       " 'id11203',\n",
       " 'id10918',\n",
       " 'id10645',\n",
       " 'id10060',\n",
       " 'id11009',\n",
       " 'id10382',\n",
       " 'id10651',\n",
       " 'id10530',\n",
       " 'id10548',\n",
       " 'id10771',\n",
       " 'id10171',\n",
       " 'id10786',\n",
       " 'id10073',\n",
       " 'id10122',\n",
       " 'id10823',\n",
       " 'id10367',\n",
       " 'id10686',\n",
       " 'id10525',\n",
       " 'id11251',\n",
       " 'id10795',\n",
       " 'id10070',\n",
       " 'id11221',\n",
       " 'id10431',\n",
       " 'id10499',\n",
       " 'id11156']"
      ]
     },
     "execution_count": 72,
     "metadata": {},
     "output_type": "execute_result"
    }
   ],
   "source": [
    "move_images_to_directory(test, directory_to_create='test')"
   ]
  },
  {
   "cell_type": "code",
   "execution_count": 2,
   "metadata": {},
   "outputs": [],
   "source": [
    "def load_mfcc_image(list_image):\n",
    "    '''This function load mfcc spectrograms images into an array\n",
    "    \n",
    "    Parameters\n",
    "    ------------\n",
    "    list_image : list of str\n",
    "        contains images names to load\n",
    "    \n",
    "    Returns\n",
    "    ------------\n",
    "    images_loaded : list of array\n",
    "        list of images imported from a file into an array.\n",
    "    \n",
    "    ''' \n",
    "    #images_read = np.array([[[]]])\n",
    "    images_read = []\n",
    "    \n",
    "    filepath_img_folder = os.path.join('final-project-data', 'mfcc_images')\n",
    "    \n",
    "    #List comprehension to add each array of image loaded\n",
    "    #return [plt.imread(os.path.join(filepath_img_folder, list_image[idx])) for idx in range(list_image)]\n",
    "    \n",
    "    for idx in range(len(list_image)):\n",
    "        filepath_img = os.path.join(filepath_img_folder, list_image[idx])\n",
    "        \n",
    "        #Load mfcc images\n",
    "        #images_read = np.append(images_read, plt.imread(filepath_img), axis=0)\n",
    "        images_read.append(plt.imread(filepath_img))\n",
    "        \n",
    "    return images_read"
   ]
  }
 ],
 "metadata": {
  "kernelspec": {
   "display_name": "Python 3",
   "language": "python",
   "name": "python3"
  },
  "language_info": {
   "codemirror_mode": {
    "name": "ipython",
    "version": 3
   },
   "file_extension": ".py",
   "mimetype": "text/x-python",
   "name": "python",
   "nbconvert_exporter": "python",
   "pygments_lexer": "ipython3",
   "version": "3.7.4"
  }
 },
 "nbformat": 4,
 "nbformat_minor": 2
}
