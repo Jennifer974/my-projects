{
 "cells": [
  {
   "cell_type": "markdown",
   "metadata": {},
   "source": [
    "<h1> Final Project : CelebVoice : Celebrity Speech Recognition"
   ]
  },
  {
   "cell_type": "markdown",
   "metadata": {},
   "source": [
    "![](https://www.google.com/search?q=logo+the+voice&sxsrf=ACYBGNQ5ZFhNXQAmqQ9-zR_YS-er7LpqEg:1581968193477&tbm=isch&source=iu&ictx=1&fir=mLqThEd35MepjM%253A%252CYKE0JDhJksf_CM%252C_&vet=1&usg=AI4_-kSToQsHm_1mgqT_g4jz61FAlciU1A&sa=X&ved=2ahUKEwiRht_hqtnnAhVFJhoKHRCvBVAQ9QEwBXoECAoQDg#imgrc=mLqThEd35MepjM)"
   ]
  },
  {
   "cell_type": "markdown",
   "metadata": {},
   "source": [
    "<h2> Objective"
   ]
  },
  {
   "cell_type": "markdown",
   "metadata": {},
   "source": [
    "Recognize celebrity speakers from any speech :\n",
    "[Project Plan](https://docs.google.com/presentation/d/16wNe2B3FZuiwzTYpEq4Us9K1lSrWAeuP5wIO_sBCzRY/edit?usp=sharing)\n",
    "\n",
    "I choose this project because I am fascinated by voice assistant as Siri or Alexa and I would like to study voice recognition part.\n",
    "   \n",
    "*Source : Extract from The VoxCeleb Speaker Recognition Challenge (VoxSRC - University of Oxford) :* [VoxCeleb Speaker Recognition Challenge (VoxSRC)](http://www.robots.ox.ac.uk/~vgg/data/voxceleb/competition.html)"
   ]
  },
  {
   "cell_type": "markdown",
   "metadata": {},
   "source": [
    "<h2> Prerequisites"
   ]
  },
  {
   "cell_type": "markdown",
   "metadata": {},
   "source": [
    "I crate a virtual environment for my project to can export it later and avoid versioning issue. I install different packages with `pip install -r requirements.txt` command : "
   ]
  },
  {
   "cell_type": "code",
   "execution_count": 3,
   "metadata": {},
   "outputs": [
    {
     "name": "stdout",
     "output_type": "stream",
     "text": [
      "Final-Project.ipynb  requirements.txt  \u001b[0m\u001b[01;34mvenv\u001b[0m/\r\n"
     ]
    }
   ],
   "source": [
    "!ls"
   ]
  },
  {
   "cell_type": "code",
   "execution_count": 1,
   "metadata": {
    "scrolled": true
   },
   "outputs": [
    {
     "name": "stdout",
     "output_type": "stream",
     "text": [
      "Python==3.7.4\r\n",
      "Pandas==1.0.0\r\n",
      "Numpy==1.17.2\r\n",
      "Scipy==1.3.1\r\n",
      "Scikit-learn==0.21.3\r\n",
      "Librosa==0.7.2\r\n",
      "Matplotlib==3.1.1\r\n",
      "Seaborn==0.10.0\r\n",
      "Pyaudio==0.2.11\r\n"
     ]
    }
   ],
   "source": [
    "!cat requirements.txt"
   ]
  },
  {
   "cell_type": "markdown",
   "metadata": {},
   "source": [
    "- I install LibROSA library, a python package for music and audio analysis : [LibROSA — librosa 0.7.2 documentation](https://librosa.github.io/librosa/)"
   ]
  },
  {
   "cell_type": "markdown",
   "metadata": {},
   "source": [
    "- I install pyAudio library to play and record audio : [PyAudio documentation](https://people.csail.mit.edu/hubert/pyaudio/docs/)"
   ]
  },
  {
   "cell_type": "markdown",
   "metadata": {},
   "source": [
    "- I read documentation on voiceprint to can identify each celebrity voice on my audio files :"
   ]
  },
  {
   "cell_type": "markdown",
   "metadata": {},
   "source": [
    "https://maelfabien.github.io/machinelearning/Speech11/#\n",
    "\n",
    "https://towardsdatascience.com/voice-classification-with-neural-networks-ff90f94358ec\n",
    "\n",
    "http://www.practicalcryptography.com/miscellaneous/machine-learning/guide-mel-frequency-cepstral-coefficients-mfccs/\n",
    "\n",
    "https://deeplylearning.fr/cours-pratiques-deep-learning/reconnaissance-vocale-de-mots-cles/\n",
    "\n",
    "https://medium.com/@jonathan_hui/speech-recognition-feature-extraction-mfcc-plp-5455f5a69dd9"
   ]
  },
  {
   "cell_type": "markdown",
   "metadata": {},
   "source": [
    "<h2> Import"
   ]
  },
  {
   "cell_type": "markdown",
   "metadata": {},
   "source": [
    "I import all my needed librairies here and I report them for each chapter :"
   ]
  },
  {
   "cell_type": "code",
   "execution_count": 1,
   "metadata": {},
   "outputs": [],
   "source": [
    "#System library\n",
    "import sys, os, glob\n",
    "\n",
    "#I use a virtual environment for my project : venv\n",
    "sys.path.append('/home/jlenclume/code/Jennifer974/my_projects/final-project-vivadata-03-2020/venv/lib/python3.7/site-packages')\n",
    "\n",
    "#Data Manipulation\n",
    "import pandas as pd, numpy as np\n",
    "\n",
    "#Feature extraction\n",
    "import librosa               #Audio library\n",
    "\n",
    "#Data Storage\n",
    "import pickle\n",
    "\n",
    "#Data visualization\n",
    "import matplotlib.pyplot as plt, seaborn as sns\n",
    "import librosa.display"
   ]
  },
  {
   "cell_type": "markdown",
   "metadata": {},
   "source": [
    "<h2> Dataset"
   ]
  },
  {
   "cell_type": "markdown",
   "metadata": {},
   "source": [
    "📥 I dowload the VoxCeleb1 dataset on : [VoxCeleb : A large scale audio-visual dataset of human speech](http://www.robots.ox.ac.uk/~vgg/data/voxceleb/index.html#portfolio) :\n",
    "\n",
    "- I am limited to use the VoxCeleb1 dataset because is lower than which give by the VoxSRC Challenge and my CPU will support it.\n",
    "- It contains 145 261 audio files (format : wav - duration : 5s in average) extracted from YouTube videos of celebrity interviews : 1251 celebrity speakers\n",
    "- My data is labelised : Using Supervised Machine Learning Model\n",
    "- My targets are discrete values : I am in Classification case and I use Random Forest model (perhaps Deep Learning)"
   ]
  },
  {
   "cell_type": "markdown",
   "metadata": {},
   "source": [
    "`vox1_meta.csv` contains metadata for all the speakers in the dataset : full names, nationality and gender labels. I explore this file to have more informations on my dataset :"
   ]
  },
  {
   "cell_type": "code",
   "execution_count": 5,
   "metadata": {},
   "outputs": [
    {
     "name": "stdout",
     "output_type": "stream",
     "text": [
      "/home/jlenclume/code/Jennifer974/my_projects/final-project-vivadata-03-2020\r\n"
     ]
    }
   ],
   "source": [
    "# I verify my path\n",
    "!pwd"
   ]
  },
  {
   "cell_type": "markdown",
   "metadata": {},
   "source": [
    "I define my file path to import `vox1_meta.csv` in a dataframe named `celebrity_speakers_data` :"
   ]
  },
  {
   "cell_type": "code",
   "execution_count": 7,
   "metadata": {},
   "outputs": [],
   "source": [
    "filepath = os.path.join('..', '..', '..', '..', 'Documents', 'Final-Project-data', 'vox1_meta.csv')"
   ]
  },
  {
   "cell_type": "code",
   "execution_count": 8,
   "metadata": {},
   "outputs": [
    {
     "data": {
      "text/plain": [
       "'../../../../Documents/Final-Project-data/vox1_meta.csv'"
      ]
     },
     "execution_count": 8,
     "metadata": {},
     "output_type": "execute_result"
    }
   ],
   "source": [
    "filepath"
   ]
  },
  {
   "cell_type": "code",
   "execution_count": 9,
   "metadata": {},
   "outputs": [],
   "source": [
    "celebrity_speakers_data = pd.read_csv(filepath, delim_whitespace=True)"
   ]
  },
  {
   "cell_type": "markdown",
   "metadata": {},
   "source": [
    "<h3> 1. Celebrity speakers : Data Exploration"
   ]
  },
  {
   "cell_type": "markdown",
   "metadata": {},
   "source": [
    "My dataframe has 1251 rows corresponding to number of celebrity speakers interviewed and 5 columns corresponding to :\n",
    "\n",
    "1. `VoxCeleb1_ID` : celebrity speakers ID\n",
    "2. `VGGFace1_ID` : celebrity speakers names\n",
    "3. `Gender` : celebrity speakers gender\n",
    "4. `Nationality` : celebrity speakers nationality\n",
    "5. `Set` : if celebrity will use for train (dev) or test model part"
   ]
  },
  {
   "cell_type": "code",
   "execution_count": 11,
   "metadata": {
    "scrolled": true
   },
   "outputs": [
    {
     "data": {
      "text/plain": [
       "(1251, 5)"
      ]
     },
     "execution_count": 11,
     "metadata": {},
     "output_type": "execute_result"
    }
   ],
   "source": [
    "celebrity_speakers_data.shape"
   ]
  },
  {
   "cell_type": "code",
   "execution_count": 12,
   "metadata": {
    "scrolled": true
   },
   "outputs": [
    {
     "data": {
      "text/html": [
       "<div>\n",
       "<style scoped>\n",
       "    .dataframe tbody tr th:only-of-type {\n",
       "        vertical-align: middle;\n",
       "    }\n",
       "\n",
       "    .dataframe tbody tr th {\n",
       "        vertical-align: top;\n",
       "    }\n",
       "\n",
       "    .dataframe thead th {\n",
       "        text-align: right;\n",
       "    }\n",
       "</style>\n",
       "<table border=\"1\" class=\"dataframe\">\n",
       "  <thead>\n",
       "    <tr style=\"text-align: right;\">\n",
       "      <th></th>\n",
       "      <th>VoxCeleb1_ID</th>\n",
       "      <th>VGGFace1_ID</th>\n",
       "      <th>Gender</th>\n",
       "      <th>Nationality</th>\n",
       "      <th>Set</th>\n",
       "    </tr>\n",
       "  </thead>\n",
       "  <tbody>\n",
       "    <tr>\n",
       "      <td>0</td>\n",
       "      <td>id10001</td>\n",
       "      <td>A.J._Buckley</td>\n",
       "      <td>m</td>\n",
       "      <td>Ireland</td>\n",
       "      <td>dev</td>\n",
       "    </tr>\n",
       "    <tr>\n",
       "      <td>1</td>\n",
       "      <td>id10002</td>\n",
       "      <td>A.R._Rahman</td>\n",
       "      <td>m</td>\n",
       "      <td>India</td>\n",
       "      <td>dev</td>\n",
       "    </tr>\n",
       "    <tr>\n",
       "      <td>2</td>\n",
       "      <td>id10003</td>\n",
       "      <td>Aamir_Khan</td>\n",
       "      <td>m</td>\n",
       "      <td>India</td>\n",
       "      <td>dev</td>\n",
       "    </tr>\n",
       "    <tr>\n",
       "      <td>3</td>\n",
       "      <td>id10004</td>\n",
       "      <td>Aaron_Tveit</td>\n",
       "      <td>m</td>\n",
       "      <td>USA</td>\n",
       "      <td>dev</td>\n",
       "    </tr>\n",
       "    <tr>\n",
       "      <td>4</td>\n",
       "      <td>id10005</td>\n",
       "      <td>Aaron_Yoo</td>\n",
       "      <td>m</td>\n",
       "      <td>USA</td>\n",
       "      <td>dev</td>\n",
       "    </tr>\n",
       "  </tbody>\n",
       "</table>\n",
       "</div>"
      ],
      "text/plain": [
       "  VoxCeleb1_ID   VGGFace1_ID Gender Nationality  Set\n",
       "0      id10001  A.J._Buckley      m     Ireland  dev\n",
       "1      id10002   A.R._Rahman      m       India  dev\n",
       "2      id10003    Aamir_Khan      m       India  dev\n",
       "3      id10004   Aaron_Tveit      m         USA  dev\n",
       "4      id10005     Aaron_Yoo      m         USA  dev"
      ]
     },
     "execution_count": 12,
     "metadata": {},
     "output_type": "execute_result"
    }
   ],
   "source": [
    "celebrity_speakers_data.head()"
   ]
  },
  {
   "cell_type": "markdown",
   "metadata": {},
   "source": [
    "All my dataframe is string type and it seems there aren't `NAN` values :"
   ]
  },
  {
   "cell_type": "code",
   "execution_count": 11,
   "metadata": {},
   "outputs": [
    {
     "name": "stdout",
     "output_type": "stream",
     "text": [
      "<class 'pandas.core.frame.DataFrame'>\n",
      "RangeIndex: 1251 entries, 0 to 1250\n",
      "Data columns (total 5 columns):\n",
      "VoxCeleb1_ID    1251 non-null object\n",
      "VGGFace1_ID     1251 non-null object\n",
      "Gender          1251 non-null object\n",
      "Nationality     1251 non-null object\n",
      "Set             1251 non-null object\n",
      "dtypes: object(5)\n",
      "memory usage: 49.0+ KB\n"
     ]
    }
   ],
   "source": [
    "celebrity_speakers_data.info()"
   ]
  },
  {
   "cell_type": "markdown",
   "metadata": {},
   "source": [
    "<h3> 2. Celebrity speakers : Data Cleaning"
   ]
  },
  {
   "cell_type": "markdown",
   "metadata": {},
   "source": [
    "I verify again if there aren't `NAN` values to can exploit and visualize my data :"
   ]
  },
  {
   "cell_type": "code",
   "execution_count": 12,
   "metadata": {},
   "outputs": [
    {
     "data": {
      "text/plain": [
       "VoxCeleb1_ID    0\n",
       "VGGFace1_ID     0\n",
       "Gender          0\n",
       "Nationality     0\n",
       "Set             0\n",
       "dtype: int64"
      ]
     },
     "execution_count": 12,
     "metadata": {},
     "output_type": "execute_result"
    }
   ],
   "source": [
    "celebrity_speakers_data.isna().sum()"
   ]
  },
  {
   "cell_type": "markdown",
   "metadata": {},
   "source": [
    "I control duplicates :"
   ]
  },
  {
   "cell_type": "code",
   "execution_count": 13,
   "metadata": {},
   "outputs": [
    {
     "data": {
      "text/plain": [
       "0"
      ]
     },
     "execution_count": 13,
     "metadata": {},
     "output_type": "execute_result"
    }
   ],
   "source": [
    "celebrity_speakers_data.duplicated().sum()"
   ]
  },
  {
   "cell_type": "markdown",
   "metadata": {},
   "source": [
    "My data is cleaned but I have to change my columns because I need numerical values to plot data :"
   ]
  },
  {
   "cell_type": "code",
   "execution_count": 14,
   "metadata": {},
   "outputs": [
    {
     "data": {
      "text/html": [
       "<div>\n",
       "<style scoped>\n",
       "    .dataframe tbody tr th:only-of-type {\n",
       "        vertical-align: middle;\n",
       "    }\n",
       "\n",
       "    .dataframe tbody tr th {\n",
       "        vertical-align: top;\n",
       "    }\n",
       "\n",
       "    .dataframe thead th {\n",
       "        text-align: right;\n",
       "    }\n",
       "</style>\n",
       "<table border=\"1\" class=\"dataframe\">\n",
       "  <thead>\n",
       "    <tr style=\"text-align: right;\">\n",
       "      <th></th>\n",
       "      <th>VoxCeleb1_ID</th>\n",
       "      <th>VGGFace1_ID</th>\n",
       "      <th>Gender</th>\n",
       "      <th>Nationality</th>\n",
       "      <th>Set</th>\n",
       "    </tr>\n",
       "  </thead>\n",
       "  <tbody>\n",
       "    <tr>\n",
       "      <td>0</td>\n",
       "      <td>id10001</td>\n",
       "      <td>A.J._Buckley</td>\n",
       "      <td>m</td>\n",
       "      <td>Ireland</td>\n",
       "      <td>dev</td>\n",
       "    </tr>\n",
       "    <tr>\n",
       "      <td>1</td>\n",
       "      <td>id10002</td>\n",
       "      <td>A.R._Rahman</td>\n",
       "      <td>m</td>\n",
       "      <td>India</td>\n",
       "      <td>dev</td>\n",
       "    </tr>\n",
       "    <tr>\n",
       "      <td>2</td>\n",
       "      <td>id10003</td>\n",
       "      <td>Aamir_Khan</td>\n",
       "      <td>m</td>\n",
       "      <td>India</td>\n",
       "      <td>dev</td>\n",
       "    </tr>\n",
       "    <tr>\n",
       "      <td>3</td>\n",
       "      <td>id10004</td>\n",
       "      <td>Aaron_Tveit</td>\n",
       "      <td>m</td>\n",
       "      <td>USA</td>\n",
       "      <td>dev</td>\n",
       "    </tr>\n",
       "    <tr>\n",
       "      <td>4</td>\n",
       "      <td>id10005</td>\n",
       "      <td>Aaron_Yoo</td>\n",
       "      <td>m</td>\n",
       "      <td>USA</td>\n",
       "      <td>dev</td>\n",
       "    </tr>\n",
       "  </tbody>\n",
       "</table>\n",
       "</div>"
      ],
      "text/plain": [
       "  VoxCeleb1_ID   VGGFace1_ID Gender Nationality  Set\n",
       "0      id10001  A.J._Buckley      m     Ireland  dev\n",
       "1      id10002   A.R._Rahman      m       India  dev\n",
       "2      id10003    Aamir_Khan      m       India  dev\n",
       "3      id10004   Aaron_Tveit      m         USA  dev\n",
       "4      id10005     Aaron_Yoo      m         USA  dev"
      ]
     },
     "execution_count": 14,
     "metadata": {},
     "output_type": "execute_result"
    }
   ],
   "source": [
    "celebrity_speakers_data.head()"
   ]
  },
  {
   "cell_type": "markdown",
   "metadata": {},
   "source": [
    "<h3> 3. Celebrity speakers : Data Analysis"
   ]
  },
  {
   "cell_type": "markdown",
   "metadata": {},
   "source": [
    "I plot dataset repartition between dev and test :"
   ]
  },
  {
   "cell_type": "code",
   "execution_count": 15,
   "metadata": {
    "scrolled": true
   },
   "outputs": [
    {
     "data": {
      "image/png": "[encoded data removed]",
      "text/plain": [
       "<Figure size 576x432 with 1 Axes>"
      ]
     },
     "metadata": {},
     "output_type": "display_data"
    }
   ],
   "source": [
    "plt.figure(figsize=(8,6))\n",
    "\n",
    "textprops={'color': 'w', 'size': 12, 'weight': 'bold'}             #Text property\n",
    "labels = ['Dev', 'Test']                                           #Dataset part label\n",
    "\n",
    "plt.pie(x=celebrity_speakers_data['Set'].value_counts(),\n",
    "        labels=labels,\n",
    "        autopct='%1.1f%%',                                         #Labels proportion\n",
    "        pctdistance=.5, \n",
    "        labeldistance=.7, \n",
    "        textprops=textprops)                                       #Text property\n",
    "\n",
    "plt.title('Repartition of celebrity speakers by dataset part',     #Diagram title\n",
    "          fontdict={'size': 14, 'fontweight': 'bold'})\n",
    "\n",
    "plt.legend(loc='lower right')                                      #Legend location\n",
    "\n",
    "plt.show()"
   ]
  },
  {
   "cell_type": "markdown",
   "metadata": {},
   "source": [
    "I use `get_dummies` function to transform my different values into numerical values :"
   ]
  },
  {
   "cell_type": "code",
   "execution_count": 13,
   "metadata": {
    "scrolled": false
   },
   "outputs": [
    {
     "data": {
      "text/plain": [
       "m    690\n",
       "f    561\n",
       "Name: Gender, dtype: int64"
      ]
     },
     "execution_count": 13,
     "metadata": {},
     "output_type": "execute_result"
    }
   ],
   "source": [
    "celebrity_speakers_data['Gender'].value_counts()"
   ]
  },
  {
   "cell_type": "code",
   "execution_count": 10,
   "metadata": {},
   "outputs": [],
   "source": [
    "celebrity_speakers_data['Gender'] = pd.get_dummies(celebrity_speakers_data['Gender'], prefix='Gender', drop_first=True)"
   ]
  },
  {
   "cell_type": "markdown",
   "metadata": {},
   "source": [
    "For the column `Gender` : 1 corresponding to male gender and 0 is for female gender"
   ]
  },
  {
   "cell_type": "code",
   "execution_count": 11,
   "metadata": {},
   "outputs": [
    {
     "data": {
      "text/html": [
       "<div>\n",
       "<style scoped>\n",
       "    .dataframe tbody tr th:only-of-type {\n",
       "        vertical-align: middle;\n",
       "    }\n",
       "\n",
       "    .dataframe tbody tr th {\n",
       "        vertical-align: top;\n",
       "    }\n",
       "\n",
       "    .dataframe thead th {\n",
       "        text-align: right;\n",
       "    }\n",
       "</style>\n",
       "<table border=\"1\" class=\"dataframe\">\n",
       "  <thead>\n",
       "    <tr style=\"text-align: right;\">\n",
       "      <th></th>\n",
       "      <th>VoxCeleb1_ID</th>\n",
       "      <th>VGGFace1_ID</th>\n",
       "      <th>Gender</th>\n",
       "      <th>Nationality</th>\n",
       "      <th>Set</th>\n",
       "    </tr>\n",
       "  </thead>\n",
       "  <tbody>\n",
       "    <tr>\n",
       "      <td>0</td>\n",
       "      <td>id10001</td>\n",
       "      <td>A.J._Buckley</td>\n",
       "      <td>1</td>\n",
       "      <td>Ireland</td>\n",
       "      <td>dev</td>\n",
       "    </tr>\n",
       "    <tr>\n",
       "      <td>1</td>\n",
       "      <td>id10002</td>\n",
       "      <td>A.R._Rahman</td>\n",
       "      <td>1</td>\n",
       "      <td>India</td>\n",
       "      <td>dev</td>\n",
       "    </tr>\n",
       "    <tr>\n",
       "      <td>2</td>\n",
       "      <td>id10003</td>\n",
       "      <td>Aamir_Khan</td>\n",
       "      <td>1</td>\n",
       "      <td>India</td>\n",
       "      <td>dev</td>\n",
       "    </tr>\n",
       "    <tr>\n",
       "      <td>3</td>\n",
       "      <td>id10004</td>\n",
       "      <td>Aaron_Tveit</td>\n",
       "      <td>1</td>\n",
       "      <td>USA</td>\n",
       "      <td>dev</td>\n",
       "    </tr>\n",
       "    <tr>\n",
       "      <td>4</td>\n",
       "      <td>id10005</td>\n",
       "      <td>Aaron_Yoo</td>\n",
       "      <td>1</td>\n",
       "      <td>USA</td>\n",
       "      <td>dev</td>\n",
       "    </tr>\n",
       "  </tbody>\n",
       "</table>\n",
       "</div>"
      ],
      "text/plain": [
       "  VoxCeleb1_ID   VGGFace1_ID  Gender Nationality  Set\n",
       "0      id10001  A.J._Buckley       1     Ireland  dev\n",
       "1      id10002   A.R._Rahman       1       India  dev\n",
       "2      id10003    Aamir_Khan       1       India  dev\n",
       "3      id10004   Aaron_Tveit       1         USA  dev\n",
       "4      id10005     Aaron_Yoo       1         USA  dev"
      ]
     },
     "execution_count": 11,
     "metadata": {},
     "output_type": "execute_result"
    }
   ],
   "source": [
    "celebrity_speakers_data.head()"
   ]
  },
  {
   "cell_type": "code",
   "execution_count": 19,
   "metadata": {},
   "outputs": [
    {
     "data": {
      "image/png": "[encoded data removed]",
      "text/plain": [
       "<Figure size 576x432 with 1 Axes>"
      ]
     },
     "metadata": {},
     "output_type": "display_data"
    }
   ],
   "source": [
    "plt.figure(figsize=(8,6))\n",
    "\n",
    "textprops={'color': 'w', 'size': 12, 'weight': 'bold'}                      #Text property\n",
    "labels = ['Male', 'Female']                                                 #Gender labels\n",
    "\n",
    "plt.pie(x=celebrity_speakers_data['Gender'].value_counts(), \n",
    "        labels=labels, \n",
    "        autopct='%1.1f%%',                                                  #Labels proportion\n",
    "        pctdistance=.5, \n",
    "        labeldistance=.7, \n",
    "        textprops=textprops)                                                #Text property\n",
    "\n",
    "plt.title('Repartition of celebrity speakers gender in VoxCeleb1 dataset',  #Diagram title\n",
    "          fontdict={'size': 14, 'fontweight' : 'bold'})  \n",
    "\n",
    "plt.legend(loc='lower right')                                               #Legend location\n",
    "\n",
    "plt.show()"
   ]
  },
  {
   "cell_type": "markdown",
   "metadata": {},
   "source": [
    "There is more and less the same gender repartition for celebrity speakers."
   ]
  },
  {
   "cell_type": "markdown",
   "metadata": {},
   "source": [
    "I plot nationality repartition for celebrity speakers : American and Englishman are majority."
   ]
  },
  {
   "cell_type": "code",
   "execution_count": 20,
   "metadata": {},
   "outputs": [
    {
     "data": {
      "image/png": "[encoded data removed]",
      "text/plain": [
       "<Figure size 864x432 with 1 Axes>"
      ]
     },
     "metadata": {
      "needs_background": "light"
     },
     "output_type": "display_data"
    }
   ],
   "source": [
    "plt.figure(figsize=(12, 6))\n",
    "\n",
    "plt.title('Repartition of celebrity speakers nationality', fontweight=\"bold\", size=14)  #Diagram title\n",
    "\n",
    "sns.countplot(x='Nationality',\n",
    "              data=celebrity_speakers_data,\n",
    "              order=celebrity_speakers_data['Nationality'].value_counts().index)\n",
    "\n",
    "plt.xticks(rotation=90)                                                                 #abscissa label positioning\n",
    "\n",
    "plt.show()"
   ]
  },
  {
   "cell_type": "markdown",
   "metadata": {},
   "source": [
    "I choose American and Englishman speakers to train my model and reduce time calculation : 1014 celebrity speakers is selected :"
   ]
  },
  {
   "cell_type": "code",
   "execution_count": 12,
   "metadata": {},
   "outputs": [
    {
     "data": {
      "text/html": [
       "<div>\n",
       "<style scoped>\n",
       "    .dataframe tbody tr th:only-of-type {\n",
       "        vertical-align: middle;\n",
       "    }\n",
       "\n",
       "    .dataframe tbody tr th {\n",
       "        vertical-align: top;\n",
       "    }\n",
       "\n",
       "    .dataframe thead th {\n",
       "        text-align: right;\n",
       "    }\n",
       "</style>\n",
       "<table border=\"1\" class=\"dataframe\">\n",
       "  <thead>\n",
       "    <tr style=\"text-align: right;\">\n",
       "      <th></th>\n",
       "      <th>VoxCeleb1_ID</th>\n",
       "      <th>VGGFace1_ID</th>\n",
       "      <th>Gender</th>\n",
       "      <th>Nationality</th>\n",
       "      <th>Set</th>\n",
       "    </tr>\n",
       "  </thead>\n",
       "  <tbody>\n",
       "    <tr>\n",
       "      <td>3</td>\n",
       "      <td>id10004</td>\n",
       "      <td>Aaron_Tveit</td>\n",
       "      <td>1</td>\n",
       "      <td>USA</td>\n",
       "      <td>dev</td>\n",
       "    </tr>\n",
       "    <tr>\n",
       "      <td>4</td>\n",
       "      <td>id10005</td>\n",
       "      <td>Aaron_Yoo</td>\n",
       "      <td>1</td>\n",
       "      <td>USA</td>\n",
       "      <td>dev</td>\n",
       "    </tr>\n",
       "    <tr>\n",
       "      <td>6</td>\n",
       "      <td>id10007</td>\n",
       "      <td>Abigail_Breslin</td>\n",
       "      <td>0</td>\n",
       "      <td>USA</td>\n",
       "      <td>dev</td>\n",
       "    </tr>\n",
       "    <tr>\n",
       "      <td>7</td>\n",
       "      <td>id10008</td>\n",
       "      <td>Abigail_Spencer</td>\n",
       "      <td>0</td>\n",
       "      <td>USA</td>\n",
       "      <td>dev</td>\n",
       "    </tr>\n",
       "    <tr>\n",
       "      <td>9</td>\n",
       "      <td>id10010</td>\n",
       "      <td>Adam_Brody</td>\n",
       "      <td>1</td>\n",
       "      <td>USA</td>\n",
       "      <td>dev</td>\n",
       "    </tr>\n",
       "  </tbody>\n",
       "</table>\n",
       "</div>"
      ],
      "text/plain": [
       "  VoxCeleb1_ID      VGGFace1_ID  Gender Nationality  Set\n",
       "3      id10004      Aaron_Tveit       1         USA  dev\n",
       "4      id10005        Aaron_Yoo       1         USA  dev\n",
       "6      id10007  Abigail_Breslin       0         USA  dev\n",
       "7      id10008  Abigail_Spencer       0         USA  dev\n",
       "9      id10010       Adam_Brody       1         USA  dev"
      ]
     },
     "execution_count": 12,
     "metadata": {},
     "output_type": "execute_result"
    }
   ],
   "source": [
    "celebrity_speakers_data_limited = celebrity_speakers_data.loc[(celebrity_speakers_data['Nationality'] == 'USA') | (celebrity_speakers_data['Nationality'] == 'UK')]\n",
    "celebrity_speakers_data_limited.head()"
   ]
  },
  {
   "cell_type": "code",
   "execution_count": 13,
   "metadata": {},
   "outputs": [
    {
     "data": {
      "text/plain": [
       "(1014, 5)"
      ]
     },
     "execution_count": 13,
     "metadata": {},
     "output_type": "execute_result"
    }
   ],
   "source": [
    "celebrity_speakers_data_limited.shape"
   ]
  },
  {
   "cell_type": "markdown",
   "metadata": {},
   "source": [
    "I use `get_dummies` function to transform `Nationality` column into numerical values : 1 for American and 0 for Englishman :"
   ]
  },
  {
   "cell_type": "code",
   "execution_count": 14,
   "metadata": {},
   "outputs": [
    {
     "name": "stderr",
     "output_type": "stream",
     "text": [
      "/home/jlenclume/bin/anaconda/lib/python3.7/site-packages/ipykernel_launcher.py:1: SettingWithCopyWarning: \n",
      "A value is trying to be set on a copy of a slice from a DataFrame.\n",
      "Try using .loc[row_indexer,col_indexer] = value instead\n",
      "\n",
      "See the caveats in the documentation: http://pandas.pydata.org/pandas-docs/stable/user_guide/indexing.html#returning-a-view-versus-a-copy\n",
      "  \"\"\"Entry point for launching an IPython kernel.\n"
     ]
    }
   ],
   "source": [
    "celebrity_speakers_data_limited['Nationality'] = pd.get_dummies(celebrity_speakers_data_limited['Nationality'], drop_first=True, prefix='Nationality')"
   ]
  },
  {
   "cell_type": "code",
   "execution_count": 15,
   "metadata": {},
   "outputs": [
    {
     "data": {
      "text/html": [
       "<div>\n",
       "<style scoped>\n",
       "    .dataframe tbody tr th:only-of-type {\n",
       "        vertical-align: middle;\n",
       "    }\n",
       "\n",
       "    .dataframe tbody tr th {\n",
       "        vertical-align: top;\n",
       "    }\n",
       "\n",
       "    .dataframe thead th {\n",
       "        text-align: right;\n",
       "    }\n",
       "</style>\n",
       "<table border=\"1\" class=\"dataframe\">\n",
       "  <thead>\n",
       "    <tr style=\"text-align: right;\">\n",
       "      <th></th>\n",
       "      <th>VoxCeleb1_ID</th>\n",
       "      <th>VGGFace1_ID</th>\n",
       "      <th>Gender</th>\n",
       "      <th>Nationality</th>\n",
       "      <th>Set</th>\n",
       "    </tr>\n",
       "  </thead>\n",
       "  <tbody>\n",
       "    <tr>\n",
       "      <td>3</td>\n",
       "      <td>id10004</td>\n",
       "      <td>Aaron_Tveit</td>\n",
       "      <td>1</td>\n",
       "      <td>1</td>\n",
       "      <td>dev</td>\n",
       "    </tr>\n",
       "    <tr>\n",
       "      <td>4</td>\n",
       "      <td>id10005</td>\n",
       "      <td>Aaron_Yoo</td>\n",
       "      <td>1</td>\n",
       "      <td>1</td>\n",
       "      <td>dev</td>\n",
       "    </tr>\n",
       "    <tr>\n",
       "      <td>6</td>\n",
       "      <td>id10007</td>\n",
       "      <td>Abigail_Breslin</td>\n",
       "      <td>0</td>\n",
       "      <td>1</td>\n",
       "      <td>dev</td>\n",
       "    </tr>\n",
       "    <tr>\n",
       "      <td>7</td>\n",
       "      <td>id10008</td>\n",
       "      <td>Abigail_Spencer</td>\n",
       "      <td>0</td>\n",
       "      <td>1</td>\n",
       "      <td>dev</td>\n",
       "    </tr>\n",
       "    <tr>\n",
       "      <td>9</td>\n",
       "      <td>id10010</td>\n",
       "      <td>Adam_Brody</td>\n",
       "      <td>1</td>\n",
       "      <td>1</td>\n",
       "      <td>dev</td>\n",
       "    </tr>\n",
       "  </tbody>\n",
       "</table>\n",
       "</div>"
      ],
      "text/plain": [
       "  VoxCeleb1_ID      VGGFace1_ID  Gender  Nationality  Set\n",
       "3      id10004      Aaron_Tveit       1            1  dev\n",
       "4      id10005        Aaron_Yoo       1            1  dev\n",
       "6      id10007  Abigail_Breslin       0            1  dev\n",
       "7      id10008  Abigail_Spencer       0            1  dev\n",
       "9      id10010       Adam_Brody       1            1  dev"
      ]
     },
     "execution_count": 15,
     "metadata": {},
     "output_type": "execute_result"
    }
   ],
   "source": [
    "celebrity_speakers_data_limited.head()"
   ]
  },
  {
   "cell_type": "code",
   "execution_count": 16,
   "metadata": {},
   "outputs": [
    {
     "data": {
      "text/plain": [
       "1    799\n",
       "0    215\n",
       "Name: Nationality, dtype: int64"
      ]
     },
     "execution_count": 16,
     "metadata": {},
     "output_type": "execute_result"
    }
   ],
   "source": [
    "celebrity_speakers_data_limited['Nationality'].value_counts()"
   ]
  },
  {
   "cell_type": "markdown",
   "metadata": {},
   "source": [
    "<h3> 4. Celebrity speakers : to save data"
   ]
  },
  {
   "cell_type": "markdown",
   "metadata": {},
   "source": [
    "I save my `celebrity_speakers_data_limited` dataframe in a pickle file `celebrity_speakers_data_limited.pkl` to can use it later. It is the same method with `celebrity_speakers_data.pkl`:"
   ]
  },
  {
   "cell_type": "code",
   "execution_count": 27,
   "metadata": {},
   "outputs": [
    {
     "name": "stdout",
     "output_type": "stream",
     "text": [
      "/home/jlenclume/code/Jennifer974/my_projects/final-project-vivadata-03-2020\r\n"
     ]
    }
   ],
   "source": [
    "!pwd"
   ]
  },
  {
   "cell_type": "code",
   "execution_count": 18,
   "metadata": {},
   "outputs": [],
   "source": [
    "filepath_celebrity_data_limited = os.path.join('final-project-data', 'celebrity_speakers_data_limited.pkl')\n",
    "\n",
    "with open(filepath_celebrity_data_limited, 'wb') as f:\n",
    "    pickle.dump(celebrity_speakers_data_limited, f)"
   ]
  },
  {
   "cell_type": "code",
   "execution_count": 21,
   "metadata": {},
   "outputs": [],
   "source": [
    "filepath_celebrity_data = os.path.join('final-project-data', 'celebrity_speakers_data.pkl')\n",
    "\n",
    "with open(filepath_celebrity_data, 'wb') as f:\n",
    "    pickle.dump(celebrity_speakers_data, f)"
   ]
  },
  {
   "cell_type": "code",
   "execution_count": 19,
   "metadata": {
    "scrolled": true
   },
   "outputs": [
    {
     "name": "stdout",
     "output_type": "stream",
     "text": [
      "audio_loaded.pkl\t\t     celebrity_speakers_data.pkl\r\n",
      "celebrity_speakers_data_limited.pkl  requirements.txt\r\n"
     ]
    }
   ],
   "source": [
    "!ls final-project-data"
   ]
  },
  {
   "cell_type": "markdown",
   "metadata": {},
   "source": [
    "<h2> 1. Audio files Analysis"
   ]
  },
  {
   "cell_type": "markdown",
   "metadata": {},
   "source": [
    "<h3> 1.1 Data Comprehension"
   ]
  },
  {
   "cell_type": "markdown",
   "metadata": {},
   "source": [
    "I import `celebrity_speakers_data.pkl` and `celebrity_speakers_data_limited.pkl` to use dataframe :"
   ]
  },
  {
   "cell_type": "code",
   "execution_count": 18,
   "metadata": {},
   "outputs": [],
   "source": [
    "filepath_celebrity_data_limited = os.path.join('final-project-data', 'celebrity_speakers_data_limited.pkl')\n",
    "\n",
    "with open(filepath_celebrity_data_limited, 'rb') as f:\n",
    "    celebrity_speakers_data_limited = pickle.load(f)"
   ]
  },
  {
   "cell_type": "code",
   "execution_count": 24,
   "metadata": {},
   "outputs": [
    {
     "data": {
      "text/html": [
       "<div>\n",
       "<style scoped>\n",
       "    .dataframe tbody tr th:only-of-type {\n",
       "        vertical-align: middle;\n",
       "    }\n",
       "\n",
       "    .dataframe tbody tr th {\n",
       "        vertical-align: top;\n",
       "    }\n",
       "\n",
       "    .dataframe thead th {\n",
       "        text-align: right;\n",
       "    }\n",
       "</style>\n",
       "<table border=\"1\" class=\"dataframe\">\n",
       "  <thead>\n",
       "    <tr style=\"text-align: right;\">\n",
       "      <th></th>\n",
       "      <th>VoxCeleb1_ID</th>\n",
       "      <th>VGGFace1_ID</th>\n",
       "      <th>Gender</th>\n",
       "      <th>Nationality</th>\n",
       "      <th>Set</th>\n",
       "    </tr>\n",
       "  </thead>\n",
       "  <tbody>\n",
       "    <tr>\n",
       "      <td>3</td>\n",
       "      <td>id10004</td>\n",
       "      <td>Aaron_Tveit</td>\n",
       "      <td>1</td>\n",
       "      <td>1</td>\n",
       "      <td>dev</td>\n",
       "    </tr>\n",
       "    <tr>\n",
       "      <td>4</td>\n",
       "      <td>id10005</td>\n",
       "      <td>Aaron_Yoo</td>\n",
       "      <td>1</td>\n",
       "      <td>1</td>\n",
       "      <td>dev</td>\n",
       "    </tr>\n",
       "    <tr>\n",
       "      <td>6</td>\n",
       "      <td>id10007</td>\n",
       "      <td>Abigail_Breslin</td>\n",
       "      <td>0</td>\n",
       "      <td>1</td>\n",
       "      <td>dev</td>\n",
       "    </tr>\n",
       "    <tr>\n",
       "      <td>7</td>\n",
       "      <td>id10008</td>\n",
       "      <td>Abigail_Spencer</td>\n",
       "      <td>0</td>\n",
       "      <td>1</td>\n",
       "      <td>dev</td>\n",
       "    </tr>\n",
       "    <tr>\n",
       "      <td>9</td>\n",
       "      <td>id10010</td>\n",
       "      <td>Adam_Brody</td>\n",
       "      <td>1</td>\n",
       "      <td>1</td>\n",
       "      <td>dev</td>\n",
       "    </tr>\n",
       "  </tbody>\n",
       "</table>\n",
       "</div>"
      ],
      "text/plain": [
       "  VoxCeleb1_ID      VGGFace1_ID  Gender  Nationality  Set\n",
       "3      id10004      Aaron_Tveit       1            1  dev\n",
       "4      id10005        Aaron_Yoo       1            1  dev\n",
       "6      id10007  Abigail_Breslin       0            1  dev\n",
       "7      id10008  Abigail_Spencer       0            1  dev\n",
       "9      id10010       Adam_Brody       1            1  dev"
      ]
     },
     "execution_count": 24,
     "metadata": {},
     "output_type": "execute_result"
    }
   ],
   "source": [
    "celebrity_speakers_data_limited.head()"
   ]
  },
  {
   "cell_type": "code",
   "execution_count": 26,
   "metadata": {},
   "outputs": [],
   "source": [
    "filepath_celebrity_data = os.path.join('final-project-data', 'celebrity_speakers_data.pkl')\n",
    "\n",
    "with open(filepath_celebrity_data, 'rb') as f:\n",
    "    celebrity_speakers_data = pickle.load(f)"
   ]
  },
  {
   "cell_type": "code",
   "execution_count": 27,
   "metadata": {},
   "outputs": [
    {
     "data": {
      "text/html": [
       "<div>\n",
       "<style scoped>\n",
       "    .dataframe tbody tr th:only-of-type {\n",
       "        vertical-align: middle;\n",
       "    }\n",
       "\n",
       "    .dataframe tbody tr th {\n",
       "        vertical-align: top;\n",
       "    }\n",
       "\n",
       "    .dataframe thead th {\n",
       "        text-align: right;\n",
       "    }\n",
       "</style>\n",
       "<table border=\"1\" class=\"dataframe\">\n",
       "  <thead>\n",
       "    <tr style=\"text-align: right;\">\n",
       "      <th></th>\n",
       "      <th>VoxCeleb1_ID</th>\n",
       "      <th>VGGFace1_ID</th>\n",
       "      <th>Gender</th>\n",
       "      <th>Nationality</th>\n",
       "      <th>Set</th>\n",
       "    </tr>\n",
       "  </thead>\n",
       "  <tbody>\n",
       "    <tr>\n",
       "      <td>0</td>\n",
       "      <td>id10001</td>\n",
       "      <td>A.J._Buckley</td>\n",
       "      <td>1</td>\n",
       "      <td>Ireland</td>\n",
       "      <td>dev</td>\n",
       "    </tr>\n",
       "    <tr>\n",
       "      <td>1</td>\n",
       "      <td>id10002</td>\n",
       "      <td>A.R._Rahman</td>\n",
       "      <td>1</td>\n",
       "      <td>India</td>\n",
       "      <td>dev</td>\n",
       "    </tr>\n",
       "    <tr>\n",
       "      <td>2</td>\n",
       "      <td>id10003</td>\n",
       "      <td>Aamir_Khan</td>\n",
       "      <td>1</td>\n",
       "      <td>India</td>\n",
       "      <td>dev</td>\n",
       "    </tr>\n",
       "    <tr>\n",
       "      <td>3</td>\n",
       "      <td>id10004</td>\n",
       "      <td>Aaron_Tveit</td>\n",
       "      <td>1</td>\n",
       "      <td>USA</td>\n",
       "      <td>dev</td>\n",
       "    </tr>\n",
       "    <tr>\n",
       "      <td>4</td>\n",
       "      <td>id10005</td>\n",
       "      <td>Aaron_Yoo</td>\n",
       "      <td>1</td>\n",
       "      <td>USA</td>\n",
       "      <td>dev</td>\n",
       "    </tr>\n",
       "  </tbody>\n",
       "</table>\n",
       "</div>"
      ],
      "text/plain": [
       "  VoxCeleb1_ID   VGGFace1_ID  Gender Nationality  Set\n",
       "0      id10001  A.J._Buckley       1     Ireland  dev\n",
       "1      id10002   A.R._Rahman       1       India  dev\n",
       "2      id10003    Aamir_Khan       1       India  dev\n",
       "3      id10004   Aaron_Tveit       1         USA  dev\n",
       "4      id10005     Aaron_Yoo       1         USA  dev"
      ]
     },
     "execution_count": 27,
     "metadata": {},
     "output_type": "execute_result"
    }
   ],
   "source": [
    "celebrity_speakers_data.head()"
   ]
  },
  {
   "cell_type": "markdown",
   "metadata": {},
   "source": [
    "Now, I explore my audio files dataset :"
   ]
  },
  {
   "cell_type": "code",
   "execution_count": 35,
   "metadata": {},
   "outputs": [
    {
     "name": "stdout",
     "output_type": "stream",
     "text": [
      "/home/jlenclume/code/Jennifer974/my_projects/final-project-vivadata-03-2020\r\n"
     ]
    }
   ],
   "source": [
    "!pwd"
   ]
  },
  {
   "cell_type": "code",
   "execution_count": 37,
   "metadata": {},
   "outputs": [
    {
     "name": "stdout",
     "output_type": "stream",
     "text": [
      "id10001  id10136  id10311  id10446  id10581  id10716  id10851  id10986\tid11121\r\n",
      "id10002  id10137  id10312  id10447  id10582  id10717  id10852  id10987\tid11122\r\n",
      "id10003  id10138  id10313  id10448  id10583  id10718  id10853  id10988\tid11123\r\n",
      "id10004  id10139  id10314  id10449  id10584  id10719  id10854  id10989\tid11124\r\n",
      "id10005  id10140  id10315  id10450  id10585  id10720  id10855  id10990\tid11125\r\n",
      "id10006  id10141  id10316  id10451  id10586  id10721  id10856  id10991\tid11126\r\n",
      "id10007  id10142  id10317  id10452  id10587  id10722  id10857  id10992\tid11127\r\n",
      "id10008  id10143  id10318  id10453  id10588  id10723  id10858  id10993\tid11128\r\n",
      "id10009  id10144  id10319  id10454  id10589  id10724  id10859  id10994\tid11129\r\n",
      "id10010  id10145  id10320  id10455  id10590  id10725  id10860  id10995\tid11130\r\n",
      "id10011  id10146  id10321  id10456  id10591  id10726  id10861  id10996\tid11131\r\n",
      "id10012  id10147  id10322  id10457  id10592  id10727  id10862  id10997\tid11132\r\n",
      "id10013  id10148  id10323  id10458  id10593  id10728  id10863  id10998\tid11133\r\n",
      "id10014  id10149  id10324  id10459  id10594  id10729  id10864  id10999\tid11134\r\n",
      "id10015  id10150  id10325  id10460  id10595  id10730  id10865  id11000\tid11135\r\n",
      "id10016  id10151  id10326  id10461  id10596  id10731  id10866  id11001\tid11136\r\n",
      "id10017  id10152  id10327  id10462  id10597  id10732  id10867  id11002\tid11137\r\n",
      "id10018  id10153  id10328  id10463  id10598  id10733  id10868  id11003\tid11138\r\n",
      "id10019  id10154  id10329  id10464  id10599  id10734  id10869  id11004\tid11139\r\n",
      "id10020  id10155  id10330  id10465  id10600  id10735  id10870  id11005\tid11140\r\n",
      "id10021  id10156  id10331  id10466  id10601  id10736  id10871  id11006\tid11141\r\n",
      "id10022  id10157  id10332  id10467  id10602  id10737  id10872  id11007\tid11142\r\n",
      "id10023  id10158  id10333  id10468  id10603  id10738  id10873  id11008\tid11143\r\n",
      "id10024  id10159  id10334  id10469  id10604  id10739  id10874  id11009\tid11144\r\n",
      "id10025  id10160  id10335  id10470  id10605  id10740  id10875  id11010\tid11145\r\n",
      "id10026  id10161  id10336  id10471  id10606  id10741  id10876  id11011\tid11146\r\n",
      "id10027  id10162  id10337  id10472  id10607  id10742  id10877  id11012\tid11147\r\n",
      "id10028  id10163  id10338  id10473  id10608  id10743  id10878  id11013\tid11148\r\n",
      "id10029  id10164  id10339  id10474  id10609  id10744  id10879  id11014\tid11149\r\n",
      "id10030  id10165  id10340  id10475  id10610  id10745  id10880  id11015\tid11150\r\n",
      "id10031  id10166  id10341  id10476  id10611  id10746  id10881  id11016\tid11151\r\n",
      "id10032  id10167  id10342  id10477  id10612  id10747  id10882  id11017\tid11152\r\n",
      "id10033  id10168  id10343  id10478  id10613  id10748  id10883  id11018\tid11153\r\n",
      "id10034  id10169  id10344  id10479  id10614  id10749  id10884  id11019\tid11154\r\n",
      "id10035  id10170  id10345  id10480  id10615  id10750  id10885  id11020\tid11155\r\n",
      "id10036  id10171  id10346  id10481  id10616  id10751  id10886  id11021\tid11156\r\n",
      "id10037  id10172  id10347  id10482  id10617  id10752  id10887  id11022\tid11157\r\n",
      "id10038  id10173  id10348  id10483  id10618  id10753  id10888  id11023\tid11158\r\n",
      "id10039  id10174  id10349  id10484  id10619  id10754  id10889  id11024\tid11159\r\n",
      "id10040  id10175  id10350  id10485  id10620  id10755  id10890  id11025\tid11160\r\n",
      "id10041  id10176  id10351  id10486  id10621  id10756  id10891  id11026\tid11161\r\n",
      "id10042  id10177  id10352  id10487  id10622  id10757  id10892  id11027\tid11162\r\n",
      "id10043  id10178  id10353  id10488  id10623  id10758  id10893  id11028\tid11163\r\n",
      "id10044  id10179  id10354  id10489  id10624  id10759  id10894  id11029\tid11164\r\n",
      "id10045  id10180  id10355  id10490  id10625  id10760  id10895  id11030\tid11165\r\n",
      "id10046  id10181  id10356  id10491  id10626  id10761  id10896  id11031\tid11166\r\n",
      "id10047  id10182  id10357  id10492  id10627  id10762  id10897  id11032\tid11167\r\n",
      "id10048  id10183  id10358  id10493  id10628  id10763  id10898  id11033\tid11168\r\n",
      "id10049  id10184  id10359  id10494  id10629  id10764  id10899  id11034\tid11169\r\n",
      "id10050  id10185  id10360  id10495  id10630  id10765  id10900  id11035\tid11170\r\n",
      "id10051  id10186  id10361  id10496  id10631  id10766  id10901  id11036\tid11171\r\n",
      "id10052  id10187  id10362  id10497  id10632  id10767  id10902  id11037\tid11172\r\n",
      "id10053  id10188  id10363  id10498  id10633  id10768  id10903  id11038\tid11173\r\n",
      "id10054  id10189  id10364  id10499  id10634  id10769  id10904  id11039\tid11174\r\n",
      "id10055  id10190  id10365  id10500  id10635  id10770  id10905  id11040\tid11175\r\n",
      "id10056  id10191  id10366  id10501  id10636  id10771  id10906  id11041\tid11176\r\n",
      "id10057  id10192  id10367  id10502  id10637  id10772  id10907  id11042\tid11177\r\n",
      "id10058  id10193  id10368  id10503  id10638  id10773  id10908  id11043\tid11178\r\n",
      "id10059  id10194  id10369  id10504  id10639  id10774  id10909  id11044\tid11179\r\n",
      "id10060  id10195  id10370  id10505  id10640  id10775  id10910  id11045\tid11180\r\n",
      "id10061  id10196  id10371  id10506  id10641  id10776  id10911  id11046\tid11181\r\n",
      "id10062  id10197  id10372  id10507  id10642  id10777  id10912  id11047\tid11182\r\n",
      "id10063  id10198  id10373  id10508  id10643  id10778  id10913  id11048\tid11183\r\n",
      "id10064  id10199  id10374  id10509  id10644  id10779  id10914  id11049\tid11184\r\n",
      "id10065  id10200  id10375  id10510  id10645  id10780  id10915  id11050\tid11185\r\n",
      "id10066  id10201  id10376  id10511  id10646  id10781  id10916  id11051\tid11186\r\n",
      "id10067  id10202  id10377  id10512  id10647  id10782  id10917  id11052\tid11187\r\n",
      "id10068  id10203  id10378  id10513  id10648  id10783  id10918  id11053\tid11188\r\n",
      "id10069  id10204  id10379  id10514  id10649  id10784  id10919  id11054\tid11189\r\n",
      "id10070  id10205  id10380  id10515  id10650  id10785  id10920  id11055\tid11190\r\n",
      "id10071  id10206  id10381  id10516  id10651  id10786  id10921  id11056\tid11191\r\n",
      "id10072  id10207  id10382  id10517  id10652  id10787  id10922  id11057\tid11192\r\n",
      "id10073  id10208  id10383  id10518  id10653  id10788  id10923  id11058\tid11193\r\n",
      "id10074  id10209  id10384  id10519  id10654  id10789  id10924  id11059\tid11194\r\n",
      "id10075  id10210  id10385  id10520  id10655  id10790  id10925  id11060\tid11195\r\n",
      "id10076  id10211  id10386  id10521  id10656  id10791  id10926  id11061\tid11196\r\n",
      "id10077  id10212  id10387  id10522  id10657  id10792  id10927  id11062\tid11197\r\n",
      "id10078  id10213  id10388  id10523  id10658  id10793  id10928  id11063\tid11198\r\n",
      "id10079  id10214  id10389  id10524  id10659  id10794  id10929  id11064\tid11199\r\n",
      "id10080  id10215  id10390  id10525  id10660  id10795  id10930  id11065\tid11200\r\n",
      "id10081  id10216  id10391  id10526  id10661  id10796  id10931  id11066\tid11201\r\n",
      "id10082  id10217  id10392  id10527  id10662  id10797  id10932  id11067\tid11202\r\n",
      "id10083  id10218  id10393  id10528  id10663  id10798  id10933  id11068\tid11203\r\n",
      "id10084  id10219  id10394  id10529  id10664  id10799  id10934  id11069\tid11204\r\n",
      "id10085  id10220  id10395  id10530  id10665  id10800  id10935  id11070\tid11205\r\n",
      "id10086  id10221  id10396  id10531  id10666  id10801  id10936  id11071\tid11206\r\n",
      "id10087  id10222  id10397  id10532  id10667  id10802  id10937  id11072\tid11207\r\n",
      "id10088  id10223  id10398  id10533  id10668  id10803  id10938  id11073\tid11208\r\n",
      "id10089  id10224  id10399  id10534  id10669  id10804  id10939  id11074\tid11209\r\n",
      "id10090  id10225  id10400  id10535  id10670  id10805  id10940  id11075\tid11210\r\n",
      "id10091  id10226  id10401  id10536  id10671  id10806  id10941  id11076\tid11211\r\n",
      "id10092  id10227  id10402  id10537  id10672  id10807  id10942  id11077\tid11212\r\n",
      "id10093  id10228  id10403  id10538  id10673  id10808  id10943  id11078\tid11213\r\n",
      "id10094  id10229  id10404  id10539  id10674  id10809  id10944  id11079\tid11214\r\n",
      "id10095  id10230  id10405  id10540  id10675  id10810  id10945  id11080\tid11215\r\n",
      "id10096  id10231  id10406  id10541  id10676  id10811  id10946  id11081\tid11216\r\n",
      "id10097  id10232  id10407  id10542  id10677  id10812  id10947  id11082\tid11217\r\n",
      "id10098  id10233  id10408  id10543  id10678  id10813  id10948  id11083\tid11218\r\n",
      "id10099  id10234  id10409  id10544  id10679  id10814  id10949  id11084\tid11219\r\n",
      "id10100  id10235  id10410  id10545  id10680  id10815  id10950  id11085\tid11220\r\n",
      "id10101  id10236  id10411  id10546  id10681  id10816  id10951  id11086\tid11221\r\n",
      "id10102  id10237  id10412  id10547  id10682  id10817  id10952  id11087\tid11222\r\n",
      "id10103  id10238  id10413  id10548  id10683  id10818  id10953  id11088\tid11223\r\n",
      "id10104  id10239  id10414  id10549  id10684  id10819  id10954  id11089\tid11224\r\n",
      "id10105  id10240  id10415  id10550  id10685  id10820  id10955  id11090\tid11225\r\n",
      "id10106  id10241  id10416  id10551  id10686  id10821  id10956  id11091\tid11226\r\n",
      "id10107  id10242  id10417  id10552  id10687  id10822  id10957  id11092\tid11227\r\n",
      "id10108  id10243  id10418  id10553  id10688  id10823  id10958  id11093\tid11228\r\n",
      "id10109  id10244  id10419  id10554  id10689  id10824  id10959  id11094\tid11229\r\n",
      "id10110  id10245  id10420  id10555  id10690  id10825  id10960  id11095\tid11230\r\n",
      "id10111  id10246  id10421  id10556  id10691  id10826  id10961  id11096\tid11231\r\n",
      "id10112  id10247  id10422  id10557  id10692  id10827  id10962  id11097\tid11232\r\n",
      "id10113  id10248  id10423  id10558  id10693  id10828  id10963  id11098\tid11233\r\n",
      "id10114  id10249  id10424  id10559  id10694  id10829  id10964  id11099\tid11234\r\n",
      "id10115  id10250  id10425  id10560  id10695  id10830  id10965  id11100\tid11235\r\n",
      "id10116  id10251  id10426  id10561  id10696  id10831  id10966  id11101\tid11236\r\n",
      "id10117  id10252  id10427  id10562  id10697  id10832  id10967  id11102\tid11237\r\n",
      "id10118  id10253  id10428  id10563  id10698  id10833  id10968  id11103\tid11238\r\n",
      "id10119  id10254  id10429  id10564  id10699  id10834  id10969  id11104\tid11239\r\n",
      "id10120  id10255  id10430  id10565  id10700  id10835  id10970  id11105\tid11240\r\n",
      "id10121  id10256  id10431  id10566  id10701  id10836  id10971  id11106\tid11241\r\n",
      "id10122  id10257  id10432  id10567  id10702  id10837  id10972  id11107\tid11242\r\n",
      "id10123  id10258  id10433  id10568  id10703  id10838  id10973  id11108\tid11243\r\n",
      "id10124  id10259  id10434  id10569  id10704  id10839  id10974  id11109\tid11244\r\n",
      "id10125  id10260  id10435  id10570  id10705  id10840  id10975  id11110\tid11245\r\n",
      "id10126  id10261  id10436  id10571  id10706  id10841  id10976  id11111\tid11246\r\n",
      "id10127  id10262  id10437  id10572  id10707  id10842  id10977  id11112\tid11247\r\n",
      "id10128  id10263  id10438  id10573  id10708  id10843  id10978  id11113\tid11248\r\n",
      "id10129  id10264  id10439  id10574  id10709  id10844  id10979  id11114\tid11249\r\n",
      "id10130  id10265  id10440  id10575  id10710  id10845  id10980  id11115\tid11250\r\n",
      "id10131  id10266  id10441  id10576  id10711  id10846  id10981  id11116\tid11251\r\n",
      "id10132  id10267  id10442  id10577  id10712  id10847  id10982  id11117\r\n",
      "id10133  id10268  id10443  id10578  id10713  id10848  id10983  id11118\r\n",
      "id10134  id10269  id10444  id10579  id10714  id10849  id10984  id11119\r\n",
      "id10135  id10310  id10445  id10580  id10715  id10850  id10985  id11120\r\n"
     ]
    }
   ],
   "source": [
    "!ls ../../../../Documents/Final-Project-data/vox1_dev_wav/wav"
   ]
  },
  {
   "cell_type": "code",
   "execution_count": null,
   "metadata": {},
   "outputs": [],
   "source": [
    "!ls ../../../../Documents/Final-Project-data/vox1_dev_wav/wav"
   ]
  },
  {
   "cell_type": "markdown",
   "metadata": {},
   "source": [
    "For example, I choose two celebrity ID : id10965 corresponds to [Regina_Hall](https://www.google.com/search?q=regina+hall&sxsrf=ALeKk00MA3nh7tpKebL-RBUCas3MoSQRnQ:1583696395281&source=lnms&tbm=isch&sa=X&ved=2ahUKEwjNk8ro0IvoAhUOrxoKHeNqDmAQ_AUoAXoECBoQAw&biw=1366&bih=620#imgrc=RL-fcKuohtD3tM) and id11109\tcorresponds to [Stephen Baldwin](https://www.google.com/search?q=stephen+baldwin&tbm=isch&ved=2ahUKEwilyI_r0IvoAhUP0oUKHeFTAwUQ2-cCegQIABAA&oq=stephen+baldwin&gs_l=img.3..0l10.403639.407857..408164...0.0..0.72.758.15......0....1..gws-wiz-img.......0i67j0i10i67.WsuJiBBmZ9k&ei=EEplXqWAJY-klwThp40o&bih=620&biw=1366)."
   ]
  },
  {
   "cell_type": "code",
   "execution_count": 38,
   "metadata": {
    "scrolled": false
   },
   "outputs": [
    {
     "name": "stdout",
     "output_type": "stream",
     "text": [
      "\u001b[0m\u001b[34;42m0AdxTgLLbFY\u001b[0m/  \u001b[34;42mavNaBy3u3Ow\u001b[0m/  \u001b[34;42mJRXA-X2K5zc\u001b[0m/  \u001b[34;42mpGMcglQYXYE\u001b[0m/  \u001b[34;42mzZ2uBOISm5Q\u001b[0m/\r\n",
      "\u001b[34;42m4GbjXgL5-yQ\u001b[0m/  \u001b[34;42mCYf4vAgT_iQ\u001b[0m/  \u001b[34;42mkoRHZBBT_VI\u001b[0m/  \u001b[34;42mQXWsnscCJLI\u001b[0m/\r\n",
      "\u001b[34;42m9-XitQATNL8\u001b[0m/  \u001b[34;42mGH0kJfikbOU\u001b[0m/  \u001b[34;42mOHDRhzSfICk\u001b[0m/  \u001b[34;42mTKek4WAhbSE\u001b[0m/\r\n",
      "\u001b[34;42mAuYQOAiIzk0\u001b[0m/  \u001b[34;42mIXwnjoHthfA\u001b[0m/  \u001b[34;42mOJIfvnH1ymk\u001b[0m/  \u001b[34;42mXo0b4f0UVEA\u001b[0m/\r\n"
     ]
    }
   ],
   "source": [
    "!ls ../../../../Documents/Final-Project-data/vox1_dev_wav/wav/id10965"
   ]
  },
  {
   "cell_type": "code",
   "execution_count": 39,
   "metadata": {},
   "outputs": [
    {
     "data": {
      "text/html": [
       "<div>\n",
       "<style scoped>\n",
       "    .dataframe tbody tr th:only-of-type {\n",
       "        vertical-align: middle;\n",
       "    }\n",
       "\n",
       "    .dataframe tbody tr th {\n",
       "        vertical-align: top;\n",
       "    }\n",
       "\n",
       "    .dataframe thead th {\n",
       "        text-align: right;\n",
       "    }\n",
       "</style>\n",
       "<table border=\"1\" class=\"dataframe\">\n",
       "  <thead>\n",
       "    <tr style=\"text-align: right;\">\n",
       "      <th></th>\n",
       "      <th>VoxCeleb1_ID</th>\n",
       "      <th>VGGFace1_ID</th>\n",
       "      <th>Gender</th>\n",
       "      <th>Nationality</th>\n",
       "      <th>Set</th>\n",
       "    </tr>\n",
       "  </thead>\n",
       "  <tbody>\n",
       "    <tr>\n",
       "      <td>964</td>\n",
       "      <td>id10965</td>\n",
       "      <td>Regina_Hall</td>\n",
       "      <td>0</td>\n",
       "      <td>1</td>\n",
       "      <td>dev</td>\n",
       "    </tr>\n",
       "  </tbody>\n",
       "</table>\n",
       "</div>"
      ],
      "text/plain": [
       "    VoxCeleb1_ID  VGGFace1_ID  Gender  Nationality  Set\n",
       "964      id10965  Regina_Hall       0            1  dev"
      ]
     },
     "execution_count": 39,
     "metadata": {},
     "output_type": "execute_result"
    }
   ],
   "source": [
    "celebrity_speakers_data_limited.loc[celebrity_speakers_data_limited['VoxCeleb1_ID'] == 'id10965']"
   ]
  },
  {
   "cell_type": "code",
   "execution_count": 40,
   "metadata": {},
   "outputs": [
    {
     "name": "stdout",
     "output_type": "stream",
     "text": [
      "\u001b[0m\u001b[00;36m00001.wav\u001b[0m\r\n"
     ]
    }
   ],
   "source": [
    "ls ../../../../Documents/Final-Project-data/vox1_dev_wav/wav/id10965/0AdxTgLLbFY"
   ]
  },
  {
   "cell_type": "code",
   "execution_count": 44,
   "metadata": {},
   "outputs": [
    {
     "data": {
      "text/html": [
       "<div>\n",
       "<style scoped>\n",
       "    .dataframe tbody tr th:only-of-type {\n",
       "        vertical-align: middle;\n",
       "    }\n",
       "\n",
       "    .dataframe tbody tr th {\n",
       "        vertical-align: top;\n",
       "    }\n",
       "\n",
       "    .dataframe thead th {\n",
       "        text-align: right;\n",
       "    }\n",
       "</style>\n",
       "<table border=\"1\" class=\"dataframe\">\n",
       "  <thead>\n",
       "    <tr style=\"text-align: right;\">\n",
       "      <th></th>\n",
       "      <th>VoxCeleb1_ID</th>\n",
       "      <th>VGGFace1_ID</th>\n",
       "      <th>Gender</th>\n",
       "      <th>Nationality</th>\n",
       "      <th>Set</th>\n",
       "    </tr>\n",
       "  </thead>\n",
       "  <tbody>\n",
       "    <tr>\n",
       "      <td>1108</td>\n",
       "      <td>id11109</td>\n",
       "      <td>Stephen_Baldwin</td>\n",
       "      <td>1</td>\n",
       "      <td>1</td>\n",
       "      <td>dev</td>\n",
       "    </tr>\n",
       "  </tbody>\n",
       "</table>\n",
       "</div>"
      ],
      "text/plain": [
       "     VoxCeleb1_ID      VGGFace1_ID  Gender  Nationality  Set\n",
       "1108      id11109  Stephen_Baldwin       1            1  dev"
      ]
     },
     "execution_count": 44,
     "metadata": {},
     "output_type": "execute_result"
    }
   ],
   "source": [
    "celebrity_speakers_data_limited.loc[celebrity_speakers_data_limited['VoxCeleb1_ID'] == 'id11109']"
   ]
  },
  {
   "cell_type": "code",
   "execution_count": 41,
   "metadata": {},
   "outputs": [
    {
     "name": "stdout",
     "output_type": "stream",
     "text": [
      "\u001b[0m\u001b[00;36m00001.wav\u001b[0m  \u001b[00;36m00002.wav\u001b[0m  \u001b[00;36m00003.wav\u001b[0m\r\n"
     ]
    }
   ],
   "source": [
    "ls ../../../../Documents/Final-Project-data/vox1_dev_wav/wav/id11109/410TXiXAVeU"
   ]
  },
  {
   "cell_type": "markdown",
   "metadata": {},
   "source": [
    "I observe that there are several audios for each speaker in folders. I would like to add audio files in my dataframe to can exploit them later so I create a bash script `move_audio_files.sh` to gather and rename audio files with the following format `celebrity_ID-Interview_ID-audio_part_number`:"
   ]
  },
  {
   "cell_type": "code",
   "execution_count": 46,
   "metadata": {},
   "outputs": [
    {
     "name": "stdout",
     "output_type": "stream",
     "text": [
      "/home/jlenclume/code/Jennifer974/my_projects/final-project-vivadata-03-2020\r\n"
     ]
    }
   ],
   "source": [
    "!pwd"
   ]
  },
  {
   "cell_type": "code",
   "execution_count": 157,
   "metadata": {},
   "outputs": [
    {
     "name": "stdout",
     "output_type": "stream",
     "text": [
      "#!/bin/bash\r\n",
      "for celeb_id in `ls ../../../../Documents/Final-Project-data/vox1_dev_wav/wav`\r\n",
      "do\r\n",
      "\tfor lst_audio in `ls ../../../../Documents/Final-Project-data/vox1_dev_wav/wav/$celeb_id`\r\n",
      "\tdo\r\n",
      "\t\tfor audio in  `ls ../../../../Documents/Final-Project-data/vox1_dev_wav/wav/$celeb_id/$lst_audio`\r\n",
      "\t\tdo\r\n",
      "\t\t\tcp ../../../../Documents/Final-Project-data/vox1_dev_wav/wav/$celeb_id/$lst_audio/$audio ../../../../Documents/Final-Project-data/vox1_dev_wav/audio_files/$celeb_id-$lst_audio-$audio\t\t\r\n",
      "\t\tdone\r\n",
      "\r\n",
      "\r\n",
      "\tdone\r\n",
      "done\r\n"
     ]
    }
   ],
   "source": [
    "!cat move_audio_files.sh"
   ]
  },
  {
   "cell_type": "code",
   "execution_count": 19,
   "metadata": {},
   "outputs": [],
   "source": [
    "filepath_audio_files = os.path.join('..', '..', '..', '..', 'Documents', 'Final-Project-data', 'vox1_dev_wav', 'audio_files')"
   ]
  },
  {
   "cell_type": "code",
   "execution_count": 20,
   "metadata": {},
   "outputs": [
    {
     "data": {
      "text/plain": [
       "148642"
      ]
     },
     "execution_count": 20,
     "metadata": {},
     "output_type": "execute_result"
    }
   ],
   "source": [
    "audio_names = os.listdir(filepath_audio_files)\n",
    "\n",
    "#Total number of celebrity speakers audios\n",
    "len(audio_names)        "
   ]
  },
  {
   "cell_type": "markdown",
   "metadata": {},
   "source": [
    "My dataset contains 148 642 audios : I reduce the size of my dataset thank to previously (Nationality selection) : "
   ]
  },
  {
   "cell_type": "code",
   "execution_count": 21,
   "metadata": {},
   "outputs": [
    {
     "data": {
      "text/plain": [
       "119045"
      ]
     },
     "execution_count": 21,
     "metadata": {},
     "output_type": "execute_result"
    }
   ],
   "source": [
    "list_audio = []\n",
    "list_celeb_id = []\n",
    "\n",
    "for audio_name in audio_names:\n",
    "    for celeb_id in celebrity_speakers_data_limited['VoxCeleb1_ID']:\n",
    "        \n",
    "        #I compare celebrity ID in audio name : celebrity_ID-Interview_ID-audio_part_number\n",
    "        if celeb_id == audio_name.split('-')[0]:\n",
    "            \n",
    "            #I add audio files corresponding to my selection in an empty list\n",
    "            list_audio.append(audio_name)\n",
    "\n",
    "len(list_audio)"
   ]
  },
  {
   "cell_type": "markdown",
   "metadata": {},
   "source": [
    "I decide to keep 10 000 audios to can fit Machine Learning models in my computer."
   ]
  },
  {
   "cell_type": "code",
   "execution_count": 22,
   "metadata": {},
   "outputs": [
    {
     "data": {
      "text/plain": [
       "10000"
      ]
     },
     "execution_count": 22,
     "metadata": {},
     "output_type": "execute_result"
    }
   ],
   "source": [
    "list_audio = list_audio[:10000]\n",
    "\n",
    "len(list_audio)"
   ]
  },
  {
   "cell_type": "code",
   "execution_count": 23,
   "metadata": {},
   "outputs": [
    {
     "data": {
      "text/plain": [
       "10000"
      ]
     },
     "execution_count": 23,
     "metadata": {},
     "output_type": "execute_result"
    }
   ],
   "source": [
    "#list comprehension to retrieve celeb_id corresponding to audio name\n",
    "celeb_id = [audio_name.split('-')[0] for audio_name in list_audio]\n",
    "\n",
    "len(celeb_id)"
   ]
  },
  {
   "cell_type": "markdown",
   "metadata": {},
   "source": [
    "My dataset contains 981 celebrity speakers : it's my labels :"
   ]
  },
  {
   "cell_type": "code",
   "execution_count": 35,
   "metadata": {},
   "outputs": [
    {
     "data": {
      "text/plain": [
       "981"
      ]
     },
     "execution_count": 35,
     "metadata": {},
     "output_type": "execute_result"
    }
   ],
   "source": [
    "len(set(celeb_id))"
   ]
  },
  {
   "cell_type": "markdown",
   "metadata": {},
   "source": [
    "I save audio informations in a pickle file `audio_informations.pkl`:"
   ]
  },
  {
   "cell_type": "code",
   "execution_count": 26,
   "metadata": {},
   "outputs": [],
   "source": [
    "filepath_audio_informations = os.path.join('final-project-data', 'audio_informations.pkl')\n",
    "\n",
    "with open(filepath_audio_informations, 'wb') as f:\n",
    "    pickle.dump((audio_names, list_audio, celeb_id), f)"
   ]
  },
  {
   "cell_type": "markdown",
   "metadata": {},
   "source": [
    "<h3> 1.2 Dataset building: Features Extraction"
   ]
  },
  {
   "cell_type": "markdown",
   "metadata": {},
   "source": [
    "After my research, sound is a signal distinctive by several features as :\n",
    "- frequency : the rate at which something occurs over a particular period of time or in a given sample.\n",
    "- energy : the energy of a signal is the total magnitude of the signal\n",
    "- tempo : the speed at which a passage of music is or should be played.\n",
    "- spectrum :  usually a short sample of a sound – in terms of the amount of vibration at each individual frequency\n",
    "- spectrogram : is a visual representation of the spectrum of frequencies of a signal as it varies with time.\n",
    "- ..."
   ]
  },
  {
   "cell_type": "markdown",
   "metadata": {},
   "source": [
    "My approach consists of using Deep Learning Model : Convolutional Neural Networks (CNN). I have to transform my audio in images to can use it so I decide to use Mel-frequency cepstral coefficients (MFCCs) spectrogram (a visual representation of sound) because is the state-of-the-art features for speaker identification, speech recognition... [MFCC guide](http://www.practicalcryptography.com/miscellaneous/machine-learning/guide-mel-frequency-cepstral-coefficients-mfccs/)"
   ]
  },
  {
   "cell_type": "code",
   "execution_count": 2,
   "metadata": {},
   "outputs": [],
   "source": [
    "filepath_audio_informations = os.path.join('final-project-data', 'audio_informations.pkl')\n",
    "\n",
    "with open(filepath_audio_informations, 'rb') as f:\n",
    "    audio_names, list_audio, celeb_id = pickle.load(f)"
   ]
  },
  {
   "cell_type": "markdown",
   "metadata": {},
   "source": [
    "I use LibROSA library to compute MFCCs on my audio files :"
   ]
  },
  {
   "cell_type": "code",
   "execution_count": 43,
   "metadata": {
    "scrolled": false
   },
   "outputs": [],
   "source": [
    "def get_mfcc(list_audio, n_mfcc=40):\n",
    "    '''\n",
    "    This function collects each audio and extracts Mel-frequency cepstral coefficients (MFCCs) with librosa library\n",
    "    \n",
    "    Parameters\n",
    "    ------------\n",
    "    list_audio : list\n",
    "        contains audio files names\n",
    "    n_mfcc : int > 0\n",
    "        number of MFCCs to return\n",
    "    \n",
    "    Returns\n",
    "    ------------\n",
    "    list_mfcc : list of array\n",
    "        contains Mel-frequency cepstral coefficients (MFCCs) sequence for each audios\n",
    "    list_source : list of int\n",
    "        sampling rate\n",
    "    '''\n",
    "    list_mfcc = []\n",
    "    list_audio_source = []\n",
    "    \n",
    "    filepath_audio_files = os.path.join('..', '..', '..', '..', 'Documents', 'Final-Project-data', 'vox1_dev_wav', 'audio_files')\n",
    "    \n",
    "    for audio_name in list_audio:\n",
    "        #Audio filepath\n",
    "        filepath_audio = os.path.join(filepath_audio_files, audio_name)\n",
    "\n",
    "        #Load audio files\n",
    "        # I choose duration=5s for each audio to have the same audio duration\n",
    "        #sr=None : preserves the native sampling rate of the file \n",
    "        audio, source = librosa.load(filepath_audio, duration=5, sr=None) \n",
    "        \n",
    "        #List of Mel-frequency cepstral coefficients (MFCCs) computed\n",
    "        list_mfcc.append(librosa.feature.mfcc(audio, n_mfcc=n_mfcc, sr=source))\n",
    "\n",
    "        #list of source loaded\n",
    "        list_audio_source.append(source)\n",
    "                \n",
    "    return list_mfcc, list_audio_source"
   ]
  },
  {
   "cell_type": "code",
   "execution_count": 44,
   "metadata": {},
   "outputs": [],
   "source": [
    "mfccs, audio_source = get_mfcc(list_audio)"
   ]
  },
  {
   "cell_type": "code",
   "execution_count": 45,
   "metadata": {},
   "outputs": [
    {
     "data": {
      "text/plain": [
       "{16000}"
      ]
     },
     "execution_count": 45,
     "metadata": {},
     "output_type": "execute_result"
    }
   ],
   "source": [
    "set(audio_source)"
   ]
  },
  {
   "cell_type": "markdown",
   "metadata": {},
   "source": [
    "I save `mfccs` and `audio_source` on my computer :"
   ]
  },
  {
   "cell_type": "code",
   "execution_count": 46,
   "metadata": {},
   "outputs": [],
   "source": [
    "filepath_audio_loaded = os.path.join('final-project-data', 'audio_mfcc.pkl') \n",
    "\n",
    "with open(filepath_audio_loaded, 'wb')as f:\n",
    "    pickle.dump((mfccs, audio_source), f)"
   ]
  },
  {
   "cell_type": "code",
   "execution_count": 65,
   "metadata": {
    "scrolled": true
   },
   "outputs": [
    {
     "name": "stdout",
     "output_type": "stream",
     "text": [
      "audio_informations.pkl  celebrity_speakers_data_limited.pkl  requirements.txt\r\n",
      "audio_mfcc.pkl          celebrity_speakers_data.pkl\r\n"
     ]
    }
   ],
   "source": [
    "ls final-project-data"
   ]
  },
  {
   "cell_type": "code",
   "execution_count": 3,
   "metadata": {},
   "outputs": [],
   "source": [
    "filepath_audio_loaded = os.path.join('final-project-data', 'audio_mfcc.pkl') \n",
    "\n",
    "with open(filepath_audio_loaded, 'rb')as f:\n",
    "    mfccs, audio_source = pickle.load(f)"
   ]
  },
  {
   "cell_type": "markdown",
   "metadata": {},
   "source": [
    "I display MFCC spectrogram for 2 audios:"
   ]
  },
  {
   "cell_type": "code",
   "execution_count": 67,
   "metadata": {},
   "outputs": [
    {
     "data": {
      "image/png": "[encoded data removed]",
      "text/plain": [
       "<Figure size 720x576 with 6 Axes>"
      ]
     },
     "metadata": {
      "needs_background": "light"
     },
     "output_type": "display_data"
    }
   ],
   "source": [
    "plt.figure(figsize=(10, 8))\n",
    "\n",
    "mfcc_idx_1 = np.random.randint(len(mfccs))                            #random index for mfcc\n",
    "mfcc_idx_2 = np.random.randint(len(mfccs))                            #random index for mfcc\n",
    "\n",
    "plt.subplot(2, 2, 1)\n",
    "filepath_audio_files_1 = os.path.join('..', '..', '..', '..', 'Documents', 'Final-Project-data', 'vox1_dev_wav', 'audio_files', list_audio[mfcc_idx_1])\n",
    "audio_1 = librosa.load(filepath_audio_files_1, duration=5, sr=None)[0]\n",
    "librosa.display.waveplot(audio_1, sr=16000)\n",
    "plt.title(f'{celeb_id[mfcc_idx_1]} speech waveform')\n",
    "plt.xlabel('Time (s)')\n",
    "plt.ylabel('Amplitude')\n",
    "plt.tight_layout()\n",
    "\n",
    "plt.subplot(2, 2, 2)\n",
    "filepath_audio_files_2 = os.path.join('..', '..', '..', '..', 'Documents', 'Final-Project-data', 'vox1_dev_wav', 'audio_files', list_audio[mfcc_idx_2])\n",
    "audio_2 = librosa.load(filepath_audio_files_2, duration=5, sr=None)[0]\n",
    "librosa.display.waveplot(audio_2, sr=16000)\n",
    "plt.title(f'{celeb_id[mfcc_idx_2]} speech waveform')\n",
    "plt.xlabel('Time (s)')\n",
    "plt.ylabel('Amplitude')\n",
    "plt.tight_layout()\n",
    "\n",
    "plt.subplot(2, 2, 3)\n",
    "librosa.display.specshow(mfccs[mfcc_idx_1], x_axis='time', sr=16000)\n",
    "plt.colorbar()\n",
    "plt.xlabel('Time (s)')\n",
    "plt.ylabel('Cepstrum index')\n",
    "plt.title(f'{celeb_id[mfcc_idx_1]} MFCC')                          #Graph title\n",
    "plt.tight_layout()\n",
    "\n",
    "plt.subplot(2, 2, 4)\n",
    "\n",
    "librosa.display.specshow(mfccs[mfcc_idx_2], x_axis='time', sr=16000)\n",
    "plt.xlabel('Time (s)')\n",
    "plt.ylabel('Cepstrum index')\n",
    "plt.colorbar()\n",
    "plt.title(f'{celeb_id[mfcc_idx_2]} MFCC')                          #Graph title\n",
    "plt.tight_layout()\n",
    "\n",
    "\n",
    "plt.show()"
   ]
  },
  {
   "cell_type": "code",
   "execution_count": null,
   "metadata": {},
   "outputs": [],
   "source": [
    "def get_images_sample(mfccs):\n",
    "    '''\n",
    "    '''\n",
    "    filepath = audio\n",
    "    "
   ]
  },
  {
   "cell_type": "code",
   "execution_count": 77,
   "metadata": {},
   "outputs": [
    {
     "data": {
      "image/png": "[encoded data removed]",
      "text/plain": [
       "<Figure size 432x288 with 1 Axes>"
      ]
     },
     "metadata": {},
     "output_type": "display_data"
    }
   ],
   "source": [
    "img = librosa.display.specshow(mfccs[20], sr=16000)"
   ]
  },
  {
   "cell_type": "code",
   "execution_count": 79,
   "metadata": {},
   "outputs": [
    {
     "data": {
      "text/plain": [
       "<Figure size 432x288 with 0 Axes>"
      ]
     },
     "metadata": {},
     "output_type": "display_data"
    }
   ],
   "source": [
    "plt.savefig('img_test')"
   ]
  },
  {
   "cell_type": "code",
   "execution_count": 88,
   "metadata": {},
   "outputs": [
    {
     "name": "stdout",
     "output_type": "stream",
     "text": [
      "\u001b[0m\u001b[01;34mfinal-project-data\u001b[0m/  \u001b[01;35mimg_test_2.png\u001b[0m  \u001b[01;32mmove_audio_files.sh\u001b[0m*  \u001b[01;34mvenv\u001b[0m/\r\n",
      "Final-Project.ipynb  \u001b[01;35mimg_test.png\u001b[0m    requirements.txt\r\n"
     ]
    }
   ],
   "source": [
    "ls"
   ]
  },
  {
   "cell_type": "code",
   "execution_count": 86,
   "metadata": {},
   "outputs": [
    {
     "data": {
      "text/plain": [
       "497664.0"
      ]
     },
     "execution_count": 86,
     "metadata": {},
     "output_type": "execute_result"
    }
   ],
   "source": [
    "plt.imread('img_test.png').sum()"
   ]
  },
  {
   "cell_type": "code",
   "execution_count": 87,
   "metadata": {},
   "outputs": [
    {
     "data": {
      "text/plain": [
       "456564.72"
      ]
     },
     "execution_count": 87,
     "metadata": {},
     "output_type": "execute_result"
    },
    {
     "data": {
      "image/png": "[encoded data removed]",
      "text/plain": [
       "<Figure size 432x288 with 1 Axes>"
      ]
     },
     "metadata": {},
     "output_type": "display_data"
    }
   ],
   "source": [
    "img = librosa.display.specshow(mfccs[1000], sr=16000)\n",
    "plt.savefig('img_test_2')\n",
    "plt.imread('img_test_2.png').sum()"
   ]
  },
  {
   "cell_type": "code",
   "execution_count": null,
   "metadata": {},
   "outputs": [],
   "source": []
  }
 ],
 "metadata": {
  "kernelspec": {
   "display_name": "Python 3",
   "language": "python",
   "name": "python3"
  },
  "language_info": {
   "codemirror_mode": {
    "name": "ipython",
    "version": 3
   },
   "file_extension": ".py",
   "mimetype": "text/x-python",
   "name": "python",
   "nbconvert_exporter": "python",
   "pygments_lexer": "ipython3",
   "version": "3.7.4"
  }
 },
 "nbformat": 4,
 "nbformat_minor": 2
}
