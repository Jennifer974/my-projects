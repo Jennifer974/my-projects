{
 "cells": [
  {
   "cell_type": "markdown",
   "metadata": {},
   "source": [
    "# Quora Insincere Questions Classification\n",
    "\n",
    "![logo](images/quora.jpg)\n",
    "\n",
    "\n",
    "## Objectives\n",
    "\n",
    "Detect toxic content to improve online conversations\n",
    "\n",
    "*Source : Kaggle Challenge* : [Quora insincere questions](https://www.kaggle.com/c/quora-insincere-questions-classification)\n",
    "\n",
    "\n",
    "## Context\n",
    "\n",
    "Quora is a popular website where anyone can ask and/or answer a question. There are more than 100 millions unique visitors per month.\n",
    "\n",
    "Like any other forum, Quora is facing a problem: toxic questions and comments.\n",
    "\n",
    "As you can imagine, Quora teams cannot check all of the Q&A by hand. So they decided to ask the data science community to help them to perform automatically insincere questions classification.\n",
    "\n",
    "\n",
    "## Dataset \n",
    "\n",
    "All important files used for my project saved [here](https://drive.google.com/drive/u/0/folders/16ISw88BaAWbCt8d0RZtgZ6biLszrtatS)\n",
    "\n",
    "📥 The Kaggle dataset is quite heavy and it may be too difficult for my laptop to perform the computations. Therefore, I provide **the train dataset** (to be sampled) and also **light word embeddings**, which I download [here](https://www.kaggle.com/c/quora-insincere-questions-classification/data).\n",
    "\n",
    "Quora provided a dataset of questions with a label, and the features are the following:\n",
    "\n",
    "- `qid`: a unique identifier for each question, an hexadecimal number\n",
    "- `question_text`: the text of the question\n",
    "- `target`: either 1 (for insincere question) or 0\n",
    "\n",
    "🔦 In this project, the metric used for performance evaluation is the **F1-score**."
   ]
  },
  {
   "cell_type": "markdown",
   "metadata": {},
   "source": [
    "<h2> Import"
   ]
  },
  {
   "cell_type": "code",
   "execution_count": 1,
   "metadata": {},
   "outputs": [],
   "source": [
    "#System library\n",
    "import os\n",
    "\n",
    "#Data manipulation\n",
    "import pandas as pd, numpy as np\n",
    "from sklearn.utils import resample                                                #Select sample on dataset\n",
    "\n",
    "#Data storage\n",
    "import pickle\n",
    "from joblib import dump, load                                                     #Joblib is more persistent than Pickle for large data, in particular large numpy arrays.\n",
    "\n",
    "#Data visualization\n",
    "import matplotlib.pyplot as plt, seaborn as sns\n",
    "\n",
    "#Text Preprocessing\n",
    "import nltk\n",
    "from nltk.tokenize import word_tokenize\n",
    "from nltk.corpus import stopwords, wordnet\n",
    "from nltk.stem import WordNetLemmatizer\n",
    "from textblob import TextBlob\n",
    "import operator\n",
    "\n",
    "#Data Preprocessing\n",
    "from imblearn.under_sampling import RandomUnderSampler, ClusterCentroids\n",
    "from imblearn.over_sampling import RandomOverSampler\n",
    "from sklearn.model_selection import train_test_split\n",
    "from sklearn.feature_extraction.text import TfidfVectorizer\n",
    "\n",
    "#Supervised Machine Learning Model\n",
    "from sklearn.ensemble import RandomForestClassifier\n",
    "from sklearn.linear_model import LogisticRegression\n",
    "\n",
    "#Metrics computed for Classification\n",
    "from sklearn.metrics import classification_report, f1_score"
   ]
  },
  {
   "cell_type": "markdown",
   "metadata": {},
   "source": [
    "I load Quora questions dataset in a pandas dataframe :"
   ]
  },
  {
   "cell_type": "code",
   "execution_count": 2,
   "metadata": {},
   "outputs": [],
   "source": [
    "#Define dataset path :\n",
    "filepath = os.path.join('data','quora_train.csv')\n",
    "\n",
    "#Load csv file with pandas dataframe\n",
    "quora_questions = pd.read_csv(filepath)"
   ]
  },
  {
   "cell_type": "code",
   "execution_count": 3,
   "metadata": {},
   "outputs": [
    {
     "data": {
      "text/plain": [
       "(1306122, 3)"
      ]
     },
     "execution_count": 3,
     "metadata": {},
     "output_type": "execute_result"
    }
   ],
   "source": [
    "#See dataset shape\n",
    "quora_questions.shape"
   ]
  },
  {
   "cell_type": "markdown",
   "metadata": {},
   "source": [
    "<h2> 1. Sample dataset : 10 000 rows"
   ]
  },
  {
   "cell_type": "markdown",
   "metadata": {},
   "source": [
    "First, I sample the dataset to 10.000 lines to can use it on my computer : I use `resample` function from `scikit-learn`."
   ]
  },
  {
   "cell_type": "code",
   "execution_count": 4,
   "metadata": {},
   "outputs": [],
   "source": [
    "#Sample Quora dataset to 10 000 rows\n",
    "quora_questions = resample(quora_questions, n_samples=10000, random_state=0)"
   ]
  },
  {
   "cell_type": "code",
   "execution_count": 5,
   "metadata": {},
   "outputs": [
    {
     "data": {
      "text/plain": [
       "(10000, 3)"
      ]
     },
     "execution_count": 5,
     "metadata": {},
     "output_type": "execute_result"
    }
   ],
   "source": [
    "#See dataset shape\n",
    "quora_questions.shape"
   ]
  },
  {
   "cell_type": "markdown",
   "metadata": {},
   "source": [
    "<h2> 2. Exploration Data analysis"
   ]
  },
  {
   "cell_type": "markdown",
   "metadata": {},
   "source": [
    "<h3> 2.1 Data Exploration"
   ]
  },
  {
   "cell_type": "code",
   "execution_count": 6,
   "metadata": {},
   "outputs": [
    {
     "data": {
      "text/html": [
       "<div>\n",
       "<style scoped>\n",
       "    .dataframe tbody tr th:only-of-type {\n",
       "        vertical-align: middle;\n",
       "    }\n",
       "\n",
       "    .dataframe tbody tr th {\n",
       "        vertical-align: top;\n",
       "    }\n",
       "\n",
       "    .dataframe thead th {\n",
       "        text-align: right;\n",
       "    }\n",
       "</style>\n",
       "<table border=\"1\" class=\"dataframe\">\n",
       "  <thead>\n",
       "    <tr style=\"text-align: right;\">\n",
       "      <th></th>\n",
       "      <th>qid</th>\n",
       "      <th>question_text</th>\n",
       "      <th>target</th>\n",
       "    </tr>\n",
       "  </thead>\n",
       "  <tbody>\n",
       "    <tr>\n",
       "      <td>305711</td>\n",
       "      <td>3be0cfa79beb7e5f606b</td>\n",
       "      <td>Who would win, SSB Goku (ToP) vs Base Goku (SD...</td>\n",
       "      <td>0</td>\n",
       "    </tr>\n",
       "    <tr>\n",
       "      <td>117952</td>\n",
       "      <td>1716ecee485d6cd0a819</td>\n",
       "      <td>Are there any organizational skills classes or...</td>\n",
       "      <td>0</td>\n",
       "    </tr>\n",
       "    <tr>\n",
       "      <td>963395</td>\n",
       "      <td>bcc372d77a2e615351b6</td>\n",
       "      <td>If an abuser married a person he/she can’t abu...</td>\n",
       "      <td>0</td>\n",
       "    </tr>\n",
       "    <tr>\n",
       "      <td>152315</td>\n",
       "      <td>1dcc547fdc41b1a554a0</td>\n",
       "      <td>Why didn't they accept me in the Conservatoriu...</td>\n",
       "      <td>0</td>\n",
       "    </tr>\n",
       "    <tr>\n",
       "      <td>359783</td>\n",
       "      <td>4683c11a002d6fba5630</td>\n",
       "      <td>What is the media role in ending drunk driving?</td>\n",
       "      <td>0</td>\n",
       "    </tr>\n",
       "  </tbody>\n",
       "</table>\n",
       "</div>"
      ],
      "text/plain": [
       "                         qid  \\\n",
       "305711  3be0cfa79beb7e5f606b   \n",
       "117952  1716ecee485d6cd0a819   \n",
       "963395  bcc372d77a2e615351b6   \n",
       "152315  1dcc547fdc41b1a554a0   \n",
       "359783  4683c11a002d6fba5630   \n",
       "\n",
       "                                            question_text  target  \n",
       "305711  Who would win, SSB Goku (ToP) vs Base Goku (SD...       0  \n",
       "117952  Are there any organizational skills classes or...       0  \n",
       "963395  If an abuser married a person he/she can’t abu...       0  \n",
       "152315  Why didn't they accept me in the Conservatoriu...       0  \n",
       "359783    What is the media role in ending drunk driving?       0  "
      ]
     },
     "execution_count": 6,
     "metadata": {},
     "output_type": "execute_result"
    }
   ],
   "source": [
    "#Show the first five rows of data\n",
    "quora_questions.head()"
   ]
  },
  {
   "cell_type": "markdown",
   "metadata": {},
   "source": [
    "As we can see, the dataset has **three columns** as follows :\n",
    "- `qid`: a unique identifier for each question, an hexadecimal number\n",
    "- `question_text`: the text of the question\n",
    "- `target`: either 1 (for insincere question) or 0"
   ]
  },
  {
   "cell_type": "markdown",
   "metadata": {},
   "source": [
    "It contains **string** but `target` is **numerical values (discrete)** : It's a **Supervised Machine Learning** case (Classification)."
   ]
  },
  {
   "cell_type": "code",
   "execution_count": 7,
   "metadata": {},
   "outputs": [
    {
     "name": "stdout",
     "output_type": "stream",
     "text": [
      "<class 'pandas.core.frame.DataFrame'>\n",
      "Int64Index: 10000 entries, 305711 to 219610\n",
      "Data columns (total 3 columns):\n",
      "qid              10000 non-null object\n",
      "question_text    10000 non-null object\n",
      "target           10000 non-null int64\n",
      "dtypes: int64(1), object(2)\n",
      "memory usage: 312.5+ KB\n"
     ]
    }
   ],
   "source": [
    "quora_questions.info()"
   ]
  },
  {
   "cell_type": "markdown",
   "metadata": {},
   "source": [
    "Next, I display some **statistical summaries** of `target` below : I constat that `target` 0 corresponding to sincere questions is majority."
   ]
  },
  {
   "cell_type": "code",
   "execution_count": 8,
   "metadata": {
    "scrolled": true
   },
   "outputs": [
    {
     "data": {
      "text/html": [
       "<div>\n",
       "<style scoped>\n",
       "    .dataframe tbody tr th:only-of-type {\n",
       "        vertical-align: middle;\n",
       "    }\n",
       "\n",
       "    .dataframe tbody tr th {\n",
       "        vertical-align: top;\n",
       "    }\n",
       "\n",
       "    .dataframe thead th {\n",
       "        text-align: right;\n",
       "    }\n",
       "</style>\n",
       "<table border=\"1\" class=\"dataframe\">\n",
       "  <thead>\n",
       "    <tr style=\"text-align: right;\">\n",
       "      <th></th>\n",
       "      <th>target</th>\n",
       "    </tr>\n",
       "  </thead>\n",
       "  <tbody>\n",
       "    <tr>\n",
       "      <td>count</td>\n",
       "      <td>10000.000000</td>\n",
       "    </tr>\n",
       "    <tr>\n",
       "      <td>mean</td>\n",
       "      <td>0.064400</td>\n",
       "    </tr>\n",
       "    <tr>\n",
       "      <td>std</td>\n",
       "      <td>0.245476</td>\n",
       "    </tr>\n",
       "    <tr>\n",
       "      <td>min</td>\n",
       "      <td>0.000000</td>\n",
       "    </tr>\n",
       "    <tr>\n",
       "      <td>25%</td>\n",
       "      <td>0.000000</td>\n",
       "    </tr>\n",
       "    <tr>\n",
       "      <td>50%</td>\n",
       "      <td>0.000000</td>\n",
       "    </tr>\n",
       "    <tr>\n",
       "      <td>75%</td>\n",
       "      <td>0.000000</td>\n",
       "    </tr>\n",
       "    <tr>\n",
       "      <td>max</td>\n",
       "      <td>1.000000</td>\n",
       "    </tr>\n",
       "  </tbody>\n",
       "</table>\n",
       "</div>"
      ],
      "text/plain": [
       "             target\n",
       "count  10000.000000\n",
       "mean       0.064400\n",
       "std        0.245476\n",
       "min        0.000000\n",
       "25%        0.000000\n",
       "50%        0.000000\n",
       "75%        0.000000\n",
       "max        1.000000"
      ]
     },
     "execution_count": 8,
     "metadata": {},
     "output_type": "execute_result"
    }
   ],
   "source": [
    "#Statistical summaries of `target`\n",
    "quora_questions.describe()"
   ]
  },
  {
   "cell_type": "markdown",
   "metadata": {},
   "source": [
    "<h3> 2.2 Data Cleaning"
   ]
  },
  {
   "cell_type": "markdown",
   "metadata": {},
   "source": [
    "Some relevant informations with **Data Cleaning** are :\n",
    "- **No null values**\n",
    "- **45 duplicates**"
   ]
  },
  {
   "cell_type": "code",
   "execution_count": 9,
   "metadata": {
    "scrolled": true
   },
   "outputs": [
    {
     "data": {
      "text/plain": [
       "qid              0\n",
       "question_text    0\n",
       "target           0\n",
       "dtype: int64"
      ]
     },
     "execution_count": 9,
     "metadata": {},
     "output_type": "execute_result"
    }
   ],
   "source": [
    "#Number of null values\n",
    "quora_questions.isna().sum()"
   ]
  },
  {
   "cell_type": "markdown",
   "metadata": {},
   "source": [
    "I drop duplicates in my dataframe because they are useless :"
   ]
  },
  {
   "cell_type": "code",
   "execution_count": 10,
   "metadata": {
    "scrolled": true
   },
   "outputs": [
    {
     "data": {
      "text/plain": [
       "45"
      ]
     },
     "execution_count": 10,
     "metadata": {},
     "output_type": "execute_result"
    }
   ],
   "source": [
    "#Number of duplicates\n",
    "quora_questions.duplicated().sum()"
   ]
  },
  {
   "cell_type": "code",
   "execution_count": 11,
   "metadata": {},
   "outputs": [],
   "source": [
    "#Drop duplicates\n",
    "quora_questions.drop_duplicates(inplace=True)"
   ]
  },
  {
   "cell_type": "code",
   "execution_count": 12,
   "metadata": {},
   "outputs": [
    {
     "data": {
      "text/plain": [
       "0"
      ]
     },
     "execution_count": 12,
     "metadata": {},
     "output_type": "execute_result"
    }
   ],
   "source": [
    "#Number of duplicates\n",
    "quora_questions.duplicated().sum()"
   ]
  },
  {
   "cell_type": "code",
   "execution_count": 13,
   "metadata": {},
   "outputs": [
    {
     "data": {
      "text/plain": [
       "(9955, 3)"
      ]
     },
     "execution_count": 13,
     "metadata": {},
     "output_type": "execute_result"
    }
   ],
   "source": [
    "quora_questions.shape"
   ]
  },
  {
   "cell_type": "markdown",
   "metadata": {},
   "source": [
    "<h4> Data save"
   ]
  },
  {
   "cell_type": "code",
   "execution_count": 14,
   "metadata": {},
   "outputs": [],
   "source": [
    "#Define file path :\n",
    "filepath_quora_cleaned = os.path.join('data', 'quora_questions_cleaned.pkl')\n",
    "\n",
    "#Save quora dataset with pickle:\n",
    "quora_questions.to_pickle(filepath_quora_cleaned)"
   ]
  },
  {
   "cell_type": "code",
   "execution_count": 22,
   "metadata": {},
   "outputs": [],
   "source": [
    "#Define file path :\n",
    "filepath_quora_cleaned = os.path.join('data', ,'quora_questions_cleaned.pkl')\n",
    "\n",
    "#Load quora dataset:\n",
    "quora_questions = pd.read_pickle(filepath_quora_cleaned)"
   ]
  },
  {
   "cell_type": "code",
   "execution_count": 23,
   "metadata": {},
   "outputs": [
    {
     "data": {
      "text/html": [
       "<div>\n",
       "<style scoped>\n",
       "    .dataframe tbody tr th:only-of-type {\n",
       "        vertical-align: middle;\n",
       "    }\n",
       "\n",
       "    .dataframe tbody tr th {\n",
       "        vertical-align: top;\n",
       "    }\n",
       "\n",
       "    .dataframe thead th {\n",
       "        text-align: right;\n",
       "    }\n",
       "</style>\n",
       "<table border=\"1\" class=\"dataframe\">\n",
       "  <thead>\n",
       "    <tr style=\"text-align: right;\">\n",
       "      <th></th>\n",
       "      <th>qid</th>\n",
       "      <th>question_text</th>\n",
       "      <th>target</th>\n",
       "    </tr>\n",
       "  </thead>\n",
       "  <tbody>\n",
       "    <tr>\n",
       "      <td>305711</td>\n",
       "      <td>3be0cfa79beb7e5f606b</td>\n",
       "      <td>Who would win, SSB Goku (ToP) vs Base Goku (SD...</td>\n",
       "      <td>0</td>\n",
       "    </tr>\n",
       "    <tr>\n",
       "      <td>117952</td>\n",
       "      <td>1716ecee485d6cd0a819</td>\n",
       "      <td>Are there any organizational skills classes or...</td>\n",
       "      <td>0</td>\n",
       "    </tr>\n",
       "    <tr>\n",
       "      <td>963395</td>\n",
       "      <td>bcc372d77a2e615351b6</td>\n",
       "      <td>If an abuser married a person he/she can’t abu...</td>\n",
       "      <td>0</td>\n",
       "    </tr>\n",
       "    <tr>\n",
       "      <td>152315</td>\n",
       "      <td>1dcc547fdc41b1a554a0</td>\n",
       "      <td>Why didn't they accept me in the Conservatoriu...</td>\n",
       "      <td>0</td>\n",
       "    </tr>\n",
       "    <tr>\n",
       "      <td>359783</td>\n",
       "      <td>4683c11a002d6fba5630</td>\n",
       "      <td>What is the media role in ending drunk driving?</td>\n",
       "      <td>0</td>\n",
       "    </tr>\n",
       "  </tbody>\n",
       "</table>\n",
       "</div>"
      ],
      "text/plain": [
       "                         qid  \\\n",
       "305711  3be0cfa79beb7e5f606b   \n",
       "117952  1716ecee485d6cd0a819   \n",
       "963395  bcc372d77a2e615351b6   \n",
       "152315  1dcc547fdc41b1a554a0   \n",
       "359783  4683c11a002d6fba5630   \n",
       "\n",
       "                                            question_text  target  \n",
       "305711  Who would win, SSB Goku (ToP) vs Base Goku (SD...       0  \n",
       "117952  Are there any organizational skills classes or...       0  \n",
       "963395  If an abuser married a person he/she can’t abu...       0  \n",
       "152315  Why didn't they accept me in the Conservatoriu...       0  \n",
       "359783    What is the media role in ending drunk driving?       0  "
      ]
     },
     "execution_count": 23,
     "metadata": {},
     "output_type": "execute_result"
    }
   ],
   "source": [
    "quora_questions.head()"
   ]
  },
  {
   "cell_type": "markdown",
   "metadata": {},
   "source": [
    "<h3> 2.3 Data Analysis"
   ]
  },
  {
   "cell_type": "markdown",
   "metadata": {},
   "source": [
    "The dataset is highly unbalanced, the **positive class (Quora insincere questions)** account for **6.45%** of all transactions (against **93.55%** for sincere questions) :"
   ]
  },
  {
   "cell_type": "code",
   "execution_count": 51,
   "metadata": {},
   "outputs": [
    {
     "data": {
      "image/png": "[encoded data removed]",
      "text/plain": [
       "<Figure size 576x432 with 1 Axes>"
      ]
     },
     "metadata": {
      "needs_background": "light"
     },
     "output_type": "display_data"
    }
   ],
   "source": [
    "plt.figure(figsize=(8, 6))\n",
    "\n",
    "#Plot the Target distributions for sincere and toxic contents\n",
    "plt.title('Target distribution for sincere and toxic contents', size=14)                       #Graph title\n",
    "\n",
    "#Countplot graph\n",
    "sns.countplot(x='target',                                                                     #Data to plot : target    \n",
    "              data=quora_questions,\n",
    "              palette=\"Blues\")                                                                \n",
    "\n",
    "#Write the target percentage on top\n",
    "grouped_values = (quora_questions.target.value_counts() / quora_questions.target.shape[0]) * 100          #Compute Class percentage\n",
    "for label, value in enumerate(grouped_values):\n",
    "    plt.text(label,                                                                           #Class index\n",
    "             value + 6000,                                                                    #Class percentage position\n",
    "             str(round(value,2)) + '%',                                                       #Class percentage to print\n",
    "             ha=\"center\",                                                                     #Center Class percentage label\n",
    "             fontweight='bold',                                                               #Text property\n",
    "             fontsize=12)                                                                     #Text property      \n",
    "\n",
    "#Save the graph with plt.savefig\n",
    "filepath_fig_quora_incinsere_distributions = os.path.join('graph', 'quora-incinsere-questions-target-distributions.jpg')\n",
    "plt.savefig(filepath_fig_quora_incinsere_distributions,                                       #Image path\n",
    "            format='jpg',                                                                     #Image format to save\n",
    "            bbox_inches='tight')                                                              #Keep abscissa legend\n",
    "\n",
    "plt.show()"
   ]
  },
  {
   "cell_type": "markdown",
   "metadata": {},
   "source": [
    "Later, I use **oversampling** or **undersampling** method **to balance my dataset** to build Supervised Machine Learning model."
   ]
  },
  {
   "cell_type": "markdown",
   "metadata": {},
   "source": [
    "<h2> 3. Data Preparation"
   ]
  },
  {
   "cell_type": "markdown",
   "metadata": {},
   "source": [
    "<h3> 3.1 Text Preprocessing"
   ]
  },
  {
   "cell_type": "markdown",
   "metadata": {},
   "source": [
    "To can exploit text, I need to apply **prepocessing tasks** such as **tokenization, lemmatizaton and stemming**. \n",
    "- **Tokenization** is the process of splitting a text into words\n",
    "- **Stemming** keeps only the root of the word (i.e. truncating the word)\n",
    "- **Lemmatization** adds some context to get the relevant root of a word (infinitive...)"
   ]
  },
  {
   "cell_type": "markdown",
   "metadata": {},
   "source": [
    "I use `Natural Language Tools Kit (NLTK)` library, it's one of **the most frequently used libraries for NLP**, especially for doing research."
   ]
  },
  {
   "cell_type": "code",
   "execution_count": 92,
   "metadata": {},
   "outputs": [],
   "source": [
    "def get_wordnet_pos(pos_tag):\n",
    "    '''\n",
    "    This function uses to transform POS-tagging (what type of word) to tags in Lemmatization.\n",
    "    \n",
    "    Parameter\n",
    "    -------------\n",
    "    pos_tag : str\n",
    "        contains POS-tagging of a word  \n",
    "    \n",
    "    Returns\n",
    "    -------------\n",
    "    output : str\n",
    "        contains wordnet (tags read by Lemmatizer)\n",
    "    '''\n",
    "    output = np.asarray(pos_tag)\n",
    "    for i in range(len(pos_tag)):\n",
    "        if pos_tag[i][1].startswith('J'):\n",
    "            output[i][1] = wordnet.ADJ\n",
    "        elif pos_tag[i][1].startswith('V'):\n",
    "            output[i][1] = wordnet.VERB\n",
    "        elif pos_tag[i][1].startswith('R'):\n",
    "            output[i][1] = wordnet.ADV\n",
    "        else:\n",
    "            output[i][1] = wordnet.NOUN\n",
    "            \n",
    "    return output"
   ]
  },
  {
   "cell_type": "markdown",
   "metadata": {},
   "source": [
    "For example, I choose one word and I apply `get_wordnet_pos` function :"
   ]
  },
  {
   "cell_type": "code",
   "execution_count": 24,
   "metadata": {},
   "outputs": [
    {
     "data": {
      "text/plain": [
       "[('I', 'PRP'), ('love', 'VBP'), ('Quora', 'NNP'), ('website', 'NN')]"
      ]
     },
     "execution_count": 24,
     "metadata": {},
     "output_type": "execute_result"
    }
   ],
   "source": [
    "#Print POS tagging of tokens\n",
    "word_tagged = nltk.pos_tag(['I', 'love', 'Quora', 'website'])\n",
    "word_tagged"
   ]
  },
  {
   "cell_type": "code",
   "execution_count": 25,
   "metadata": {},
   "outputs": [
    {
     "data": {
      "text/plain": [
       "array([['I', 'n'],\n",
       "       ['love', 'v'],\n",
       "       ['Quora', 'n'],\n",
       "       ['website', 'n']], dtype='<U7')"
      ]
     },
     "execution_count": 25,
     "metadata": {},
     "output_type": "execute_result"
    }
   ],
   "source": [
    "#Apply get_wordnet_pos function\n",
    "get_wordnet_pos(word_tagged)"
   ]
  },
  {
   "cell_type": "markdown",
   "metadata": {},
   "source": [
    "I define a **preprocessing** function :"
   ]
  },
  {
   "cell_type": "code",
   "execution_count": 93,
   "metadata": {},
   "outputs": [],
   "source": [
    "def preprocessing_sentence(sentence):\n",
    "    '''\n",
    "    This function uses for text preprocessing.\n",
    "    \n",
    "    Parameter\n",
    "    -------------\n",
    "    sentence : str\n",
    "        contains text corpus\n",
    "    \n",
    "    Returns\n",
    "    -------------\n",
    "    lemmatized_sentence : list\n",
    "        contains list of word tokenized after preprocessing\n",
    "    '''\n",
    "    #Tokenize our sentence\n",
    "    tokens = word_tokenize(sentence)\n",
    "    \n",
    "    #Remove punctuation\n",
    "    tokens = [t.lower() for t in tokens if t.isalpha()]\n",
    "    \n",
    "    #Remove stop words : stop words are words that typically add no value to the text\n",
    "    tokens = [t for t in tokens if t not in stopwords.words(\"english\")]\n",
    "    \n",
    "    #Lemmatize tokens\n",
    "    words_tagged = nltk.pos_tag(tokens)\n",
    "    tags = get_wordnet_pos(words_tagged)\n",
    "    lemmatizer = WordNetLemmatizer()\n",
    "    lemmatized_sentence = [lemmatizer.lemmatize(w_t[0], pos=w_t[1]) for w_t in tags]\n",
    "    \n",
    "    return lemmatized_sentence"
   ]
  },
  {
   "cell_type": "markdown",
   "metadata": {},
   "source": [
    "I use `apply` function in pandas to do **preprocessing** on `question_text` column :"
   ]
  },
  {
   "cell_type": "code",
   "execution_count": 94,
   "metadata": {},
   "outputs": [],
   "source": [
    "quora_questions['tokens'] = quora_questions['question_text'].apply(preprocessing_sentence)"
   ]
  },
  {
   "cell_type": "code",
   "execution_count": 95,
   "metadata": {
    "scrolled": true
   },
   "outputs": [
    {
     "data": {
      "text/html": [
       "<div>\n",
       "<style scoped>\n",
       "    .dataframe tbody tr th:only-of-type {\n",
       "        vertical-align: middle;\n",
       "    }\n",
       "\n",
       "    .dataframe tbody tr th {\n",
       "        vertical-align: top;\n",
       "    }\n",
       "\n",
       "    .dataframe thead th {\n",
       "        text-align: right;\n",
       "    }\n",
       "</style>\n",
       "<table border=\"1\" class=\"dataframe\">\n",
       "  <thead>\n",
       "    <tr style=\"text-align: right;\">\n",
       "      <th></th>\n",
       "      <th>qid</th>\n",
       "      <th>question_text</th>\n",
       "      <th>target</th>\n",
       "      <th>tokens</th>\n",
       "    </tr>\n",
       "  </thead>\n",
       "  <tbody>\n",
       "    <tr>\n",
       "      <td>305711</td>\n",
       "      <td>3be0cfa79beb7e5f606b</td>\n",
       "      <td>Who would win, SSB Goku (ToP) vs Base Goku (SD...</td>\n",
       "      <td>0</td>\n",
       "      <td>[would, win, ssb, goku, top, v, base, goku, sd...</td>\n",
       "    </tr>\n",
       "    <tr>\n",
       "      <td>117952</td>\n",
       "      <td>1716ecee485d6cd0a819</td>\n",
       "      <td>Are there any organizational skills classes or...</td>\n",
       "      <td>0</td>\n",
       "      <td>[organizational, skill, class, camp, teen]</td>\n",
       "    </tr>\n",
       "    <tr>\n",
       "      <td>963395</td>\n",
       "      <td>bcc372d77a2e615351b6</td>\n",
       "      <td>If an abuser married a person he/she can’t abu...</td>\n",
       "      <td>0</td>\n",
       "      <td>[abuser, married, person, abuse, still, abuse,...</td>\n",
       "    </tr>\n",
       "    <tr>\n",
       "      <td>152315</td>\n",
       "      <td>1dcc547fdc41b1a554a0</td>\n",
       "      <td>Why didn't they accept me in the Conservatoriu...</td>\n",
       "      <td>0</td>\n",
       "      <td>[accept, conservatorium, send, best, piano, pi...</td>\n",
       "    </tr>\n",
       "    <tr>\n",
       "      <td>359783</td>\n",
       "      <td>4683c11a002d6fba5630</td>\n",
       "      <td>What is the media role in ending drunk driving?</td>\n",
       "      <td>0</td>\n",
       "      <td>[medium, role, end, drunk, driving]</td>\n",
       "    </tr>\n",
       "  </tbody>\n",
       "</table>\n",
       "</div>"
      ],
      "text/plain": [
       "                         qid  \\\n",
       "305711  3be0cfa79beb7e5f606b   \n",
       "117952  1716ecee485d6cd0a819   \n",
       "963395  bcc372d77a2e615351b6   \n",
       "152315  1dcc547fdc41b1a554a0   \n",
       "359783  4683c11a002d6fba5630   \n",
       "\n",
       "                                            question_text  target  \\\n",
       "305711  Who would win, SSB Goku (ToP) vs Base Goku (SD...       0   \n",
       "117952  Are there any organizational skills classes or...       0   \n",
       "963395  If an abuser married a person he/she can’t abu...       0   \n",
       "152315  Why didn't they accept me in the Conservatoriu...       0   \n",
       "359783    What is the media role in ending drunk driving?       0   \n",
       "\n",
       "                                                   tokens  \n",
       "305711  [would, win, ssb, goku, top, v, base, goku, sd...  \n",
       "117952         [organizational, skill, class, camp, teen]  \n",
       "963395  [abuser, married, person, abuse, still, abuse,...  \n",
       "152315  [accept, conservatorium, send, best, piano, pi...  \n",
       "359783                [medium, role, end, drunk, driving]  "
      ]
     },
     "execution_count": 95,
     "metadata": {},
     "output_type": "execute_result"
    }
   ],
   "source": [
    "quora_questions.head()"
   ]
  },
  {
   "cell_type": "code",
   "execution_count": 96,
   "metadata": {},
   "outputs": [],
   "source": [
    "#Define file path :\n",
    "filepath_quora_cleaned = os.path.join('data', 'quora_questions_cleaned.pkl')\n",
    "\n",
    "#Save quora dataset with pickle:\n",
    "quora_questions.to_pickle(filepath_quora_cleaned)"
   ]
  },
  {
   "cell_type": "markdown",
   "metadata": {},
   "source": [
    "<h3> 3.2 Features and labels definitions"
   ]
  },
  {
   "cell_type": "markdown",
   "metadata": {},
   "source": [
    "I define `X` as **text preprocessed** column :"
   ]
  },
  {
   "cell_type": "code",
   "execution_count": 27,
   "metadata": {},
   "outputs": [],
   "source": [
    "X = quora_questions['tokens']"
   ]
  },
  {
   "cell_type": "markdown",
   "metadata": {},
   "source": [
    "Labels are `target`: it takes value 1 in case of incincere questions and 0 otherwise : it represents `y` "
   ]
  },
  {
   "cell_type": "code",
   "execution_count": 28,
   "metadata": {},
   "outputs": [],
   "source": [
    "y = quora_questions['target']"
   ]
  },
  {
   "cell_type": "markdown",
   "metadata": {},
   "source": [
    "Previously, I constated that my dataset is unbalanced: there are more sincere questions than toxic questions."
   ]
  },
  {
   "cell_type": "code",
   "execution_count": 29,
   "metadata": {},
   "outputs": [
    {
     "data": {
      "text/plain": [
       "0    9313\n",
       "1     642\n",
       "Name: target, dtype: int64"
      ]
     },
     "execution_count": 29,
     "metadata": {},
     "output_type": "execute_result"
    }
   ],
   "source": [
    "y.value_counts()"
   ]
  },
  {
   "cell_type": "markdown",
   "metadata": {},
   "source": [
    "I **split** data into **train** and **test** to build model with `train_test_split` method from `Scikit-Learn` :"
   ]
  },
  {
   "cell_type": "code",
   "execution_count": 30,
   "metadata": {},
   "outputs": [],
   "source": [
    "X_train, X_test, y_train, y_test = train_test_split(X, y, \n",
    "                                                    test_size=.2,       #train represents 80% of dataset and test represents 20% of dataset\n",
    "                                                    random_state=0,     #keep the same random split\n",
    "                                                    stratify=y)         #conserve the same distributions for labels"
   ]
  },
  {
   "cell_type": "code",
   "execution_count": 31,
   "metadata": {},
   "outputs": [
    {
     "data": {
      "text/plain": [
       "array([list(['feel', 'god', 'disapproval', 'towards', 'homosexual', 'lifestyle']),\n",
       "       list(['example', 'descriptive', 'detail']),\n",
       "       list(['right', 'want', 'hillary', 'jail', 'yet', 'concern', 'trump', 'equally', 'bad', 'ethical', 'discrepancy']),\n",
       "       ...,\n",
       "       list(['people', 'bear', 'first', 'day', 'astrological', 'sign', 'especially', 'connect', 'horoscope']),\n",
       "       list(['alien', 'workshop']),\n",
       "       list(['would', 'like', 'find', 'move', 'intentional', 'know', 'recommend', 'experience', 'one'])],\n",
       "      dtype=object)"
      ]
     },
     "execution_count": 31,
     "metadata": {},
     "output_type": "execute_result"
    }
   ],
   "source": [
    "X_train.values"
   ]
  },
  {
   "cell_type": "code",
   "execution_count": 32,
   "metadata": {},
   "outputs": [
    {
     "data": {
      "text/plain": [
       "((7964,), (7964,), (1991,), (1991,))"
      ]
     },
     "execution_count": 32,
     "metadata": {},
     "output_type": "execute_result"
    }
   ],
   "source": [
    "X_train.shape, y_train.shape, X_test.shape, y_test.shape"
   ]
  },
  {
   "cell_type": "code",
   "execution_count": 34,
   "metadata": {},
   "outputs": [],
   "source": [
    "#Define file path :\n",
    "filepath_train_test_unbalanced = os.path.join('data', 'quora_questions_train_test_unbalanced.pkl')\n",
    "\n",
    "#Save quora dataset for train and test with pickle:\n",
    "with open(filepath_train_test_unbalanced, 'wb') as f:\n",
    "    pickle.dump((X, y, X_train, X_test, y_train, y_test), f)"
   ]
  },
  {
   "cell_type": "markdown",
   "metadata": {},
   "source": [
    "<h3> 3.2 Undersampling to improve model performance"
   ]
  },
  {
   "cell_type": "code",
   "execution_count": 69,
   "metadata": {},
   "outputs": [],
   "source": [
    "#Define file path :\n",
    "filepath_train_test_unbalanced = os.path.join('data', 'quora_questions_train_test_unbalanced.pkl')\n",
    "\n",
    "#Load quora dataset for train and test:\n",
    "with open(filepath_train_test_unbalanced, 'rb') as f:\n",
    "    X, y, X_train, X_test, y_train, y_test = pickle.load(f)"
   ]
  },
  {
   "cell_type": "code",
   "execution_count": 52,
   "metadata": {},
   "outputs": [
    {
     "data": {
      "text/plain": [
       "((7964,), (7964,), (1991,), (1991,))"
      ]
     },
     "execution_count": 52,
     "metadata": {},
     "output_type": "execute_result"
    }
   ],
   "source": [
    "X_train.shape, y_train.shape, X_test.shape, y_test.shape"
   ]
  },
  {
   "cell_type": "markdown",
   "metadata": {},
   "source": [
    "The dataset is highly unbalanced. I use **undersampling method** to **reduce the sincere questions part** and balance `target`: "
   ]
  },
  {
   "cell_type": "code",
   "execution_count": 14,
   "metadata": {},
   "outputs": [],
   "source": [
    "#Instanciate undersampler\n",
    "undersampler = RandomUnderSampler(random_state=0)\n",
    "\n",
    "#Instanciate oversampler\n",
    "oversampler = RandomOverSampler(random_state=0)\n",
    "X_train_undersampled, y_train_undersampled = undersampler.fit_resample(np.array(X_train).reshape(-1, 1),      #I reshape X_train to have this form to use RandomUnderSampler : (rows, 1)\n",
    "                                                                       y_train)"
   ]
  },
  {
   "cell_type": "code",
   "execution_count": 36,
   "metadata": {},
   "outputs": [
    {
     "data": {
      "text/plain": [
       "((1028, 1), (1028,))"
      ]
     },
     "execution_count": 36,
     "metadata": {},
     "output_type": "execute_result"
    }
   ],
   "source": [
    "X_train_undersampled.shape, y_train_undersampled.shape"
   ]
  },
  {
   "cell_type": "code",
   "execution_count": 34,
   "metadata": {
    "scrolled": false
   },
   "outputs": [
    {
     "data": {
      "text/plain": [
       "514"
      ]
     },
     "execution_count": 34,
     "metadata": {},
     "output_type": "execute_result"
    }
   ],
   "source": [
    "#Count toxic questions\n",
    "np.count_nonzero(y_train_undersampled == 1)"
   ]
  },
  {
   "cell_type": "code",
   "execution_count": 35,
   "metadata": {},
   "outputs": [
    {
     "data": {
      "text/plain": [
       "514"
      ]
     },
     "execution_count": 35,
     "metadata": {},
     "output_type": "execute_result"
    }
   ],
   "source": [
    "#Count sincere questions\n",
    "np.count_nonzero(y_train_undersampled == 0)"
   ]
  },
  {
   "cell_type": "code",
   "execution_count": 25,
   "metadata": {},
   "outputs": [],
   "source": [
    "#Transform array into dataframe\n",
    "y_train_undersampled_df = pd.DataFrame(y_train_undersampled, columns=['target'])"
   ]
  },
  {
   "cell_type": "code",
   "execution_count": 50,
   "metadata": {},
   "outputs": [
    {
     "data": {
      "image/png": "[encoded data removed]",
      "text/plain": [
       "<Figure size 576x432 with 1 Axes>"
      ]
     },
     "metadata": {
      "needs_background": "light"
     },
     "output_type": "display_data"
    }
   ],
   "source": [
    "plt.figure(figsize=(8, 6))\n",
    "\n",
    "#Plot the Target distributions for sincere and toxic contents after Undersampling\n",
    "plt.title('Target distribution for sincere and toxic contents after Undersampling', size=14, pad=10)   \n",
    "\n",
    "#Countplot graph\n",
    "sns.countplot(x='target',                                                                     #Data to plot : target    \n",
    "              data=y_train_undersampled_df,\n",
    "              palette=\"Blues\")                                                                \n",
    "\n",
    "#Write the target percentage on top\n",
    "grouped_values = (y_train_undersampled_df.target.value_counts() / y_train_undersampled_df.target.shape[0]) * 100          #Compute Class percentage\n",
    "for label, value in enumerate(grouped_values):\n",
    "    plt.text(label,                                                                           #Class index\n",
    "             value + 400,                                                                     #Class percentage position\n",
    "             str(round(value,2)) + '%',                                                       #Class percentage to print\n",
    "             ha=\"center\",                                                                     #Center Class percentage label\n",
    "             fontweight='bold',                                                               #Text property\n",
    "             fontsize=12)                                                                     #Text property      \n",
    "\n",
    "#Save the graph with plt.savefig\n",
    "filepath_fig_quora_incinsere_distributions_undersampled = os.path.join('graph', 'quora-incinsere-questions-target-distributions-undersampled.jpg')\n",
    "plt.savefig(filepath_fig_quora_incinsere_distributions_undersampled,                          #Image path\n",
    "            format='jpg',                                                                     #Image format to save\n",
    "            bbox_inches='tight')                                                              #Keep abscissa legend\n",
    "\n",
    "plt.show()"
   ]
  },
  {
   "cell_type": "code",
   "execution_count": 47,
   "metadata": {},
   "outputs": [],
   "source": [
    "#Define file path :\n",
    "filepath_train_test_undersampled = os.path.join('data', 'quora_questions_train_test_undersampled.pkl')\n",
    "\n",
    "#Save data after undersampling:\n",
    "with open(filepath_train_test_undersampled, 'wb') as f:\n",
    "    pickle.dump((X_train_undersampled, y_train_undersampled, y_train_undersampled_df), f)"
   ]
  },
  {
   "cell_type": "code",
   "execution_count": 70,
   "metadata": {},
   "outputs": [],
   "source": [
    "#Define file path :\n",
    "filepath_train_test_undersampled = os.path.join('data', 'quora_questions_train_test_undersampled.pkl')\n",
    "\n",
    "#Load data undersampled:\n",
    "with open(filepath_train_test_undersampled, 'rb') as f:\n",
    "    _, y_train_undersampled, _ = pickle.load(f)"
   ]
  },
  {
   "cell_type": "markdown",
   "metadata": {},
   "source": [
    "<h3> 3.3 Oversampling to improve model performance"
   ]
  },
  {
   "cell_type": "markdown",
   "metadata": {},
   "source": [
    "The dataset is highly unbalanced. I use **oversampling method** to **increase the sincere questions part** and balance `target`: "
   ]
  },
  {
   "cell_type": "code",
   "execution_count": 39,
   "metadata": {},
   "outputs": [],
   "source": [
    "#Instanciate oversampler\n",
    "oversampler = RandomOverSampler(random_state=0)\n",
    "\n",
    "#Balance train data\n",
    "X_train_oversampled, y_train_oversampled = oversampler.fit_resample(np.array(X_train).reshape(-1, 1),      #I reshape X_train to have this form to use RandomUnderSampler : (rows, 1)\n",
    "                                                                    y_train)"
   ]
  },
  {
   "cell_type": "code",
   "execution_count": 40,
   "metadata": {},
   "outputs": [
    {
     "data": {
      "text/plain": [
       "((14900, 1), (14900,))"
      ]
     },
     "execution_count": 40,
     "metadata": {},
     "output_type": "execute_result"
    }
   ],
   "source": [
    "X_train_oversampled.shape, y_train_oversampled.shape"
   ]
  },
  {
   "cell_type": "code",
   "execution_count": 41,
   "metadata": {},
   "outputs": [],
   "source": [
    "#Transform array into dataframe\n",
    "y_train_oversampled_df = pd.DataFrame(y_train_oversampled, columns=['target'])"
   ]
  },
  {
   "cell_type": "code",
   "execution_count": 49,
   "metadata": {},
   "outputs": [
    {
     "data": {
      "image/png": "[encoded data removed]",
      "text/plain": [
       "<Figure size 576x432 with 1 Axes>"
      ]
     },
     "metadata": {
      "needs_background": "light"
     },
     "output_type": "display_data"
    }
   ],
   "source": [
    "plt.figure(figsize=(8, 6))\n",
    "\n",
    "#Plot the Target distributions for sincere and toxic contents after Oversampling\n",
    "plt.title('Target distribution for sincere and toxic contents after Oversampling', size=14, pad=10)   \n",
    "\n",
    "#Countplot graph\n",
    "sns.countplot(x='target',                                                                     #Data to plot : target    \n",
    "              data=y_train_oversampled_df,\n",
    "              palette=\"Blues\")                                                                \n",
    "\n",
    "#Write the target percentage on top\n",
    "grouped_values = (y_train_oversampled_df.target.value_counts() / y_train_oversampled_df.target.shape[0]) * 100          #Compute Class percentage\n",
    "for label, value in enumerate(grouped_values):\n",
    "    plt.text(label,                                                                           #Class index\n",
    "             value + 6000,                                                                    #Class percentage position\n",
    "             str(round(value,2)) + '%',                                                       #Class percentage to print\n",
    "             ha=\"center\",                                                                     #Center Class percentage label\n",
    "             fontweight='bold',                                                               #Text property\n",
    "             fontsize=12)                                                                     #Text property      \n",
    "\n",
    "#Save the graph with plt.savefig\n",
    "filepath_fig_quora_incinsere_distributions_oversampled = os.path.join('graph', 'quora-incinsere-questions-target-distributions-oversampled.jpg')\n",
    "plt.savefig(filepath_fig_quora_incinsere_distributions_oversampled,                          #Image path\n",
    "            format='jpg',                                                                     #Image format to save\n",
    "            bbox_inches='tight')                                                              #Keep abscissa legend\n",
    "\n",
    "plt.show()"
   ]
  },
  {
   "cell_type": "code",
   "execution_count": 48,
   "metadata": {},
   "outputs": [],
   "source": [
    "#Define file path :\n",
    "filepath_train_test_oversampled = os.path.join('data', 'quora_questions_train_test_oversampled.pkl')\n",
    "\n",
    "#Save data after oversampling:\n",
    "with open(filepath_train_test_oversampled, 'wb') as f:\n",
    "    pickle.dump((X_train_oversampled, y_train_oversampled, y_train_oversampled_df), f)"
   ]
  },
  {
   "cell_type": "code",
   "execution_count": 71,
   "metadata": {},
   "outputs": [],
   "source": [
    "#Define file path :\n",
    "filepath_train_test_oversampled = os.path.join('data', 'quora_questions_train_test_oversampled.pkl')\n",
    "\n",
    "#Load data oversampled:\n",
    "with open(filepath_train_test_oversampled, 'rb') as f:\n",
    "    _, y_train_oversampled, _ = pickle.load(f)"
   ]
  },
  {
   "cell_type": "markdown",
   "metadata": {},
   "source": [
    "<h3> 3.4 Term Frequency - Inverse Document Frequency (TF-IDF)"
   ]
  },
  {
   "cell_type": "markdown",
   "metadata": {},
   "source": [
    "Words couldn't be use with this form, I transform them into vector using **Term Frequency - Inverse Document Frequency (TF-IDF)** : it's a numerical statistic that is intended to reflect **how important a word is to a document in a collection or corpus.**"
   ]
  },
  {
   "cell_type": "code",
   "execution_count": 52,
   "metadata": {},
   "outputs": [],
   "source": [
    "#Instanciate vector\n",
    "vectorizer_undersampled = TfidfVectorizer(analyzer=lambda x: x)    #analyzer='word' (default) but I already do text preprocessing\n",
    "vectorizer_oversampled = TfidfVectorizer(analyzer=lambda x: x)     #analyzer='word' (default) but I already do text preprocessing"
   ]
  },
  {
   "cell_type": "code",
   "execution_count": 53,
   "metadata": {},
   "outputs": [],
   "source": [
    "#Compute TF-IDF for undersampling\n",
    "X_train_undersampled = vectorizer_undersampled.fit_transform(X_train_undersampled.ravel()).toarray()  #ravel() : flatten array, toarray() : transform vector into array\n",
    "X_test_undersampled = vectorizer_undersampled.transform(X_test).toarray()\n",
    "\n",
    "#Compute TF-IDF for oversampling\n",
    "X_train_oversampled = vectorizer_oversampled.fit_transform(X_train_oversampled.ravel()).toarray()     #ravel() : flatten array, toarray() : transform vector into array\n",
    "X_test_oversampled = vectorizer_oversampled.transform(X_test).toarray()"
   ]
  },
  {
   "cell_type": "code",
   "execution_count": 62,
   "metadata": {},
   "outputs": [
    {
     "data": {
      "text/plain": [
       "((1028, 3138), (1991, 3138), (14900, 10364), (1991, 10364))"
      ]
     },
     "execution_count": 62,
     "metadata": {},
     "output_type": "execute_result"
    }
   ],
   "source": [
    "X_train_undersampled.shape, X_test_undersampled.shape, X_train_oversampled.shape, X_test_oversampled.shape"
   ]
  },
  {
   "cell_type": "code",
   "execution_count": 64,
   "metadata": {},
   "outputs": [
    {
     "data": {
      "text/html": [
       "<div>\n",
       "<style scoped>\n",
       "    .dataframe tbody tr th:only-of-type {\n",
       "        vertical-align: middle;\n",
       "    }\n",
       "\n",
       "    .dataframe tbody tr th {\n",
       "        vertical-align: top;\n",
       "    }\n",
       "\n",
       "    .dataframe thead th {\n",
       "        text-align: right;\n",
       "    }\n",
       "</style>\n",
       "<table border=\"1\" class=\"dataframe\">\n",
       "  <thead>\n",
       "    <tr style=\"text-align: right;\">\n",
       "      <th></th>\n",
       "      <th>abandon</th>\n",
       "      <th>abhay</th>\n",
       "      <th>ability</th>\n",
       "      <th>able</th>\n",
       "      <th>aboriginal</th>\n",
       "      <th>abort</th>\n",
       "      <th>abortion</th>\n",
       "      <th>absolutely</th>\n",
       "      <th>absolutes</th>\n",
       "      <th>abuse</th>\n",
       "      <th>...</th>\n",
       "      <th>youth</th>\n",
       "      <th>youtube</th>\n",
       "      <th>yugoslav</th>\n",
       "      <th>zardari</th>\n",
       "      <th>zealand</th>\n",
       "      <th>zedong</th>\n",
       "      <th>zero</th>\n",
       "      <th>zip</th>\n",
       "      <th>zone</th>\n",
       "      <th>zuckerberg</th>\n",
       "    </tr>\n",
       "  </thead>\n",
       "  <tbody>\n",
       "    <tr>\n",
       "      <td>0</td>\n",
       "      <td>0.0</td>\n",
       "      <td>0.0</td>\n",
       "      <td>0.0</td>\n",
       "      <td>0.0</td>\n",
       "      <td>0.0</td>\n",
       "      <td>0.0</td>\n",
       "      <td>0.0</td>\n",
       "      <td>0.0</td>\n",
       "      <td>0.0</td>\n",
       "      <td>0.0</td>\n",
       "      <td>...</td>\n",
       "      <td>0.0</td>\n",
       "      <td>0.0</td>\n",
       "      <td>0.0</td>\n",
       "      <td>0.0</td>\n",
       "      <td>0.0</td>\n",
       "      <td>0.0</td>\n",
       "      <td>0.0</td>\n",
       "      <td>0.0</td>\n",
       "      <td>0.0</td>\n",
       "      <td>0.0</td>\n",
       "    </tr>\n",
       "    <tr>\n",
       "      <td>1</td>\n",
       "      <td>0.0</td>\n",
       "      <td>0.0</td>\n",
       "      <td>0.0</td>\n",
       "      <td>0.0</td>\n",
       "      <td>0.0</td>\n",
       "      <td>0.0</td>\n",
       "      <td>0.0</td>\n",
       "      <td>0.0</td>\n",
       "      <td>0.0</td>\n",
       "      <td>0.0</td>\n",
       "      <td>...</td>\n",
       "      <td>0.0</td>\n",
       "      <td>0.0</td>\n",
       "      <td>0.0</td>\n",
       "      <td>0.0</td>\n",
       "      <td>0.0</td>\n",
       "      <td>0.0</td>\n",
       "      <td>0.0</td>\n",
       "      <td>0.0</td>\n",
       "      <td>0.0</td>\n",
       "      <td>0.0</td>\n",
       "    </tr>\n",
       "    <tr>\n",
       "      <td>2</td>\n",
       "      <td>0.0</td>\n",
       "      <td>0.0</td>\n",
       "      <td>0.0</td>\n",
       "      <td>0.0</td>\n",
       "      <td>0.0</td>\n",
       "      <td>0.0</td>\n",
       "      <td>0.0</td>\n",
       "      <td>0.0</td>\n",
       "      <td>0.0</td>\n",
       "      <td>0.0</td>\n",
       "      <td>...</td>\n",
       "      <td>0.0</td>\n",
       "      <td>0.0</td>\n",
       "      <td>0.0</td>\n",
       "      <td>0.0</td>\n",
       "      <td>0.0</td>\n",
       "      <td>0.0</td>\n",
       "      <td>0.0</td>\n",
       "      <td>0.0</td>\n",
       "      <td>0.0</td>\n",
       "      <td>0.0</td>\n",
       "    </tr>\n",
       "    <tr>\n",
       "      <td>3</td>\n",
       "      <td>0.0</td>\n",
       "      <td>0.0</td>\n",
       "      <td>0.0</td>\n",
       "      <td>0.0</td>\n",
       "      <td>0.0</td>\n",
       "      <td>0.0</td>\n",
       "      <td>0.0</td>\n",
       "      <td>0.0</td>\n",
       "      <td>0.0</td>\n",
       "      <td>0.0</td>\n",
       "      <td>...</td>\n",
       "      <td>0.0</td>\n",
       "      <td>0.0</td>\n",
       "      <td>0.0</td>\n",
       "      <td>0.0</td>\n",
       "      <td>0.0</td>\n",
       "      <td>0.0</td>\n",
       "      <td>0.0</td>\n",
       "      <td>0.0</td>\n",
       "      <td>0.0</td>\n",
       "      <td>0.0</td>\n",
       "    </tr>\n",
       "    <tr>\n",
       "      <td>4</td>\n",
       "      <td>0.0</td>\n",
       "      <td>0.0</td>\n",
       "      <td>0.0</td>\n",
       "      <td>0.0</td>\n",
       "      <td>0.0</td>\n",
       "      <td>0.0</td>\n",
       "      <td>0.0</td>\n",
       "      <td>0.0</td>\n",
       "      <td>0.0</td>\n",
       "      <td>0.0</td>\n",
       "      <td>...</td>\n",
       "      <td>0.0</td>\n",
       "      <td>0.0</td>\n",
       "      <td>0.0</td>\n",
       "      <td>0.0</td>\n",
       "      <td>0.0</td>\n",
       "      <td>0.0</td>\n",
       "      <td>0.0</td>\n",
       "      <td>0.0</td>\n",
       "      <td>0.0</td>\n",
       "      <td>0.0</td>\n",
       "    </tr>\n",
       "  </tbody>\n",
       "</table>\n",
       "<p>5 rows × 3138 columns</p>\n",
       "</div>"
      ],
      "text/plain": [
       "   abandon  abhay  ability  able  aboriginal  abort  abortion  absolutely  \\\n",
       "0      0.0    0.0      0.0   0.0         0.0    0.0       0.0         0.0   \n",
       "1      0.0    0.0      0.0   0.0         0.0    0.0       0.0         0.0   \n",
       "2      0.0    0.0      0.0   0.0         0.0    0.0       0.0         0.0   \n",
       "3      0.0    0.0      0.0   0.0         0.0    0.0       0.0         0.0   \n",
       "4      0.0    0.0      0.0   0.0         0.0    0.0       0.0         0.0   \n",
       "\n",
       "   absolutes  abuse  ...  youth  youtube  yugoslav  zardari  zealand  zedong  \\\n",
       "0        0.0    0.0  ...    0.0      0.0       0.0      0.0      0.0     0.0   \n",
       "1        0.0    0.0  ...    0.0      0.0       0.0      0.0      0.0     0.0   \n",
       "2        0.0    0.0  ...    0.0      0.0       0.0      0.0      0.0     0.0   \n",
       "3        0.0    0.0  ...    0.0      0.0       0.0      0.0      0.0     0.0   \n",
       "4        0.0    0.0  ...    0.0      0.0       0.0      0.0      0.0     0.0   \n",
       "\n",
       "   zero  zip  zone  zuckerberg  \n",
       "0   0.0  0.0   0.0         0.0  \n",
       "1   0.0  0.0   0.0         0.0  \n",
       "2   0.0  0.0   0.0         0.0  \n",
       "3   0.0  0.0   0.0         0.0  \n",
       "4   0.0  0.0   0.0         0.0  \n",
       "\n",
       "[5 rows x 3138 columns]"
      ]
     },
     "execution_count": 64,
     "metadata": {},
     "output_type": "execute_result"
    }
   ],
   "source": [
    "#Transform array into dataframe for undersampling\n",
    "X_train_undersampled_df = pd.DataFrame(data= X_train_undersampled, columns=vectorizer_undersampled.get_feature_names())\n",
    "\n",
    "#Show the first five rows of data\n",
    "X_train_undersampled_df.head()"
   ]
  },
  {
   "cell_type": "code",
   "execution_count": 65,
   "metadata": {},
   "outputs": [
    {
     "data": {
      "text/html": [
       "<div>\n",
       "<style scoped>\n",
       "    .dataframe tbody tr th:only-of-type {\n",
       "        vertical-align: middle;\n",
       "    }\n",
       "\n",
       "    .dataframe tbody tr th {\n",
       "        vertical-align: top;\n",
       "    }\n",
       "\n",
       "    .dataframe thead th {\n",
       "        text-align: right;\n",
       "    }\n",
       "</style>\n",
       "<table border=\"1\" class=\"dataframe\">\n",
       "  <thead>\n",
       "    <tr style=\"text-align: right;\">\n",
       "      <th></th>\n",
       "      <th>aaa</th>\n",
       "      <th>aadhaar</th>\n",
       "      <th>aadhar</th>\n",
       "      <th>aakash</th>\n",
       "      <th>aamir</th>\n",
       "      <th>aap</th>\n",
       "      <th>aaqib</th>\n",
       "      <th>aaron</th>\n",
       "      <th>ab</th>\n",
       "      <th>abandon</th>\n",
       "      <th>...</th>\n",
       "      <th>zoom</th>\n",
       "      <th>zuckerberg</th>\n",
       "      <th>π</th>\n",
       "      <th>гречку</th>\n",
       "      <th>юродивый</th>\n",
       "      <th>юродство</th>\n",
       "      <th>בפנים</th>\n",
       "      <th>בתוך</th>\n",
       "      <th>شغف</th>\n",
       "      <th>ओठ</th>\n",
       "    </tr>\n",
       "  </thead>\n",
       "  <tbody>\n",
       "    <tr>\n",
       "      <td>0</td>\n",
       "      <td>0.0</td>\n",
       "      <td>0.0</td>\n",
       "      <td>0.0</td>\n",
       "      <td>0.0</td>\n",
       "      <td>0.0</td>\n",
       "      <td>0.0</td>\n",
       "      <td>0.0</td>\n",
       "      <td>0.0</td>\n",
       "      <td>0.0</td>\n",
       "      <td>0.0</td>\n",
       "      <td>...</td>\n",
       "      <td>0.0</td>\n",
       "      <td>0.0</td>\n",
       "      <td>0.0</td>\n",
       "      <td>0.0</td>\n",
       "      <td>0.0</td>\n",
       "      <td>0.0</td>\n",
       "      <td>0.0</td>\n",
       "      <td>0.0</td>\n",
       "      <td>0.0</td>\n",
       "      <td>0.0</td>\n",
       "    </tr>\n",
       "    <tr>\n",
       "      <td>1</td>\n",
       "      <td>0.0</td>\n",
       "      <td>0.0</td>\n",
       "      <td>0.0</td>\n",
       "      <td>0.0</td>\n",
       "      <td>0.0</td>\n",
       "      <td>0.0</td>\n",
       "      <td>0.0</td>\n",
       "      <td>0.0</td>\n",
       "      <td>0.0</td>\n",
       "      <td>0.0</td>\n",
       "      <td>...</td>\n",
       "      <td>0.0</td>\n",
       "      <td>0.0</td>\n",
       "      <td>0.0</td>\n",
       "      <td>0.0</td>\n",
       "      <td>0.0</td>\n",
       "      <td>0.0</td>\n",
       "      <td>0.0</td>\n",
       "      <td>0.0</td>\n",
       "      <td>0.0</td>\n",
       "      <td>0.0</td>\n",
       "    </tr>\n",
       "    <tr>\n",
       "      <td>2</td>\n",
       "      <td>0.0</td>\n",
       "      <td>0.0</td>\n",
       "      <td>0.0</td>\n",
       "      <td>0.0</td>\n",
       "      <td>0.0</td>\n",
       "      <td>0.0</td>\n",
       "      <td>0.0</td>\n",
       "      <td>0.0</td>\n",
       "      <td>0.0</td>\n",
       "      <td>0.0</td>\n",
       "      <td>...</td>\n",
       "      <td>0.0</td>\n",
       "      <td>0.0</td>\n",
       "      <td>0.0</td>\n",
       "      <td>0.0</td>\n",
       "      <td>0.0</td>\n",
       "      <td>0.0</td>\n",
       "      <td>0.0</td>\n",
       "      <td>0.0</td>\n",
       "      <td>0.0</td>\n",
       "      <td>0.0</td>\n",
       "    </tr>\n",
       "    <tr>\n",
       "      <td>3</td>\n",
       "      <td>0.0</td>\n",
       "      <td>0.0</td>\n",
       "      <td>0.0</td>\n",
       "      <td>0.0</td>\n",
       "      <td>0.0</td>\n",
       "      <td>0.0</td>\n",
       "      <td>0.0</td>\n",
       "      <td>0.0</td>\n",
       "      <td>0.0</td>\n",
       "      <td>0.0</td>\n",
       "      <td>...</td>\n",
       "      <td>0.0</td>\n",
       "      <td>0.0</td>\n",
       "      <td>0.0</td>\n",
       "      <td>0.0</td>\n",
       "      <td>0.0</td>\n",
       "      <td>0.0</td>\n",
       "      <td>0.0</td>\n",
       "      <td>0.0</td>\n",
       "      <td>0.0</td>\n",
       "      <td>0.0</td>\n",
       "    </tr>\n",
       "    <tr>\n",
       "      <td>4</td>\n",
       "      <td>0.0</td>\n",
       "      <td>0.0</td>\n",
       "      <td>0.0</td>\n",
       "      <td>0.0</td>\n",
       "      <td>0.0</td>\n",
       "      <td>0.0</td>\n",
       "      <td>0.0</td>\n",
       "      <td>0.0</td>\n",
       "      <td>0.0</td>\n",
       "      <td>0.0</td>\n",
       "      <td>...</td>\n",
       "      <td>0.0</td>\n",
       "      <td>0.0</td>\n",
       "      <td>0.0</td>\n",
       "      <td>0.0</td>\n",
       "      <td>0.0</td>\n",
       "      <td>0.0</td>\n",
       "      <td>0.0</td>\n",
       "      <td>0.0</td>\n",
       "      <td>0.0</td>\n",
       "      <td>0.0</td>\n",
       "    </tr>\n",
       "  </tbody>\n",
       "</table>\n",
       "<p>5 rows × 10364 columns</p>\n",
       "</div>"
      ],
      "text/plain": [
       "   aaa  aadhaar  aadhar  aakash  aamir  aap  aaqib  aaron   ab  abandon  ...  \\\n",
       "0  0.0      0.0     0.0     0.0    0.0  0.0    0.0    0.0  0.0      0.0  ...   \n",
       "1  0.0      0.0     0.0     0.0    0.0  0.0    0.0    0.0  0.0      0.0  ...   \n",
       "2  0.0      0.0     0.0     0.0    0.0  0.0    0.0    0.0  0.0      0.0  ...   \n",
       "3  0.0      0.0     0.0     0.0    0.0  0.0    0.0    0.0  0.0      0.0  ...   \n",
       "4  0.0      0.0     0.0     0.0    0.0  0.0    0.0    0.0  0.0      0.0  ...   \n",
       "\n",
       "   zoom  zuckerberg    π  гречку  юродивый  юродство  בפנים  בתוך  شغف   ओठ  \n",
       "0   0.0         0.0  0.0     0.0       0.0       0.0    0.0   0.0  0.0  0.0  \n",
       "1   0.0         0.0  0.0     0.0       0.0       0.0    0.0   0.0  0.0  0.0  \n",
       "2   0.0         0.0  0.0     0.0       0.0       0.0    0.0   0.0  0.0  0.0  \n",
       "3   0.0         0.0  0.0     0.0       0.0       0.0    0.0   0.0  0.0  0.0  \n",
       "4   0.0         0.0  0.0     0.0       0.0       0.0    0.0   0.0  0.0  0.0  \n",
       "\n",
       "[5 rows x 10364 columns]"
      ]
     },
     "execution_count": 65,
     "metadata": {},
     "output_type": "execute_result"
    }
   ],
   "source": [
    "#Transform array into dataframe for undersampling\n",
    "X_train_oversampled_df = pd.DataFrame(data= X_train_oversampled, columns=vectorizer_oversampled.get_feature_names())\n",
    "\n",
    "#Show the first five rows of data\n",
    "X_train_oversampled_df.head()"
   ]
  },
  {
   "cell_type": "markdown",
   "metadata": {},
   "source": [
    "<h4> Data save"
   ]
  },
  {
   "cell_type": "code",
   "execution_count": 66,
   "metadata": {},
   "outputs": [],
   "source": [
    "#Define file path :\n",
    "filepath_train_test_under_tfidf = os.path.join('data', 'quora_questions_train_test_under_tfidf.pkl')\n",
    "\n",
    "#Save dataset after undersampling and tfidf:\n",
    "with open(filepath_train_test_under_tfidf, 'wb') as f:\n",
    "    pickle.dump((X_train_undersampled, X_test_undersampled, X_train_undersampled_df), f)"
   ]
  },
  {
   "cell_type": "code",
   "execution_count": 68,
   "metadata": {},
   "outputs": [],
   "source": [
    "#Define file path :\n",
    "filepath_train_test_over_tfidf = os.path.join('data', 'quora_questions_train_test_over_tfidf.pkl')\n",
    "\n",
    "#Save dataset after oversampling and tfidf:\n",
    "with open(filepath_train_test_over_tfidf, 'wb') as f:\n",
    "    pickle.dump((X_train_oversampled, X_test_oversampled), f)"
   ]
  },
  {
   "cell_type": "markdown",
   "metadata": {},
   "source": [
    "<h2> 4. Modeling : Using Supervised Machine Learning Model 💻"
   ]
  },
  {
   "cell_type": "markdown",
   "metadata": {},
   "source": [
    "Logistic Regression and Random Forest are model (from `scikit-learn`) I used to predict incinsere questions."
   ]
  },
  {
   "cell_type": "markdown",
   "metadata": {},
   "source": [
    "<h3> 4.1 Logistic Regression"
   ]
  },
  {
   "cell_type": "markdown",
   "metadata": {},
   "source": [
    "<h4> 4.1.1 Data undersampled "
   ]
  },
  {
   "cell_type": "code",
   "execution_count": 5,
   "metadata": {},
   "outputs": [],
   "source": [
    "#Define file path :\n",
    "filepath_train_test_under_tfidf = os.path.join('data', 'quora_questions_train_test_under_tfidf.pkl')\n",
    "\n",
    "#Save dataset after undersampling and tfidf:\n",
    "with open(filepath_train_test_under_tfidf, 'rb') as f:\n",
    "    X_train_undersampled, X_test_undersampled, _ = pickle.load(f)"
   ]
  },
  {
   "cell_type": "code",
   "execution_count": 9,
   "metadata": {},
   "outputs": [],
   "source": [
    "#Instanciate model\n",
    "lr_undersampled = LogisticRegression()\n",
    "\n",
    "#Model fitting\n",
    "lr_undersampled.fit(X_train_undersampled, y_train_undersampled)\n",
    "\n",
    "#Model predictions\n",
    "y_pred_lr_undersampled = lr_undersampled.predict(X_test_undersampled)"
   ]
  },
  {
   "cell_type": "code",
   "execution_count": 12,
   "metadata": {},
   "outputs": [
    {
     "data": {
      "text/plain": [
       "33.597464342313785"
      ]
     },
     "execution_count": 12,
     "metadata": {},
     "output_type": "execute_result"
    }
   ],
   "source": [
    "#Compute f1 score\n",
    "f1_score_lr_under = f1_score(y_test, y_pred_lr_undersampled) * 100\n",
    "f1_score_lr_under"
   ]
  },
  {
   "cell_type": "markdown",
   "metadata": {},
   "source": [
    "**Result** : this model is not adapted for detect toxic content because `F1 score = 33.60 %` but `Recall = 83%`."
   ]
  },
  {
   "cell_type": "code",
   "execution_count": 14,
   "metadata": {},
   "outputs": [
    {
     "name": "stdout",
     "output_type": "stream",
     "text": [
      "              precision    recall  f1-score   support\n",
      "\n",
      "           0       0.99      0.79      0.87      1863\n",
      "           1       0.21      0.83      0.34       128\n",
      "\n",
      "    accuracy                           0.79      1991\n",
      "   macro avg       0.60      0.81      0.61      1991\n",
      "weighted avg       0.94      0.79      0.84      1991\n",
      "\n"
     ]
    }
   ],
   "source": [
    "#Compute score\n",
    "print(classification_report(y_test, y_pred_lr_undersampled))"
   ]
  },
  {
   "cell_type": "code",
   "execution_count": 15,
   "metadata": {},
   "outputs": [],
   "source": [
    "#Define file path :\n",
    "filepath_lr_under = os.path.join('data', 'quora_questions_lr_under.pkl')\n",
    "\n",
    "#Save data after undersampling and tfidf:\n",
    "with open(filepath_lr_under, 'wb') as f:\n",
    "    pickle.dump((y_pred_lr_undersampled, f1_score_lr_under), f)"
   ]
  },
  {
   "cell_type": "markdown",
   "metadata": {},
   "source": [
    "<h4> 4.1.2 Data oversampled "
   ]
  },
  {
   "cell_type": "code",
   "execution_count": 6,
   "metadata": {},
   "outputs": [],
   "source": [
    "#Define file path :\n",
    "filepath_train_test_over_tfidf = os.path.join('data', 'quora_questions_train_test_over_tfidf.pkl')\n",
    "\n",
    "#Save dataset after oversampling and tfidf:\n",
    "with open(filepath_train_test_over_tfidf, 'rb') as f:\n",
    "    X_train_oversampled, X_test_oversampled = pickle.load(f)"
   ]
  },
  {
   "cell_type": "code",
   "execution_count": 16,
   "metadata": {},
   "outputs": [],
   "source": [
    "#Instanciate model\n",
    "lr_oversampled = LogisticRegression()\n",
    "\n",
    "#Model fitting\n",
    "lr_oversampled.fit(X_train_oversampled, y_train_oversampled)\n",
    "\n",
    "#Model predictions\n",
    "y_pred_lr_oversampled = lr_oversampled.predict(X_test_oversampled)"
   ]
  },
  {
   "cell_type": "code",
   "execution_count": 17,
   "metadata": {},
   "outputs": [
    {
     "data": {
      "text/plain": [
       "40.35087719298245"
      ]
     },
     "execution_count": 17,
     "metadata": {},
     "output_type": "execute_result"
    }
   ],
   "source": [
    "#Compute f1 score\n",
    "f1_score_lr_over = f1_score(y_test, y_pred_lr_oversampled) * 100\n",
    "f1_score_lr_over"
   ]
  },
  {
   "cell_type": "markdown",
   "metadata": {},
   "source": [
    "**Result** : this model is not adapted for detect toxic content because `F1 score = 40.35 %`."
   ]
  },
  {
   "cell_type": "code",
   "execution_count": 18,
   "metadata": {},
   "outputs": [
    {
     "name": "stdout",
     "output_type": "stream",
     "text": [
      "              precision    recall  f1-score   support\n",
      "\n",
      "           0       0.97      0.92      0.94      1863\n",
      "           1       0.32      0.54      0.40       128\n",
      "\n",
      "    accuracy                           0.90      1991\n",
      "   macro avg       0.64      0.73      0.67      1991\n",
      "weighted avg       0.93      0.90      0.91      1991\n",
      "\n"
     ]
    }
   ],
   "source": [
    "#Compute score\n",
    "print(classification_report(y_test, y_pred_lr_oversampled))"
   ]
  },
  {
   "cell_type": "code",
   "execution_count": 19,
   "metadata": {},
   "outputs": [],
   "source": [
    "#Define file path :\n",
    "filepath_lr_over = os.path.join('data', 'quora_questions_lr_over.pkl')\n",
    "\n",
    "#Save data after undersampling and tfidf:\n",
    "with open(filepath_lr_over, 'wb') as f:\n",
    "    pickle.dump((y_pred_lr_oversampled, f1_score_lr_over), f)"
   ]
  },
  {
   "cell_type": "markdown",
   "metadata": {},
   "source": [
    "<h3> 4.2 Random Forest"
   ]
  },
  {
   "cell_type": "markdown",
   "metadata": {},
   "source": [
    "<h4> 4.2.1 Data undersampled "
   ]
  },
  {
   "cell_type": "code",
   "execution_count": 69,
   "metadata": {},
   "outputs": [],
   "source": [
    "#Instanciate model\n",
    "rf_undersampled = RandomForestClassifier()\n",
    "\n",
    "#Model fitting\n",
    "rf_undersampled.fit(X_train_undersampled, y_train_undersampled)\n",
    "\n",
    "#Model predictions\n",
    "y_pred_undersampled = rf_undersampled.predict(X_test_undersampled)"
   ]
  },
  {
   "cell_type": "code",
   "execution_count": 83,
   "metadata": {},
   "outputs": [
    {
     "data": {
      "text/plain": [
       "35.34136546184739"
      ]
     },
     "execution_count": 83,
     "metadata": {},
     "output_type": "execute_result"
    }
   ],
   "source": [
    "#Compute f1 score\n",
    "f1_score_rf_under = f1_score(y_test, y_pred_undersampled) * 100\n",
    "f1_score_rf_under"
   ]
  },
  {
   "cell_type": "markdown",
   "metadata": {},
   "source": [
    "**Result** : this model is not adapted for detect toxic content because `F1 score = 35.34 %`."
   ]
  },
  {
   "cell_type": "code",
   "execution_count": 73,
   "metadata": {},
   "outputs": [
    {
     "name": "stdout",
     "output_type": "stream",
     "text": [
      "              precision    recall  f1-score   support\n",
      "\n",
      "           0       0.98      0.85      0.91      1863\n",
      "           1       0.24      0.69      0.35       128\n",
      "\n",
      "    accuracy                           0.84      1991\n",
      "   macro avg       0.61      0.77      0.63      1991\n",
      "weighted avg       0.93      0.84      0.87      1991\n",
      "\n"
     ]
    }
   ],
   "source": [
    "#Compute score\n",
    "print(classification_report(y_test, y_pred_undersampled))"
   ]
  },
  {
   "cell_type": "markdown",
   "metadata": {},
   "source": [
    "<h4> Data save"
   ]
  },
  {
   "cell_type": "code",
   "execution_count": 84,
   "metadata": {},
   "outputs": [],
   "source": [
    "#Define file path :\n",
    "filepath_rf_under = os.path.join('data', 'quora_questions_rf_under.pkl')\n",
    "\n",
    "#Save dataset after undersampling and tfidf:\n",
    "with open(filepath_rf_under, 'wb') as f:\n",
    "    pickle.dump((y_pred_undersampled, f1_score_rf_under), f)"
   ]
  },
  {
   "cell_type": "code",
   "execution_count": 89,
   "metadata": {},
   "outputs": [
    {
     "data": {
      "text/plain": [
       "['../../../../../data/NLP/quora_questions_rf_under_model.joblib']"
      ]
     },
     "execution_count": 89,
     "metadata": {},
     "output_type": "execute_result"
    }
   ],
   "source": [
    "#Define file path :\n",
    "filepath_rf_under_model = os.path.join('data', 'quora_questions_rf_under_model.joblib')\n",
    "\n",
    "#Save model :\n",
    "dump(rf_undersampled, filepath_rf_under_model)"
   ]
  },
  {
   "cell_type": "markdown",
   "metadata": {},
   "source": [
    "<h4> 4.2.2 Data oversampled"
   ]
  },
  {
   "cell_type": "code",
   "execution_count": 75,
   "metadata": {},
   "outputs": [],
   "source": [
    "#Instanciate model\n",
    "rf_oversampled = RandomForestClassifier()\n",
    "\n",
    "#Model fitting\n",
    "rf_oversampled.fit(X_train_oversampled, y_train_oversampled)\n",
    "\n",
    "#Model predictions\n",
    "y_pred_oversampled = rf_oversampled.predict(X_test_oversampled)"
   ]
  },
  {
   "cell_type": "code",
   "execution_count": 85,
   "metadata": {},
   "outputs": [
    {
     "data": {
      "text/plain": [
       "23.602484472049685"
      ]
     },
     "execution_count": 85,
     "metadata": {},
     "output_type": "execute_result"
    }
   ],
   "source": [
    "#Compute f1 score\n",
    "f1_score_rf_over = f1_score(y_test, y_pred_oversampled) * 100\n",
    "f1_score_rf_over"
   ]
  },
  {
   "cell_type": "markdown",
   "metadata": {},
   "source": [
    "**Result** : this model is not adapted for detect toxic content because `F1 score = 23.60 %`."
   ]
  },
  {
   "cell_type": "code",
   "execution_count": 80,
   "metadata": {},
   "outputs": [
    {
     "name": "stdout",
     "output_type": "stream",
     "text": [
      "              precision    recall  f1-score   support\n",
      "\n",
      "           0       0.94      0.99      0.97      1863\n",
      "           1       0.58      0.15      0.24       128\n",
      "\n",
      "    accuracy                           0.94      1991\n",
      "   macro avg       0.76      0.57      0.60      1991\n",
      "weighted avg       0.92      0.94      0.92      1991\n",
      "\n"
     ]
    }
   ],
   "source": [
    "#Compute score\n",
    "print(classification_report(y_test, y_pred_oversampled))"
   ]
  },
  {
   "cell_type": "markdown",
   "metadata": {},
   "source": [
    "<h4> Data save"
   ]
  },
  {
   "cell_type": "code",
   "execution_count": 86,
   "metadata": {},
   "outputs": [],
   "source": [
    "#Define file path :\n",
    "filepath_rf_over = os.path.join('data', 'quora_questions_rf_over.pkl')\n",
    "\n",
    "#Save dataset after undersampling and tfidf:\n",
    "with open(filepath_rf_over, 'wb') as f:\n",
    "    pickle.dump((y_pred_oversampled, f1_score_rf_over), f)"
   ]
  },
  {
   "cell_type": "code",
   "execution_count": 88,
   "metadata": {},
   "outputs": [
    {
     "data": {
      "text/plain": [
       "['../../../../../data/NLP/quora_questions_rf_over_model.joblib']"
      ]
     },
     "execution_count": 88,
     "metadata": {},
     "output_type": "execute_result"
    }
   ],
   "source": [
    "#Define file path :\n",
    "filepath_rf_over_model = os.path.join('data', 'quora_questions_rf_over_model.joblib')\n",
    "\n",
    "#Save model :\n",
    "dump(rf_oversampled, filepath_rf_over_model)"
   ]
  },
  {
   "cell_type": "markdown",
   "metadata": {},
   "source": [
    "<h3> 4.3 Sentiment Analysis"
   ]
  },
  {
   "cell_type": "markdown",
   "metadata": {},
   "source": [
    "**[Sentiment Analysis](https://towardsdatascience.com/sentiment-analysis-concept-analysis-and-applications-6c94d6f58c17)** is the **interpretation and classification of emotions within text data** using text analysis techniques. It's based on two concepts :\n",
    "1. **Polarity** in sentiment analysis refers to **identifying sentiment orientation (positive, neutral, and negative)** in written or spoken language :\n",
    "    - **negative feeling** : `value = -1` (minimum)\n",
    "    - **neutral feeling** : `value = 0`\n",
    "    - **positive feeling** : `value = 1` (maximum)"
   ]
  },
  {
   "cell_type": "markdown",
   "metadata": {},
   "source": [
    " 2. **Subjectivity** is **opinions that describe people’s feelings towards a specific subject or topic** :\n",
    "    - **objective** : `value = 0` (minimum)\n",
    "    - **subjective** : `value = 1` (maximum)"
   ]
  },
  {
   "cell_type": "markdown",
   "metadata": {},
   "source": [
    "I **add features** with **Sentiment Analysis** to improve performance of model by using `TextBlob` library, a simple API for diving into common natural language processing (NLP) tasks such as part-of-speech tagging, noun phrase extraction, sentiment analysis, classification, translation, and more."
   ]
  },
  {
   "cell_type": "code",
   "execution_count": 2,
   "metadata": {},
   "outputs": [],
   "source": [
    "#Define file path :\n",
    "filepath_quora_cleaned = os.path.join('data', 'quora_questions_cleaned.pkl')\n",
    "\n",
    "#Load quora dataset:\n",
    "quora_questions = pd.read_pickle(filepath_quora_cleaned)"
   ]
  },
  {
   "cell_type": "code",
   "execution_count": 3,
   "metadata": {},
   "outputs": [
    {
     "data": {
      "text/html": [
       "<div>\n",
       "<style scoped>\n",
       "    .dataframe tbody tr th:only-of-type {\n",
       "        vertical-align: middle;\n",
       "    }\n",
       "\n",
       "    .dataframe tbody tr th {\n",
       "        vertical-align: top;\n",
       "    }\n",
       "\n",
       "    .dataframe thead th {\n",
       "        text-align: right;\n",
       "    }\n",
       "</style>\n",
       "<table border=\"1\" class=\"dataframe\">\n",
       "  <thead>\n",
       "    <tr style=\"text-align: right;\">\n",
       "      <th></th>\n",
       "      <th>qid</th>\n",
       "      <th>question_text</th>\n",
       "      <th>target</th>\n",
       "      <th>tokens</th>\n",
       "    </tr>\n",
       "  </thead>\n",
       "  <tbody>\n",
       "    <tr>\n",
       "      <td>305711</td>\n",
       "      <td>3be0cfa79beb7e5f606b</td>\n",
       "      <td>Who would win, SSB Goku (ToP) vs Base Goku (SD...</td>\n",
       "      <td>0</td>\n",
       "      <td>[would, win, ssb, goku, top, v, base, goku, sd...</td>\n",
       "    </tr>\n",
       "    <tr>\n",
       "      <td>117952</td>\n",
       "      <td>1716ecee485d6cd0a819</td>\n",
       "      <td>Are there any organizational skills classes or...</td>\n",
       "      <td>0</td>\n",
       "      <td>[organizational, skill, class, camp, teen]</td>\n",
       "    </tr>\n",
       "    <tr>\n",
       "      <td>963395</td>\n",
       "      <td>bcc372d77a2e615351b6</td>\n",
       "      <td>If an abuser married a person he/she can’t abu...</td>\n",
       "      <td>0</td>\n",
       "      <td>[abuser, married, person, abuse, still, abuse,...</td>\n",
       "    </tr>\n",
       "    <tr>\n",
       "      <td>152315</td>\n",
       "      <td>1dcc547fdc41b1a554a0</td>\n",
       "      <td>Why didn't they accept me in the Conservatoriu...</td>\n",
       "      <td>0</td>\n",
       "      <td>[accept, conservatorium, send, best, piano, pi...</td>\n",
       "    </tr>\n",
       "    <tr>\n",
       "      <td>359783</td>\n",
       "      <td>4683c11a002d6fba5630</td>\n",
       "      <td>What is the media role in ending drunk driving?</td>\n",
       "      <td>0</td>\n",
       "      <td>[medium, role, end, drunk, driving]</td>\n",
       "    </tr>\n",
       "  </tbody>\n",
       "</table>\n",
       "</div>"
      ],
      "text/plain": [
       "                         qid  \\\n",
       "305711  3be0cfa79beb7e5f606b   \n",
       "117952  1716ecee485d6cd0a819   \n",
       "963395  bcc372d77a2e615351b6   \n",
       "152315  1dcc547fdc41b1a554a0   \n",
       "359783  4683c11a002d6fba5630   \n",
       "\n",
       "                                            question_text  target  \\\n",
       "305711  Who would win, SSB Goku (ToP) vs Base Goku (SD...       0   \n",
       "117952  Are there any organizational skills classes or...       0   \n",
       "963395  If an abuser married a person he/she can’t abu...       0   \n",
       "152315  Why didn't they accept me in the Conservatoriu...       0   \n",
       "359783    What is the media role in ending drunk driving?       0   \n",
       "\n",
       "                                                   tokens  \n",
       "305711  [would, win, ssb, goku, top, v, base, goku, sd...  \n",
       "117952         [organizational, skill, class, camp, teen]  \n",
       "963395  [abuser, married, person, abuse, still, abuse,...  \n",
       "152315  [accept, conservatorium, send, best, piano, pi...  \n",
       "359783                [medium, role, end, drunk, driving]  "
      ]
     },
     "execution_count": 3,
     "metadata": {},
     "output_type": "execute_result"
    }
   ],
   "source": [
    "quora_questions.head()"
   ]
  },
  {
   "cell_type": "code",
   "execution_count": 4,
   "metadata": {},
   "outputs": [
    {
     "data": {
      "text/plain": [
       "[0.0, 0.8, 0.0, 0.0, 0.5, 0.0, -0.8, 0.0, 0.0, 0.0]"
      ]
     },
     "execution_count": 4,
     "metadata": {},
     "output_type": "execute_result"
    }
   ],
   "source": [
    "#Compute polarity for one list of tokens\n",
    "[TextBlob(word).sentiment.polarity for word in quora_questions['tokens'][305711]]"
   ]
  },
  {
   "cell_type": "code",
   "execution_count": 10,
   "metadata": {},
   "outputs": [
    {
     "data": {
      "text/plain": [
       "0.05"
      ]
     },
     "execution_count": 10,
     "metadata": {},
     "output_type": "execute_result"
    }
   ],
   "source": [
    "#Compute mean of polarity for one list of tokens\n",
    "np.mean([TextBlob(word).sentiment.polarity for word in quora_questions['tokens'][305711]])"
   ]
  },
  {
   "cell_type": "code",
   "execution_count": 19,
   "metadata": {},
   "outputs": [],
   "source": [
    "def get_polarity_mean(tokens):\n",
    "    '''\n",
    "    This function computes polarity mean of tokens.\n",
    "    \n",
    "    Parameter\n",
    "    -------------\n",
    "    tokens : list of str\n",
    "        contains tokens\n",
    "    \n",
    "    Returns\n",
    "    -------------\n",
    "    polarity : float\n",
    "        contains polarity mean of tokens\n",
    "    '''\n",
    "    #Replace polarity of tokens empty list by 0 (neutral)\n",
    "    if len(tokens) == 0:\n",
    "        return 0\n",
    "    \n",
    "    return np.mean([TextBlob(word).sentiment.polarity for word in tokens])"
   ]
  },
  {
   "cell_type": "code",
   "execution_count": 20,
   "metadata": {},
   "outputs": [],
   "source": [
    "#Compute get_polarity_mean function\n",
    "quora_questions['polarity'] = quora_questions['tokens'].apply(get_polarity_mean)"
   ]
  },
  {
   "cell_type": "code",
   "execution_count": 21,
   "metadata": {},
   "outputs": [
    {
     "data": {
      "text/html": [
       "<div>\n",
       "<style scoped>\n",
       "    .dataframe tbody tr th:only-of-type {\n",
       "        vertical-align: middle;\n",
       "    }\n",
       "\n",
       "    .dataframe tbody tr th {\n",
       "        vertical-align: top;\n",
       "    }\n",
       "\n",
       "    .dataframe thead th {\n",
       "        text-align: right;\n",
       "    }\n",
       "</style>\n",
       "<table border=\"1\" class=\"dataframe\">\n",
       "  <thead>\n",
       "    <tr style=\"text-align: right;\">\n",
       "      <th></th>\n",
       "      <th>qid</th>\n",
       "      <th>question_text</th>\n",
       "      <th>target</th>\n",
       "      <th>tokens</th>\n",
       "      <th>polarity</th>\n",
       "    </tr>\n",
       "  </thead>\n",
       "  <tbody>\n",
       "    <tr>\n",
       "      <td>305711</td>\n",
       "      <td>3be0cfa79beb7e5f606b</td>\n",
       "      <td>Who would win, SSB Goku (ToP) vs Base Goku (SD...</td>\n",
       "      <td>0</td>\n",
       "      <td>[would, win, ssb, goku, top, v, base, goku, sd...</td>\n",
       "      <td>0.050000</td>\n",
       "    </tr>\n",
       "    <tr>\n",
       "      <td>117952</td>\n",
       "      <td>1716ecee485d6cd0a819</td>\n",
       "      <td>Are there any organizational skills classes or...</td>\n",
       "      <td>0</td>\n",
       "      <td>[organizational, skill, class, camp, teen]</td>\n",
       "      <td>0.000000</td>\n",
       "    </tr>\n",
       "    <tr>\n",
       "      <td>963395</td>\n",
       "      <td>bcc372d77a2e615351b6</td>\n",
       "      <td>If an abuser married a person he/she can’t abu...</td>\n",
       "      <td>0</td>\n",
       "      <td>[abuser, married, person, abuse, still, abuse,...</td>\n",
       "      <td>0.035714</td>\n",
       "    </tr>\n",
       "    <tr>\n",
       "      <td>152315</td>\n",
       "      <td>1dcc547fdc41b1a554a0</td>\n",
       "      <td>Why didn't they accept me in the Conservatoriu...</td>\n",
       "      <td>0</td>\n",
       "      <td>[accept, conservatorium, send, best, piano, pi...</td>\n",
       "      <td>0.109091</td>\n",
       "    </tr>\n",
       "    <tr>\n",
       "      <td>359783</td>\n",
       "      <td>4683c11a002d6fba5630</td>\n",
       "      <td>What is the media role in ending drunk driving?</td>\n",
       "      <td>0</td>\n",
       "      <td>[medium, role, end, drunk, driving]</td>\n",
       "      <td>-0.100000</td>\n",
       "    </tr>\n",
       "  </tbody>\n",
       "</table>\n",
       "</div>"
      ],
      "text/plain": [
       "                         qid  \\\n",
       "305711  3be0cfa79beb7e5f606b   \n",
       "117952  1716ecee485d6cd0a819   \n",
       "963395  bcc372d77a2e615351b6   \n",
       "152315  1dcc547fdc41b1a554a0   \n",
       "359783  4683c11a002d6fba5630   \n",
       "\n",
       "                                            question_text  target  \\\n",
       "305711  Who would win, SSB Goku (ToP) vs Base Goku (SD...       0   \n",
       "117952  Are there any organizational skills classes or...       0   \n",
       "963395  If an abuser married a person he/she can’t abu...       0   \n",
       "152315  Why didn't they accept me in the Conservatoriu...       0   \n",
       "359783    What is the media role in ending drunk driving?       0   \n",
       "\n",
       "                                                   tokens  polarity  \n",
       "305711  [would, win, ssb, goku, top, v, base, goku, sd...  0.050000  \n",
       "117952         [organizational, skill, class, camp, teen]  0.000000  \n",
       "963395  [abuser, married, person, abuse, still, abuse,...  0.035714  \n",
       "152315  [accept, conservatorium, send, best, piano, pi...  0.109091  \n",
       "359783                [medium, role, end, drunk, driving] -0.100000  "
      ]
     },
     "execution_count": 21,
     "metadata": {},
     "output_type": "execute_result"
    }
   ],
   "source": [
    "quora_questions.head()"
   ]
  },
  {
   "cell_type": "code",
   "execution_count": 22,
   "metadata": {},
   "outputs": [
    {
     "data": {
      "text/plain": [
       "qid              0\n",
       "question_text    0\n",
       "target           0\n",
       "tokens           0\n",
       "polarity         0\n",
       "dtype: int64"
      ]
     },
     "execution_count": 22,
     "metadata": {},
     "output_type": "execute_result"
    }
   ],
   "source": [
    "#Number of null values\n",
    "quora_questions.isna().sum()"
   ]
  },
  {
   "cell_type": "code",
   "execution_count": 26,
   "metadata": {},
   "outputs": [],
   "source": [
    "def get_subjectivity_mean(tokens):\n",
    "    '''\n",
    "    This function computes subjectivity mean of tokens.\n",
    "    \n",
    "    Parameter\n",
    "    -------------\n",
    "    tokens : list of str\n",
    "        contains tokens\n",
    "    \n",
    "    Returns\n",
    "    -------------\n",
    "    subjectivity : float\n",
    "        contains subjectivity mean of tokens\n",
    "    '''\n",
    "    #Replace subjectivity of tokens empty list by 0 (neutral)\n",
    "    if len(tokens) == 0:\n",
    "        return 0\n",
    "    \n",
    "    return np.mean([TextBlob(word).sentiment.subjectivity for word in tokens])"
   ]
  },
  {
   "cell_type": "code",
   "execution_count": 27,
   "metadata": {},
   "outputs": [],
   "source": [
    "#Compute get_subjectivity_mean function\n",
    "quora_questions['subjectivity'] = quora_questions['tokens'].apply(get_subjectivity_mean)"
   ]
  },
  {
   "cell_type": "code",
   "execution_count": 28,
   "metadata": {},
   "outputs": [
    {
     "data": {
      "text/html": [
       "<div>\n",
       "<style scoped>\n",
       "    .dataframe tbody tr th:only-of-type {\n",
       "        vertical-align: middle;\n",
       "    }\n",
       "\n",
       "    .dataframe tbody tr th {\n",
       "        vertical-align: top;\n",
       "    }\n",
       "\n",
       "    .dataframe thead th {\n",
       "        text-align: right;\n",
       "    }\n",
       "</style>\n",
       "<table border=\"1\" class=\"dataframe\">\n",
       "  <thead>\n",
       "    <tr style=\"text-align: right;\">\n",
       "      <th></th>\n",
       "      <th>qid</th>\n",
       "      <th>question_text</th>\n",
       "      <th>target</th>\n",
       "      <th>tokens</th>\n",
       "      <th>polarity</th>\n",
       "      <th>subjectivity</th>\n",
       "    </tr>\n",
       "  </thead>\n",
       "  <tbody>\n",
       "    <tr>\n",
       "      <td>305711</td>\n",
       "      <td>3be0cfa79beb7e5f606b</td>\n",
       "      <td>Who would win, SSB Goku (ToP) vs Base Goku (SD...</td>\n",
       "      <td>0</td>\n",
       "      <td>[would, win, ssb, goku, top, v, base, goku, sd...</td>\n",
       "      <td>0.050000</td>\n",
       "      <td>0.190000</td>\n",
       "    </tr>\n",
       "    <tr>\n",
       "      <td>117952</td>\n",
       "      <td>1716ecee485d6cd0a819</td>\n",
       "      <td>Are there any organizational skills classes or...</td>\n",
       "      <td>0</td>\n",
       "      <td>[organizational, skill, class, camp, teen]</td>\n",
       "      <td>0.000000</td>\n",
       "      <td>0.000000</td>\n",
       "    </tr>\n",
       "    <tr>\n",
       "      <td>963395</td>\n",
       "      <td>bcc372d77a2e615351b6</td>\n",
       "      <td>If an abuser married a person he/she can’t abu...</td>\n",
       "      <td>0</td>\n",
       "      <td>[abuser, married, person, abuse, still, abuse,...</td>\n",
       "      <td>0.035714</td>\n",
       "      <td>0.035714</td>\n",
       "    </tr>\n",
       "    <tr>\n",
       "      <td>152315</td>\n",
       "      <td>1dcc547fdc41b1a554a0</td>\n",
       "      <td>Why didn't they accept me in the Conservatoriu...</td>\n",
       "      <td>0</td>\n",
       "      <td>[accept, conservatorium, send, best, piano, pi...</td>\n",
       "      <td>0.109091</td>\n",
       "      <td>0.081818</td>\n",
       "    </tr>\n",
       "    <tr>\n",
       "      <td>359783</td>\n",
       "      <td>4683c11a002d6fba5630</td>\n",
       "      <td>What is the media role in ending drunk driving?</td>\n",
       "      <td>0</td>\n",
       "      <td>[medium, role, end, drunk, driving]</td>\n",
       "      <td>-0.100000</td>\n",
       "      <td>0.200000</td>\n",
       "    </tr>\n",
       "  </tbody>\n",
       "</table>\n",
       "</div>"
      ],
      "text/plain": [
       "                         qid  \\\n",
       "305711  3be0cfa79beb7e5f606b   \n",
       "117952  1716ecee485d6cd0a819   \n",
       "963395  bcc372d77a2e615351b6   \n",
       "152315  1dcc547fdc41b1a554a0   \n",
       "359783  4683c11a002d6fba5630   \n",
       "\n",
       "                                            question_text  target  \\\n",
       "305711  Who would win, SSB Goku (ToP) vs Base Goku (SD...       0   \n",
       "117952  Are there any organizational skills classes or...       0   \n",
       "963395  If an abuser married a person he/she can’t abu...       0   \n",
       "152315  Why didn't they accept me in the Conservatoriu...       0   \n",
       "359783    What is the media role in ending drunk driving?       0   \n",
       "\n",
       "                                                   tokens  polarity  \\\n",
       "305711  [would, win, ssb, goku, top, v, base, goku, sd...  0.050000   \n",
       "117952         [organizational, skill, class, camp, teen]  0.000000   \n",
       "963395  [abuser, married, person, abuse, still, abuse,...  0.035714   \n",
       "152315  [accept, conservatorium, send, best, piano, pi...  0.109091   \n",
       "359783                [medium, role, end, drunk, driving] -0.100000   \n",
       "\n",
       "        subjectivity  \n",
       "305711      0.190000  \n",
       "117952      0.000000  \n",
       "963395      0.035714  \n",
       "152315      0.081818  \n",
       "359783      0.200000  "
      ]
     },
     "execution_count": 28,
     "metadata": {},
     "output_type": "execute_result"
    }
   ],
   "source": [
    "quora_questions.head()"
   ]
  },
  {
   "cell_type": "code",
   "execution_count": 30,
   "metadata": {},
   "outputs": [
    {
     "data": {
      "text/plain": [
       "qid              0\n",
       "question_text    0\n",
       "target           0\n",
       "tokens           0\n",
       "polarity         0\n",
       "subjectivity     0\n",
       "dtype: int64"
      ]
     },
     "execution_count": 30,
     "metadata": {},
     "output_type": "execute_result"
    }
   ],
   "source": [
    "#Number of null values\n",
    "quora_questions.isna().sum()"
   ]
  },
  {
   "cell_type": "markdown",
   "metadata": {},
   "source": [
    "<h4> Data Save"
   ]
  },
  {
   "cell_type": "code",
   "execution_count": 32,
   "metadata": {},
   "outputs": [],
   "source": [
    "#Define file path :\n",
    "filepath_quora_sub_pol = os.path.join('data', 'quora_questions_pol_sub.pkl')\n",
    "\n",
    "#Save quora dataset with pickle:\n",
    "quora_questions.to_pickle(filepath_quora_sub_pol)"
   ]
  },
  {
   "cell_type": "code",
   "execution_count": 30,
   "metadata": {},
   "outputs": [],
   "source": [
    "#Define file path :\n",
    "filepath_quora_sub_pol = os.path.join('data', 'quora_questions_pol_sub.pkl')\n",
    "\n",
    "#Load quora dataset:\n",
    "quora_questions = pd.read_pickle(filepath_quora_sub_pol)"
   ]
  },
  {
   "cell_type": "markdown",
   "metadata": {},
   "source": [
    "<h4> Data Analysis"
   ]
  },
  {
   "cell_type": "markdown",
   "metadata": {},
   "source": [
    "I display some **statistical summaries of the numerical columns** below :\n",
    "- `Polarity`:\n",
    "    - mean = 0.021\n",
    "    - min = -0.50\n",
    "    - max = 0.50\n",
    "    - standard déviation : 0.08"
   ]
  },
  {
   "cell_type": "markdown",
   "metadata": {},
   "source": [
    "`Polarity` distribution is higher around the average because `standard_deviation > 0.5 * mean`"
   ]
  },
  {
   "cell_type": "markdown",
   "metadata": {},
   "source": [
    "- `Subjectivity`:\n",
    "    - mean = 0.07\n",
    "    - min = 0\n",
    "    - max = 1\n",
    "    - standard déviation : 0.09"
   ]
  },
  {
   "cell_type": "markdown",
   "metadata": {},
   "source": [
    "`Subjectivity` distribution is higher around the average because `standard_deviation > 0.5 * mean`"
   ]
  },
  {
   "cell_type": "code",
   "execution_count": 31,
   "metadata": {
    "scrolled": true
   },
   "outputs": [
    {
     "data": {
      "text/html": [
       "<div>\n",
       "<style scoped>\n",
       "    .dataframe tbody tr th:only-of-type {\n",
       "        vertical-align: middle;\n",
       "    }\n",
       "\n",
       "    .dataframe tbody tr th {\n",
       "        vertical-align: top;\n",
       "    }\n",
       "\n",
       "    .dataframe thead th {\n",
       "        text-align: right;\n",
       "    }\n",
       "</style>\n",
       "<table border=\"1\" class=\"dataframe\">\n",
       "  <thead>\n",
       "    <tr style=\"text-align: right;\">\n",
       "      <th></th>\n",
       "      <th>target</th>\n",
       "      <th>polarity</th>\n",
       "      <th>subjectivity</th>\n",
       "    </tr>\n",
       "  </thead>\n",
       "  <tbody>\n",
       "    <tr>\n",
       "      <td>count</td>\n",
       "      <td>9955.000000</td>\n",
       "      <td>9955.000000</td>\n",
       "      <td>9955.000000</td>\n",
       "    </tr>\n",
       "    <tr>\n",
       "      <td>mean</td>\n",
       "      <td>0.064490</td>\n",
       "      <td>0.021156</td>\n",
       "      <td>0.066771</td>\n",
       "    </tr>\n",
       "    <tr>\n",
       "      <td>std</td>\n",
       "      <td>0.245636</td>\n",
       "      <td>0.076690</td>\n",
       "      <td>0.091214</td>\n",
       "    </tr>\n",
       "    <tr>\n",
       "      <td>min</td>\n",
       "      <td>0.000000</td>\n",
       "      <td>-0.500000</td>\n",
       "      <td>0.000000</td>\n",
       "    </tr>\n",
       "    <tr>\n",
       "      <td>25%</td>\n",
       "      <td>0.000000</td>\n",
       "      <td>0.000000</td>\n",
       "      <td>0.000000</td>\n",
       "    </tr>\n",
       "    <tr>\n",
       "      <td>50%</td>\n",
       "      <td>0.000000</td>\n",
       "      <td>0.000000</td>\n",
       "      <td>0.025000</td>\n",
       "    </tr>\n",
       "    <tr>\n",
       "      <td>75%</td>\n",
       "      <td>0.000000</td>\n",
       "      <td>0.033333</td>\n",
       "      <td>0.110000</td>\n",
       "    </tr>\n",
       "    <tr>\n",
       "      <td>max</td>\n",
       "      <td>1.000000</td>\n",
       "      <td>0.500000</td>\n",
       "      <td>1.000000</td>\n",
       "    </tr>\n",
       "  </tbody>\n",
       "</table>\n",
       "</div>"
      ],
      "text/plain": [
       "            target     polarity  subjectivity\n",
       "count  9955.000000  9955.000000   9955.000000\n",
       "mean      0.064490     0.021156      0.066771\n",
       "std       0.245636     0.076690      0.091214\n",
       "min       0.000000    -0.500000      0.000000\n",
       "25%       0.000000     0.000000      0.000000\n",
       "50%       0.000000     0.000000      0.025000\n",
       "75%       0.000000     0.033333      0.110000\n",
       "max       1.000000     0.500000      1.000000"
      ]
     },
     "execution_count": 31,
     "metadata": {},
     "output_type": "execute_result"
    }
   ],
   "source": [
    "#Statistical summaries of the numerical columns\n",
    "quora_questions.describe()"
   ]
  },
  {
   "cell_type": "code",
   "execution_count": 32,
   "metadata": {},
   "outputs": [
    {
     "data": {
      "text/plain": [
       "0    9313\n",
       "1     642\n",
       "Name: target, dtype: int64"
      ]
     },
     "execution_count": 32,
     "metadata": {},
     "output_type": "execute_result"
    }
   ],
   "source": [
    "quora_questions.target.value_counts()"
   ]
  },
  {
   "cell_type": "code",
   "execution_count": 48,
   "metadata": {},
   "outputs": [
    {
     "data": {
      "image/png": "[encoded data removed]",
      "text/plain": [
       "<Figure size 1008x576 with 1 Axes>"
      ]
     },
     "metadata": {
      "needs_background": "light"
     },
     "output_type": "display_data"
    }
   ],
   "source": [
    "plt.figure(figsize=(14, 8))\n",
    "\n",
    "#Plot Polarity Distribution for Quora questions\n",
    "plt.title('Plot Polarity Distribution for Quora questions', size=14)       #Graph title\n",
    "\n",
    "#Countplot for Polarity\n",
    "sns.distplot(quora_questions.polarity)\n",
    "\n",
    "#Save the graph with plt.savefig\n",
    "filepath_fig_polarity_distributions = os.path.join('graph', 'quora-incinsere-questions-polarity-distributions.jpg')\n",
    "plt.savefig(filepath_fig_polarity_distributions,                          #Image path\n",
    "            format='jpg',                                                 #Image format to save\n",
    "            bbox_inches='tight')                                          #Keep abscissa legend\n",
    "\n",
    "plt.show()"
   ]
  },
  {
   "cell_type": "code",
   "execution_count": 47,
   "metadata": {},
   "outputs": [
    {
     "data": {
      "image/png": "[encoded data removed]",
      "text/plain": [
       "<Figure size 1008x576 with 1 Axes>"
      ]
     },
     "metadata": {
      "needs_background": "light"
     },
     "output_type": "display_data"
    }
   ],
   "source": [
    "plt.figure(figsize=(14, 8))\n",
    "\n",
    "#Plot subjectivity Distribution for Quora questions\n",
    "plt.title('Plot subjectivity Distribution for Quora questions', size=14)       #Graph title\n",
    "\n",
    "#Countplot for subjectivity\n",
    "sns.distplot(quora_questions.subjectivity)\n",
    "\n",
    "#Save the graph with plt.savefig\n",
    "filepath_fig_subjectivity_distributions = os.path.join('graph', 'quora-incinsere-questions-subjectivity-distributions.jpg')\n",
    "plt.savefig(filepath_fig_subjectivity_distributions,                          #Image path\n",
    "            format='jpg',                                                     #Image format to save\n",
    "            bbox_inches='tight')                                              #Keep abscissa legend\n",
    "\n",
    "plt.show()"
   ]
  },
  {
   "cell_type": "markdown",
   "metadata": {},
   "source": [
    "I compare `polarity` with `target` to icompute a `confusion matrix` :"
   ]
  },
  {
   "cell_type": "code",
   "execution_count": 28,
   "metadata": {},
   "outputs": [],
   "source": [
    "#Number of good review\n",
    "nb_good_questions = quora_questions.target.value_counts()[0]\n",
    "\n",
    "#Number of bad review\n",
    "nb_bad_questions = quora_questions.target.value_counts()[1]"
   ]
  },
  {
   "cell_type": "code",
   "execution_count": 45,
   "metadata": {},
   "outputs": [
    {
     "data": {
      "text/plain": [
       "33.87242591662481"
      ]
     },
     "execution_count": 45,
     "metadata": {},
     "output_type": "execute_result"
    }
   ],
   "source": [
    "quora_questions[quora_questions.polarity > 0].shape[0] / quora_questions.shape[0] * 100"
   ]
  },
  {
   "cell_type": "code",
   "execution_count": 46,
   "metadata": {},
   "outputs": [
    {
     "data": {
      "text/plain": [
       "14.475138121546962"
      ]
     },
     "execution_count": 46,
     "metadata": {},
     "output_type": "execute_result"
    }
   ],
   "source": [
    "quora_questions[quora_questions.polarity < 0].shape[0] / quora_questions.shape[0] * 100"
   ]
  },
  {
   "cell_type": "code",
   "execution_count": 29,
   "metadata": {},
   "outputs": [
    {
     "name": "stdout",
     "output_type": "stream",
     "text": [
      "Polarity positive AND classified as good questions:  34.0 %\n",
      "Polarity negative BUT classified as good questions:  14.000000000000002 %\n",
      "Polarity negative AND classified as bad questions:  28.000000000000004 %\n",
      "Polarity positive BUT classified as bad questions:  30.0 %\n"
     ]
    },
    {
     "name": "stderr",
     "output_type": "stream",
     "text": [
      "/home/jlenclume/bin/anaconda/lib/python3.7/site-packages/ipykernel_launcher.py:1: UserWarning: Boolean Series key will be reindexed to match DataFrame index.\n",
      "  \"\"\"Entry point for launching an IPython kernel.\n",
      "/home/jlenclume/bin/anaconda/lib/python3.7/site-packages/ipykernel_launcher.py:4: UserWarning: Boolean Series key will be reindexed to match DataFrame index.\n",
      "  after removing the cwd from sys.path.\n",
      "/home/jlenclume/bin/anaconda/lib/python3.7/site-packages/ipykernel_launcher.py:7: UserWarning: Boolean Series key will be reindexed to match DataFrame index.\n",
      "  import sys\n",
      "/home/jlenclume/bin/anaconda/lib/python3.7/site-packages/ipykernel_launcher.py:10: UserWarning: Boolean Series key will be reindexed to match DataFrame index.\n",
      "  # Remove the CWD from sys.path while we load stuff.\n"
     ]
    }
   ],
   "source": [
    "#Compute confusion matrix for polarity\n",
    "True_good = quora_questions[quora_questions.polarity > 0][quora_questions.target == 0].shape[0]\n",
    "print(\"Polarity positive AND classified as good questions: \", 100 * round(True_good/nb_good_questions, 2), \"%\")\n",
    "\n",
    "False_good = quora_questions[quora_questions.polarity < 0][quora_questions.target == 0].shape[0]\n",
    "print(\"Polarity negative BUT classified as good questions: \", 100 * round(False_good/nb_good_questions, 2), \"%\")\n",
    "\n",
    "True_bad = quora_questions[quora_questions.polarity < 0][quora_questions.target == 1].shape[0]\n",
    "print(\"Polarity negative AND classified as bad questions: \", 100 * round(True_bad/nb_bad_questions, 2), \"%\")\n",
    "\n",
    "False_bad = quora_questions[quora_questions.polarity > 0][quora_questions.target == 1].shape[0]\n",
    "print(\"Polarity positive BUT classified as bad questions: \", 100 * round(False_bad/nb_bad_questions, 1), \"%\")"
   ]
  },
  {
   "cell_type": "markdown",
   "metadata": {},
   "source": [
    "I plot `polarity`, `subjectivity` and `target` to analyze new features :"
   ]
  },
  {
   "cell_type": "code",
   "execution_count": 49,
   "metadata": {},
   "outputs": [
    {
     "data": {
      "image/png": "[encoded data removed]",
      "text/plain": [
       "<Figure size 1008x576 with 1 Axes>"
      ]
     },
     "metadata": {
      "needs_background": "light"
     },
     "output_type": "display_data"
    }
   ],
   "source": [
    "plt.figure(figsize=(14, 8))\n",
    "\n",
    "#Plot subjectivity, polarity and target\n",
    "plt.title('Features of Quora questions', fontsize=14)                                   #Graph title\n",
    "sns.scatterplot(x='polarity', y='subjectivity', hue='target', data=quora_questions)\n",
    "\n",
    "#Save the graph with plt.savefig\n",
    "filepath_fig_sub_pol_target = os.path.join('graph', 'quora-incinsere-questions-target-pol-sub.jpg')\n",
    "plt.savefig(filepath_fig_sub_pol_target,                                                #Image path\n",
    "            format='jpg',                                                               #Image format to save\n",
    "            bbox_inches='tight')                                                        #Keep abscissa legend\n",
    "\n",
    "plt.show()"
   ]
  },
  {
   "cell_type": "markdown",
   "metadata": {},
   "source": [
    "Correlation matrix graphically gives us an idea of how features correlate with each other and can help us predict what are the features that are most relevant for the prediction :"
   ]
  },
  {
   "cell_type": "code",
   "execution_count": 50,
   "metadata": {},
   "outputs": [
    {
     "data": {
      "image/png": "[encoded data removed]",
      "text/plain": [
       "<Figure size 864x576 with 2 Axes>"
      ]
     },
     "metadata": {
      "needs_background": "light"
     },
     "output_type": "display_data"
    }
   ],
   "source": [
    "#Compute correlation matrix\n",
    "correlation_matrix = quora_questions.corr()\n",
    "\n",
    "#Plot correlation matrix with heatmap\n",
    "fig = plt.figure(figsize = (12, 8))\n",
    "plt.title('Quoras Questions Features Correlation', size=14)            #Graph title\n",
    "sns.heatmap(correlation_matrix, vmax = .8, square = True)\n",
    "\n",
    "#Save the graph with plt.savefig\n",
    "filepath_fig_correlation = os.path.join('graph', 'quora-incinsere-questions-correlation-heatmap.jpg')\n",
    "plt.savefig(filepath_fig_correlation,                                 #Image path\n",
    "            format='jpg',                                             #Image format to save\n",
    "            bbox_inches='tight')                                      #Keep abscissa legend\n",
    "\n",
    "plt.show()"
   ]
  },
  {
   "cell_type": "markdown",
   "metadata": {},
   "source": [
    "I can clearly see that all features **don't correlate**."
   ]
  },
  {
   "cell_type": "markdown",
   "metadata": {},
   "source": [
    "<h3> 4.4 Features and labels definitions"
   ]
  },
  {
   "cell_type": "code",
   "execution_count": 53,
   "metadata": {},
   "outputs": [],
   "source": [
    "X = quora_questions[['tokens', 'polarity', 'subjectivity']]\n",
    "y = quora_questions['target']"
   ]
  },
  {
   "cell_type": "code",
   "execution_count": 54,
   "metadata": {},
   "outputs": [],
   "source": [
    "X_train, X_test, y_train, y_test = train_test_split(X, y, \n",
    "                                                    test_size=.2,       #train represents 80% of dataset and test represents 20% of dataset\n",
    "                                                    random_state=0,     #keep the same random split\n",
    "                                                    stratify=y)         #conserve the same distributions for labels"
   ]
  },
  {
   "cell_type": "code",
   "execution_count": 55,
   "metadata": {},
   "outputs": [
    {
     "data": {
      "text/plain": [
       "((7964, 3), (7964,), (1991, 3), (1991,))"
      ]
     },
     "execution_count": 55,
     "metadata": {},
     "output_type": "execute_result"
    }
   ],
   "source": [
    "X_train.shape, y_train.shape, X_test.shape, y_test.shape"
   ]
  },
  {
   "cell_type": "code",
   "execution_count": 58,
   "metadata": {},
   "outputs": [
    {
     "data": {
      "text/plain": [
       "742476     [feel, god, disapproval, towards, homosexual, ...\n",
       "5028                          [example, descriptive, detail]\n",
       "992223     [right, want, hillary, jail, yet, concern, tru...\n",
       "1232215        [movie, question, existence, help, get, life]\n",
       "972354     [british, people, obsess, east, asian, culture...\n",
       "                                 ...                        \n",
       "364200     [someone, ever, return, favor, parent, upbring...\n",
       "753441     [prospect, cfa, charter, holder, germany, year...\n",
       "835910     [people, bear, first, day, astrological, sign,...\n",
       "414064                                     [alien, workshop]\n",
       "1193332    [would, like, find, move, intentional, know, r...\n",
       "Name: tokens, Length: 7964, dtype: object"
      ]
     },
     "execution_count": 58,
     "metadata": {},
     "output_type": "execute_result"
    }
   ],
   "source": [
    "X_train.tokens"
   ]
  },
  {
   "cell_type": "markdown",
   "metadata": {},
   "source": [
    "<h4> Data undersampled"
   ]
  },
  {
   "cell_type": "code",
   "execution_count": 113,
   "metadata": {},
   "outputs": [],
   "source": [
    "#Instanciate undersampler\n",
    "undersampler = RandomUnderSampler(random_state=0)\n",
    "\n",
    "#Instanciate oversampler\n",
    "oversampler = RandomOverSampler(random_state=0)\n",
    "X_train_undersampled, y_train_undersampled = undersampler.fit_resample(X_train, y_train)"
   ]
  },
  {
   "cell_type": "code",
   "execution_count": 114,
   "metadata": {},
   "outputs": [
    {
     "data": {
      "text/plain": [
       "((1028, 3), (1028,))"
      ]
     },
     "execution_count": 114,
     "metadata": {},
     "output_type": "execute_result"
    }
   ],
   "source": [
    "X_train_undersampled.shape, y_train_undersampled.shape"
   ]
  },
  {
   "cell_type": "markdown",
   "metadata": {},
   "source": [
    "<h4> Data oversampled"
   ]
  },
  {
   "cell_type": "code",
   "execution_count": 115,
   "metadata": {},
   "outputs": [],
   "source": [
    "#Instanciate oversampler\n",
    "oversampler = RandomOverSampler(random_state=0)\n",
    "\n",
    "#Balance train data\n",
    "X_train_oversampled, y_train_oversampled = oversampler.fit_resample(X_train, y_train)"
   ]
  },
  {
   "cell_type": "code",
   "execution_count": 116,
   "metadata": {},
   "outputs": [
    {
     "data": {
      "text/plain": [
       "((14900, 3), (14900,))"
      ]
     },
     "execution_count": 116,
     "metadata": {},
     "output_type": "execute_result"
    }
   ],
   "source": [
    "X_train_oversampled.shape, y_train_oversampled.shape"
   ]
  },
  {
   "cell_type": "markdown",
   "metadata": {},
   "source": [
    "<h4> TF-IDF"
   ]
  },
  {
   "cell_type": "code",
   "execution_count": 117,
   "metadata": {},
   "outputs": [],
   "source": [
    "#Instanciate vector\n",
    "vectorizer_undersampled = TfidfVectorizer(analyzer=lambda x: x)    #analyzer='word' (default) but I already do text preprocessing\n",
    "vectorizer_oversampled = TfidfVectorizer(analyzer=lambda x: x)     #analyzer='word' (default) but I already do text preprocessing"
   ]
  },
  {
   "cell_type": "code",
   "execution_count": 131,
   "metadata": {},
   "outputs": [
    {
     "ename": "AttributeError",
     "evalue": "'numpy.ndarray' object has no attribute 'tokens'",
     "output_type": "error",
     "traceback": [
      "\u001b[0;31m---------------------------------------------------------------------------\u001b[0m",
      "\u001b[0;31mAttributeError\u001b[0m                            Traceback (most recent call last)",
      "\u001b[0;32m<ipython-input-131-913eb07142ce>\u001b[0m in \u001b[0;36m<module>\u001b[0;34m\u001b[0m\n\u001b[1;32m      1\u001b[0m \u001b[0;31m#Compute TF-IDF for undersampling\u001b[0m\u001b[0;34m\u001b[0m\u001b[0;34m\u001b[0m\u001b[0;34m\u001b[0m\u001b[0m\n\u001b[1;32m      2\u001b[0m \u001b[0mtfidf_train_under\u001b[0m \u001b[0;34m=\u001b[0m \u001b[0mvectorizer_undersampled\u001b[0m\u001b[0;34m.\u001b[0m\u001b[0mfit_transform\u001b[0m\u001b[0;34m(\u001b[0m\u001b[0mX_train_undersampled\u001b[0m\u001b[0;34m.\u001b[0m\u001b[0mtokens\u001b[0m\u001b[0;34m)\u001b[0m\u001b[0;34m.\u001b[0m\u001b[0mtoarray\u001b[0m\u001b[0;34m(\u001b[0m\u001b[0;34m)\u001b[0m\u001b[0;34m\u001b[0m\u001b[0;34m\u001b[0m\u001b[0m\n\u001b[0;32m----> 3\u001b[0;31m \u001b[0mtfidf_test_under\u001b[0m \u001b[0;34m=\u001b[0m \u001b[0mvectorizer_undersampled\u001b[0m\u001b[0;34m.\u001b[0m\u001b[0mtransform\u001b[0m\u001b[0;34m(\u001b[0m\u001b[0mX_test_undersampled\u001b[0m\u001b[0;34m.\u001b[0m\u001b[0mtokens\u001b[0m\u001b[0;34m)\u001b[0m\u001b[0;34m.\u001b[0m\u001b[0mtoarray\u001b[0m\u001b[0;34m(\u001b[0m\u001b[0;34m)\u001b[0m\u001b[0;34m\u001b[0m\u001b[0;34m\u001b[0m\u001b[0m\n\u001b[0m\u001b[1;32m      4\u001b[0m \u001b[0;34m\u001b[0m\u001b[0m\n\u001b[1;32m      5\u001b[0m \u001b[0;31m#Compute TF-IDF for oversampling\u001b[0m\u001b[0;34m\u001b[0m\u001b[0;34m\u001b[0m\u001b[0;34m\u001b[0m\u001b[0m\n",
      "\u001b[0;31mAttributeError\u001b[0m: 'numpy.ndarray' object has no attribute 'tokens'"
     ]
    }
   ],
   "source": [
    "#Compute TF-IDF for undersampling\n",
    "tfidf_train_under = vectorizer_undersampled.fit_transform(X_train_undersampled.tokens).toarray()\n",
    "tfidf_test_under = vectorizer_undersampled.transform(X_test_undersampled.tokens).toarray()\n",
    "\n",
    "#Compute TF-IDF for oversampling\n",
    "tfidf_train_over = vectorizer_oversampled.fit_transform(X_train_oversampled.tokens).toarray()\n",
    "tfidf_test_over = vectorizer_oversampled.transform(X_test_oversampled.tokens).toarray()"
   ]
  },
  {
   "cell_type": "code",
   "execution_count": 129,
   "metadata": {},
   "outputs": [],
   "source": [
    "#Transform Series into array for undersampling\n",
    "X_train_undersampled.polarity = np.array(X_train_undersampled.polarity)\n",
    "X_train_undersampled.subjectivity = np.array(X_train_undersampled.subjectivity)\n",
    "\n",
    "#Transform Series into array for undersampling\n",
    "X_train_oversampled.polarity = np.array(X_train_oversampled.polarity)\n",
    "X_train_oversampled.subjectivity = np.array(X_train_oversampled.subjectivity)"
   ]
  },
  {
   "cell_type": "code",
   "execution_count": 130,
   "metadata": {},
   "outputs": [
    {
     "data": {
      "text/plain": [
       "0       0.054167\n",
       "1       0.100000\n",
       "2       0.000000\n",
       "3       0.000000\n",
       "4       0.000000\n",
       "          ...   \n",
       "1023    0.017857\n",
       "1024    0.000000\n",
       "1025    0.059476\n",
       "1026    0.000000\n",
       "1027    0.000000\n",
       "Name: polarity, Length: 1028, dtype: float64"
      ]
     },
     "execution_count": 130,
     "metadata": {},
     "output_type": "execute_result"
    }
   ],
   "source": [
    "X_train_undersampled.polarity"
   ]
  },
  {
   "cell_type": "code",
   "execution_count": 105,
   "metadata": {},
   "outputs": [
    {
     "ename": "TypeError",
     "evalue": "'Series' object cannot be interpreted as an integer",
     "output_type": "error",
     "traceback": [
      "\u001b[0;31m---------------------------------------------------------------------------\u001b[0m",
      "\u001b[0;31mTypeError\u001b[0m                                 Traceback (most recent call last)",
      "\u001b[0;32m<ipython-input-105-6accf0cbc2ad>\u001b[0m in \u001b[0;36m<module>\u001b[0;34m\u001b[0m\n\u001b[1;32m      2\u001b[0m X_train_undersampled = np.concatenate(vectorizer_undersampled.fit_transform(X_train_undersampled.tokens).toarray(), \n\u001b[1;32m      3\u001b[0m                                       \u001b[0mX_train_undersampled\u001b[0m\u001b[0;34m.\u001b[0m\u001b[0mpolarity\u001b[0m\u001b[0;34m,\u001b[0m\u001b[0;34m\u001b[0m\u001b[0;34m\u001b[0m\u001b[0m\n\u001b[0;32m----> 4\u001b[0;31m                                       X_train_undersampled.subjectivity)  \n\u001b[0m\u001b[1;32m      5\u001b[0m X_test_undersampled = np.concatenate(vectorizer_undersampled.transform(X_test.tokens).toarray(), \n\u001b[1;32m      6\u001b[0m                                      \u001b[0mX_train_undersampled\u001b[0m\u001b[0;34m.\u001b[0m\u001b[0mpolarity\u001b[0m\u001b[0;34m,\u001b[0m\u001b[0;34m\u001b[0m\u001b[0;34m\u001b[0m\u001b[0m\n",
      "\u001b[0;32m<__array_function__ internals>\u001b[0m in \u001b[0;36mconcatenate\u001b[0;34m(*args, **kwargs)\u001b[0m\n",
      "\u001b[0;31mTypeError\u001b[0m: 'Series' object cannot be interpreted as an integer"
     ]
    }
   ],
   "source": [
    "#Compute TF-IDF for undersampling\n",
    "X_train_undersampled = np.concatenate(tfidf_train_under, \n",
    "                                      X_train_undersampled.polarity, \n",
    "                                      X_train_undersampled.subjectivity)  \n",
    "X_test_undersampled = np.concatenate(tfidf_test_under, \n",
    "                                     X_train_undersampled.polarity, \n",
    "                                     X_train_undersampled.subjectivity)\n",
    "\n",
    "#Compute TF-IDF for oversampling\n",
    "X_train_oversampled = np.concatenate(tfidf_train_over, \n",
    "                                     X_train_undersampled.polarity, \n",
    "                                     X_train_undersampled.subjectivity)\n",
    "X_test_oversampled = np.concatenate(tfidf_test_over, \n",
    "                                    X_train_undersampled.polarity, \n",
    "                                    X_train_undersampled.subjectivity)"
   ]
  },
  {
   "cell_type": "code",
   "execution_count": 70,
   "metadata": {},
   "outputs": [
    {
     "data": {
      "text/plain": [
       "((3, 17), (3, 17), (3, 17), (3, 17))"
      ]
     },
     "execution_count": 70,
     "metadata": {},
     "output_type": "execute_result"
    }
   ],
   "source": [
    "X_train_undersampled.shape, X_test_undersampled.shape, X_train_oversampled.shape, X_test_oversampled.shape"
   ]
  },
  {
   "cell_type": "markdown",
   "metadata": {},
   "source": [
    "<h3> 4.5 Word Embeddings"
   ]
  },
  {
   "cell_type": "markdown",
   "metadata": {},
   "source": [
    "Word Embeddings are a **type of word representation that allows words with similar meaning to have a similar representation** : Vector coordinates are assigned to each word. `Glove` is a library I used for Word Embeddings."
   ]
  },
  {
   "cell_type": "code",
   "execution_count": 3,
   "metadata": {},
   "outputs": [],
   "source": [
    "#Define file path :\n",
    "filepath_quora_sub_pol = os.path.join('data', 'quora_questions_pol_sub.pkl')\n",
    "\n",
    "#Load quora dataset:\n",
    "quora_questions = pd.read_pickle(filepath_quora_sub_pol)"
   ]
  },
  {
   "cell_type": "markdown",
   "metadata": {},
   "source": [
    "First, I define a **function to read glove model** :"
   ]
  },
  {
   "cell_type": "code",
   "execution_count": 4,
   "metadata": {},
   "outputs": [],
   "source": [
    "#Define file path\n",
    "glove_file = os.path.join('data', 'glove.6B.50d.txt')"
   ]
  },
  {
   "cell_type": "code",
   "execution_count": 6,
   "metadata": {},
   "outputs": [],
   "source": [
    "def read_glove_vecs(glove_file):\n",
    "    '''\n",
    "    This function returns words and a dictionary of word embeddings.\n",
    "    \n",
    "    Parameter\n",
    "    -------------\n",
    "    glove_file : str\n",
    "        contains glove file\n",
    "    \n",
    "    Returns\n",
    "    -------------\n",
    "    words : list of str\n",
    "        contains dictionary of word.\n",
    "    words_to_vec_map : list of float\n",
    "        contains vectors associated with each words.\n",
    "    '''\n",
    "    with open(glove_file, 'r') as f:\n",
    "        words = []\n",
    "        word_to_vec_map = {}\n",
    "        \n",
    "        for line in f:\n",
    "            line = line.strip().split()\n",
    "            curr_word = line[0]\n",
    "            words.append(curr_word)\n",
    "            word_to_vec_map[curr_word] = np.array(line[1:], dtype=np.float64)\n",
    "    \n",
    "    print(len(words), 'words are in glove dictionary.')\n",
    "    return words, word_to_vec_map"
   ]
  },
  {
   "cell_type": "code",
   "execution_count": 7,
   "metadata": {},
   "outputs": [
    {
     "name": "stdout",
     "output_type": "stream",
     "text": [
      "400000 words are in glove dictionary.\n"
     ]
    }
   ],
   "source": [
    "#Apply read_glove_vecs function\n",
    "words, word_to_vec_map = read_glove_vecs(glove_file)"
   ]
  },
  {
   "cell_type": "code",
   "execution_count": 12,
   "metadata": {},
   "outputs": [
    {
     "name": "stdout",
     "output_type": "stream",
     "text": [
      "['the', ',', '.', 'of', 'to', 'and', 'in', 'a', '\"', \"'s\", 'for', '-', 'that', 'on', 'is', 'was', 'said', 'with', 'he', 'as']\n"
     ]
    }
   ],
   "source": [
    "print(words[:20])"
   ]
  },
  {
   "cell_type": "code",
   "execution_count": 8,
   "metadata": {},
   "outputs": [
    {
     "data": {
      "text/plain": [
       "array([ 0.7619   , -0.29773  ,  0.51396  , -0.13303  ,  0.24156  ,\n",
       "        0.066799 , -0.54084  ,  0.2071   , -0.28225  , -0.11638  ,\n",
       "        0.21666  ,  0.54908  , -0.36744  , -0.10543  ,  0.81567  ,\n",
       "        1.1743   ,  0.56055  , -0.3345   ,  0.099767 , -0.87465  ,\n",
       "        0.12229  , -0.18532  ,  0.086783 , -0.36343  ,  0.008002 ,\n",
       "       -2.2268   , -0.20079  , -0.10313  ,  0.24318  , -0.39819  ,\n",
       "        3.7136   ,  0.59088  , -1.1013   , -0.25292  ,  0.0057067,\n",
       "       -0.60475  ,  0.35965  , -0.059581 , -0.029059 , -0.3989   ,\n",
       "       -0.52631  ,  0.12436  ,  0.13609  ,  0.12699  , -0.23032  ,\n",
       "       -0.044567 , -0.6545   ,  0.43088  , -0.22768  ,  0.4026   ])"
      ]
     },
     "execution_count": 8,
     "metadata": {},
     "output_type": "execute_result"
    }
   ],
   "source": [
    "word_to_vec_map['would']"
   ]
  },
  {
   "cell_type": "code",
   "execution_count": 32,
   "metadata": {},
   "outputs": [],
   "source": [
    "def is_in_vocab(tokens):\n",
    "    '''\n",
    "    This function analyzes if word of documents are in dictionary or not.\n",
    "    \n",
    "    Parameter\n",
    "    -------------\n",
    "    tokens : list of str\n",
    "        contains list of tokens.\n",
    "    \n",
    "    Returns\n",
    "    -------------\n",
    "    in_vocab : dict of str, int\n",
    "        contains word in dictionary and word frequency in document.\n",
    "    out_vocab : list of tuple\n",
    "        contains words that are not in the dictionary and word frequency in document.\n",
    "    '''\n",
    "    in_vocab = {}\n",
    "    out_vocab = {}\n",
    "    for token in tokens:\n",
    "        for word in token:\n",
    "            if word.lower() in words:\n",
    "                in_vocab[w] = 1\n",
    "            elif word in out_vocab.keys():\n",
    "                out_vocab[word] += 1\n",
    "            else:\n",
    "                out_vocab[word] = 1\n",
    "    \n",
    "    out_vocab_ordered = sorted(out_vocab.items(), key=operator.itemgetter(1))[::-1]\n",
    "    \n",
    "    return in_vocab, out_vocab_ordered"
   ]
  },
  {
   "cell_type": "code",
   "execution_count": 19,
   "metadata": {},
   "outputs": [
    {
     "data": {
      "text/html": [
       "<div>\n",
       "<style scoped>\n",
       "    .dataframe tbody tr th:only-of-type {\n",
       "        vertical-align: middle;\n",
       "    }\n",
       "\n",
       "    .dataframe tbody tr th {\n",
       "        vertical-align: top;\n",
       "    }\n",
       "\n",
       "    .dataframe thead th {\n",
       "        text-align: right;\n",
       "    }\n",
       "</style>\n",
       "<table border=\"1\" class=\"dataframe\">\n",
       "  <thead>\n",
       "    <tr style=\"text-align: right;\">\n",
       "      <th></th>\n",
       "      <th>qid</th>\n",
       "      <th>question_text</th>\n",
       "      <th>target</th>\n",
       "      <th>tokens</th>\n",
       "      <th>polarity</th>\n",
       "      <th>subjectivity</th>\n",
       "    </tr>\n",
       "  </thead>\n",
       "  <tbody>\n",
       "    <tr>\n",
       "      <td>305711</td>\n",
       "      <td>3be0cfa79beb7e5f606b</td>\n",
       "      <td>Who would win, SSB Goku (ToP) vs Base Goku (SD...</td>\n",
       "      <td>0</td>\n",
       "      <td>[would, win, ssb, goku, top, v, base, goku, sd...</td>\n",
       "      <td>0.050000</td>\n",
       "      <td>0.190000</td>\n",
       "    </tr>\n",
       "    <tr>\n",
       "      <td>117952</td>\n",
       "      <td>1716ecee485d6cd0a819</td>\n",
       "      <td>Are there any organizational skills classes or...</td>\n",
       "      <td>0</td>\n",
       "      <td>[organizational, skill, class, camp, teen]</td>\n",
       "      <td>0.000000</td>\n",
       "      <td>0.000000</td>\n",
       "    </tr>\n",
       "    <tr>\n",
       "      <td>963395</td>\n",
       "      <td>bcc372d77a2e615351b6</td>\n",
       "      <td>If an abuser married a person he/she can’t abu...</td>\n",
       "      <td>0</td>\n",
       "      <td>[abuser, married, person, abuse, still, abuse,...</td>\n",
       "      <td>0.035714</td>\n",
       "      <td>0.035714</td>\n",
       "    </tr>\n",
       "    <tr>\n",
       "      <td>152315</td>\n",
       "      <td>1dcc547fdc41b1a554a0</td>\n",
       "      <td>Why didn't they accept me in the Conservatoriu...</td>\n",
       "      <td>0</td>\n",
       "      <td>[accept, conservatorium, send, best, piano, pi...</td>\n",
       "      <td>0.109091</td>\n",
       "      <td>0.081818</td>\n",
       "    </tr>\n",
       "    <tr>\n",
       "      <td>359783</td>\n",
       "      <td>4683c11a002d6fba5630</td>\n",
       "      <td>What is the media role in ending drunk driving?</td>\n",
       "      <td>0</td>\n",
       "      <td>[medium, role, end, drunk, driving]</td>\n",
       "      <td>-0.100000</td>\n",
       "      <td>0.200000</td>\n",
       "    </tr>\n",
       "  </tbody>\n",
       "</table>\n",
       "</div>"
      ],
      "text/plain": [
       "                         qid  \\\n",
       "305711  3be0cfa79beb7e5f606b   \n",
       "117952  1716ecee485d6cd0a819   \n",
       "963395  bcc372d77a2e615351b6   \n",
       "152315  1dcc547fdc41b1a554a0   \n",
       "359783  4683c11a002d6fba5630   \n",
       "\n",
       "                                            question_text  target  \\\n",
       "305711  Who would win, SSB Goku (ToP) vs Base Goku (SD...       0   \n",
       "117952  Are there any organizational skills classes or...       0   \n",
       "963395  If an abuser married a person he/she can’t abu...       0   \n",
       "152315  Why didn't they accept me in the Conservatoriu...       0   \n",
       "359783    What is the media role in ending drunk driving?       0   \n",
       "\n",
       "                                                   tokens  polarity  \\\n",
       "305711  [would, win, ssb, goku, top, v, base, goku, sd...  0.050000   \n",
       "117952         [organizational, skill, class, camp, teen]  0.000000   \n",
       "963395  [abuser, married, person, abuse, still, abuse,...  0.035714   \n",
       "152315  [accept, conservatorium, send, best, piano, pi...  0.109091   \n",
       "359783                [medium, role, end, drunk, driving] -0.100000   \n",
       "\n",
       "        subjectivity  \n",
       "305711      0.190000  \n",
       "117952      0.000000  \n",
       "963395      0.035714  \n",
       "152315      0.081818  \n",
       "359783      0.200000  "
      ]
     },
     "execution_count": 19,
     "metadata": {},
     "output_type": "execute_result"
    }
   ],
   "source": [
    "quora_questions['question_text'].head()"
   ]
  },
  {
   "cell_type": "code",
   "execution_count": 37,
   "metadata": {},
   "outputs": [],
   "source": [
    "#Create corpus with all documents\n",
    "corpus = np.array(quora_questions.tokens)\n",
    "\n",
    "#Apply is_in_vocab function\n",
    "in_vocab, out_vocab = is_in_vocab(corpus)"
   ]
  },
  {
   "cell_type": "code",
   "execution_count": 47,
   "metadata": {},
   "outputs": [
    {
     "data": {
      "text/plain": [
       "{'would': 1,\n",
       " 'win': 1,\n",
       " 'ssb': 1,\n",
       " 'goku': 1,\n",
       " 'top': 1,\n",
       " 'v': 1,\n",
       " 'base': 1,\n",
       " 'sd': 1,\n",
       " 'arc': 1,\n",
       " 'organizational': 1,\n",
       " 'skill': 1,\n",
       " 'class': 1,\n",
       " 'camp': 1,\n",
       " 'teen': 1,\n",
       " 'abuser': 1,\n",
       " 'married': 1,\n",
       " 'person': 1,\n",
       " 'abuse': 1,\n",
       " 'still': 1,\n",
       " 'spouse': 1,\n",
       " 'accept': 1,\n",
       " 'conservatorium': 1,\n",
       " 'send': 1,\n",
       " 'best': 1,\n",
       " 'piano': 1,\n",
       " 'piece': 1,\n",
       " 'style': 1,\n",
       " 'bach': 1,\n",
       " 'fast': 1,\n",
       " 'counterpoint': 1,\n",
       " 'expect': 1,\n",
       " 'medium': 1,\n",
       " 'role': 1,\n",
       " 'end': 1,\n",
       " 'drunk': 1,\n",
       " 'driving': 1,\n",
       " 'prevention': 1,\n",
       " 'throw': 1,\n",
       " 'garbage': 1,\n",
       " 'many': 1,\n",
       " 'american': 1,\n",
       " 'visit': 1,\n",
       " 'goa': 1,\n",
       " 'website': 1,\n",
       " 'offer': 1,\n",
       " 'discount': 1,\n",
       " 'writing': 1,\n",
       " 'service': 1,\n",
       " 'men': 1,\n",
       " 'bully': 1,\n",
       " 'harass': 1,\n",
       " 'woman': 1,\n",
       " 'work': 1,\n",
       " 'pleasure': 1,\n",
       " 'get': 1,\n",
       " 'try': 1,\n",
       " 'label': 1,\n",
       " 'inferior': 1,\n",
       " 'make': 1,\n",
       " 'look': 1,\n",
       " 'incompetent': 1,\n",
       " 'snag': 1,\n",
       " 'credit': 1,\n",
       " 'engage': 1,\n",
       " 'overtly': 1,\n",
       " 'aggressive': 1,\n",
       " 'language': 1,\n",
       " 'behavior': 1,\n",
       " 'mix': 1,\n",
       " 'soma': 1,\n",
       " 'alcohol': 1,\n",
       " 'dangerous': 1,\n",
       " 'much': 1,\n",
       " 'french': 1,\n",
       " 'go': 1,\n",
       " 'china': 1,\n",
       " 'kind': 1,\n",
       " 'espionage': 1,\n",
       " 'iphone': 1,\n",
       " 'track': 1,\n",
       " 'precaution': 1,\n",
       " 'take': 1,\n",
       " 'average': 1,\n",
       " 'tensile': 1,\n",
       " 'strength': 1,\n",
       " 'human': 1,\n",
       " 'intestine': 1,\n",
       " 'wife': 1,\n",
       " 'earn': 1,\n",
       " 'well': 1,\n",
       " 'share': 1,\n",
       " 'household': 1,\n",
       " 'expenditure': 1,\n",
       " 'important': 1,\n",
       " 'thing': 1,\n",
       " 'high': 1,\n",
       " 'schooler': 1,\n",
       " 'know': 1,\n",
       " 'pursue': 1,\n",
       " 'career': 1,\n",
       " 'technology': 1,\n",
       " 'acquire': 1,\n",
       " 'status': 1,\n",
       " 'reservation': 1,\n",
       " 'iiit': 1,\n",
       " 'delhi': 1,\n",
       " 'student': 1,\n",
       " 'give': 1,\n",
       " 'union': 1,\n",
       " 'territory': 1,\n",
       " 'chandigarh': 1,\n",
       " 'enforce': 1,\n",
       " 'repayment': 1,\n",
       " 'loan': 1,\n",
       " 'difference': 1,\n",
       " 'health': 1,\n",
       " 'smoke': 1,\n",
       " 'different': 1,\n",
       " 'brand': 1,\n",
       " 'cigarette': 1,\n",
       " 'stick': 1,\n",
       " 'particular': 1,\n",
       " 'advanced': 1,\n",
       " 'weapon': 1,\n",
       " 'armor': 1,\n",
       " 'carry': 1,\n",
       " 'used': 1,\n",
       " 'troop': 1,\n",
       " 'today': 1,\n",
       " 'feminist': 1,\n",
       " 'wish': 1,\n",
       " 'study': 1,\n",
       " 'practice': 1,\n",
       " 'test': 1,\n",
       " 'gre': 1,\n",
       " 'richard': 1,\n",
       " 'wrangham': 1,\n",
       " 'currently': 1,\n",
       " 'new': 1,\n",
       " 'book': 1,\n",
       " 'field': 1,\n",
       " 'engineering': 1,\n",
       " 'scope': 1,\n",
       " 'big': 1,\n",
       " 'consider': 1,\n",
       " 'change': 1,\n",
       " 'time': 1,\n",
       " 'belt': 1,\n",
       " 'small': 1,\n",
       " 'dual': 1,\n",
       " 'overhead': 1,\n",
       " 'cam': 1,\n",
       " 'motor': 1,\n",
       " 'first': 1,\n",
       " 'course': 1,\n",
       " 'start': 1,\n",
       " 'upgrade': 1,\n",
       " 'computer': 1,\n",
       " 'man': 1,\n",
       " 'find': 1,\n",
       " 'good': 1,\n",
       " 'close': 1,\n",
       " 'family': 1,\n",
       " 'member': 1,\n",
       " 'hoarder': 1,\n",
       " 'able': 1,\n",
       " 'help': 1,\n",
       " 'handle': 1,\n",
       " 'feeling': 1,\n",
       " 'guilt': 1,\n",
       " 'sadness': 1,\n",
       " 'live': 1,\n",
       " 'way': 1,\n",
       " 'true': 1,\n",
       " 'eating': 1,\n",
       " 'salt': 1,\n",
       " 'peanut': 1,\n",
       " 'teeth': 1,\n",
       " 'set': 1,\n",
       " 'scratch': 1,\n",
       " 'avoid': 1,\n",
       " 'impact': 1,\n",
       " 'ant': 1,\n",
       " 'farm': 1,\n",
       " 'gel': 1,\n",
       " 'think': 1,\n",
       " 'america': 1,\n",
       " 'ever': 1,\n",
       " 'respect': 1,\n",
       " 'great': 1,\n",
       " 'nation': 1,\n",
       " 'purpose': 1,\n",
       " 'federal': 1,\n",
       " 'reserve': 1,\n",
       " 'bank': 1,\n",
       " 'york': 1,\n",
       " 'serve': 1,\n",
       " 'deduce': 1,\n",
       " 'someone': 1,\n",
       " 'job': 1,\n",
       " 'quality': 1,\n",
       " 'toyota': 1,\n",
       " 'prius': 1,\n",
       " 'overlook': 1,\n",
       " 'personal': 1,\n",
       " 'conviction': 1,\n",
       " 'information': 1,\n",
       " 'management': 1,\n",
       " 'erp': 1,\n",
       " 'system': 1,\n",
       " 'could': 1,\n",
       " 'husband': 1,\n",
       " 'gay': 1,\n",
       " 'employer': 1,\n",
       " 'authority': 1,\n",
       " 'switzerland': 1,\n",
       " 'ignore': 1,\n",
       " 'foreign': 1,\n",
       " 'criminal': 1,\n",
       " 'harvard': 1,\n",
       " 'law': 1,\n",
       " 'school': 1,\n",
       " 'junior': 1,\n",
       " 'year': 1,\n",
       " 'h': 1,\n",
       " 'lcm': 1,\n",
       " 'fight': 1,\n",
       " 'jedi': 1,\n",
       " 'star': 1,\n",
       " 'war': 1,\n",
       " 'experience': 1,\n",
       " 'keep': 1,\n",
       " 'meeting': 1,\n",
       " 'whose': 1,\n",
       " 'interest': 1,\n",
       " 'align': 1,\n",
       " 'determinative': 1,\n",
       " 'process': 1,\n",
       " 'impression': 1,\n",
       " 'anonymous': 1,\n",
       " 'question': 1,\n",
       " 'quora': 1,\n",
       " 'read': 1,\n",
       " 'like': 1,\n",
       " 'examination': 1,\n",
       " 'poser': 1,\n",
       " 'answer': 1,\n",
       " 'already': 1,\n",
       " 'ask': 1,\n",
       " 'bother': 1,\n",
       " 'case': 1,\n",
       " 'kurd': 1,\n",
       " 'commit': 1,\n",
       " 'crime': 1,\n",
       " 'turk': 1,\n",
       " 'gerund': 1,\n",
       " 'present': 1,\n",
       " 'participle': 1,\n",
       " 'lady': 1,\n",
       " 'bug': 1,\n",
       " 'room': 1,\n",
       " 'remove': 1,\n",
       " 'come': 1,\n",
       " 'degree': 1,\n",
       " 'outside': 1,\n",
       " 'kirk': 1,\n",
       " 'franklin': 1,\n",
       " 'literary': 1,\n",
       " 'influence': 1,\n",
       " 'seat': 1,\n",
       " 'manipal': 1,\n",
       " 'rank': 1,\n",
       " 'feel': 1,\n",
       " 'thousand': 1,\n",
       " 'interpret': 1,\n",
       " 'plot': 1,\n",
       " 'people': 1,\n",
       " 'compare': 1,\n",
       " 'dell': 1,\n",
       " 'hps': 1,\n",
       " 'apple': 1,\n",
       " 'mark': 1,\n",
       " 'zuckerberg': 1,\n",
       " 'resentment': 1,\n",
       " 'towards': 1,\n",
       " 'child': 1,\n",
       " 'oriental': 1,\n",
       " 'facial': 1,\n",
       " 'appearance': 1,\n",
       " 'missile': 1,\n",
       " 'derivate': 1,\n",
       " 'symbol': 1,\n",
       " 'turn': 1,\n",
       " 'recruitment': 1,\n",
       " 'fbi': 1,\n",
       " 'asthmatic': 1,\n",
       " 'canada': 1,\n",
       " 'mariano': 1,\n",
       " 'rivera': 1,\n",
       " 'gain': 1,\n",
       " 'popularity': 1,\n",
       " 'multiple': 1,\n",
       " 'deposit': 1,\n",
       " 'defeat': 1,\n",
       " 'melkor': 1,\n",
       " 'adjust': 1,\n",
       " 'mossberg': 1,\n",
       " 'atr': 1,\n",
       " 'rifle': 1,\n",
       " 'bad': 1,\n",
       " 'neighborhood': 1,\n",
       " 'puerto': 1,\n",
       " 'princesa': 1,\n",
       " 'city': 1,\n",
       " 'philippine': 1,\n",
       " 'diploma': 1,\n",
       " 'formula': 1,\n",
       " 'academic': 1,\n",
       " 'research': 1,\n",
       " 'issue': 1,\n",
       " 'business': 1,\n",
       " 'strategy': 1,\n",
       " 'often': 1,\n",
       " 'use': 1,\n",
       " 'paper': 1,\n",
       " 'major': 1,\n",
       " 'world': 1,\n",
       " 'nuke': 1,\n",
       " 'consequence': 1,\n",
       " 'survivor': 1,\n",
       " 'fillet': 1,\n",
       " 'knife': 1,\n",
       " 'manufacture': 1,\n",
       " 'fitness': 1,\n",
       " 'train': 1,\n",
       " 'stipend': 1,\n",
       " 'engineer': 1,\n",
       " 'chennai': 1,\n",
       " 'whenever': 1,\n",
       " 'see': 1,\n",
       " 'couple': 1,\n",
       " 'movie': 1,\n",
       " 'display': 1,\n",
       " 'strong': 1,\n",
       " 'emotional': 1,\n",
       " 'connection': 1,\n",
       " 'open': 1,\n",
       " 'electricity': 1,\n",
       " 'body': 1,\n",
       " 'always': 1,\n",
       " 'sexual': 1,\n",
       " 'arousal': 1,\n",
       " 'something': 1,\n",
       " 'else': 1,\n",
       " 'individual': 1,\n",
       " 'cast': 1,\n",
       " 'india': 1,\n",
       " 'type': 1,\n",
       " 'metal': 1,\n",
       " 'gun': 1,\n",
       " 'part': 1,\n",
       " 'specially': 1,\n",
       " 'internal': 1,\n",
       " 'newspaper': 1,\n",
       " 'home': 1,\n",
       " 'ai': 1,\n",
       " 'one': 1,\n",
       " 'upsc': 1,\n",
       " 'preparation': 1,\n",
       " 'tight': 1,\n",
       " 'schedule': 1,\n",
       " 'hour': 1,\n",
       " 'leave': 1,\n",
       " 'difficult': 1,\n",
       " 'google': 1,\n",
       " 'facebook': 1,\n",
       " 'amazon': 1,\n",
       " 'internship': 1,\n",
       " 'muslim': 1,\n",
       " 'obsess': 1,\n",
       " 'hindu': 1,\n",
       " 'eat': 1,\n",
       " 'beef': 1,\n",
       " 'dont': 1,\n",
       " 'uber': 1,\n",
       " 'report': 1,\n",
       " 'eric': 1,\n",
       " 'holder': 1,\n",
       " 'forward': 1,\n",
       " 'exist': 1,\n",
       " 'email': 1,\n",
       " 'summer': 1,\n",
       " 'want': 1,\n",
       " 'anthropology': 1,\n",
       " 'suggest': 1,\n",
       " 'workplace': 1,\n",
       " 'cpa': 1,\n",
       " 'marketing': 1,\n",
       " 'follow': 1,\n",
       " 'football': 1,\n",
       " 'lose': 1,\n",
       " 'cricket': 1,\n",
       " 'nowadays': 1,\n",
       " 'majin': 1,\n",
       " 'buu': 1,\n",
       " 'mention': 1,\n",
       " 'entrepreneurship': 1,\n",
       " 'goal': 1,\n",
       " 'mba': 1,\n",
       " 'b': 1,\n",
       " 'application': 1,\n",
       " 'positive': 1,\n",
       " 'negative': 1,\n",
       " 'fellow': 1,\n",
       " 'blogger': 1,\n",
       " 'interested': 1,\n",
       " 'guest': 1,\n",
       " 'write': 1,\n",
       " 'exchange': 1,\n",
       " 'kill': 1,\n",
       " 'gorilla': 1,\n",
       " 'bare': 1,\n",
       " 'hand': 1,\n",
       " 'ceramic': 1,\n",
       " 'radome': 1,\n",
       " 'inspire': 1,\n",
       " 'happy': 1,\n",
       " 'plant': 1,\n",
       " 'bedroom': 1,\n",
       " 'without': 1,\n",
       " 'problem': 1,\n",
       " 'phone': 1,\n",
       " 'flashlight': 1,\n",
       " 'need': 1,\n",
       " 'travel': 1,\n",
       " 'barcelona': 1,\n",
       " 'spain': 1,\n",
       " 'marseille': 1,\n",
       " 'france': 1,\n",
       " 'responsible': 1,\n",
       " 'medieval': 1,\n",
       " 'christendom': 1,\n",
       " 'become': 1,\n",
       " 'corrupt': 1,\n",
       " 'symptom': 1,\n",
       " 'dog': 1,\n",
       " 'period': 1,\n",
       " 'morgoth': 1,\n",
       " 'arrive': 1,\n",
       " 'valinor': 1,\n",
       " 'cant': 1,\n",
       " 'everything': 1,\n",
       " 'girl': 1,\n",
       " 'ugly': 1,\n",
       " 'x': 1,\n",
       " 'motion': 1,\n",
       " 'move': 1,\n",
       " 'speed': 1,\n",
       " 'light': 1,\n",
       " 'opposite': 1,\n",
       " 'direction': 1,\n",
       " 'pass': 1,\n",
       " 'perceive': 1,\n",
       " 'faster': 1,\n",
       " 'vice': 1,\n",
       " 'versa': 1,\n",
       " 'easily': 1,\n",
       " 'draw': 1,\n",
       " 'scalene': 1,\n",
       " 'triangle': 1,\n",
       " 'photography': 1,\n",
       " 'club': 1,\n",
       " 'udaipur': 1,\n",
       " 'yes': 1,\n",
       " 'let': 1,\n",
       " 'eye': 1,\n",
       " 'flicker': 1,\n",
       " 'professor': 1,\n",
       " 'minerva': 1,\n",
       " 'mcgonagall': 1,\n",
       " 'brahmin': 1,\n",
       " 'low': 1,\n",
       " 'caste': 1,\n",
       " 'revise': 1,\n",
       " 'name': 1,\n",
       " 'black': 1,\n",
       " 'water': 1,\n",
       " 'organization': 1,\n",
       " 'choose': 1,\n",
       " 'amongst': 1,\n",
       " 'excise': 1,\n",
       " 'inspector': 1,\n",
       " 'rbi': 1,\n",
       " 'assistant': 1,\n",
       " 'long': 1,\n",
       " 'term': 1,\n",
       " 'grade': 1,\n",
       " 'space': 1,\n",
       " 'available': 1,\n",
       " 'rich': 1,\n",
       " 'famous': 1,\n",
       " 'powerful': 1,\n",
       " 'opinion': 1,\n",
       " 'digital': 1,\n",
       " 'art': 1,\n",
       " 'girlfriend': 1,\n",
       " 'decorate': 1,\n",
       " 'kitchen': 1,\n",
       " 'red': 1,\n",
       " 'countertop': 1,\n",
       " 'sex': 1,\n",
       " 'date': 1,\n",
       " 'duracell': 1,\n",
       " 'battery': 1,\n",
       " 'really': 1,\n",
       " 'copper': 1,\n",
       " 'grandma': 1,\n",
       " 'since': 1,\n",
       " 'born': 1,\n",
       " 'acceptable': 1,\n",
       " 'ban': 1,\n",
       " 'sport': 1,\n",
       " 'activity': 1,\n",
       " 'ok': 1,\n",
       " 'love': 1,\n",
       " 'european': 1,\n",
       " 'culture': 1,\n",
       " 'support': 1,\n",
       " 'death': 1,\n",
       " 'whatever': 1,\n",
       " 'mean': 1,\n",
       " 'square': 1,\n",
       " 'side': 1,\n",
       " 'ca': 1,\n",
       " 'do': 1,\n",
       " 'stop': 1,\n",
       " 'addicted': 1,\n",
       " 'whatsapp': 1,\n",
       " 'mobile': 1,\n",
       " 'number': 1,\n",
       " 'database': 1,\n",
       " 'treatment': 1,\n",
       " 'parathyroid': 1,\n",
       " 'adult': 1,\n",
       " 'prepare': 1,\n",
       " 'presidential': 1,\n",
       " 'address': 1,\n",
       " 'parliament': 1,\n",
       " 'life': 1,\n",
       " 'lesson': 1,\n",
       " 'learn': 1,\n",
       " 'air': 1,\n",
       " 'gate': 1,\n",
       " 'ee': 1,\n",
       " 'illegal': 1,\n",
       " 'copy': 1,\n",
       " 'online': 1,\n",
       " 'song': 1,\n",
       " 'meaningful': 1,\n",
       " 'lyric': 1,\n",
       " 'sound': 1,\n",
       " 'beautiful': 1,\n",
       " 'face': 1,\n",
       " 'disadvantage': 1,\n",
       " 'development': 1,\n",
       " 'cycle': 1,\n",
       " 'narcissist': 1,\n",
       " 'text': 1,\n",
       " 'silent': 1,\n",
       " 'advice': 1,\n",
       " 'never': 1,\n",
       " 'listen': 1,\n",
       " 'interact': 1,\n",
       " 'efficient': 1,\n",
       " 'relieve': 1,\n",
       " 'stress': 1,\n",
       " 'ipl': 1,\n",
       " 'franchise': 1,\n",
       " 'fan': 1,\n",
       " 'season': 1,\n",
       " 'marriage': 1,\n",
       " 'purchase': 1,\n",
       " 'criminalise': 1,\n",
       " 'seller': 1,\n",
       " 'wet': 1,\n",
       " 'put': 1,\n",
       " 'oil': 1,\n",
       " 'download': 1,\n",
       " 'universal': 1,\n",
       " 'self': 1,\n",
       " 'scorer': 1,\n",
       " 'biology': 1,\n",
       " 'pdf': 1,\n",
       " 'format': 1,\n",
       " 'even': 1,\n",
       " 'solve': 1,\n",
       " 'simple': 1,\n",
       " 'math': 1,\n",
       " 'watch': 1,\n",
       " 'deal': 1,\n",
       " 'pressure': 1,\n",
       " 'exactly': 1,\n",
       " 'gambit': 1,\n",
       " 'power': 1,\n",
       " 'english': 1,\n",
       " 'theater': 1,\n",
       " 'whats': 1,\n",
       " 'favorite': 1,\n",
       " 'humanity': 1,\n",
       " 'offence': 1,\n",
       " 'americans': 1,\n",
       " 'knee': 1,\n",
       " 'sing': 1,\n",
       " 'national': 1,\n",
       " 'anthem': 1,\n",
       " 'protest': 1,\n",
       " 'racism': 1,\n",
       " 'society': 1,\n",
       " 'group': 1,\n",
       " 'collude': 1,\n",
       " 'russia': 1,\n",
       " 'undermine': 1,\n",
       " 'democracy': 1,\n",
       " 'smart': 1,\n",
       " 'guy': 1,\n",
       " 'argentina': 1,\n",
       " 'hate': 1,\n",
       " 'gonzalo': 1,\n",
       " 'higuain': 1,\n",
       " 'rt': 1,\n",
       " 'credible': 1,\n",
       " 'news': 1,\n",
       " 'source': 1,\n",
       " 'walk': 1,\n",
       " 'building': 1,\n",
       " 'leg': 1,\n",
       " 'muscle': 1,\n",
       " 'envy': 1,\n",
       " 'jealous': 1,\n",
       " 'single': 1,\n",
       " 'web': 1,\n",
       " 'developer': 1,\n",
       " 'productivity': 1,\n",
       " 'elixir': 1,\n",
       " 'choice': 1,\n",
       " 'father': 1,\n",
       " 'usually': 1,\n",
       " 'anything': 1,\n",
       " 'opposed': 1,\n",
       " 'mother': 1,\n",
       " 'institute': 1,\n",
       " 'previous': 1,\n",
       " 'mechanical': 1,\n",
       " 'quickly': 1,\n",
       " 'naturally': 1,\n",
       " 'increase': 1,\n",
       " 'blood': 1,\n",
       " 'flow': 1,\n",
       " 'penis': 1,\n",
       " 'month': 1,\n",
       " 'sedentary': 1,\n",
       " 'diet': 1,\n",
       " 'ip': 1,\n",
       " 'exact': 1,\n",
       " 'roof': 1,\n",
       " 'hold': 1,\n",
       " 'day': 1,\n",
       " 'age': 1,\n",
       " 'longer': 1,\n",
       " 'attractive': 1,\n",
       " 'right': 1,\n",
       " 'contract': 1,\n",
       " 'word': 1,\n",
       " 'etc': 1,\n",
       " 'formal': 1,\n",
       " 'instance': 1,\n",
       " 'islam': 1,\n",
       " 'allow': 1,\n",
       " 'dominate': 1,\n",
       " 'forever': 1,\n",
       " 'benefit': 1,\n",
       " 'ms': 1,\n",
       " 'hci': 1,\n",
       " 'undergraduate': 1,\n",
       " 'telescope': 1,\n",
       " 'binoculars': 1,\n",
       " 'sell': 1,\n",
       " 'planetarium': 1,\n",
       " 'mangalore': 1,\n",
       " 'differentiation': 1,\n",
       " 'prokaryotic': 1,\n",
       " 'eukaryotic': 1,\n",
       " 'cell': 1,\n",
       " 'clinical': 1,\n",
       " 'counsel': 1,\n",
       " 'psychologist': 1,\n",
       " 'bachelor': 1,\n",
       " 'social': 1,\n",
       " 'psychology': 1,\n",
       " 'c': 1,\n",
       " 'ad': 1,\n",
       " 'link': 1,\n",
       " 'astronomical': 1,\n",
       " 'unit': 1,\n",
       " 'metre': 1,\n",
       " 'message': 1,\n",
       " 'nfc': 1,\n",
       " 'capable': 1,\n",
       " 'among': 1,\n",
       " 'stupid': 1,\n",
       " 'happens': 1,\n",
       " 'disable': 1,\n",
       " 'outlive': 1,\n",
       " 'parent': 1,\n",
       " 'liberal': 1,\n",
       " 'conversation': 1,\n",
       " 'trump': 1,\n",
       " 'supporter': 1,\n",
       " 'silence': 1,\n",
       " 'blame': 1,\n",
       " 'silencing': 1,\n",
       " 'republicans': 1,\n",
       " 'realize': 1,\n",
       " 'neighbor': 1,\n",
       " 'notorious': 1,\n",
       " 'pour': 1,\n",
       " 'car': 1,\n",
       " 'university': 1,\n",
       " 'madras': 1,\n",
       " 'chemistry': 1,\n",
       " 'last': 1,\n",
       " 'japanese': 1,\n",
       " 'soldier': 1,\n",
       " 'surrender': 1,\n",
       " 'recommend': 1,\n",
       " 'touristic': 1,\n",
       " 'spot': 1,\n",
       " 'athens': 1,\n",
       " 'greece': 1,\n",
       " 'chinese': 1,\n",
       " 'manufacturer': 1,\n",
       " 'reuse': 1,\n",
       " 'syringe': 1,\n",
       " 'hiv': 1,\n",
       " 'although': 1,\n",
       " 'needle': 1,\n",
       " 'possible': 1,\n",
       " 'evolution': 1,\n",
       " 'next': 1,\n",
       " 'step': 1,\n",
       " 'agile': 1,\n",
       " 'methodology': 1,\n",
       " 'task': 1,\n",
       " 'effort': 1,\n",
       " 'story': 1,\n",
       " 'sperm': 1,\n",
       " 'nearer': 1,\n",
       " 'female': 1,\n",
       " 'reproductive': 1,\n",
       " 'successful': 1,\n",
       " 'civil': 1,\n",
       " 'unrest': 1,\n",
       " 'free': 1,\n",
       " 'pres': 1,\n",
       " 'release': 1,\n",
       " 'site': 1,\n",
       " 'seo': 1,\n",
       " 'sim': 1,\n",
       " 'cheap': 1,\n",
       " 'internet': 1,\n",
       " 'voice': 1,\n",
       " 'call': 1,\n",
       " 'plan': 1,\n",
       " 'lock': 1,\n",
       " 'gmail': 1,\n",
       " 'unlock': 1,\n",
       " 'password': 1,\n",
       " 'afghanistan': 1,\n",
       " 'turkmenistan': 1,\n",
       " 'uzbekistan': 1,\n",
       " 'tajikistan': 1,\n",
       " 'pakistan': 1,\n",
       " 'anticipate': 1,\n",
       " 'game': 1,\n",
       " 'shift': 1,\n",
       " 'tv': 1,\n",
       " 'series': 1,\n",
       " 'depict': 1,\n",
       " 'traditional': 1,\n",
       " 'accurately': 1,\n",
       " 'cause': 1,\n",
       " 'proclamation': 1,\n",
       " 'sapient': 1,\n",
       " 'bike': 1,\n",
       " 'crosman': 1,\n",
       " 'stinger': 1,\n",
       " 'airsoft': 1,\n",
       " 'manhattan': 1,\n",
       " 'project': 1,\n",
       " 'noam': 1,\n",
       " 'jenkins': 1,\n",
       " 'creative': 1,\n",
       " 'quirky': 1,\n",
       " 'startup': 1,\n",
       " 'market': 1,\n",
       " 'production': 1,\n",
       " 'firm': 1,\n",
       " 'personality': 1,\n",
       " 'typically': 1,\n",
       " 'measure': 1,\n",
       " 'factor': 1,\n",
       " 'determine': 1,\n",
       " 'effect': 1,\n",
       " 'avid': 1,\n",
       " 'bicycling': 1,\n",
       " 'shear': 1,\n",
       " 'thin': 1,\n",
       " 'thicken': 1,\n",
       " 'newtonian': 1,\n",
       " 'fluid': 1,\n",
       " 'fix': 1,\n",
       " 'error': 1,\n",
       " 'anyone': 1,\n",
       " 'instagram': 1,\n",
       " 'twitter': 1,\n",
       " 'example': 1,\n",
       " 'turtle': 1,\n",
       " 'food': 1,\n",
       " 'introvert': 1,\n",
       " 'lazy': 1,\n",
       " 'sporty': 1,\n",
       " 'boy': 1,\n",
       " 'special': 1,\n",
       " 'modern': 1,\n",
       " 'electronic': 1,\n",
       " 'music': 1,\n",
       " 'provide': 1,\n",
       " 'contact': 1,\n",
       " 'magnesium': 1,\n",
       " 'dealer': 1,\n",
       " 'position': 1,\n",
       " 'relate': 1,\n",
       " 'data': 1,\n",
       " 'entry': 1,\n",
       " 'completely': 1,\n",
       " 'remote': 1,\n",
       " 'max': 1,\n",
       " 'hiring': 1,\n",
       " 'manager': 1,\n",
       " 'director': 1,\n",
       " 'leadership': 1,\n",
       " 'mckesson': 1,\n",
       " 'gmc': 1,\n",
       " 'road': 1,\n",
       " 'character': 1,\n",
       " 'throughout': 1,\n",
       " 'kingdom': 1,\n",
       " 'kristine': 1,\n",
       " 'kathryn': 1,\n",
       " 'rusch': 1,\n",
       " 'shy': 1,\n",
       " 'sometimes': 1,\n",
       " 'loud': 1,\n",
       " 'party': 1,\n",
       " 'election': 1,\n",
       " 'karnataka': 1,\n",
       " 'recoil': 1,\n",
       " 'gold': 1,\n",
       " 'nucleus': 1,\n",
       " 'weak': 1,\n",
       " 'heart': 1,\n",
       " 'active': 1,\n",
       " 'tire': 1,\n",
       " 'tired': 1,\n",
       " 'flaw': 1,\n",
       " 'inside': 1,\n",
       " 'invent': 1,\n",
       " 'hyderabad': 1,\n",
       " 'metro': 1,\n",
       " 'educate': 1,\n",
       " 'reconcile': 1,\n",
       " 'beastly': 1,\n",
       " 'saudi': 1,\n",
       " 'arabia': 1,\n",
       " 'gd': 1,\n",
       " 'round': 1,\n",
       " 'fm': 1,\n",
       " 'selection': 1,\n",
       " 'u': 1,\n",
       " 'comparable': 1,\n",
       " 'country': 1,\n",
       " 'fruit': 1,\n",
       " 'vegetable': 1,\n",
       " 'restaurant': 1,\n",
       " 'stream': 1,\n",
       " 'tip': 1,\n",
       " 'insightful': 1,\n",
       " 'analysis': 1,\n",
       " 'incorporate': 1,\n",
       " 'abstract': 1,\n",
       " 'quote': 1,\n",
       " 'burn': 1,\n",
       " 'fat': 1,\n",
       " 'meant': 1,\n",
       " 'typical': 1,\n",
       " 'prayer': 1,\n",
       " 'memorise': 1,\n",
       " 'proof': 1,\n",
       " 'derivation': 1,\n",
       " 'intuitive': 1,\n",
       " 'oxidise': 1,\n",
       " 'agent': 1,\n",
       " 'coverage': 1,\n",
       " 'crypto': 1,\n",
       " 'currency': 1,\n",
       " 'block': 1,\n",
       " 'chain': 1,\n",
       " 'fourth': 1,\n",
       " 'materialistic': 1,\n",
       " 'atomism': 1,\n",
       " 'enjoy': 1,\n",
       " 'boxed': 1,\n",
       " 'macaroni': 1,\n",
       " 'cheese': 1,\n",
       " 'interview': 1,\n",
       " 'chicago': 1,\n",
       " 'borough': 1,\n",
       " 'adjective': 1,\n",
       " 'hindi': 1,\n",
       " 'frame': 1,\n",
       " 'proper': 1,\n",
       " 'bid': 1,\n",
       " 'jar': 1,\n",
       " 'binks': 1,\n",
       " 'hulk': 1,\n",
       " 'play': 1,\n",
       " 'reason': 1,\n",
       " 'control': 1,\n",
       " 'grow': 1,\n",
       " 'recent': 1,\n",
       " 'driverless': 1,\n",
       " 'versus': 1,\n",
       " 'pedestrian': 1,\n",
       " 'tragedy': 1,\n",
       " 'fault': 1,\n",
       " 'atom': 1,\n",
       " 'oxygen': 1,\n",
       " 'capacitive': 1,\n",
       " 'touch': 1,\n",
       " 'screen': 1,\n",
       " 'expand': 1,\n",
       " 'male': 1,\n",
       " 'urethra': 1,\n",
       " 'exit': 1,\n",
       " 'structure': 1,\n",
       " 'horrible': 1,\n",
       " 'damage': 1,\n",
       " 'tend': 1,\n",
       " 'fun': 1,\n",
       " 'daily': 1,\n",
       " 'basis': 1,\n",
       " 'finish': 1,\n",
       " 'tiresome': 1,\n",
       " 'lift': 1,\n",
       " 'spirit': 1,\n",
       " 'theme': 1,\n",
       " 'escape': 1,\n",
       " 'sobibor': 1,\n",
       " 'picture': 1,\n",
       " 'powerpoint': 1,\n",
       " 'presentation': 1,\n",
       " 'save': 1,\n",
       " 'writer': 1,\n",
       " 'singapore': 1,\n",
       " 'invest': 1,\n",
       " 'financial': 1,\n",
       " 'institution': 1,\n",
       " 'ultimate': 1,\n",
       " 'jainism': 1,\n",
       " 'area': 1,\n",
       " 'pin': 1,\n",
       " 'code': 1,\n",
       " 'card': 1,\n",
       " 'valid': 1,\n",
       " 'mistake': 1,\n",
       " 'everyone': 1,\n",
       " 'poor': 1,\n",
       " 'update': 1,\n",
       " 'hoisin': 1,\n",
       " 'sauce': 1,\n",
       " 'mass': 1,\n",
       " 'produce': 1,\n",
       " 'orange': 1,\n",
       " 'juice': 1,\n",
       " 'taste': 1,\n",
       " 'wise': 1,\n",
       " 'prison': 1,\n",
       " 'run': 1,\n",
       " 'guard': 1,\n",
       " 'brutal': 1,\n",
       " ...}"
      ]
     },
     "execution_count": 47,
     "metadata": {},
     "output_type": "execute_result"
    }
   ],
   "source": [
    "in_vocab"
   ]
  },
  {
   "cell_type": "code",
   "execution_count": 46,
   "metadata": {},
   "outputs": [
    {
     "data": {
      "text/plain": [
       "[('brexit', 8),\n",
       " ('ethereum', 7),\n",
       " ('blockchain', 6),\n",
       " ('quorans', 6),\n",
       " ('cryptocurrency', 6),\n",
       " ('comedk', 6),\n",
       " ('cryptocurrencies', 4),\n",
       " ('earthers', 4),\n",
       " ('ibps', 4),\n",
       " ('miui', 3),\n",
       " ('doklam', 3),\n",
       " ('bitsat', 3),\n",
       " ('kvpy', 3),\n",
       " ('adityanath', 3),\n",
       " ('shopify', 3),\n",
       " ('upvote', 3),\n",
       " ('aadhar', 3),\n",
       " ('manwe', 3),\n",
       " ('adande', 2),\n",
       " ('nooky', 2),\n",
       " ('downvote', 2),\n",
       " ('resourses', 2),\n",
       " ('nlsiu', 2),\n",
       " ('nujs', 2),\n",
       " ('magnetise', 2),\n",
       " ('lionese', 2),\n",
       " ('viber', 2),\n",
       " ('dysfuntional', 2),\n",
       " ('iiser', 2),\n",
       " ('rockerz', 2),\n",
       " ('healty', 2),\n",
       " ('ameo', 2),\n",
       " ('asepsis', 2),\n",
       " ('zerodha', 2),\n",
       " ('xrp', 2),\n",
       " ('cooky', 2),\n",
       " ('kasol', 2),\n",
       " ('oneplus', 2),\n",
       " ('iitian', 2),\n",
       " ('vitee', 2),\n",
       " ('bnbr', 2),\n",
       " ('manaphy', 2),\n",
       " ('sarahah', 2),\n",
       " ('wechat', 2),\n",
       " ('upes', 2),\n",
       " ('religon', 2),\n",
       " ('paytm', 2),\n",
       " ('rvce', 2),\n",
       " ('varicocele', 2),\n",
       " ('ketotifen', 2),\n",
       " ('fuction', 2),\n",
       " ('kejariwal', 2),\n",
       " ('xime', 2),\n",
       " ('remainers', 2),\n",
       " ('ntse', 2),\n",
       " ('golang', 2),\n",
       " ('endomondo', 1),\n",
       " ('ryukin', 1),\n",
       " ('uesterday', 1),\n",
       " ('intjs', 1),\n",
       " ('streetsmart', 1),\n",
       " ('charanaravinda', 1),\n",
       " ('mitleid', 1),\n",
       " ('tradistional', 1),\n",
       " ('entrence', 1),\n",
       " ('devide', 1),\n",
       " ('quorate', 1),\n",
       " ('abudhabi', 1),\n",
       " ('haozhi', 1),\n",
       " ('torontowho', 1),\n",
       " ('warking', 1),\n",
       " ('memeing', 1),\n",
       " ('physjcs', 1),\n",
       " ('movibg', 1),\n",
       " ('gcect', 1),\n",
       " ('analyt', 1),\n",
       " ('palmrose', 1),\n",
       " ('hubtown', 1),\n",
       " ('weither', 1),\n",
       " ('mathod', 1),\n",
       " ('downlod', 1),\n",
       " ('spech', 1),\n",
       " ('sallatious', 1),\n",
       " ('hsee', 1),\n",
       " ('kilgrave', 1),\n",
       " ('intigrity', 1),\n",
       " ('quadible', 1),\n",
       " ('kaalakrutyaalu', 1),\n",
       " ('arthshastra', 1),\n",
       " ('carromen', 1),\n",
       " ('methanoic', 1),\n",
       " ('binance', 1),\n",
       " ('stupdity', 1),\n",
       " ('fedralism', 1),\n",
       " ('dctv', 1),\n",
       " ('ϵ', 1),\n",
       " ('fernweh', 1),\n",
       " ('pgdb', 1),\n",
       " ('mortein', 1),\n",
       " ('dashana', 1),\n",
       " ('cpec', 1),\n",
       " ('congurent', 1),\n",
       " ('myrcella', 1),\n",
       " ('padmavat', 1),\n",
       " ('certolizumab', 1),\n",
       " ('answersheet', 1),\n",
       " ('patroen', 1),\n",
       " ('ramlal', 1),\n",
       " ('moolchand', 1),\n",
       " ('oilpulling', 1),\n",
       " ('thst', 1),\n",
       " ('kaby', 1),\n",
       " ('fooyou', 1),\n",
       " ('freeely', 1),\n",
       " ('harmone', 1),\n",
       " ('reactjs', 1),\n",
       " ('importantto', 1),\n",
       " ('givedirectly', 1),\n",
       " ('chicxculub', 1),\n",
       " ('isdigit', 1),\n",
       " ('initiatialies', 1),\n",
       " ('propogation', 1),\n",
       " ('buisnes', 1),\n",
       " ('iitians', 1),\n",
       " ('bodum', 1),\n",
       " ('crytocurrencys', 1),\n",
       " ('makemytrip', 1),\n",
       " ('vardarska', 1),\n",
       " ('slavomacedonia', 1),\n",
       " ('alotted', 1),\n",
       " ('cersie', 1),\n",
       " ('unfriend', 1),\n",
       " ('ssjb', 1),\n",
       " ('pirina', 1),\n",
       " ('ulann', 1),\n",
       " ('kimsin', 1),\n",
       " ('daca', 1),\n",
       " ('barpali', 1),\n",
       " ('deleyed', 1),\n",
       " ('fraggerates', 1),\n",
       " ('chibese', 1),\n",
       " ('bezoic', 1),\n",
       " ('bezene', 1),\n",
       " ('aspergers', 1),\n",
       " ('nonbinary', 1),\n",
       " ('decolonize', 1),\n",
       " ('soletrader', 1),\n",
       " ('goursat', 1),\n",
       " ('ithyphallic', 1),\n",
       " ('caparitor', 1),\n",
       " ('mukdi', 1),\n",
       " ('nuqte', 1),\n",
       " ('exm', 1),\n",
       " ('nuqta', 1),\n",
       " ('omali', 1),\n",
       " ('hairfall', 1),\n",
       " ('apprais', 1),\n",
       " ('idubbbz', 1),\n",
       " ('typosquatting', 1),\n",
       " ('hypergamous', 1),\n",
       " ('genderx', 1),\n",
       " ('upvotes', 1),\n",
       " ('sconza', 1),\n",
       " ('deadlifts', 1),\n",
       " ('гречку', 1),\n",
       " ('ssing', 1),\n",
       " ('yasheedi', 1),\n",
       " ('boeung', 1),\n",
       " ('hotstar', 1),\n",
       " ('pemc', 1),\n",
       " ('tutorvista', 1),\n",
       " ('zeug', 1),\n",
       " ('handicam', 1),\n",
       " ('suden', 1),\n",
       " ('npat', 1),\n",
       " ('nmims', 1),\n",
       " ('muoet', 1),\n",
       " ('iift', 1),\n",
       " ('amature', 1),\n",
       " ('redmi', 1),\n",
       " ('kdrama', 1),\n",
       " ('illeterate', 1),\n",
       " ('gosali', 1),\n",
       " ('selor', 1),\n",
       " ('diifeferent', 1),\n",
       " ('entjs', 1),\n",
       " ('invalign', 1),\n",
       " ('mamc', 1),\n",
       " ('studienkolleg', 1),\n",
       " ('kissanime', 1),\n",
       " ('sjws', 1),\n",
       " ('samueltv', 1),\n",
       " ('vitalyzdtv', 1),\n",
       " ('innuitian', 1),\n",
       " ('churri', 1),\n",
       " ('pyari', 1),\n",
       " ('kambakht', 1),\n",
       " ('gaara', 1),\n",
       " ('ifos', 1),\n",
       " ('gearmotor', 1),\n",
       " ('twip', 1),\n",
       " ('nationalisy', 1),\n",
       " ('pyroll', 1),\n",
       " ('himiwari', 1),\n",
       " ('aeee', 1),\n",
       " ('amcat', 1),\n",
       " ('articleship', 1),\n",
       " ('uceed', 1),\n",
       " ('arsd', 1),\n",
       " ('millenials', 1),\n",
       " ('apending', 1),\n",
       " ('punawale', 1),\n",
       " ('bighit', 1),\n",
       " ('bptt', 1),\n",
       " ('nimcet', 1),\n",
       " ('epitec', 1),\n",
       " ('industris', 1),\n",
       " ('thermochromic', 1),\n",
       " ('telykinesis', 1),\n",
       " ('hynotism', 1),\n",
       " ('scince', 1),\n",
       " ('mangagers', 1),\n",
       " ('bieng', 1),\n",
       " ('bigenners', 1),\n",
       " ('kudaibergen', 1),\n",
       " ('dimash', 1),\n",
       " ('woodsmaster', 1),\n",
       " ('atatūrk', 1),\n",
       " ('metaphosphates', 1),\n",
       " ('playscript', 1),\n",
       " ('sneakerhead', 1),\n",
       " ('spetnaz', 1),\n",
       " ('hosnian', 1),\n",
       " ('车子', 1),\n",
       " ('汽车', 1),\n",
       " ('子', 1),\n",
       " ('ferrex', 1),\n",
       " ('quoran', 1),\n",
       " ('upvoted', 1),\n",
       " ('diffirence', 1),\n",
       " ('בתוך', 1),\n",
       " ('batuah', 1),\n",
       " ('בפנים', 1),\n",
       " ('bifnim', 1),\n",
       " ('soltions', 1),\n",
       " ('lindrn', 1),\n",
       " ('relagation', 1),\n",
       " ('trifold', 1),\n",
       " ('intenasijonale', 1),\n",
       " ('utala', 1),\n",
       " ('hajmolas', 1),\n",
       " ('iimb', 1),\n",
       " ('montra', 1),\n",
       " ('marvolo', 1),\n",
       " ('illeagal', 1),\n",
       " ('cargurus', 1),\n",
       " ('celluar', 1),\n",
       " ('mystakenly', 1),\n",
       " ('carboxilic', 1),\n",
       " ('mastubation', 1),\n",
       " ('reinfectus', 1),\n",
       " ('marwaries', 1),\n",
       " ('evrytime', 1),\n",
       " ('backtest', 1),\n",
       " ('gox', 1),\n",
       " ('metoo', 1),\n",
       " ('expressvpn', 1),\n",
       " ('giphy', 1),\n",
       " ('navient', 1),\n",
       " ('ctos', 1),\n",
       " ('gitam', 1),\n",
       " ('sacrcasm', 1),\n",
       " ('unicellularity', 1),\n",
       " ('anywy', 1),\n",
       " ('chatterbug', 1),\n",
       " ('vizguerra', 1),\n",
       " ('susano', 1),\n",
       " ('bacchan', 1),\n",
       " ('amitaab', 1),\n",
       " ('syma', 1),\n",
       " ('accquired', 1),\n",
       " ('costochondritis', 1),\n",
       " ('jungkook', 1),\n",
       " ('thyronorm', 1),\n",
       " ('smartwatch', 1),\n",
       " ('onetouch', 1),\n",
       " ('parttimerz', 1),\n",
       " ('upwork', 1),\n",
       " ('bangaluru', 1),\n",
       " ('chromecast', 1),\n",
       " ('intger', 1),\n",
       " ('consuartive', 1),\n",
       " ('michigander', 1),\n",
       " ('leptosrirosis', 1),\n",
       " ('odesk', 1),\n",
       " ('intellij', 1),\n",
       " ('collentine', 1),\n",
       " ('amonnia', 1),\n",
       " ('cocunut', 1),\n",
       " ('tations', 1),\n",
       " ('nicmar', 1),\n",
       " ('pcmb', 1),\n",
       " ('sedra', 1),\n",
       " ('labbett', 1),\n",
       " ('avaition', 1),\n",
       " ('posioned', 1),\n",
       " ('osteocyte', 1),\n",
       " ('differeans', 1),\n",
       " ('tiwanes', 1),\n",
       " ('litecoin', 1),\n",
       " ('ppsr', 1),\n",
       " ('exaple', 1),\n",
       " ('demensions', 1),\n",
       " ('undertale', 1),\n",
       " ('missunderstanding', 1),\n",
       " ('chsl', 1),\n",
       " ('poopsterbate', 1),\n",
       " ('cinemetography', 1),\n",
       " ('millenial', 1),\n",
       " ('staus', 1),\n",
       " ('rqwl', 1),\n",
       " ('procudre', 1),\n",
       " ('sqlopenhelpers', 1),\n",
       " ('bipc', 1),\n",
       " ('mafoz', 1),\n",
       " ('pulgasari', 1),\n",
       " ('freemansonry', 1),\n",
       " ('blowjob', 1),\n",
       " ('ocasionally', 1),\n",
       " ('ravanan', 1),\n",
       " ('tural', 1),\n",
       " ('bestfriend', 1),\n",
       " ('emojis', 1),\n",
       " ('funtion', 1),\n",
       " ('hardik', 1),\n",
       " ('watsapp', 1),\n",
       " ('sinx', 1),\n",
       " ('adhaar', 1),\n",
       " ('sandwish', 1),\n",
       " ('mturk', 1),\n",
       " ('superfish', 1),\n",
       " ('abraod', 1),\n",
       " ('stude', 1),\n",
       " ('shiks', 1),\n",
       " ('quisqueyanos', 1),\n",
       " ('harbeth', 1),\n",
       " ('backgroud', 1),\n",
       " ('watchmojo', 1),\n",
       " ('mobole', 1),\n",
       " ('catfished', 1),\n",
       " ('empaths', 1),\n",
       " ('ssbkk', 1),\n",
       " ('olx', 1),\n",
       " ('quikr', 1),\n",
       " ('srmjee', 1),\n",
       " ('svnit', 1),\n",
       " ('mjcet', 1),\n",
       " ('dsce', 1),\n",
       " ('succesfull', 1),\n",
       " ('lasat', 1),\n",
       " ('yearold', 1),\n",
       " ('sattelite', 1),\n",
       " ('similariteis', 1),\n",
       " ('emoji', 1),\n",
       " ('peepee', 1),\n",
       " ('djt', 1),\n",
       " ('ragnork', 1),\n",
       " ('nmfa', 1),\n",
       " ('ccertificate', 1),\n",
       " ('demonetisation', 1),\n",
       " ('quickiest', 1),\n",
       " ('ontarian', 1),\n",
       " ('mnnit', 1),\n",
       " ('agressiveness', 1),\n",
       " ('suface', 1),\n",
       " ('finserv', 1),\n",
       " ('bluray', 1),\n",
       " ('sdpd', 1),\n",
       " ('vaccations', 1),\n",
       " ('msme', 1),\n",
       " ('tcsers', 1),\n",
       " ('frustated', 1),\n",
       " ('whoos', 1),\n",
       " ('cockhead', 1),\n",
       " ('dickhead', 1),\n",
       " ('engeneering', 1),\n",
       " ('sluttiest', 1),\n",
       " ('sililarty', 1),\n",
       " ('drjava', 1),\n",
       " ('deccanrummy', 1),\n",
       " ('successfuls', 1),\n",
       " ('greateast', 1),\n",
       " ('chisthi', 1),\n",
       " ('srmjeee', 1),\n",
       " ('webtonist', 1),\n",
       " ('infj', 1),\n",
       " ('manushi', 1),\n",
       " ('orkhonic', 1),\n",
       " ('devletï', 1),\n",
       " ('osmanlï', 1),\n",
       " ('collinearity', 1),\n",
       " ('drunkensburg', 1),\n",
       " ('arlert', 1),\n",
       " ('paskistan', 1),\n",
       " ('liberali', 1),\n",
       " ('quorian', 1),\n",
       " ('meereen', 1),\n",
       " ('hackerrank', 1),\n",
       " ('prisoc', 1),\n",
       " ('burpees', 1),\n",
       " ('trumpism', 1),\n",
       " ('calech', 1),\n",
       " ('ubersuggest', 1),\n",
       " ('meetic', 1),\n",
       " ('pikabu', 1),\n",
       " ('alshamsi', 1),\n",
       " ('ecourts', 1),\n",
       " ('inwarded', 1),\n",
       " ('unbaised', 1),\n",
       " ('afria', 1),\n",
       " ('areports', 1),\n",
       " ('seasame', 1),\n",
       " ('pontential', 1),\n",
       " ('junel', 1),\n",
       " ('assett', 1),\n",
       " ('abrivation', 1),\n",
       " ('tubless', 1),\n",
       " ('suplements', 1),\n",
       " ('umqepye', 1),\n",
       " ('trich', 1),\n",
       " ('osito', 1),\n",
       " ('decomposer', 1),\n",
       " ('leagye', 1),\n",
       " ('avatroi', 1),\n",
       " ('untweet', 1),\n",
       " ('aetm', 1),\n",
       " ('aits', 1),\n",
       " ('waitlisted', 1),\n",
       " ('monjee', 1),\n",
       " ('narsee', 1),\n",
       " ('fvcking', 1),\n",
       " ('ramayna', 1),\n",
       " ('mahiravna', 1),\n",
       " ('ahiravna', 1),\n",
       " ('marksheet', 1),\n",
       " ('quoras', 1),\n",
       " ('tensorflow', 1),\n",
       " ('swarg', 1),\n",
       " ('logas', 1),\n",
       " ('pozzolan', 1),\n",
       " ('smilie', 1),\n",
       " ('ओठ', 1),\n",
       " ('feanor', 1),\n",
       " ('uowork', 1),\n",
       " ('uːn', 1),\n",
       " ('dʒəʊŋ', 1),\n",
       " ('kɪm', 1),\n",
       " ('dumbwit', 1),\n",
       " ('biblab', 1),\n",
       " ('applock', 1),\n",
       " ('phose', 1),\n",
       " ('phonepe', 1),\n",
       " ('weddingdresss', 1),\n",
       " ('qyestion', 1),\n",
       " ('pentanoic', 1),\n",
       " ('whatwill', 1),\n",
       " ('flipkart', 1),\n",
       " ('kerela', 1),\n",
       " ('aready', 1),\n",
       " ('waterplant', 1),\n",
       " ('nepalans', 1),\n",
       " ('nepale', 1),\n",
       " ('apocryphals', 1),\n",
       " ('mechnical', 1),\n",
       " ('ripraps', 1),\n",
       " ('consconsultants', 1),\n",
       " ('demonatization', 1),\n",
       " ('lehanga', 1),\n",
       " ('mycams', 1),\n",
       " ('nsec', 1),\n",
       " ('kaity', 1),\n",
       " ('leucodermis', 1),\n",
       " ('psychatric', 1),\n",
       " ('lunax', 1),\n",
       " ('begginner', 1),\n",
       " ('quizzer', 1),\n",
       " ('freinds', 1),\n",
       " ('kundli', 1),\n",
       " ('pragene', 1),\n",
       " ('retreive', 1),\n",
       " ('understandin', 1),\n",
       " ('inifinitesimals', 1),\n",
       " ('sacrarium', 1),\n",
       " ('jupi', 1),\n",
       " ('thaikkudam', 1),\n",
       " ('girfriend', 1),\n",
       " ('uncollapse', 1),\n",
       " ('spondylolisthesis', 1),\n",
       " ('ivrs', 1),\n",
       " ('touchbar', 1),\n",
       " ('facesitting', 1),\n",
       " ('convulotional', 1),\n",
       " ('medicaps', 1),\n",
       " ('saama', 1),\n",
       " ('btci', 1),\n",
       " ('mehram', 1),\n",
       " ('microbilling', 1),\n",
       " ('colg', 1),\n",
       " ('directi', 1),\n",
       " ('tornedo', 1),\n",
       " ('throid', 1),\n",
       " ('viteee', 1),\n",
       " ('hatedred', 1),\n",
       " ('sembulingam', 1),\n",
       " ('findviewbyid', 1),\n",
       " ('strutrue', 1),\n",
       " ('resturant', 1),\n",
       " ('hilliary', 1),\n",
       " ('natandlo', 1),\n",
       " ('depoxipam', 1),\n",
       " ('damieon', 1),\n",
       " ('enginering', 1),\n",
       " ('ilabs', 1),\n",
       " ('uptu', 1),\n",
       " ('ifmr', 1),\n",
       " ('sallary', 1),\n",
       " ('invinted', 1),\n",
       " ('upsee', 1),\n",
       " ('integant', 1),\n",
       " ('nanosilica', 1),\n",
       " ('geotropism', 1),\n",
       " ('obito', 1),\n",
       " ('sanitiser', 1),\n",
       " ('itbm', 1),\n",
       " ('aboit', 1),\n",
       " ('googke', 1),\n",
       " ('vandna', 1),\n",
       " ('diagonised', 1),\n",
       " ('mbbr', 1),\n",
       " ('ecose', 1),\n",
       " ('fullform', 1),\n",
       " ('dceu', 1),\n",
       " ('maneuever', 1),\n",
       " ('bcz', 1),\n",
       " ('gdg', 1),\n",
       " ('bitstrings', 1),\n",
       " ('mhcet', 1),\n",
       " ('predicton', 1),\n",
       " ('xlm', 1),\n",
       " ('mendeley', 1),\n",
       " ('polysome', 1),\n",
       " ('monistat', 1),\n",
       " ('pygame', 1),\n",
       " ('rect', 1),\n",
       " ('leher', 1),\n",
       " ('plaaning', 1),\n",
       " ('scienctific', 1),\n",
       " ('neibours', 1),\n",
       " ('wintair', 1),\n",
       " ('afsb', 1),\n",
       " ('afair', 1),\n",
       " ('pointcare', 1),\n",
       " ('hyperthsmia', 1),\n",
       " ('machamp', 1),\n",
       " ('motherson', 1),\n",
       " ('subcompany', 1),\n",
       " ('statups', 1),\n",
       " ('clubmed', 1),\n",
       " ('easypost', 1),\n",
       " ('madagi', 1),\n",
       " ('tavarkere', 1),\n",
       " ('palenstine', 1),\n",
       " ('jumlaman', 1),\n",
       " ('ppap', 1),\n",
       " ('kahukiwa', 1),\n",
       " ('vandilic', 1),\n",
       " ('internate', 1),\n",
       " ('importanc', 1),\n",
       " ('shutted', 1),\n",
       " ('shkreli', 1),\n",
       " ('apaca', 1),\n",
       " ('kavalireddi', 1),\n",
       " ('benedicion', 1),\n",
       " ('ethiopias', 1),\n",
       " ('ffxiv', 1),\n",
       " ('stockist', 1),\n",
       " ('ncfm', 1),\n",
       " ('tonicity', 1),\n",
       " ('aricent', 1),\n",
       " ('kerla', 1),\n",
       " ('oxakate', 1),\n",
       " ('miopia', 1),\n",
       " ('therapyand', 1),\n",
       " ('tatvam', 1),\n",
       " ('homepod', 1),\n",
       " ('eetremist', 1),\n",
       " ('littlefinger', 1),\n",
       " ('becosules', 1),\n",
       " ('servicees', 1),\n",
       " ('frustating', 1),\n",
       " ('benzamycin', 1),\n",
       " ('anayat', 1),\n",
       " ('rgipt', 1),\n",
       " ('philz', 1),\n",
       " ('gaslighting', 1),\n",
       " ('ligal', 1),\n",
       " ('disabilites', 1),\n",
       " ('kimbal', 1),\n",
       " ('taliaferros', 1),\n",
       " ('handwrite', 1),\n",
       " ('capacha', 1),\n",
       " ('oportunities', 1),\n",
       " ('subgun', 1),\n",
       " ('isfp', 1),\n",
       " ('sjit', 1),\n",
       " ('purpouses', 1),\n",
       " ('overplucked', 1),\n",
       " ('shgb', 1),\n",
       " ('crowdflower', 1),\n",
       " ('gurjaradesh', 1),\n",
       " ('kylo', 1),\n",
       " ('tumeric', 1),\n",
       " ('shart', 1),\n",
       " ('ksheerabdhi', 1),\n",
       " ('reats', 1),\n",
       " ('ceretonin', 1),\n",
       " ('dompamine', 1),\n",
       " ('verticulitis', 1),\n",
       " ('writting', 1),\n",
       " ('qurran', 1),\n",
       " ('vsrp', 1),\n",
       " ('kopimism', 1),\n",
       " ('dataism', 1),\n",
       " ('crowwded', 1),\n",
       " ('biejing', 1),\n",
       " ('destraction', 1),\n",
       " ('speedforce', 1),\n",
       " ('ecommerse', 1),\n",
       " ('ndroid', 1),\n",
       " ('sunlife', 1),\n",
       " ('overbaggaging', 1),\n",
       " ('betweenmanagement', 1),\n",
       " ('nammer', 1),\n",
       " ('jotuns', 1),\n",
       " ('pckeeper', 1),\n",
       " ('alcalali', 1),\n",
       " ('primay', 1),\n",
       " ('alamonds', 1),\n",
       " ('lbsnaa', 1),\n",
       " ('empr', 1),\n",
       " ('machiavellianist', 1),\n",
       " ('consense', 1),\n",
       " ('twinks', 1),\n",
       " ('icrb', 1),\n",
       " ('hikvision', 1),\n",
       " ('hodor', 1),\n",
       " ('infps', 1),\n",
       " ('pjease', 1),\n",
       " ('staps', 1),\n",
       " ('cosec', 1),\n",
       " ('arcsine', 1),\n",
       " ('prepration', 1),\n",
       " ('relex', 1),\n",
       " ('velform', 1),\n",
       " ('valenwood', 1),\n",
       " ('bosmer', 1),\n",
       " ('chatbot', 1),\n",
       " ('brokeen', 1),\n",
       " ('attempta', 1),\n",
       " ('passanger', 1),\n",
       " ('whay', 1),\n",
       " ('truganina', 1),\n",
       " ('calaculating', 1),\n",
       " ('cleartrip', 1),\n",
       " ('zabur', 1),\n",
       " ('zazas', 1),\n",
       " ('dropshipping', 1),\n",
       " ('chemoarchitectonic', 1),\n",
       " ('certficate', 1),\n",
       " ('continuosly', 1),\n",
       " ('woth', 1),\n",
       " ('satyamev', 1),\n",
       " ('vitsera', 1),\n",
       " ('keyrings', 1),\n",
       " ('bassis', 1),\n",
       " ('sanguinous', 1),\n",
       " ('domperidone', 1),\n",
       " ('chilhood', 1),\n",
       " ('gallimimus', 1),\n",
       " ('expansia', 1),\n",
       " ('beol', 1),\n",
       " ('frig', 1),\n",
       " ('tbtf', 1),\n",
       " ('regester', 1),\n",
       " ('hongkongese', 1),\n",
       " ('anandamath', 1),\n",
       " ('kisd', 1),\n",
       " ('nbpdcl', 1),\n",
       " ('athiests', 1),\n",
       " ('darcmatter', 1),\n",
       " ('kpsc', 1),\n",
       " ('publer', 1),\n",
       " ('devid', 1),\n",
       " ('waymos', 1),\n",
       " ('meeseeks', 1),\n",
       " ('frienships', 1),\n",
       " ('fresser', 1),\n",
       " ('bubs', 1),\n",
       " ('hyperthreading', 1),\n",
       " ('entrepeneurs', 1),\n",
       " ('codility', 1),\n",
       " ('internediate', 1),\n",
       " ('unacademy', 1),\n",
       " ('uou', 1),\n",
       " ('etg', 1),\n",
       " ('mcfarlene', 1),\n",
       " ('usedvin', 1),\n",
       " ('whatare', 1),\n",
       " ('whick', 1),\n",
       " ('cucifixion', 1),\n",
       " ('whatis', 1),\n",
       " ('mutualfund', 1),\n",
       " ('zaroffs', 1),\n",
       " ('bday', 1),\n",
       " ('sicsr', 1),\n",
       " ('vactanity', 1),\n",
       " ('populatinon', 1),\n",
       " ('alloc', 1),\n",
       " ('whyever', 1),\n",
       " ('pleser', 1),\n",
       " ('cuck', 1),\n",
       " ('neurotypical', 1),\n",
       " ('cisgendered', 1),\n",
       " ('haddop', 1),\n",
       " ('vivimed', 1),\n",
       " ('handjob', 1),\n",
       " ('efferocytosis', 1),\n",
       " ('redily', 1),\n",
       " ('شغف', 1),\n",
       " ('shaguf', 1),\n",
       " ('gradute', 1),\n",
       " ('tahajjud', 1),\n",
       " ('gobal', 1),\n",
       " ('bestie', 1),\n",
       " ('benefical', 1),\n",
       " ('meipai', 1),\n",
       " ('demonitisation', 1),\n",
       " ('whatdo', 1),\n",
       " ('indas', 1),\n",
       " ('unmute', 1),\n",
       " ('noogler', 1),\n",
       " ('wpu', 1),\n",
       " ('sggs', 1),\n",
       " ('nazaa', 1),\n",
       " ('devdasi', 1),\n",
       " ('microservices', 1),\n",
       " ('servixez', 1),\n",
       " ('getape', 1),\n",
       " ('chutiya', 1),\n",
       " ('asswhole', 1),\n",
       " ('deit', 1),\n",
       " ('electrosteel', 1),\n",
       " ('bumrah', 1),\n",
       " ('jasprit', 1),\n",
       " ('wbjee', 1),\n",
       " ('udta', 1),\n",
       " ('kaminey', 1),\n",
       " ('vishq', 1),\n",
       " ('iiitb', 1),\n",
       " ('serieusly', 1),\n",
       " ('gappen', 1),\n",
       " ('veaux', 1),\n",
       " ('servilla', 1),\n",
       " ('serface', 1),\n",
       " ('premeir', 1),\n",
       " ('oscommerce', 1),\n",
       " ('cubecart', 1),\n",
       " ('smoothning', 1),\n",
       " ('isbasic', 1),\n",
       " ('internationalstudent', 1),\n",
       " ('cyclope', 1),\n",
       " ('altcoins', 1),\n",
       " ('euron', 1),\n",
       " ('bmsce', 1),\n",
       " ('growh', 1),\n",
       " ('testerone', 1),\n",
       " ('apeamcet', 1),\n",
       " ('nabaztag', 1),\n",
       " ('borderliner', 1),\n",
       " ('shobbos', 1),\n",
       " ('crediable', 1),\n",
       " ('inserter', 1),\n",
       " ('postable', 1),\n",
       " ('христо', 1),\n",
       " ('sambhav', 1),\n",
       " ('wgsha', 1),\n",
       " ('thermochemistry', 1),\n",
       " ('rhat', 1),\n",
       " ('yurodivy', 1),\n",
       " ('юродивый', 1),\n",
       " ('yurodstvo', 1),\n",
       " ('юродство', 1),\n",
       " ('webrtc', 1),\n",
       " ('overral', 1),\n",
       " ('romanticise', 1),\n",
       " ('becouse', 1),\n",
       " ('ciby', 1),\n",
       " ('preventional', 1),\n",
       " ('kalehoff', 1),\n",
       " ('trustable', 1),\n",
       " ('devops', 1),\n",
       " ('hcie', 1),\n",
       " ('rottie', 1),\n",
       " ('nmat', 1),\n",
       " ('forceact', 1),\n",
       " ('electricfield', 1),\n",
       " ('offcampus', 1),\n",
       " ('totenkopfverbände', 1),\n",
       " ('galgotias', 1),\n",
       " ('twelveth', 1),\n",
       " ('crocin', 1),\n",
       " ('sheepshaver', 1),\n",
       " ('landran', 1),\n",
       " ('reusult', 1),\n",
       " ('anyones', 1),\n",
       " ('ohysical', 1),\n",
       " ('wahabists', 1),\n",
       " ('rmlnlu', 1),\n",
       " ('pokeball', 1),\n",
       " ('corrugate', 1),\n",
       " ('fiim', 1),\n",
       " ('disec', 1),\n",
       " ('backlink', 1),\n",
       " ('ukzn', 1),\n",
       " ('piipaash', 1),\n",
       " ('favazza', 1),\n",
       " ('numberd', 1),\n",
       " ('vixy', 1),\n",
       " ('aadhaar', 1),\n",
       " ('altcoin', 1),\n",
       " ('inorder', 1),\n",
       " ('myope', 1),\n",
       " ('cormen', 1),\n",
       " ('pleasehelpme', 1),\n",
       " ('palestanians', 1),\n",
       " ('roblox', 1),\n",
       " ('unhide', 1),\n",
       " ('payana', 1),\n",
       " ('alredy', 1),\n",
       " ('speciously', 1),\n",
       " ('masterbation', 1),\n",
       " ('humblebrags', 1),\n",
       " ('androphilic', 1),\n",
       " ('tqwl', 1),\n",
       " ('hyperconverged', 1),\n",
       " ('novakovski', 1),\n",
       " ('elitmus', 1),\n",
       " ('skyrim', 1),\n",
       " ('weightlift', 1),\n",
       " ('sharukh', 1),\n",
       " ('cadia', 1),\n",
       " ('tuffest', 1),\n",
       " ('keka', 1),\n",
       " ('passouts', 1),\n",
       " ('rgukt', 1),\n",
       " ('conlang', 1),\n",
       " ('otherlife', 1),\n",
       " ('spentbtime', 1),\n",
       " ('motherfuckin', 1),\n",
       " ('chikas', 1),\n",
       " ('ruscus', 1),\n",
       " ('vajazzle', 1),\n",
       " ('levothayroxin', 1),\n",
       " ('thayroxin', 1),\n",
       " ('teqsa', 1),\n",
       " ('nationalismus', 1),\n",
       " ('depration', 1),\n",
       " ('iitjee', 1),\n",
       " ('radiodiagnosis', 1),\n",
       " ('outstand', 1),\n",
       " ('dioreah', 1),\n",
       " ('superintelligence', 1),\n",
       " ('aliexpress', 1),\n",
       " ('etherum', 1),\n",
       " ('knowlegdeable', 1),\n",
       " ('withoutregistered', 1),\n",
       " ('prosthodontist', 1),\n",
       " ('rashke', 1),\n",
       " ('ozai', 1),\n",
       " ('raikage', 1),\n",
       " ('modiji', 1),\n",
       " ('codehs', 1),\n",
       " ('appose', 1),\n",
       " ('transmt', 1),\n",
       " ('obm', 1),\n",
       " ('powerbear', 1),\n",
       " ('balaguruswamy', 1),\n",
       " ('organell', 1),\n",
       " ('sarms', 1),\n",
       " ('strartup', 1),\n",
       " ('herion', 1),\n",
       " ('animagus', 1),\n",
       " ('sricity', 1),\n",
       " ('ungoliant', 1),\n",
       " ('deoxys', 1),\n",
       " ('bootcamps', 1),\n",
       " ('wusthof', 1),\n",
       " ('tulkas', 1),\n",
       " ('orome', 1),\n",
       " ('ballistc', 1),\n",
       " ('oreparing', 1),\n",
       " ('poloniex', 1)]"
      ]
     },
     "execution_count": 46,
     "metadata": {},
     "output_type": "execute_result"
    }
   ],
   "source": [
    "out_vocab"
   ]
  },
  {
   "cell_type": "code",
   "execution_count": 59,
   "metadata": {
    "scrolled": false
   },
   "outputs": [
    {
     "name": "stdout",
     "output_type": "stream",
     "text": [
      "92.0 % of words on corpus are in dictionary.\n",
      "8.0 % of words are not on corpus are in dictionary.\n"
     ]
    }
   ],
   "source": [
    "#Compute total numbers of words\n",
    "total_words = len(in_vocab) + len(out_vocab)\n",
    "\n",
    "print(round(len(in_vocab) / total_words, 2) * 100, '% of words on corpus are in dictionary.')\n",
    "print(round(len(out_vocab) / total_words, 2) * 100, '% of words are not on corpus are in dictionary.')"
   ]
  },
  {
   "cell_type": "code",
   "execution_count": 60,
   "metadata": {},
   "outputs": [],
   "source": [
    "def get_vector(tokens):\n",
    "    '''\n",
    "    This function computes word embeddings for documents.\n",
    "    \n",
    "    Parameter\n",
    "    -------------\n",
    "    tokens : list of str\n",
    "        contains list of tokens.\n",
    "    \n",
    "    Returns\n",
    "    -------------\n",
    "    word_vect : array\n",
    "        contains word embeddings for documents.\n",
    "    '''\n",
    "    word_vect = np.array([word_to_vec_map[t] for t in tokens if t in words])\n",
    "    try:\n",
    "        word_vect = word_vect.mean(axis=0).astype(\"float64\")\n",
    "    except:\n",
    "        print(\"I can't convert tokens into vector.\")\n",
    "        \n",
    "    return word_vect"
   ]
  },
  {
   "cell_type": "code",
   "execution_count": 61,
   "metadata": {},
   "outputs": [
    {
     "name": "stderr",
     "output_type": "stream",
     "text": [
      "/home/jlenclume/bin/anaconda/lib/python3.7/site-packages/ipykernel_launcher.py:17: RuntimeWarning: Mean of empty slice.\n"
     ]
    }
   ],
   "source": [
    "#Apply get_vector function\n",
    "quora_questions['vector'] = quora_questions.tokens.apply(get_vector)"
   ]
  },
  {
   "cell_type": "code",
   "execution_count": 62,
   "metadata": {},
   "outputs": [
    {
     "data": {
      "text/html": [
       "<div>\n",
       "<style scoped>\n",
       "    .dataframe tbody tr th:only-of-type {\n",
       "        vertical-align: middle;\n",
       "    }\n",
       "\n",
       "    .dataframe tbody tr th {\n",
       "        vertical-align: top;\n",
       "    }\n",
       "\n",
       "    .dataframe thead th {\n",
       "        text-align: right;\n",
       "    }\n",
       "</style>\n",
       "<table border=\"1\" class=\"dataframe\">\n",
       "  <thead>\n",
       "    <tr style=\"text-align: right;\">\n",
       "      <th></th>\n",
       "      <th>qid</th>\n",
       "      <th>question_text</th>\n",
       "      <th>target</th>\n",
       "      <th>tokens</th>\n",
       "      <th>polarity</th>\n",
       "      <th>subjectivity</th>\n",
       "      <th>vector</th>\n",
       "    </tr>\n",
       "  </thead>\n",
       "  <tbody>\n",
       "    <tr>\n",
       "      <td>305711</td>\n",
       "      <td>3be0cfa79beb7e5f606b</td>\n",
       "      <td>Who would win, SSB Goku (ToP) vs Base Goku (SD...</td>\n",
       "      <td>0</td>\n",
       "      <td>[would, win, ssb, goku, top, v, base, goku, sd...</td>\n",
       "      <td>0.050000</td>\n",
       "      <td>0.190000</td>\n",
       "      <td>[-0.048207999999999994, 0.20564340000000003, 0...</td>\n",
       "    </tr>\n",
       "    <tr>\n",
       "      <td>117952</td>\n",
       "      <td>1716ecee485d6cd0a819</td>\n",
       "      <td>Are there any organizational skills classes or...</td>\n",
       "      <td>0</td>\n",
       "      <td>[organizational, skill, class, camp, teen]</td>\n",
       "      <td>0.000000</td>\n",
       "      <td>0.000000</td>\n",
       "      <td>[-0.29771400000000003, 0.550144, -0.1221215999...</td>\n",
       "    </tr>\n",
       "    <tr>\n",
       "      <td>963395</td>\n",
       "      <td>bcc372d77a2e615351b6</td>\n",
       "      <td>If an abuser married a person he/she can’t abu...</td>\n",
       "      <td>0</td>\n",
       "      <td>[abuser, married, person, abuse, still, abuse,...</td>\n",
       "      <td>0.035714</td>\n",
       "      <td>0.035714</td>\n",
       "      <td>[0.321927, 0.18281128571428568, -0.26769914285...</td>\n",
       "    </tr>\n",
       "    <tr>\n",
       "      <td>152315</td>\n",
       "      <td>1dcc547fdc41b1a554a0</td>\n",
       "      <td>Why didn't they accept me in the Conservatoriu...</td>\n",
       "      <td>0</td>\n",
       "      <td>[accept, conservatorium, send, best, piano, pi...</td>\n",
       "      <td>0.109091</td>\n",
       "      <td>0.081818</td>\n",
       "      <td>[-0.14360381818181814, 0.14168754545454545, -0...</td>\n",
       "    </tr>\n",
       "    <tr>\n",
       "      <td>359783</td>\n",
       "      <td>4683c11a002d6fba5630</td>\n",
       "      <td>What is the media role in ending drunk driving?</td>\n",
       "      <td>0</td>\n",
       "      <td>[medium, role, end, drunk, driving]</td>\n",
       "      <td>-0.100000</td>\n",
       "      <td>0.200000</td>\n",
       "      <td>[-0.14478200000000002, -0.12, -0.1638814, -0.5...</td>\n",
       "    </tr>\n",
       "  </tbody>\n",
       "</table>\n",
       "</div>"
      ],
      "text/plain": [
       "                         qid  \\\n",
       "305711  3be0cfa79beb7e5f606b   \n",
       "117952  1716ecee485d6cd0a819   \n",
       "963395  bcc372d77a2e615351b6   \n",
       "152315  1dcc547fdc41b1a554a0   \n",
       "359783  4683c11a002d6fba5630   \n",
       "\n",
       "                                            question_text  target  \\\n",
       "305711  Who would win, SSB Goku (ToP) vs Base Goku (SD...       0   \n",
       "117952  Are there any organizational skills classes or...       0   \n",
       "963395  If an abuser married a person he/she can’t abu...       0   \n",
       "152315  Why didn't they accept me in the Conservatoriu...       0   \n",
       "359783    What is the media role in ending drunk driving?       0   \n",
       "\n",
       "                                                   tokens  polarity  \\\n",
       "305711  [would, win, ssb, goku, top, v, base, goku, sd...  0.050000   \n",
       "117952         [organizational, skill, class, camp, teen]  0.000000   \n",
       "963395  [abuser, married, person, abuse, still, abuse,...  0.035714   \n",
       "152315  [accept, conservatorium, send, best, piano, pi...  0.109091   \n",
       "359783                [medium, role, end, drunk, driving] -0.100000   \n",
       "\n",
       "        subjectivity                                             vector  \n",
       "305711      0.190000  [-0.048207999999999994, 0.20564340000000003, 0...  \n",
       "117952      0.000000  [-0.29771400000000003, 0.550144, -0.1221215999...  \n",
       "963395      0.035714  [0.321927, 0.18281128571428568, -0.26769914285...  \n",
       "152315      0.081818  [-0.14360381818181814, 0.14168754545454545, -0...  \n",
       "359783      0.200000  [-0.14478200000000002, -0.12, -0.1638814, -0.5...  "
      ]
     },
     "execution_count": 62,
     "metadata": {},
     "output_type": "execute_result"
    }
   ],
   "source": [
    "quora_questions.head()"
   ]
  },
  {
   "cell_type": "markdown",
   "metadata": {},
   "source": [
    "I verify if I have empty cell :"
   ]
  },
  {
   "cell_type": "code",
   "execution_count": 65,
   "metadata": {},
   "outputs": [
    {
     "name": "stdout",
     "output_type": "stream",
     "text": [
      "<class 'pandas.core.frame.DataFrame'>\n",
      "Int64Index: 9955 entries, 305711 to 219610\n",
      "Data columns (total 7 columns):\n",
      "qid              9955 non-null object\n",
      "question_text    9955 non-null object\n",
      "target           9955 non-null int64\n",
      "tokens           9955 non-null object\n",
      "polarity         9955 non-null float64\n",
      "subjectivity     9955 non-null float64\n",
      "vector           9936 non-null object\n",
      "dtypes: float64(2), int64(1), object(4)\n",
      "memory usage: 942.2+ KB\n"
     ]
    }
   ],
   "source": [
    "quora_questions.info()"
   ]
  },
  {
   "cell_type": "code",
   "execution_count": 66,
   "metadata": {},
   "outputs": [],
   "source": [
    "quora_questions.dropna(subset=['vector'], inplace=True)"
   ]
  },
  {
   "cell_type": "code",
   "execution_count": 67,
   "metadata": {
    "scrolled": true
   },
   "outputs": [
    {
     "data": {
      "text/plain": [
       "qid              0\n",
       "question_text    0\n",
       "target           0\n",
       "tokens           0\n",
       "polarity         0\n",
       "subjectivity     0\n",
       "vector           0\n",
       "dtype: int64"
      ]
     },
     "execution_count": 67,
     "metadata": {},
     "output_type": "execute_result"
    }
   ],
   "source": [
    "quora_questions.isna().sum()"
   ]
  },
  {
   "cell_type": "markdown",
   "metadata": {},
   "source": [
    "<h4> Data Save"
   ]
  },
  {
   "cell_type": "code",
   "execution_count": 68,
   "metadata": {},
   "outputs": [],
   "source": [
    "#Define file path :\n",
    "filepath_quora_vector = os.path.join('data', 'quora_questions_vector.pkl')\n",
    "\n",
    "#Save quora dataset with pickle:\n",
    "quora_questions.to_pickle(filepath_quora_vector)"
   ]
  },
  {
   "cell_type": "markdown",
   "metadata": {},
   "source": [
    "<h3> 4.6 Modeling"
   ]
  },
  {
   "cell_type": "code",
   "execution_count": null,
   "metadata": {},
   "outputs": [],
   "source": [
    "#Features and labels definition\n",
    "X = quora_questions[['polarity', 'subjectivity', 'vector']]\n",
    "\n",
    "y = quora_questions.target"
   ]
  },
  {
   "cell_type": "code",
   "execution_count": null,
   "metadata": {},
   "outputs": [],
   "source": [
    "X.vector = X.vector.apply(lambda x : pd.Series(x))\n",
    "X.vector.set_index(df_sample.index)"
   ]
  },
  {
   "cell_type": "code",
   "execution_count": 88,
   "metadata": {},
   "outputs": [
    {
     "data": {
      "text/plain": [
       "(9936, 3)"
      ]
     },
     "execution_count": 88,
     "metadata": {},
     "output_type": "execute_result"
    }
   ],
   "source": [
    "X.shape"
   ]
  },
  {
   "cell_type": "code",
   "execution_count": 79,
   "metadata": {},
   "outputs": [],
   "source": [
    "X_train, X_test, y_train, y_test = train_test_split(X, y, \n",
    "                                                    test_size=.2,       #train represents 80% of dataset and test represents 20% of dataset\n",
    "                                                    random_state=0,     #keep the same random split\n",
    "                                                    stratify=y)         #conserve the same distributions for labels"
   ]
  },
  {
   "cell_type": "code",
   "execution_count": 80,
   "metadata": {},
   "outputs": [
    {
     "data": {
      "text/plain": [
       "((7948, 3), (7948,), (1988, 3), (1988,))"
      ]
     },
     "execution_count": 80,
     "metadata": {},
     "output_type": "execute_result"
    }
   ],
   "source": [
    "X_train.shape, y_train.shape, X_test.shape, y_test.shape"
   ]
  },
  {
   "cell_type": "code",
   "execution_count": 81,
   "metadata": {},
   "outputs": [
    {
     "data": {
      "text/html": [
       "<div>\n",
       "<style scoped>\n",
       "    .dataframe tbody tr th:only-of-type {\n",
       "        vertical-align: middle;\n",
       "    }\n",
       "\n",
       "    .dataframe tbody tr th {\n",
       "        vertical-align: top;\n",
       "    }\n",
       "\n",
       "    .dataframe thead th {\n",
       "        text-align: right;\n",
       "    }\n",
       "</style>\n",
       "<table border=\"1\" class=\"dataframe\">\n",
       "  <thead>\n",
       "    <tr style=\"text-align: right;\">\n",
       "      <th></th>\n",
       "      <th>polarity</th>\n",
       "      <th>subjectivity</th>\n",
       "      <th>vector</th>\n",
       "    </tr>\n",
       "  </thead>\n",
       "  <tbody>\n",
       "    <tr>\n",
       "      <td>557810</td>\n",
       "      <td>-0.065079</td>\n",
       "      <td>0.263492</td>\n",
       "      <td>[0.41460255555555553, 0.1002372222222222, -0.2...</td>\n",
       "    </tr>\n",
       "    <tr>\n",
       "      <td>582097</td>\n",
       "      <td>-0.108333</td>\n",
       "      <td>0.100000</td>\n",
       "      <td>[0.11144390833333334, -0.05174441666666666, -0...</td>\n",
       "    </tr>\n",
       "    <tr>\n",
       "      <td>339851</td>\n",
       "      <td>-0.037500</td>\n",
       "      <td>0.050000</td>\n",
       "      <td>[0.11845547500000002, -0.1331595, 0.2922627499...</td>\n",
       "    </tr>\n",
       "    <tr>\n",
       "      <td>833172</td>\n",
       "      <td>-0.133333</td>\n",
       "      <td>0.233333</td>\n",
       "      <td>[0.20282999999999998, 0.15247333333333335, 0.0...</td>\n",
       "    </tr>\n",
       "    <tr>\n",
       "      <td>98827</td>\n",
       "      <td>0.175000</td>\n",
       "      <td>0.150000</td>\n",
       "      <td>[0.162855, 0.06795500000000002, -0.210175, -0....</td>\n",
       "    </tr>\n",
       "    <tr>\n",
       "      <td>...</td>\n",
       "      <td>...</td>\n",
       "      <td>...</td>\n",
       "      <td>...</td>\n",
       "    </tr>\n",
       "    <tr>\n",
       "      <td>687943</td>\n",
       "      <td>0.000000</td>\n",
       "      <td>0.000000</td>\n",
       "      <td>[0.05383914285714288, -0.14209745714285713, 0....</td>\n",
       "    </tr>\n",
       "    <tr>\n",
       "      <td>1275536</td>\n",
       "      <td>-0.033333</td>\n",
       "      <td>0.022222</td>\n",
       "      <td>[0.234701875, -0.2328275, 0.3433025, 0.0524737...</td>\n",
       "    </tr>\n",
       "    <tr>\n",
       "      <td>727083</td>\n",
       "      <td>-0.083333</td>\n",
       "      <td>0.166667</td>\n",
       "      <td>[0.03453881666666668, 0.22730599999999998, -0....</td>\n",
       "    </tr>\n",
       "    <tr>\n",
       "      <td>294819</td>\n",
       "      <td>0.000000</td>\n",
       "      <td>0.000000</td>\n",
       "      <td>[-0.20488027272727277, 0.33220618181818184, -0...</td>\n",
       "    </tr>\n",
       "    <tr>\n",
       "      <td>511849</td>\n",
       "      <td>0.041667</td>\n",
       "      <td>0.100000</td>\n",
       "      <td>[0.2469360833333333, 0.17021666666666668, 0.10...</td>\n",
       "    </tr>\n",
       "  </tbody>\n",
       "</table>\n",
       "<p>7948 rows × 3 columns</p>\n",
       "</div>"
      ],
      "text/plain": [
       "         polarity  subjectivity  \\\n",
       "557810  -0.065079      0.263492   \n",
       "582097  -0.108333      0.100000   \n",
       "339851  -0.037500      0.050000   \n",
       "833172  -0.133333      0.233333   \n",
       "98827    0.175000      0.150000   \n",
       "...           ...           ...   \n",
       "687943   0.000000      0.000000   \n",
       "1275536 -0.033333      0.022222   \n",
       "727083  -0.083333      0.166667   \n",
       "294819   0.000000      0.000000   \n",
       "511849   0.041667      0.100000   \n",
       "\n",
       "                                                    vector  \n",
       "557810   [0.41460255555555553, 0.1002372222222222, -0.2...  \n",
       "582097   [0.11144390833333334, -0.05174441666666666, -0...  \n",
       "339851   [0.11845547500000002, -0.1331595, 0.2922627499...  \n",
       "833172   [0.20282999999999998, 0.15247333333333335, 0.0...  \n",
       "98827    [0.162855, 0.06795500000000002, -0.210175, -0....  \n",
       "...                                                    ...  \n",
       "687943   [0.05383914285714288, -0.14209745714285713, 0....  \n",
       "1275536  [0.234701875, -0.2328275, 0.3433025, 0.0524737...  \n",
       "727083   [0.03453881666666668, 0.22730599999999998, -0....  \n",
       "294819   [-0.20488027272727277, 0.33220618181818184, -0...  \n",
       "511849   [0.2469360833333333, 0.17021666666666668, 0.10...  \n",
       "\n",
       "[7948 rows x 3 columns]"
      ]
     },
     "execution_count": 81,
     "metadata": {},
     "output_type": "execute_result"
    }
   ],
   "source": [
    "X_train"
   ]
  },
  {
   "cell_type": "code",
   "execution_count": 84,
   "metadata": {},
   "outputs": [],
   "source": [
    "from sklearn.preprocessing import MinMaxScaler"
   ]
  },
  {
   "cell_type": "code",
   "execution_count": null,
   "metadata": {},
   "outputs": [],
   "source": [
    "#Data scaling\n",
    "scaler = MinMaxScaler()\n",
    "\n",
    "X_train = scaler.fit_transform(X_train)\n",
    "X_test = scaler.transform(X_test)"
   ]
  },
  {
   "cell_type": "markdown",
   "metadata": {},
   "source": [
    "<h2> 5. Topic Modelling"
   ]
  },
  {
   "cell_type": "markdown",
   "metadata": {},
   "source": [
    "I identify the most recurrent topics in toxic questions."
   ]
  },
  {
   "cell_type": "markdown",
   "metadata": {},
   "source": [
    "## Go further"
   ]
  },
  {
   "cell_type": "markdown",
   "metadata": {},
   "source": [
    "- Use spaCy library for Text processing\n",
    "- Use Word2vec Library for WordEmbedding\n",
    "- Implement Deep Learning model to detect toxic questions"
   ]
  },
  {
   "cell_type": "markdown",
   "metadata": {},
   "source": [
    "## Acknowledgments"
   ]
  },
  {
   "cell_type": "markdown",
   "metadata": {},
   "source": [
    "- Python\n",
    "- Natural Language Processing\n",
    "    - NLTK\n",
    "- Text Processing\n",
    "- Sentiment Analysis : \n",
    "    - TextBlob\n",
    "- Word Embedding :\n",
    "    - Glove"
   ]
  }
 ],
 "metadata": {
  "kernelspec": {
   "display_name": "Python 3",
   "language": "python",
   "name": "python3"
  },
  "language_info": {
   "codemirror_mode": {
    "name": "ipython",
    "version": 3
   },
   "file_extension": ".py",
   "mimetype": "text/x-python",
   "name": "python",
   "nbconvert_exporter": "python",
   "pygments_lexer": "ipython3",
   "version": "3.7.4"
  }
 },
 "nbformat": 4,
 "nbformat_minor": 2
}
